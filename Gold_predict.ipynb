{
 "cells": [
  {
   "cell_type": "markdown",
   "metadata": {
    "toc": true
   },
   "source": [
    "<h1>Содержание<span class=\"tocSkip\"></span></h1>\n",
    "<div class=\"toc\"><ul class=\"toc-item\"><li><span><a href=\"#Подготовка-данных\" data-toc-modified-id=\"Подготовка-данных-1\"><span class=\"toc-item-num\">1&nbsp;&nbsp;</span>Подготовка данных</a></span><ul class=\"toc-item\"><li><span><a href=\"#Откройте-файлы-и-изучите-их\" data-toc-modified-id=\"Откройте-файлы-и-изучите-их-1.1\"><span class=\"toc-item-num\">1.1&nbsp;&nbsp;</span>Откройте файлы и изучите их</a></span></li><li><span><a href=\"#Проверьте,-что-эффективность-обогащения-рассчитана-правильно.\" data-toc-modified-id=\"Проверьте,-что-эффективность-обогащения-рассчитана-правильно.-1.2\"><span class=\"toc-item-num\">1.2&nbsp;&nbsp;</span>Проверьте, что эффективность обогащения рассчитана правильно.</a></span></li><li><span><a href=\"#Проанализируйте-признаки,-недоступные-в-тестовой-выборке.\" data-toc-modified-id=\"Проанализируйте-признаки,-недоступные-в-тестовой-выборке.-1.3\"><span class=\"toc-item-num\">1.3&nbsp;&nbsp;</span>Проанализируйте признаки, недоступные в тестовой выборке.</a></span></li><li><span><a href=\"#Проведите-предобработку-данных\" data-toc-modified-id=\"Проведите-предобработку-данных-1.4\"><span class=\"toc-item-num\">1.4&nbsp;&nbsp;</span>Проведите предобработку данных</a></span></li></ul></li><li><span><a href=\"#Анализ-данных\" data-toc-modified-id=\"Анализ-данных-2\"><span class=\"toc-item-num\">2&nbsp;&nbsp;</span>Анализ данных</a></span><ul class=\"toc-item\"><li><span><a href=\"#Посмотрите,-как-меняется-концентрация-металлов-(Au,-Ag,-Pb)-на-различных-этапах-очистки.-Опишите-выводы\" data-toc-modified-id=\"Посмотрите,-как-меняется-концентрация-металлов-(Au,-Ag,-Pb)-на-различных-этапах-очистки.-Опишите-выводы-2.1\"><span class=\"toc-item-num\">2.1&nbsp;&nbsp;</span>Посмотрите, как меняется концентрация металлов (Au, Ag, Pb) на различных этапах очистки. Опишите выводы</a></span></li><li><span><a href=\"#Сравните-распределения-размеров-гранул-сырья-на-обучающей-и-тестовой-выборках.-Если-распределения-сильно-отличаются-друг-от-друга,-оценка-модели-будет-неправильной\" data-toc-modified-id=\"Сравните-распределения-размеров-гранул-сырья-на-обучающей-и-тестовой-выборках.-Если-распределения-сильно-отличаются-друг-от-друга,-оценка-модели-будет-неправильной-2.2\"><span class=\"toc-item-num\">2.2&nbsp;&nbsp;</span>Сравните распределения размеров гранул сырья на обучающей и тестовой выборках. Если распределения сильно отличаются друг от друга, оценка модели будет неправильной</a></span></li><li><span><a href=\"#Исследуйте-суммарную-концентрацию-всех-веществ-на-разных-стадиях:-в-сырье,-в-черновом-и-финальном-концентратах\" data-toc-modified-id=\"Исследуйте-суммарную-концентрацию-всех-веществ-на-разных-стадиях:-в-сырье,-в-черновом-и-финальном-концентратах-2.3\"><span class=\"toc-item-num\">2.3&nbsp;&nbsp;</span>Исследуйте суммарную концентрацию всех веществ на разных стадиях: в сырье, в черновом и финальном концентратах</a></span></li></ul></li><li><span><a href=\"#Модель\" data-toc-modified-id=\"Модель-3\"><span class=\"toc-item-num\">3&nbsp;&nbsp;</span>Модель</a></span><ul class=\"toc-item\"><li><span><a href=\"#Напишите-функцию-для-вычисления-итоговой-sMAPE\" data-toc-modified-id=\"Напишите-функцию-для-вычисления-итоговой-sMAPE-3.1\"><span class=\"toc-item-num\">3.1&nbsp;&nbsp;</span>Напишите функцию для вычисления итоговой sMAPE</a></span></li><li><span><a href=\"#Обучите-разные-модели-и-оцените-их-качество-кросс-валидацией.-Выберите-лучшую-модель-и-проверьте-её-на-тестовой-выборке.-Опишите-выводы\" data-toc-modified-id=\"Обучите-разные-модели-и-оцените-их-качество-кросс-валидацией.-Выберите-лучшую-модель-и-проверьте-её-на-тестовой-выборке.-Опишите-выводы-3.2\"><span class=\"toc-item-num\">3.2&nbsp;&nbsp;</span>Обучите разные модели и оцените их качество кросс-валидацией. Выберите лучшую модель и проверьте её на тестовой выборке. Опишите выводы</a></span></li><li><span><a href=\"#Проверка-наилучшей-модели-на-тестовой-выборке\" data-toc-modified-id=\"Проверка-наилучшей-модели-на-тестовой-выборке-3.3\"><span class=\"toc-item-num\">3.3&nbsp;&nbsp;</span>Проверка наилучшей модели на тестовой выборке</a></span></li></ul></li><li><span><a href=\"#Общий-вывод\" data-toc-modified-id=\"Общий-вывод-4\"><span class=\"toc-item-num\">4&nbsp;&nbsp;</span>Общий вывод</a></span></li><li><span><a href=\"#Чек-лист-готовности-проекта\" data-toc-modified-id=\"Чек-лист-готовности-проекта-5\"><span class=\"toc-item-num\">5&nbsp;&nbsp;</span>Чек-лист готовности проекта</a></span></li></ul></div>"
   ]
  },
  {
   "cell_type": "markdown",
   "metadata": {},
   "source": [
    "# Восстановление золота из руды"
   ]
  },
  {
   "cell_type": "markdown",
   "metadata": {},
   "source": [
    "Подготовьте прототип модели машинного обучения для «Цифры». Компания разрабатывает решения для эффективной работы промышленных предприятий.\n",
    "\n",
    "Модель должна предсказать коэффициент восстановления золота из золотосодержащей руды. Используйте данные с параметрами добычи и очистки. \n",
    "\n",
    "Модель поможет оптимизировать производство, чтобы не запускать предприятие с убыточными характеристиками.\n",
    "\n",
    "Вам нужно:\n",
    "\n",
    "1. Подготовить данные;\n",
    "2. Провести исследовательский анализ данных;\n",
    "3. Построить и обучить модель.\n",
    "\n",
    "Чтобы выполнить проект, обращайтесь к библиотекам *pandas*, *matplotlib* и *sklearn.* Вам поможет их документация."
   ]
  },
  {
   "cell_type": "markdown",
   "metadata": {},
   "source": [
    "## Подготовка данных"
   ]
  },
  {
   "cell_type": "markdown",
   "metadata": {},
   "source": [
    "### Откройте файлы и изучите их"
   ]
  },
  {
   "cell_type": "code",
   "execution_count": 1,
   "metadata": {},
   "outputs": [],
   "source": [
    "import pandas as pd\n",
    "import matplotlib.pyplot as plt\n",
    "import seaborn as sns\n",
    "import numpy as np\n",
    "from numpy.random import RandomState\n",
    "from sklearn.model_selection import train_test_split, cross_val_score\n",
    "from sklearn.tree import DecisionTreeRegressor\n",
    "from sklearn.ensemble import RandomForestRegressor\n",
    "from sklearn.linear_model import LinearRegression\n",
    "from sklearn.model_selection import GridSearchCV\n",
    "from sklearn.metrics import make_scorer, mean_absolute_error\n",
    "from sklearn.dummy import DummyRegressor\n",
    "import warnings\n",
    "warnings.filterwarnings('ignore')"
   ]
  },
  {
   "cell_type": "code",
   "execution_count": 2,
   "metadata": {
    "scrolled": true
   },
   "outputs": [],
   "source": [
    "# Загрузим три выборки\n",
    "train_df = pd.read_csv('/datasets/gold_recovery_train_new.csv')\n",
    "test_df = pd.read_csv('/datasets/gold_recovery_test_new.csv')\n",
    "full_df = pd.read_csv('/datasets/gold_recovery_full_new.csv')"
   ]
  },
  {
   "cell_type": "code",
   "execution_count": 3,
   "metadata": {},
   "outputs": [
    {
     "data": {
      "text/html": [
       "<div>\n",
       "<style scoped>\n",
       "    .dataframe tbody tr th:only-of-type {\n",
       "        vertical-align: middle;\n",
       "    }\n",
       "\n",
       "    .dataframe tbody tr th {\n",
       "        vertical-align: top;\n",
       "    }\n",
       "\n",
       "    .dataframe thead th {\n",
       "        text-align: right;\n",
       "    }\n",
       "</style>\n",
       "<table border=\"1\" class=\"dataframe\">\n",
       "  <thead>\n",
       "    <tr style=\"text-align: right;\">\n",
       "      <th></th>\n",
       "      <th>date</th>\n",
       "      <th>final.output.concentrate_ag</th>\n",
       "      <th>final.output.concentrate_pb</th>\n",
       "      <th>final.output.concentrate_sol</th>\n",
       "      <th>final.output.concentrate_au</th>\n",
       "      <th>final.output.recovery</th>\n",
       "      <th>final.output.tail_ag</th>\n",
       "      <th>final.output.tail_pb</th>\n",
       "      <th>final.output.tail_sol</th>\n",
       "      <th>final.output.tail_au</th>\n",
       "      <th>primary_cleaner.input.sulfate</th>\n",
       "      <th>primary_cleaner.input.depressant</th>\n",
       "      <th>primary_cleaner.input.feed_size</th>\n",
       "      <th>primary_cleaner.input.xanthate</th>\n",
       "      <th>primary_cleaner.output.concentrate_ag</th>\n",
       "      <th>primary_cleaner.output.concentrate_pb</th>\n",
       "      <th>primary_cleaner.output.concentrate_sol</th>\n",
       "      <th>primary_cleaner.output.concentrate_au</th>\n",
       "      <th>primary_cleaner.output.tail_ag</th>\n",
       "      <th>primary_cleaner.output.tail_pb</th>\n",
       "      <th>primary_cleaner.output.tail_sol</th>\n",
       "      <th>primary_cleaner.output.tail_au</th>\n",
       "      <th>primary_cleaner.state.floatbank8_a_air</th>\n",
       "      <th>primary_cleaner.state.floatbank8_a_level</th>\n",
       "      <th>primary_cleaner.state.floatbank8_b_air</th>\n",
       "      <th>primary_cleaner.state.floatbank8_b_level</th>\n",
       "      <th>primary_cleaner.state.floatbank8_c_air</th>\n",
       "      <th>primary_cleaner.state.floatbank8_c_level</th>\n",
       "      <th>primary_cleaner.state.floatbank8_d_air</th>\n",
       "      <th>primary_cleaner.state.floatbank8_d_level</th>\n",
       "      <th>rougher.calculation.sulfate_to_au_concentrate</th>\n",
       "      <th>rougher.calculation.floatbank10_sulfate_to_au_feed</th>\n",
       "      <th>rougher.calculation.floatbank11_sulfate_to_au_feed</th>\n",
       "      <th>rougher.calculation.au_pb_ratio</th>\n",
       "      <th>rougher.input.feed_ag</th>\n",
       "      <th>rougher.input.feed_pb</th>\n",
       "      <th>rougher.input.feed_rate</th>\n",
       "      <th>rougher.input.feed_size</th>\n",
       "      <th>rougher.input.feed_sol</th>\n",
       "      <th>rougher.input.feed_au</th>\n",
       "      <th>rougher.input.floatbank10_sulfate</th>\n",
       "      <th>rougher.input.floatbank10_xanthate</th>\n",
       "      <th>rougher.input.floatbank11_sulfate</th>\n",
       "      <th>rougher.input.floatbank11_xanthate</th>\n",
       "      <th>rougher.output.concentrate_ag</th>\n",
       "      <th>rougher.output.concentrate_pb</th>\n",
       "      <th>rougher.output.concentrate_sol</th>\n",
       "      <th>rougher.output.concentrate_au</th>\n",
       "      <th>rougher.output.recovery</th>\n",
       "      <th>rougher.output.tail_ag</th>\n",
       "      <th>rougher.output.tail_pb</th>\n",
       "      <th>rougher.output.tail_sol</th>\n",
       "      <th>rougher.output.tail_au</th>\n",
       "      <th>rougher.state.floatbank10_a_air</th>\n",
       "      <th>rougher.state.floatbank10_a_level</th>\n",
       "      <th>rougher.state.floatbank10_b_air</th>\n",
       "      <th>rougher.state.floatbank10_b_level</th>\n",
       "      <th>rougher.state.floatbank10_c_air</th>\n",
       "      <th>rougher.state.floatbank10_c_level</th>\n",
       "      <th>rougher.state.floatbank10_d_air</th>\n",
       "      <th>rougher.state.floatbank10_d_level</th>\n",
       "      <th>rougher.state.floatbank10_e_air</th>\n",
       "      <th>rougher.state.floatbank10_e_level</th>\n",
       "      <th>rougher.state.floatbank10_f_air</th>\n",
       "      <th>rougher.state.floatbank10_f_level</th>\n",
       "      <th>secondary_cleaner.output.tail_ag</th>\n",
       "      <th>secondary_cleaner.output.tail_pb</th>\n",
       "      <th>secondary_cleaner.output.tail_sol</th>\n",
       "      <th>secondary_cleaner.output.tail_au</th>\n",
       "      <th>secondary_cleaner.state.floatbank2_a_air</th>\n",
       "      <th>secondary_cleaner.state.floatbank2_a_level</th>\n",
       "      <th>secondary_cleaner.state.floatbank2_b_air</th>\n",
       "      <th>secondary_cleaner.state.floatbank2_b_level</th>\n",
       "      <th>secondary_cleaner.state.floatbank3_a_air</th>\n",
       "      <th>secondary_cleaner.state.floatbank3_a_level</th>\n",
       "      <th>secondary_cleaner.state.floatbank3_b_air</th>\n",
       "      <th>secondary_cleaner.state.floatbank3_b_level</th>\n",
       "      <th>secondary_cleaner.state.floatbank4_a_air</th>\n",
       "      <th>secondary_cleaner.state.floatbank4_a_level</th>\n",
       "      <th>secondary_cleaner.state.floatbank4_b_air</th>\n",
       "      <th>secondary_cleaner.state.floatbank4_b_level</th>\n",
       "      <th>secondary_cleaner.state.floatbank5_a_air</th>\n",
       "      <th>secondary_cleaner.state.floatbank5_a_level</th>\n",
       "      <th>secondary_cleaner.state.floatbank5_b_air</th>\n",
       "      <th>secondary_cleaner.state.floatbank5_b_level</th>\n",
       "      <th>secondary_cleaner.state.floatbank6_a_air</th>\n",
       "      <th>secondary_cleaner.state.floatbank6_a_level</th>\n",
       "    </tr>\n",
       "  </thead>\n",
       "  <tbody>\n",
       "    <tr>\n",
       "      <th>14743</th>\n",
       "      <td>2017-12-17 09:59:59</td>\n",
       "      <td>7.506471</td>\n",
       "      <td>9.247625</td>\n",
       "      <td>8.265027</td>\n",
       "      <td>28.575838</td>\n",
       "      <td>29.950111</td>\n",
       "      <td>9.377262</td>\n",
       "      <td>1.431288</td>\n",
       "      <td>4.904435</td>\n",
       "      <td>4.025224</td>\n",
       "      <td>57.472781</td>\n",
       "      <td>3.917150</td>\n",
       "      <td>5.880000</td>\n",
       "      <td>0.442507</td>\n",
       "      <td>4.074177</td>\n",
       "      <td>NaN</td>\n",
       "      <td>NaN</td>\n",
       "      <td>42.809710</td>\n",
       "      <td>20.837796</td>\n",
       "      <td>4.343949</td>\n",
       "      <td>NaN</td>\n",
       "      <td>6.033035</td>\n",
       "      <td>1549.473645</td>\n",
       "      <td>-497.786651</td>\n",
       "      <td>1547.795575</td>\n",
       "      <td>-767.043033</td>\n",
       "      <td>1481.589820</td>\n",
       "      <td>-491.513029</td>\n",
       "      <td>1548.708468</td>\n",
       "      <td>-501.050510</td>\n",
       "      <td>127329.137275</td>\n",
       "      <td>12817.937146</td>\n",
       "      <td>12814.303454</td>\n",
       "      <td>2.817107</td>\n",
       "      <td>7.565418</td>\n",
       "      <td>1.923893</td>\n",
       "      <td>281.734788</td>\n",
       "      <td>53.924316</td>\n",
       "      <td>NaN</td>\n",
       "      <td>5.419812</td>\n",
       "      <td>10.002941</td>\n",
       "      <td>4.620954</td>\n",
       "      <td>9.997026</td>\n",
       "      <td>4.619273</td>\n",
       "      <td>14.746068</td>\n",
       "      <td>6.647434</td>\n",
       "      <td>34.964875</td>\n",
       "      <td>23.383665</td>\n",
       "      <td>69.786522</td>\n",
       "      <td>4.376886</td>\n",
       "      <td>0.950409</td>\n",
       "      <td>21.285690</td>\n",
       "      <td>1.953490</td>\n",
       "      <td>1007.483654</td>\n",
       "      <td>-400.761645</td>\n",
       "      <td>1205.000107</td>\n",
       "      <td>-499.387713</td>\n",
       "      <td>1204.132450</td>\n",
       "      <td>-501.111114</td>\n",
       "      <td>1003.660741</td>\n",
       "      <td>-500.741296</td>\n",
       "      <td>1000.957646</td>\n",
       "      <td>-500.910862</td>\n",
       "      <td>900.652922</td>\n",
       "      <td>-500.800802</td>\n",
       "      <td>17.206689</td>\n",
       "      <td>7.462861</td>\n",
       "      <td>NaN</td>\n",
       "      <td>6.447224</td>\n",
       "      <td>25.049808</td>\n",
       "      <td>-499.916717</td>\n",
       "      <td>19.938070</td>\n",
       "      <td>-499.750612</td>\n",
       "      <td>0.011107</td>\n",
       "      <td>-799.445021</td>\n",
       "      <td>1.158437e-16</td>\n",
       "      <td>-809.164351</td>\n",
       "      <td>19.957843</td>\n",
       "      <td>-498.201601</td>\n",
       "      <td>16.074490</td>\n",
       "      <td>-44.244302</td>\n",
       "      <td>11.027198</td>\n",
       "      <td>-497.421379</td>\n",
       "      <td>7.997135</td>\n",
       "      <td>-499.712718</td>\n",
       "      <td>12.001879</td>\n",
       "      <td>-499.602975</td>\n",
       "    </tr>\n",
       "    <tr>\n",
       "      <th>4317</th>\n",
       "      <td>2016-08-16 02:59:59</td>\n",
       "      <td>4.718242</td>\n",
       "      <td>8.661506</td>\n",
       "      <td>10.483920</td>\n",
       "      <td>47.105054</td>\n",
       "      <td>67.449021</td>\n",
       "      <td>10.547026</td>\n",
       "      <td>2.632240</td>\n",
       "      <td>10.634927</td>\n",
       "      <td>3.578339</td>\n",
       "      <td>160.101219</td>\n",
       "      <td>10.974893</td>\n",
       "      <td>7.545000</td>\n",
       "      <td>0.474328</td>\n",
       "      <td>7.282595</td>\n",
       "      <td>9.917757</td>\n",
       "      <td>12.328258</td>\n",
       "      <td>38.510893</td>\n",
       "      <td>15.881323</td>\n",
       "      <td>3.402165</td>\n",
       "      <td>9.892204</td>\n",
       "      <td>7.122435</td>\n",
       "      <td>1598.462386</td>\n",
       "      <td>-499.692966</td>\n",
       "      <td>1599.347231</td>\n",
       "      <td>-500.031639</td>\n",
       "      <td>1601.043769</td>\n",
       "      <td>-498.970478</td>\n",
       "      <td>1599.676361</td>\n",
       "      <td>-500.312406</td>\n",
       "      <td>43923.100125</td>\n",
       "      <td>3293.128707</td>\n",
       "      <td>3287.185040</td>\n",
       "      <td>3.029329</td>\n",
       "      <td>10.290498</td>\n",
       "      <td>3.135340</td>\n",
       "      <td>501.038156</td>\n",
       "      <td>65.410545</td>\n",
       "      <td>38.961071</td>\n",
       "      <td>9.497976</td>\n",
       "      <td>15.000680</td>\n",
       "      <td>6.806409</td>\n",
       "      <td>14.995691</td>\n",
       "      <td>6.801454</td>\n",
       "      <td>13.230470</td>\n",
       "      <td>6.142985</td>\n",
       "      <td>30.960581</td>\n",
       "      <td>23.489325</td>\n",
       "      <td>83.134364</td>\n",
       "      <td>7.067164</td>\n",
       "      <td>0.601876</td>\n",
       "      <td>19.057422</td>\n",
       "      <td>2.413059</td>\n",
       "      <td>999.925394</td>\n",
       "      <td>-499.951375</td>\n",
       "      <td>1599.576247</td>\n",
       "      <td>-400.738485</td>\n",
       "      <td>1550.527996</td>\n",
       "      <td>-401.050068</td>\n",
       "      <td>1300.517198</td>\n",
       "      <td>-400.957481</td>\n",
       "      <td>1199.874464</td>\n",
       "      <td>-400.333505</td>\n",
       "      <td>999.773762</td>\n",
       "      <td>-400.432554</td>\n",
       "      <td>15.203984</td>\n",
       "      <td>3.745895</td>\n",
       "      <td>10.563102</td>\n",
       "      <td>5.079969</td>\n",
       "      <td>25.027903</td>\n",
       "      <td>-399.445689</td>\n",
       "      <td>18.836952</td>\n",
       "      <td>-400.156095</td>\n",
       "      <td>24.063877</td>\n",
       "      <td>-400.678526</td>\n",
       "      <td>1.986472e+01</td>\n",
       "      <td>-400.389631</td>\n",
       "      <td>18.035369</td>\n",
       "      <td>-400.276520</td>\n",
       "      <td>10.063118</td>\n",
       "      <td>-400.257956</td>\n",
       "      <td>14.967502</td>\n",
       "      <td>-399.466656</td>\n",
       "      <td>4.964878</td>\n",
       "      <td>-399.375224</td>\n",
       "      <td>22.978163</td>\n",
       "      <td>-499.909471</td>\n",
       "    </tr>\n",
       "    <tr>\n",
       "      <th>8332</th>\n",
       "      <td>2017-02-21 00:59:59</td>\n",
       "      <td>5.416572</td>\n",
       "      <td>10.410447</td>\n",
       "      <td>14.041793</td>\n",
       "      <td>44.828241</td>\n",
       "      <td>73.273717</td>\n",
       "      <td>11.694702</td>\n",
       "      <td>4.132764</td>\n",
       "      <td>8.533506</td>\n",
       "      <td>3.738253</td>\n",
       "      <td>146.859844</td>\n",
       "      <td>9.089916</td>\n",
       "      <td>6.980000</td>\n",
       "      <td>0.795127</td>\n",
       "      <td>8.634616</td>\n",
       "      <td>8.481771</td>\n",
       "      <td>4.872822</td>\n",
       "      <td>31.718769</td>\n",
       "      <td>16.933077</td>\n",
       "      <td>3.530653</td>\n",
       "      <td>7.907750</td>\n",
       "      <td>3.335736</td>\n",
       "      <td>1703.599056</td>\n",
       "      <td>-500.213521</td>\n",
       "      <td>1701.500503</td>\n",
       "      <td>-499.805096</td>\n",
       "      <td>1700.473228</td>\n",
       "      <td>-500.025670</td>\n",
       "      <td>1699.269790</td>\n",
       "      <td>-499.905487</td>\n",
       "      <td>48060.646224</td>\n",
       "      <td>3608.327712</td>\n",
       "      <td>3608.081370</td>\n",
       "      <td>2.101800</td>\n",
       "      <td>11.065139</td>\n",
       "      <td>5.416502</td>\n",
       "      <td>301.193145</td>\n",
       "      <td>46.811874</td>\n",
       "      <td>35.802142</td>\n",
       "      <td>11.384403</td>\n",
       "      <td>11.999532</td>\n",
       "      <td>4.603767</td>\n",
       "      <td>12.002164</td>\n",
       "      <td>4.599446</td>\n",
       "      <td>13.512011</td>\n",
       "      <td>8.986084</td>\n",
       "      <td>33.508038</td>\n",
       "      <td>22.042504</td>\n",
       "      <td>91.632832</td>\n",
       "      <td>6.528822</td>\n",
       "      <td>0.524268</td>\n",
       "      <td>14.319926</td>\n",
       "      <td>1.808394</td>\n",
       "      <td>1299.106074</td>\n",
       "      <td>-299.835570</td>\n",
       "      <td>1299.068920</td>\n",
       "      <td>-499.926669</td>\n",
       "      <td>1298.648789</td>\n",
       "      <td>-500.078971</td>\n",
       "      <td>1196.871794</td>\n",
       "      <td>-500.941657</td>\n",
       "      <td>998.944822</td>\n",
       "      <td>-500.186035</td>\n",
       "      <td>999.190806</td>\n",
       "      <td>-500.202640</td>\n",
       "      <td>16.550369</td>\n",
       "      <td>4.790607</td>\n",
       "      <td>10.634933</td>\n",
       "      <td>2.388543</td>\n",
       "      <td>34.824722</td>\n",
       "      <td>-499.929747</td>\n",
       "      <td>32.072622</td>\n",
       "      <td>-499.869318</td>\n",
       "      <td>35.010580</td>\n",
       "      <td>-399.959605</td>\n",
       "      <td>2.600116e+01</td>\n",
       "      <td>-499.916969</td>\n",
       "      <td>24.984702</td>\n",
       "      <td>-399.507466</td>\n",
       "      <td>23.048810</td>\n",
       "      <td>-400.108328</td>\n",
       "      <td>23.000669</td>\n",
       "      <td>-450.905733</td>\n",
       "      <td>20.007819</td>\n",
       "      <td>-449.979296</td>\n",
       "      <td>25.003242</td>\n",
       "      <td>-500.387389</td>\n",
       "    </tr>\n",
       "    <tr>\n",
       "      <th>17850</th>\n",
       "      <td>2018-05-30 02:59:59</td>\n",
       "      <td>4.749912</td>\n",
       "      <td>8.583907</td>\n",
       "      <td>7.329738</td>\n",
       "      <td>45.238506</td>\n",
       "      <td>72.487267</td>\n",
       "      <td>11.524024</td>\n",
       "      <td>2.891015</td>\n",
       "      <td>10.022662</td>\n",
       "      <td>3.076655</td>\n",
       "      <td>173.763460</td>\n",
       "      <td>7.971888</td>\n",
       "      <td>8.450001</td>\n",
       "      <td>1.079755</td>\n",
       "      <td>7.953678</td>\n",
       "      <td>10.505574</td>\n",
       "      <td>12.127206</td>\n",
       "      <td>34.973656</td>\n",
       "      <td>17.028426</td>\n",
       "      <td>4.198630</td>\n",
       "      <td>9.441795</td>\n",
       "      <td>3.985207</td>\n",
       "      <td>1652.940532</td>\n",
       "      <td>-500.420583</td>\n",
       "      <td>1646.981797</td>\n",
       "      <td>-499.139109</td>\n",
       "      <td>1648.110041</td>\n",
       "      <td>-503.777477</td>\n",
       "      <td>1306.517240</td>\n",
       "      <td>-502.219354</td>\n",
       "      <td>40369.597083</td>\n",
       "      <td>2842.816720</td>\n",
       "      <td>2842.727979</td>\n",
       "      <td>2.372385</td>\n",
       "      <td>10.508817</td>\n",
       "      <td>3.997409</td>\n",
       "      <td>400.713888</td>\n",
       "      <td>57.343937</td>\n",
       "      <td>41.275574</td>\n",
       "      <td>9.483390</td>\n",
       "      <td>11.807407</td>\n",
       "      <td>6.293855</td>\n",
       "      <td>11.807237</td>\n",
       "      <td>6.299790</td>\n",
       "      <td>13.645986</td>\n",
       "      <td>6.987013</td>\n",
       "      <td>29.063477</td>\n",
       "      <td>17.677659</td>\n",
       "      <td>95.822790</td>\n",
       "      <td>3.344529</td>\n",
       "      <td>0.328406</td>\n",
       "      <td>19.017005</td>\n",
       "      <td>0.815194</td>\n",
       "      <td>1201.651450</td>\n",
       "      <td>-300.217110</td>\n",
       "      <td>1303.853869</td>\n",
       "      <td>-500.144925</td>\n",
       "      <td>1304.980884</td>\n",
       "      <td>-499.470198</td>\n",
       "      <td>1203.118206</td>\n",
       "      <td>-496.220022</td>\n",
       "      <td>1201.921417</td>\n",
       "      <td>-499.346543</td>\n",
       "      <td>1103.736201</td>\n",
       "      <td>-499.764334</td>\n",
       "      <td>17.337325</td>\n",
       "      <td>8.223320</td>\n",
       "      <td>2.440857</td>\n",
       "      <td>5.286485</td>\n",
       "      <td>35.076368</td>\n",
       "      <td>-500.017953</td>\n",
       "      <td>27.953374</td>\n",
       "      <td>-499.967862</td>\n",
       "      <td>35.962955</td>\n",
       "      <td>-499.993518</td>\n",
       "      <td>2.494821e+01</td>\n",
       "      <td>-499.924403</td>\n",
       "      <td>29.968604</td>\n",
       "      <td>-498.360169</td>\n",
       "      <td>19.974964</td>\n",
       "      <td>-500.208505</td>\n",
       "      <td>20.980759</td>\n",
       "      <td>-494.983439</td>\n",
       "      <td>15.080321</td>\n",
       "      <td>-499.145683</td>\n",
       "      <td>19.992681</td>\n",
       "      <td>-498.557744</td>\n",
       "    </tr>\n",
       "    <tr>\n",
       "      <th>7309</th>\n",
       "      <td>2017-01-01 07:59:59</td>\n",
       "      <td>4.790055</td>\n",
       "      <td>6.224721</td>\n",
       "      <td>12.745616</td>\n",
       "      <td>48.680761</td>\n",
       "      <td>74.382014</td>\n",
       "      <td>10.481508</td>\n",
       "      <td>1.492189</td>\n",
       "      <td>11.950695</td>\n",
       "      <td>1.882251</td>\n",
       "      <td>96.989018</td>\n",
       "      <td>8.844216</td>\n",
       "      <td>8.350000</td>\n",
       "      <td>1.189984</td>\n",
       "      <td>8.974524</td>\n",
       "      <td>5.799956</td>\n",
       "      <td>8.980035</td>\n",
       "      <td>35.535363</td>\n",
       "      <td>16.887630</td>\n",
       "      <td>3.002531</td>\n",
       "      <td>9.388390</td>\n",
       "      <td>1.969341</td>\n",
       "      <td>1694.595936</td>\n",
       "      <td>-500.162663</td>\n",
       "      <td>1674.676377</td>\n",
       "      <td>-500.926774</td>\n",
       "      <td>1597.951786</td>\n",
       "      <td>-505.446194</td>\n",
       "      <td>1605.021871</td>\n",
       "      <td>-498.853573</td>\n",
       "      <td>37048.414631</td>\n",
       "      <td>3187.184754</td>\n",
       "      <td>3187.068505</td>\n",
       "      <td>6.043879</td>\n",
       "      <td>9.447617</td>\n",
       "      <td>1.092971</td>\n",
       "      <td>461.514806</td>\n",
       "      <td>46.355895</td>\n",
       "      <td>37.659028</td>\n",
       "      <td>6.605785</td>\n",
       "      <td>9.999403</td>\n",
       "      <td>5.799874</td>\n",
       "      <td>9.999129</td>\n",
       "      <td>5.799837</td>\n",
       "      <td>18.724506</td>\n",
       "      <td>5.198235</td>\n",
       "      <td>30.664959</td>\n",
       "      <td>19.161640</td>\n",
       "      <td>85.257719</td>\n",
       "      <td>5.869068</td>\n",
       "      <td>0.405287</td>\n",
       "      <td>24.572631</td>\n",
       "      <td>1.379220</td>\n",
       "      <td>1003.532853</td>\n",
       "      <td>-499.576523</td>\n",
       "      <td>1501.707561</td>\n",
       "      <td>-500.413944</td>\n",
       "      <td>1453.732368</td>\n",
       "      <td>-500.038204</td>\n",
       "      <td>1402.805907</td>\n",
       "      <td>-500.159995</td>\n",
       "      <td>1050.806631</td>\n",
       "      <td>-499.639597</td>\n",
       "      <td>1000.344221</td>\n",
       "      <td>-500.458499</td>\n",
       "      <td>16.211531</td>\n",
       "      <td>1.705518</td>\n",
       "      <td>11.481426</td>\n",
       "      <td>2.183477</td>\n",
       "      <td>30.000037</td>\n",
       "      <td>-499.925359</td>\n",
       "      <td>28.079065</td>\n",
       "      <td>-500.051268</td>\n",
       "      <td>34.963140</td>\n",
       "      <td>-500.292150</td>\n",
       "      <td>3.200259e+01</td>\n",
       "      <td>-499.961693</td>\n",
       "      <td>17.006068</td>\n",
       "      <td>-501.694096</td>\n",
       "      <td>14.953282</td>\n",
       "      <td>-499.656538</td>\n",
       "      <td>14.738130</td>\n",
       "      <td>-500.743305</td>\n",
       "      <td>12.011263</td>\n",
       "      <td>-500.233221</td>\n",
       "      <td>20.011231</td>\n",
       "      <td>-500.259372</td>\n",
       "    </tr>\n",
       "  </tbody>\n",
       "</table>\n",
       "</div>"
      ],
      "text/plain": [
       "                      date  final.output.concentrate_ag  \\\n",
       "14743  2017-12-17 09:59:59                     7.506471   \n",
       "4317   2016-08-16 02:59:59                     4.718242   \n",
       "8332   2017-02-21 00:59:59                     5.416572   \n",
       "17850  2018-05-30 02:59:59                     4.749912   \n",
       "7309   2017-01-01 07:59:59                     4.790055   \n",
       "\n",
       "       final.output.concentrate_pb  final.output.concentrate_sol  \\\n",
       "14743                     9.247625                      8.265027   \n",
       "4317                      8.661506                     10.483920   \n",
       "8332                     10.410447                     14.041793   \n",
       "17850                     8.583907                      7.329738   \n",
       "7309                      6.224721                     12.745616   \n",
       "\n",
       "       final.output.concentrate_au  final.output.recovery  \\\n",
       "14743                    28.575838              29.950111   \n",
       "4317                     47.105054              67.449021   \n",
       "8332                     44.828241              73.273717   \n",
       "17850                    45.238506              72.487267   \n",
       "7309                     48.680761              74.382014   \n",
       "\n",
       "       final.output.tail_ag  final.output.tail_pb  final.output.tail_sol  \\\n",
       "14743              9.377262              1.431288               4.904435   \n",
       "4317              10.547026              2.632240              10.634927   \n",
       "8332              11.694702              4.132764               8.533506   \n",
       "17850             11.524024              2.891015              10.022662   \n",
       "7309              10.481508              1.492189              11.950695   \n",
       "\n",
       "       final.output.tail_au  primary_cleaner.input.sulfate  \\\n",
       "14743              4.025224                      57.472781   \n",
       "4317               3.578339                     160.101219   \n",
       "8332               3.738253                     146.859844   \n",
       "17850              3.076655                     173.763460   \n",
       "7309               1.882251                      96.989018   \n",
       "\n",
       "       primary_cleaner.input.depressant  primary_cleaner.input.feed_size  \\\n",
       "14743                          3.917150                         5.880000   \n",
       "4317                          10.974893                         7.545000   \n",
       "8332                           9.089916                         6.980000   \n",
       "17850                          7.971888                         8.450001   \n",
       "7309                           8.844216                         8.350000   \n",
       "\n",
       "       primary_cleaner.input.xanthate  primary_cleaner.output.concentrate_ag  \\\n",
       "14743                        0.442507                               4.074177   \n",
       "4317                         0.474328                               7.282595   \n",
       "8332                         0.795127                               8.634616   \n",
       "17850                        1.079755                               7.953678   \n",
       "7309                         1.189984                               8.974524   \n",
       "\n",
       "       primary_cleaner.output.concentrate_pb  \\\n",
       "14743                                    NaN   \n",
       "4317                                9.917757   \n",
       "8332                                8.481771   \n",
       "17850                              10.505574   \n",
       "7309                                5.799956   \n",
       "\n",
       "       primary_cleaner.output.concentrate_sol  \\\n",
       "14743                                     NaN   \n",
       "4317                                12.328258   \n",
       "8332                                 4.872822   \n",
       "17850                               12.127206   \n",
       "7309                                 8.980035   \n",
       "\n",
       "       primary_cleaner.output.concentrate_au  primary_cleaner.output.tail_ag  \\\n",
       "14743                              42.809710                       20.837796   \n",
       "4317                               38.510893                       15.881323   \n",
       "8332                               31.718769                       16.933077   \n",
       "17850                              34.973656                       17.028426   \n",
       "7309                               35.535363                       16.887630   \n",
       "\n",
       "       primary_cleaner.output.tail_pb  primary_cleaner.output.tail_sol  \\\n",
       "14743                        4.343949                              NaN   \n",
       "4317                         3.402165                         9.892204   \n",
       "8332                         3.530653                         7.907750   \n",
       "17850                        4.198630                         9.441795   \n",
       "7309                         3.002531                         9.388390   \n",
       "\n",
       "       primary_cleaner.output.tail_au  primary_cleaner.state.floatbank8_a_air  \\\n",
       "14743                        6.033035                             1549.473645   \n",
       "4317                         7.122435                             1598.462386   \n",
       "8332                         3.335736                             1703.599056   \n",
       "17850                        3.985207                             1652.940532   \n",
       "7309                         1.969341                             1694.595936   \n",
       "\n",
       "       primary_cleaner.state.floatbank8_a_level  \\\n",
       "14743                               -497.786651   \n",
       "4317                                -499.692966   \n",
       "8332                                -500.213521   \n",
       "17850                               -500.420583   \n",
       "7309                                -500.162663   \n",
       "\n",
       "       primary_cleaner.state.floatbank8_b_air  \\\n",
       "14743                             1547.795575   \n",
       "4317                              1599.347231   \n",
       "8332                              1701.500503   \n",
       "17850                             1646.981797   \n",
       "7309                              1674.676377   \n",
       "\n",
       "       primary_cleaner.state.floatbank8_b_level  \\\n",
       "14743                               -767.043033   \n",
       "4317                                -500.031639   \n",
       "8332                                -499.805096   \n",
       "17850                               -499.139109   \n",
       "7309                                -500.926774   \n",
       "\n",
       "       primary_cleaner.state.floatbank8_c_air  \\\n",
       "14743                             1481.589820   \n",
       "4317                              1601.043769   \n",
       "8332                              1700.473228   \n",
       "17850                             1648.110041   \n",
       "7309                              1597.951786   \n",
       "\n",
       "       primary_cleaner.state.floatbank8_c_level  \\\n",
       "14743                               -491.513029   \n",
       "4317                                -498.970478   \n",
       "8332                                -500.025670   \n",
       "17850                               -503.777477   \n",
       "7309                                -505.446194   \n",
       "\n",
       "       primary_cleaner.state.floatbank8_d_air  \\\n",
       "14743                             1548.708468   \n",
       "4317                              1599.676361   \n",
       "8332                              1699.269790   \n",
       "17850                             1306.517240   \n",
       "7309                              1605.021871   \n",
       "\n",
       "       primary_cleaner.state.floatbank8_d_level  \\\n",
       "14743                               -501.050510   \n",
       "4317                                -500.312406   \n",
       "8332                                -499.905487   \n",
       "17850                               -502.219354   \n",
       "7309                                -498.853573   \n",
       "\n",
       "       rougher.calculation.sulfate_to_au_concentrate  \\\n",
       "14743                                  127329.137275   \n",
       "4317                                    43923.100125   \n",
       "8332                                    48060.646224   \n",
       "17850                                   40369.597083   \n",
       "7309                                    37048.414631   \n",
       "\n",
       "       rougher.calculation.floatbank10_sulfate_to_au_feed  \\\n",
       "14743                                       12817.937146    \n",
       "4317                                         3293.128707    \n",
       "8332                                         3608.327712    \n",
       "17850                                        2842.816720    \n",
       "7309                                         3187.184754    \n",
       "\n",
       "       rougher.calculation.floatbank11_sulfate_to_au_feed  \\\n",
       "14743                                       12814.303454    \n",
       "4317                                         3287.185040    \n",
       "8332                                         3608.081370    \n",
       "17850                                        2842.727979    \n",
       "7309                                         3187.068505    \n",
       "\n",
       "       rougher.calculation.au_pb_ratio  rougher.input.feed_ag  \\\n",
       "14743                         2.817107               7.565418   \n",
       "4317                          3.029329              10.290498   \n",
       "8332                          2.101800              11.065139   \n",
       "17850                         2.372385              10.508817   \n",
       "7309                          6.043879               9.447617   \n",
       "\n",
       "       rougher.input.feed_pb  rougher.input.feed_rate  \\\n",
       "14743               1.923893               281.734788   \n",
       "4317                3.135340               501.038156   \n",
       "8332                5.416502               301.193145   \n",
       "17850               3.997409               400.713888   \n",
       "7309                1.092971               461.514806   \n",
       "\n",
       "       rougher.input.feed_size  rougher.input.feed_sol  rougher.input.feed_au  \\\n",
       "14743                53.924316                     NaN               5.419812   \n",
       "4317                 65.410545               38.961071               9.497976   \n",
       "8332                 46.811874               35.802142              11.384403   \n",
       "17850                57.343937               41.275574               9.483390   \n",
       "7309                 46.355895               37.659028               6.605785   \n",
       "\n",
       "       rougher.input.floatbank10_sulfate  rougher.input.floatbank10_xanthate  \\\n",
       "14743                          10.002941                            4.620954   \n",
       "4317                           15.000680                            6.806409   \n",
       "8332                           11.999532                            4.603767   \n",
       "17850                          11.807407                            6.293855   \n",
       "7309                            9.999403                            5.799874   \n",
       "\n",
       "       rougher.input.floatbank11_sulfate  rougher.input.floatbank11_xanthate  \\\n",
       "14743                           9.997026                            4.619273   \n",
       "4317                           14.995691                            6.801454   \n",
       "8332                           12.002164                            4.599446   \n",
       "17850                          11.807237                            6.299790   \n",
       "7309                            9.999129                            5.799837   \n",
       "\n",
       "       rougher.output.concentrate_ag  rougher.output.concentrate_pb  \\\n",
       "14743                      14.746068                       6.647434   \n",
       "4317                       13.230470                       6.142985   \n",
       "8332                       13.512011                       8.986084   \n",
       "17850                      13.645986                       6.987013   \n",
       "7309                       18.724506                       5.198235   \n",
       "\n",
       "       rougher.output.concentrate_sol  rougher.output.concentrate_au  \\\n",
       "14743                       34.964875                      23.383665   \n",
       "4317                        30.960581                      23.489325   \n",
       "8332                        33.508038                      22.042504   \n",
       "17850                       29.063477                      17.677659   \n",
       "7309                        30.664959                      19.161640   \n",
       "\n",
       "       rougher.output.recovery  rougher.output.tail_ag  \\\n",
       "14743                69.786522                4.376886   \n",
       "4317                 83.134364                7.067164   \n",
       "8332                 91.632832                6.528822   \n",
       "17850                95.822790                3.344529   \n",
       "7309                 85.257719                5.869068   \n",
       "\n",
       "       rougher.output.tail_pb  rougher.output.tail_sol  \\\n",
       "14743                0.950409                21.285690   \n",
       "4317                 0.601876                19.057422   \n",
       "8332                 0.524268                14.319926   \n",
       "17850                0.328406                19.017005   \n",
       "7309                 0.405287                24.572631   \n",
       "\n",
       "       rougher.output.tail_au  rougher.state.floatbank10_a_air  \\\n",
       "14743                1.953490                      1007.483654   \n",
       "4317                 2.413059                       999.925394   \n",
       "8332                 1.808394                      1299.106074   \n",
       "17850                0.815194                      1201.651450   \n",
       "7309                 1.379220                      1003.532853   \n",
       "\n",
       "       rougher.state.floatbank10_a_level  rougher.state.floatbank10_b_air  \\\n",
       "14743                        -400.761645                      1205.000107   \n",
       "4317                         -499.951375                      1599.576247   \n",
       "8332                         -299.835570                      1299.068920   \n",
       "17850                        -300.217110                      1303.853869   \n",
       "7309                         -499.576523                      1501.707561   \n",
       "\n",
       "       rougher.state.floatbank10_b_level  rougher.state.floatbank10_c_air  \\\n",
       "14743                        -499.387713                      1204.132450   \n",
       "4317                         -400.738485                      1550.527996   \n",
       "8332                         -499.926669                      1298.648789   \n",
       "17850                        -500.144925                      1304.980884   \n",
       "7309                         -500.413944                      1453.732368   \n",
       "\n",
       "       rougher.state.floatbank10_c_level  rougher.state.floatbank10_d_air  \\\n",
       "14743                        -501.111114                      1003.660741   \n",
       "4317                         -401.050068                      1300.517198   \n",
       "8332                         -500.078971                      1196.871794   \n",
       "17850                        -499.470198                      1203.118206   \n",
       "7309                         -500.038204                      1402.805907   \n",
       "\n",
       "       rougher.state.floatbank10_d_level  rougher.state.floatbank10_e_air  \\\n",
       "14743                        -500.741296                      1000.957646   \n",
       "4317                         -400.957481                      1199.874464   \n",
       "8332                         -500.941657                       998.944822   \n",
       "17850                        -496.220022                      1201.921417   \n",
       "7309                         -500.159995                      1050.806631   \n",
       "\n",
       "       rougher.state.floatbank10_e_level  rougher.state.floatbank10_f_air  \\\n",
       "14743                        -500.910862                       900.652922   \n",
       "4317                         -400.333505                       999.773762   \n",
       "8332                         -500.186035                       999.190806   \n",
       "17850                        -499.346543                      1103.736201   \n",
       "7309                         -499.639597                      1000.344221   \n",
       "\n",
       "       rougher.state.floatbank10_f_level  secondary_cleaner.output.tail_ag  \\\n",
       "14743                        -500.800802                         17.206689   \n",
       "4317                         -400.432554                         15.203984   \n",
       "8332                         -500.202640                         16.550369   \n",
       "17850                        -499.764334                         17.337325   \n",
       "7309                         -500.458499                         16.211531   \n",
       "\n",
       "       secondary_cleaner.output.tail_pb  secondary_cleaner.output.tail_sol  \\\n",
       "14743                          7.462861                                NaN   \n",
       "4317                           3.745895                          10.563102   \n",
       "8332                           4.790607                          10.634933   \n",
       "17850                          8.223320                           2.440857   \n",
       "7309                           1.705518                          11.481426   \n",
       "\n",
       "       secondary_cleaner.output.tail_au  \\\n",
       "14743                          6.447224   \n",
       "4317                           5.079969   \n",
       "8332                           2.388543   \n",
       "17850                          5.286485   \n",
       "7309                           2.183477   \n",
       "\n",
       "       secondary_cleaner.state.floatbank2_a_air  \\\n",
       "14743                                 25.049808   \n",
       "4317                                  25.027903   \n",
       "8332                                  34.824722   \n",
       "17850                                 35.076368   \n",
       "7309                                  30.000037   \n",
       "\n",
       "       secondary_cleaner.state.floatbank2_a_level  \\\n",
       "14743                                 -499.916717   \n",
       "4317                                  -399.445689   \n",
       "8332                                  -499.929747   \n",
       "17850                                 -500.017953   \n",
       "7309                                  -499.925359   \n",
       "\n",
       "       secondary_cleaner.state.floatbank2_b_air  \\\n",
       "14743                                 19.938070   \n",
       "4317                                  18.836952   \n",
       "8332                                  32.072622   \n",
       "17850                                 27.953374   \n",
       "7309                                  28.079065   \n",
       "\n",
       "       secondary_cleaner.state.floatbank2_b_level  \\\n",
       "14743                                 -499.750612   \n",
       "4317                                  -400.156095   \n",
       "8332                                  -499.869318   \n",
       "17850                                 -499.967862   \n",
       "7309                                  -500.051268   \n",
       "\n",
       "       secondary_cleaner.state.floatbank3_a_air  \\\n",
       "14743                                  0.011107   \n",
       "4317                                  24.063877   \n",
       "8332                                  35.010580   \n",
       "17850                                 35.962955   \n",
       "7309                                  34.963140   \n",
       "\n",
       "       secondary_cleaner.state.floatbank3_a_level  \\\n",
       "14743                                 -799.445021   \n",
       "4317                                  -400.678526   \n",
       "8332                                  -399.959605   \n",
       "17850                                 -499.993518   \n",
       "7309                                  -500.292150   \n",
       "\n",
       "       secondary_cleaner.state.floatbank3_b_air  \\\n",
       "14743                              1.158437e-16   \n",
       "4317                               1.986472e+01   \n",
       "8332                               2.600116e+01   \n",
       "17850                              2.494821e+01   \n",
       "7309                               3.200259e+01   \n",
       "\n",
       "       secondary_cleaner.state.floatbank3_b_level  \\\n",
       "14743                                 -809.164351   \n",
       "4317                                  -400.389631   \n",
       "8332                                  -499.916969   \n",
       "17850                                 -499.924403   \n",
       "7309                                  -499.961693   \n",
       "\n",
       "       secondary_cleaner.state.floatbank4_a_air  \\\n",
       "14743                                 19.957843   \n",
       "4317                                  18.035369   \n",
       "8332                                  24.984702   \n",
       "17850                                 29.968604   \n",
       "7309                                  17.006068   \n",
       "\n",
       "       secondary_cleaner.state.floatbank4_a_level  \\\n",
       "14743                                 -498.201601   \n",
       "4317                                  -400.276520   \n",
       "8332                                  -399.507466   \n",
       "17850                                 -498.360169   \n",
       "7309                                  -501.694096   \n",
       "\n",
       "       secondary_cleaner.state.floatbank4_b_air  \\\n",
       "14743                                 16.074490   \n",
       "4317                                  10.063118   \n",
       "8332                                  23.048810   \n",
       "17850                                 19.974964   \n",
       "7309                                  14.953282   \n",
       "\n",
       "       secondary_cleaner.state.floatbank4_b_level  \\\n",
       "14743                                  -44.244302   \n",
       "4317                                  -400.257956   \n",
       "8332                                  -400.108328   \n",
       "17850                                 -500.208505   \n",
       "7309                                  -499.656538   \n",
       "\n",
       "       secondary_cleaner.state.floatbank5_a_air  \\\n",
       "14743                                 11.027198   \n",
       "4317                                  14.967502   \n",
       "8332                                  23.000669   \n",
       "17850                                 20.980759   \n",
       "7309                                  14.738130   \n",
       "\n",
       "       secondary_cleaner.state.floatbank5_a_level  \\\n",
       "14743                                 -497.421379   \n",
       "4317                                  -399.466656   \n",
       "8332                                  -450.905733   \n",
       "17850                                 -494.983439   \n",
       "7309                                  -500.743305   \n",
       "\n",
       "       secondary_cleaner.state.floatbank5_b_air  \\\n",
       "14743                                  7.997135   \n",
       "4317                                   4.964878   \n",
       "8332                                  20.007819   \n",
       "17850                                 15.080321   \n",
       "7309                                  12.011263   \n",
       "\n",
       "       secondary_cleaner.state.floatbank5_b_level  \\\n",
       "14743                                 -499.712718   \n",
       "4317                                  -399.375224   \n",
       "8332                                  -449.979296   \n",
       "17850                                 -499.145683   \n",
       "7309                                  -500.233221   \n",
       "\n",
       "       secondary_cleaner.state.floatbank6_a_air  \\\n",
       "14743                                 12.001879   \n",
       "4317                                  22.978163   \n",
       "8332                                  25.003242   \n",
       "17850                                 19.992681   \n",
       "7309                                  20.011231   \n",
       "\n",
       "       secondary_cleaner.state.floatbank6_a_level  \n",
       "14743                                 -499.602975  \n",
       "4317                                  -499.909471  \n",
       "8332                                  -500.387389  \n",
       "17850                                 -498.557744  \n",
       "7309                                  -500.259372  "
      ]
     },
     "execution_count": 3,
     "metadata": {},
     "output_type": "execute_result"
    }
   ],
   "source": [
    "# Выведем 5 рандомных значений в исходной выборке\n",
    "pd.set_option('display.max_columns', None)\n",
    "full_df.sample(5)"
   ]
  },
  {
   "cell_type": "code",
   "execution_count": 4,
   "metadata": {},
   "outputs": [],
   "source": [
    "df = [train_df, test_df, full_df]"
   ]
  },
  {
   "cell_type": "code",
   "execution_count": 5,
   "metadata": {},
   "outputs": [],
   "source": [
    "# Назовем каждую выборку\n",
    "train_df.name = 'Обучающая выборка'\n",
    "test_df.name = 'Тестовая выборка'\n",
    "full_df.name = 'Исходные данные'"
   ]
  },
  {
   "cell_type": "code",
   "execution_count": 6,
   "metadata": {},
   "outputs": [],
   "source": [
    "# Функция для вывода по каждой выборке необходимой информации\n",
    "def begin(data):\n",
    "    print('\\033[1m' + '\\n    Общая информация по' + '\\033[0m', '\\033[1m' + data.name+ '\\033[0m', '\\n')\n",
    "    # Общая информация\n",
    "    data.info() \n",
    "    # Количество пропущенных значений\n",
    "    print('\\033[1m' + '\\nКоличество пропущенных значений' + '\\033[0m', data.isna().sum().sum())\n",
    "    # Количество дубликатов\n",
    "    print('\\033[1m' + 'Количество дубликатов:' + '\\033[0m', data.duplicated().sum())\n",
    "    print()\n",
    "    print()"
   ]
  },
  {
   "cell_type": "code",
   "execution_count": 7,
   "metadata": {
    "scrolled": true
   },
   "outputs": [
    {
     "name": "stdout",
     "output_type": "stream",
     "text": [
      "\u001b[1m\n",
      "    Общая информация по\u001b[0m \u001b[1mОбучающая выборка\u001b[0m \n",
      "\n",
      "<class 'pandas.core.frame.DataFrame'>\n",
      "RangeIndex: 14149 entries, 0 to 14148\n",
      "Data columns (total 87 columns):\n",
      " #   Column                                              Non-Null Count  Dtype  \n",
      "---  ------                                              --------------  -----  \n",
      " 0   date                                                14149 non-null  object \n",
      " 1   final.output.concentrate_ag                         14148 non-null  float64\n",
      " 2   final.output.concentrate_pb                         14148 non-null  float64\n",
      " 3   final.output.concentrate_sol                        13938 non-null  float64\n",
      " 4   final.output.concentrate_au                         14149 non-null  float64\n",
      " 5   final.output.recovery                               14149 non-null  float64\n",
      " 6   final.output.tail_ag                                14149 non-null  float64\n",
      " 7   final.output.tail_pb                                14049 non-null  float64\n",
      " 8   final.output.tail_sol                               14144 non-null  float64\n",
      " 9   final.output.tail_au                                14149 non-null  float64\n",
      " 10  primary_cleaner.input.sulfate                       14129 non-null  float64\n",
      " 11  primary_cleaner.input.depressant                    14117 non-null  float64\n",
      " 12  primary_cleaner.input.feed_size                     14149 non-null  float64\n",
      " 13  primary_cleaner.input.xanthate                      14049 non-null  float64\n",
      " 14  primary_cleaner.output.concentrate_ag               14149 non-null  float64\n",
      " 15  primary_cleaner.output.concentrate_pb               14063 non-null  float64\n",
      " 16  primary_cleaner.output.concentrate_sol              13863 non-null  float64\n",
      " 17  primary_cleaner.output.concentrate_au               14149 non-null  float64\n",
      " 18  primary_cleaner.output.tail_ag                      14148 non-null  float64\n",
      " 19  primary_cleaner.output.tail_pb                      14134 non-null  float64\n",
      " 20  primary_cleaner.output.tail_sol                     14103 non-null  float64\n",
      " 21  primary_cleaner.output.tail_au                      14149 non-null  float64\n",
      " 22  primary_cleaner.state.floatbank8_a_air              14145 non-null  float64\n",
      " 23  primary_cleaner.state.floatbank8_a_level            14148 non-null  float64\n",
      " 24  primary_cleaner.state.floatbank8_b_air              14145 non-null  float64\n",
      " 25  primary_cleaner.state.floatbank8_b_level            14148 non-null  float64\n",
      " 26  primary_cleaner.state.floatbank8_c_air              14147 non-null  float64\n",
      " 27  primary_cleaner.state.floatbank8_c_level            14148 non-null  float64\n",
      " 28  primary_cleaner.state.floatbank8_d_air              14146 non-null  float64\n",
      " 29  primary_cleaner.state.floatbank8_d_level            14148 non-null  float64\n",
      " 30  rougher.calculation.sulfate_to_au_concentrate       14148 non-null  float64\n",
      " 31  rougher.calculation.floatbank10_sulfate_to_au_feed  14148 non-null  float64\n",
      " 32  rougher.calculation.floatbank11_sulfate_to_au_feed  14148 non-null  float64\n",
      " 33  rougher.calculation.au_pb_ratio                     14149 non-null  float64\n",
      " 34  rougher.input.feed_ag                               14149 non-null  float64\n",
      " 35  rougher.input.feed_pb                               14049 non-null  float64\n",
      " 36  rougher.input.feed_rate                             14141 non-null  float64\n",
      " 37  rougher.input.feed_size                             14005 non-null  float64\n",
      " 38  rougher.input.feed_sol                              14071 non-null  float64\n",
      " 39  rougher.input.feed_au                               14149 non-null  float64\n",
      " 40  rougher.input.floatbank10_sulfate                   14120 non-null  float64\n",
      " 41  rougher.input.floatbank10_xanthate                  14141 non-null  float64\n",
      " 42  rougher.input.floatbank11_sulfate                   14113 non-null  float64\n",
      " 43  rougher.input.floatbank11_xanthate                  13721 non-null  float64\n",
      " 44  rougher.output.concentrate_ag                       14149 non-null  float64\n",
      " 45  rougher.output.concentrate_pb                       14149 non-null  float64\n",
      " 46  rougher.output.concentrate_sol                      14127 non-null  float64\n",
      " 47  rougher.output.concentrate_au                       14149 non-null  float64\n",
      " 48  rougher.output.recovery                             14149 non-null  float64\n",
      " 49  rougher.output.tail_ag                              14148 non-null  float64\n",
      " 50  rougher.output.tail_pb                              14149 non-null  float64\n",
      " 51  rougher.output.tail_sol                             14149 non-null  float64\n",
      " 52  rougher.output.tail_au                              14149 non-null  float64\n",
      " 53  rougher.state.floatbank10_a_air                     14148 non-null  float64\n",
      " 54  rougher.state.floatbank10_a_level                   14148 non-null  float64\n",
      " 55  rougher.state.floatbank10_b_air                     14148 non-null  float64\n",
      " 56  rougher.state.floatbank10_b_level                   14148 non-null  float64\n",
      " 57  rougher.state.floatbank10_c_air                     14148 non-null  float64\n",
      " 58  rougher.state.floatbank10_c_level                   14148 non-null  float64\n",
      " 59  rougher.state.floatbank10_d_air                     14149 non-null  float64\n",
      " 60  rougher.state.floatbank10_d_level                   14149 non-null  float64\n",
      " 61  rougher.state.floatbank10_e_air                     13713 non-null  float64\n",
      " 62  rougher.state.floatbank10_e_level                   14149 non-null  float64\n",
      " 63  rougher.state.floatbank10_f_air                     14149 non-null  float64\n",
      " 64  rougher.state.floatbank10_f_level                   14149 non-null  float64\n",
      " 65  secondary_cleaner.output.tail_ag                    14147 non-null  float64\n",
      " 66  secondary_cleaner.output.tail_pb                    14139 non-null  float64\n",
      " 67  secondary_cleaner.output.tail_sol                   12544 non-null  float64\n",
      " 68  secondary_cleaner.output.tail_au                    14149 non-null  float64\n",
      " 69  secondary_cleaner.state.floatbank2_a_air            13932 non-null  float64\n",
      " 70  secondary_cleaner.state.floatbank2_a_level          14148 non-null  float64\n",
      " 71  secondary_cleaner.state.floatbank2_b_air            14128 non-null  float64\n",
      " 72  secondary_cleaner.state.floatbank2_b_level          14148 non-null  float64\n",
      " 73  secondary_cleaner.state.floatbank3_a_air            14145 non-null  float64\n",
      " 74  secondary_cleaner.state.floatbank3_a_level          14148 non-null  float64\n",
      " 75  secondary_cleaner.state.floatbank3_b_air            14148 non-null  float64\n",
      " 76  secondary_cleaner.state.floatbank3_b_level          14148 non-null  float64\n",
      " 77  secondary_cleaner.state.floatbank4_a_air            14143 non-null  float64\n",
      " 78  secondary_cleaner.state.floatbank4_a_level          14148 non-null  float64\n",
      " 79  secondary_cleaner.state.floatbank4_b_air            14148 non-null  float64\n",
      " 80  secondary_cleaner.state.floatbank4_b_level          14148 non-null  float64\n",
      " 81  secondary_cleaner.state.floatbank5_a_air            14148 non-null  float64\n",
      " 82  secondary_cleaner.state.floatbank5_a_level          14148 non-null  float64\n",
      " 83  secondary_cleaner.state.floatbank5_b_air            14148 non-null  float64\n",
      " 84  secondary_cleaner.state.floatbank5_b_level          14148 non-null  float64\n",
      " 85  secondary_cleaner.state.floatbank6_a_air            14147 non-null  float64\n",
      " 86  secondary_cleaner.state.floatbank6_a_level          14148 non-null  float64\n",
      "dtypes: float64(86), object(1)\n",
      "memory usage: 9.4+ MB\n",
      "\u001b[1m\n",
      "Количество пропущенных значений\u001b[0m 4100\n",
      "\u001b[1mКоличество дубликатов:\u001b[0m 0\n",
      "\n",
      "\n",
      "\u001b[1m\n",
      "    Общая информация по\u001b[0m \u001b[1mТестовая выборка\u001b[0m \n",
      "\n",
      "<class 'pandas.core.frame.DataFrame'>\n",
      "RangeIndex: 5290 entries, 0 to 5289\n",
      "Data columns (total 53 columns):\n",
      " #   Column                                      Non-Null Count  Dtype  \n",
      "---  ------                                      --------------  -----  \n",
      " 0   date                                        5290 non-null   object \n",
      " 1   primary_cleaner.input.sulfate               5286 non-null   float64\n",
      " 2   primary_cleaner.input.depressant            5285 non-null   float64\n",
      " 3   primary_cleaner.input.feed_size             5290 non-null   float64\n",
      " 4   primary_cleaner.input.xanthate              5286 non-null   float64\n",
      " 5   primary_cleaner.state.floatbank8_a_air      5290 non-null   float64\n",
      " 6   primary_cleaner.state.floatbank8_a_level    5290 non-null   float64\n",
      " 7   primary_cleaner.state.floatbank8_b_air      5290 non-null   float64\n",
      " 8   primary_cleaner.state.floatbank8_b_level    5290 non-null   float64\n",
      " 9   primary_cleaner.state.floatbank8_c_air      5290 non-null   float64\n",
      " 10  primary_cleaner.state.floatbank8_c_level    5290 non-null   float64\n",
      " 11  primary_cleaner.state.floatbank8_d_air      5290 non-null   float64\n",
      " 12  primary_cleaner.state.floatbank8_d_level    5290 non-null   float64\n",
      " 13  rougher.input.feed_ag                       5290 non-null   float64\n",
      " 14  rougher.input.feed_pb                       5290 non-null   float64\n",
      " 15  rougher.input.feed_rate                     5287 non-null   float64\n",
      " 16  rougher.input.feed_size                     5289 non-null   float64\n",
      " 17  rougher.input.feed_sol                      5269 non-null   float64\n",
      " 18  rougher.input.feed_au                       5290 non-null   float64\n",
      " 19  rougher.input.floatbank10_sulfate           5285 non-null   float64\n",
      " 20  rougher.input.floatbank10_xanthate          5290 non-null   float64\n",
      " 21  rougher.input.floatbank11_sulfate           5282 non-null   float64\n",
      " 22  rougher.input.floatbank11_xanthate          5265 non-null   float64\n",
      " 23  rougher.state.floatbank10_a_air             5290 non-null   float64\n",
      " 24  rougher.state.floatbank10_a_level           5290 non-null   float64\n",
      " 25  rougher.state.floatbank10_b_air             5290 non-null   float64\n",
      " 26  rougher.state.floatbank10_b_level           5290 non-null   float64\n",
      " 27  rougher.state.floatbank10_c_air             5290 non-null   float64\n",
      " 28  rougher.state.floatbank10_c_level           5290 non-null   float64\n",
      " 29  rougher.state.floatbank10_d_air             5290 non-null   float64\n",
      " 30  rougher.state.floatbank10_d_level           5290 non-null   float64\n",
      " 31  rougher.state.floatbank10_e_air             5290 non-null   float64\n",
      " 32  rougher.state.floatbank10_e_level           5290 non-null   float64\n",
      " 33  rougher.state.floatbank10_f_air             5290 non-null   float64\n",
      " 34  rougher.state.floatbank10_f_level           5290 non-null   float64\n",
      " 35  secondary_cleaner.state.floatbank2_a_air    5287 non-null   float64\n",
      " 36  secondary_cleaner.state.floatbank2_a_level  5290 non-null   float64\n",
      " 37  secondary_cleaner.state.floatbank2_b_air    5288 non-null   float64\n",
      " 38  secondary_cleaner.state.floatbank2_b_level  5290 non-null   float64\n",
      " 39  secondary_cleaner.state.floatbank3_a_air    5281 non-null   float64\n",
      " 40  secondary_cleaner.state.floatbank3_a_level  5290 non-null   float64\n",
      " 41  secondary_cleaner.state.floatbank3_b_air    5290 non-null   float64\n",
      " 42  secondary_cleaner.state.floatbank3_b_level  5290 non-null   float64\n",
      " 43  secondary_cleaner.state.floatbank4_a_air    5290 non-null   float64\n",
      " 44  secondary_cleaner.state.floatbank4_a_level  5290 non-null   float64\n",
      " 45  secondary_cleaner.state.floatbank4_b_air    5290 non-null   float64\n",
      " 46  secondary_cleaner.state.floatbank4_b_level  5290 non-null   float64\n",
      " 47  secondary_cleaner.state.floatbank5_a_air    5290 non-null   float64\n",
      " 48  secondary_cleaner.state.floatbank5_a_level  5290 non-null   float64\n",
      " 49  secondary_cleaner.state.floatbank5_b_air    5290 non-null   float64\n",
      " 50  secondary_cleaner.state.floatbank5_b_level  5290 non-null   float64\n",
      " 51  secondary_cleaner.state.floatbank6_a_air    5290 non-null   float64\n",
      " 52  secondary_cleaner.state.floatbank6_a_level  5290 non-null   float64\n",
      "dtypes: float64(52), object(1)\n",
      "memory usage: 2.1+ MB\n",
      "\u001b[1m\n",
      "Количество пропущенных значений\u001b[0m 90\n",
      "\u001b[1mКоличество дубликатов:\u001b[0m 0\n",
      "\n",
      "\n",
      "\u001b[1m\n",
      "    Общая информация по\u001b[0m \u001b[1mИсходные данные\u001b[0m \n",
      "\n",
      "<class 'pandas.core.frame.DataFrame'>\n",
      "RangeIndex: 19439 entries, 0 to 19438\n",
      "Data columns (total 87 columns):\n",
      " #   Column                                              Non-Null Count  Dtype  \n",
      "---  ------                                              --------------  -----  \n",
      " 0   date                                                19439 non-null  object \n",
      " 1   final.output.concentrate_ag                         19438 non-null  float64\n",
      " 2   final.output.concentrate_pb                         19438 non-null  float64\n",
      " 3   final.output.concentrate_sol                        19228 non-null  float64\n",
      " 4   final.output.concentrate_au                         19439 non-null  float64\n",
      " 5   final.output.recovery                               19439 non-null  float64\n",
      " 6   final.output.tail_ag                                19438 non-null  float64\n",
      " 7   final.output.tail_pb                                19338 non-null  float64\n",
      " 8   final.output.tail_sol                               19433 non-null  float64\n",
      " 9   final.output.tail_au                                19439 non-null  float64\n",
      " 10  primary_cleaner.input.sulfate                       19415 non-null  float64\n",
      " 11  primary_cleaner.input.depressant                    19402 non-null  float64\n",
      " 12  primary_cleaner.input.feed_size                     19439 non-null  float64\n",
      " 13  primary_cleaner.input.xanthate                      19335 non-null  float64\n",
      " 14  primary_cleaner.output.concentrate_ag               19439 non-null  float64\n",
      " 15  primary_cleaner.output.concentrate_pb               19323 non-null  float64\n",
      " 16  primary_cleaner.output.concentrate_sol              19069 non-null  float64\n",
      " 17  primary_cleaner.output.concentrate_au               19439 non-null  float64\n",
      " 18  primary_cleaner.output.tail_ag                      19435 non-null  float64\n",
      " 19  primary_cleaner.output.tail_pb                      19418 non-null  float64\n",
      " 20  primary_cleaner.output.tail_sol                     19377 non-null  float64\n",
      " 21  primary_cleaner.output.tail_au                      19439 non-null  float64\n",
      " 22  primary_cleaner.state.floatbank8_a_air              19435 non-null  float64\n",
      " 23  primary_cleaner.state.floatbank8_a_level            19438 non-null  float64\n",
      " 24  primary_cleaner.state.floatbank8_b_air              19435 non-null  float64\n",
      " 25  primary_cleaner.state.floatbank8_b_level            19438 non-null  float64\n",
      " 26  primary_cleaner.state.floatbank8_c_air              19437 non-null  float64\n",
      " 27  primary_cleaner.state.floatbank8_c_level            19438 non-null  float64\n",
      " 28  primary_cleaner.state.floatbank8_d_air              19436 non-null  float64\n",
      " 29  primary_cleaner.state.floatbank8_d_level            19438 non-null  float64\n",
      " 30  rougher.calculation.sulfate_to_au_concentrate       19437 non-null  float64\n",
      " 31  rougher.calculation.floatbank10_sulfate_to_au_feed  19437 non-null  float64\n",
      " 32  rougher.calculation.floatbank11_sulfate_to_au_feed  19437 non-null  float64\n",
      " 33  rougher.calculation.au_pb_ratio                     19439 non-null  float64\n",
      " 34  rougher.input.feed_ag                               19439 non-null  float64\n",
      " 35  rougher.input.feed_pb                               19339 non-null  float64\n",
      " 36  rougher.input.feed_rate                             19428 non-null  float64\n",
      " 37  rougher.input.feed_size                             19294 non-null  float64\n",
      " 38  rougher.input.feed_sol                              19340 non-null  float64\n",
      " 39  rougher.input.feed_au                               19439 non-null  float64\n",
      " 40  rougher.input.floatbank10_sulfate                   19405 non-null  float64\n",
      " 41  rougher.input.floatbank10_xanthate                  19431 non-null  float64\n",
      " 42  rougher.input.floatbank11_sulfate                   19395 non-null  float64\n",
      " 43  rougher.input.floatbank11_xanthate                  18986 non-null  float64\n",
      " 44  rougher.output.concentrate_ag                       19439 non-null  float64\n",
      " 45  rougher.output.concentrate_pb                       19439 non-null  float64\n",
      " 46  rougher.output.concentrate_sol                      19416 non-null  float64\n",
      " 47  rougher.output.concentrate_au                       19439 non-null  float64\n",
      " 48  rougher.output.recovery                             19439 non-null  float64\n",
      " 49  rougher.output.tail_ag                              19438 non-null  float64\n",
      " 50  rougher.output.tail_pb                              19439 non-null  float64\n",
      " 51  rougher.output.tail_sol                             19439 non-null  float64\n",
      " 52  rougher.output.tail_au                              19439 non-null  float64\n",
      " 53  rougher.state.floatbank10_a_air                     19438 non-null  float64\n",
      " 54  rougher.state.floatbank10_a_level                   19438 non-null  float64\n",
      " 55  rougher.state.floatbank10_b_air                     19438 non-null  float64\n",
      " 56  rougher.state.floatbank10_b_level                   19438 non-null  float64\n",
      " 57  rougher.state.floatbank10_c_air                     19438 non-null  float64\n",
      " 58  rougher.state.floatbank10_c_level                   19438 non-null  float64\n",
      " 59  rougher.state.floatbank10_d_air                     19439 non-null  float64\n",
      " 60  rougher.state.floatbank10_d_level                   19439 non-null  float64\n",
      " 61  rougher.state.floatbank10_e_air                     19003 non-null  float64\n",
      " 62  rougher.state.floatbank10_e_level                   19439 non-null  float64\n",
      " 63  rougher.state.floatbank10_f_air                     19439 non-null  float64\n",
      " 64  rougher.state.floatbank10_f_level                   19439 non-null  float64\n",
      " 65  secondary_cleaner.output.tail_ag                    19437 non-null  float64\n",
      " 66  secondary_cleaner.output.tail_pb                    19427 non-null  float64\n",
      " 67  secondary_cleaner.output.tail_sol                   17691 non-null  float64\n",
      " 68  secondary_cleaner.output.tail_au                    19439 non-null  float64\n",
      " 69  secondary_cleaner.state.floatbank2_a_air            19219 non-null  float64\n",
      " 70  secondary_cleaner.state.floatbank2_a_level          19438 non-null  float64\n",
      " 71  secondary_cleaner.state.floatbank2_b_air            19416 non-null  float64\n",
      " 72  secondary_cleaner.state.floatbank2_b_level          19438 non-null  float64\n",
      " 73  secondary_cleaner.state.floatbank3_a_air            19426 non-null  float64\n",
      " 74  secondary_cleaner.state.floatbank3_a_level          19438 non-null  float64\n",
      " 75  secondary_cleaner.state.floatbank3_b_air            19438 non-null  float64\n",
      " 76  secondary_cleaner.state.floatbank3_b_level          19438 non-null  float64\n",
      " 77  secondary_cleaner.state.floatbank4_a_air            19433 non-null  float64\n",
      " 78  secondary_cleaner.state.floatbank4_a_level          19438 non-null  float64\n",
      " 79  secondary_cleaner.state.floatbank4_b_air            19438 non-null  float64\n",
      " 80  secondary_cleaner.state.floatbank4_b_level          19438 non-null  float64\n",
      " 81  secondary_cleaner.state.floatbank5_a_air            19438 non-null  float64\n",
      " 82  secondary_cleaner.state.floatbank5_a_level          19438 non-null  float64\n",
      " 83  secondary_cleaner.state.floatbank5_b_air            19438 non-null  float64\n",
      " 84  secondary_cleaner.state.floatbank5_b_level          19438 non-null  float64\n",
      " 85  secondary_cleaner.state.floatbank6_a_air            19437 non-null  float64\n",
      " 86  secondary_cleaner.state.floatbank6_a_level          19438 non-null  float64\n",
      "dtypes: float64(86), object(1)\n",
      "memory usage: 12.9+ MB\n",
      "\u001b[1m\n",
      "Количество пропущенных значений\u001b[0m 4481\n",
      "\u001b[1mКоличество дубликатов:\u001b[0m 0\n",
      "\n",
      "\n"
     ]
    }
   ],
   "source": [
    "# Цикл для попеременного вывода информации из функции выше\n",
    "for i in df:\n",
    "    begin(i)"
   ]
  },
  {
   "cell_type": "markdown",
   "metadata": {},
   "source": [
    "Данные содержат информацию по добыче золотосодержащей руды и ее очистке. \n",
    "\n",
    "Технологический процесс\n",
    "- Rougher feed — исходное сырье\n",
    "- Rougher additions (или reagent additions) — флотационные реагенты: Xanthate, Sulphate, Depressant\n",
    "- Xanthate — ксантогенат (промотер, или активатор флотации);\n",
    "- Sulphate — сульфат (на данном производстве сульфид натрия);\n",
    "- Depressant — депрессант (силикат натрия).\n",
    "- Rougher process (англ. «грубый процесс») — флотация\n",
    "- Rougher tails — отвальные хвосты\n",
    "- Float banks — флотационная установка\n",
    "- Cleaner process — очистка\n",
    "- Rougher Au — черновой концентрат золота\n",
    "- Final Au — финальный концентрат золота\n",
    "\n",
    "Параметры этапов\n",
    "- air amount — объём воздуха\n",
    "- fluid levels — уровень жидкости\n",
    "- feed size — размер гранул сырья\n",
    "- feed rate — скорость подачи\n",
    "\n",
    "Наименование признаков\n",
    "Наименование признаков имеет вид: [этап].[тип_параметра].[название_параметра]\n",
    "\n",
    "Пример: rougher.input.feed_ag\n",
    "\n",
    "Возможные значения для блока [этап]:\n",
    "- rougher — флотация\n",
    "- primary_cleaner — первичная очистка\n",
    "- secondary_cleaner — вторичная очистка\n",
    "- final — финальные характеристики\n",
    "\n",
    "Возможные значения для блока [тип_параметра]:\n",
    "\n",
    "- input — параметры сырья\n",
    "- output — параметры продукта\n",
    "- state — параметры, характеризующие текущее состояние этапа\n",
    "- calculation — расчётные характеристики\n",
    "\n",
    "Исходный набор данных состоит из 19439 строк и 87 столбцов. В данных присутсвуют пропущенные значения, дублирующие значения отсутствуют. В обучающей выборке 14149 строк и 87 столбцов. Также присутствуют пропущенные значения, дубликатов нет. В тестовой выборке  - 5290 строк и 53 столбца. Для столбца 'date' необходимо заменить тип данных во всех выборках.\n"
   ]
  },
  {
   "cell_type": "markdown",
   "metadata": {},
   "source": [
    "### Проверьте, что эффективность обогащения рассчитана правильно.\n",
    "Вычислите её на обучающей выборке для признака rougher.output.recovery.\n",
    "Найдите MAE между вашими расчётами и значением признака. Опишите выводы."
   ]
  },
  {
   "cell_type": "markdown",
   "metadata": {},
   "source": [
    "**recovery = ((C*(F-T))/(F*(C-T))*100%,**\n",
    "\n",
    "- С - доля золота концентрате после фильтрации/очитски (rougher.output.concentrate_au)\n",
    "- F - доля золота в сырье/концентрате до флотации/очистки (rougher.input.feed_au)\n",
    "- T - доля золота в отвальных хвостах после фильтрации/очистки (rougher.output.tail_au)\n"
   ]
  },
  {
   "cell_type": "code",
   "execution_count": 8,
   "metadata": {},
   "outputs": [],
   "source": [
    "# Для удобства расчета присвоим каждому обозначению из формулы необходимый столбец\n",
    "c = train_df['rougher.output.concentrate_au']\n",
    "f = train_df['rougher.input.feed_au']\n",
    "t = train_df['rougher.output.tail_au']\n",
    "recovery = ((c*(f-t))/(f*(c-t))) * 100"
   ]
  },
  {
   "cell_type": "code",
   "execution_count": 9,
   "metadata": {},
   "outputs": [
    {
     "name": "stdout",
     "output_type": "stream",
     "text": [
      "MAE - 9.73512347450521e-15\n"
     ]
    }
   ],
   "source": [
    "print('MAE -', mean_absolute_error(recovery, train_df['rougher.output.recovery']))"
   ]
  },
  {
   "cell_type": "markdown",
   "metadata": {},
   "source": [
    "МAE нам показывает несущественное отклонение, что говорит о том, что эффективность обогащения рассчитана правильно."
   ]
  },
  {
   "cell_type": "markdown",
   "metadata": {},
   "source": [
    "### Проанализируйте признаки, недоступные в тестовой выборке.\n",
    "Что это за параметры? К какому типу относятся?"
   ]
  },
  {
   "cell_type": "code",
   "execution_count": 10,
   "metadata": {},
   "outputs": [
    {
     "data": {
      "text/plain": [
       "{'final.output.concentrate_ag',\n",
       " 'final.output.concentrate_au',\n",
       " 'final.output.concentrate_pb',\n",
       " 'final.output.concentrate_sol',\n",
       " 'final.output.recovery',\n",
       " 'final.output.tail_ag',\n",
       " 'final.output.tail_au',\n",
       " 'final.output.tail_pb',\n",
       " 'final.output.tail_sol',\n",
       " 'primary_cleaner.output.concentrate_ag',\n",
       " 'primary_cleaner.output.concentrate_au',\n",
       " 'primary_cleaner.output.concentrate_pb',\n",
       " 'primary_cleaner.output.concentrate_sol',\n",
       " 'primary_cleaner.output.tail_ag',\n",
       " 'primary_cleaner.output.tail_au',\n",
       " 'primary_cleaner.output.tail_pb',\n",
       " 'primary_cleaner.output.tail_sol',\n",
       " 'rougher.calculation.au_pb_ratio',\n",
       " 'rougher.calculation.floatbank10_sulfate_to_au_feed',\n",
       " 'rougher.calculation.floatbank11_sulfate_to_au_feed',\n",
       " 'rougher.calculation.sulfate_to_au_concentrate',\n",
       " 'rougher.output.concentrate_ag',\n",
       " 'rougher.output.concentrate_au',\n",
       " 'rougher.output.concentrate_pb',\n",
       " 'rougher.output.concentrate_sol',\n",
       " 'rougher.output.recovery',\n",
       " 'rougher.output.tail_ag',\n",
       " 'rougher.output.tail_au',\n",
       " 'rougher.output.tail_pb',\n",
       " 'rougher.output.tail_sol',\n",
       " 'secondary_cleaner.output.tail_ag',\n",
       " 'secondary_cleaner.output.tail_au',\n",
       " 'secondary_cleaner.output.tail_pb',\n",
       " 'secondary_cleaner.output.tail_sol'}"
      ]
     },
     "execution_count": 10,
     "metadata": {},
     "output_type": "execute_result"
    }
   ],
   "source": [
    "# пропущенные столбцы в тестовой выборке\n",
    "set(full_df.columns) - set(test_df.columns)"
   ]
  },
  {
   "cell_type": "code",
   "execution_count": 11,
   "metadata": {},
   "outputs": [
    {
     "name": "stdout",
     "output_type": "stream",
     "text": [
      "Количество отсутствующих столбцов в тестовой выборке 34\n"
     ]
    }
   ],
   "source": [
    "print('Количество отсутствующих столбцов в тестовой выборке', len(set(full_df.columns) - set(test_df.columns)))"
   ]
  },
  {
   "cell_type": "markdown",
   "metadata": {},
   "source": [
    "В тестовой выборке отсутствуют все колонки, относящиеся к финальным данным. В основном в тестовой выборке отсутствуют значения типа \"параметры продукта\", и в меньшем количестве значения типа \"расчетные характеристики\". Как было указано в условии задачи, отсутствие признаков можно обьяснить тем, что они замеряются и/или рассчитываются значительно позже.\n",
    "\n",
    "В тестовой выборки в том числе отсутствуют целевые признаки rougher.output.recovery и final.output.recovery. Их необходимо добавить для дальнейшего построения модели и возможности оценить качество построенной модели."
   ]
  },
  {
   "cell_type": "markdown",
   "metadata": {},
   "source": [
    "### Проведите предобработку данных"
   ]
  },
  {
   "cell_type": "markdown",
   "metadata": {},
   "source": [
    "Приведем столбец \"date\" к корректному формату в трех выборках."
   ]
  },
  {
   "cell_type": "code",
   "execution_count": 12,
   "metadata": {},
   "outputs": [],
   "source": [
    "# Функция для приведения столбца 'date'к формату datetime\n",
    "def time(df):\n",
    "    df['date']=pd.to_datetime(df['date'], format='%Y-%m-%d %H:%M:%S')"
   ]
  },
  {
   "cell_type": "code",
   "execution_count": 13,
   "metadata": {},
   "outputs": [
    {
     "name": "stdout",
     "output_type": "stream",
     "text": [
      "datetime64[ns]\n",
      "datetime64[ns]\n",
      "datetime64[ns]\n"
     ]
    }
   ],
   "source": [
    "# Изменение типа столбца в цикле\n",
    "for t in df:\n",
    "    time(t)\n",
    "    print(t['date'].dtypes) # проверка типа "
   ]
  },
  {
   "cell_type": "code",
   "execution_count": 14,
   "metadata": {},
   "outputs": [
    {
     "name": "stdout",
     "output_type": "stream",
     "text": [
      "Количество дублирующих значений: 0\n"
     ]
    }
   ],
   "source": [
    "# Проверка дубликатов в столбце 'date'\n",
    "print('Количество дублирующих значений:', full_df['date'].duplicated().sum())"
   ]
  },
  {
   "cell_type": "markdown",
   "metadata": {},
   "source": [
    "В тестовый датафрейм вставляем целевые признаки, это 'final.output.concentrate_au и 'rougher.output.concentrate_au' при помощи merge()."
   ]
  },
  {
   "cell_type": "code",
   "execution_count": 15,
   "metadata": {},
   "outputs": [],
   "source": [
    "test_df = test_df.merge(full_df[['date', 'rougher.output.recovery', 'final.output.recovery']], on='date', how='left')"
   ]
  },
  {
   "cell_type": "code",
   "execution_count": 16,
   "metadata": {},
   "outputs": [
    {
     "data": {
      "text/plain": [
       "(5290, 55)"
      ]
     },
     "execution_count": 16,
     "metadata": {},
     "output_type": "execute_result"
    }
   ],
   "source": [
    "# проверка количества столбцов и строк\n",
    "test_df.shape"
   ]
  },
  {
   "cell_type": "code",
   "execution_count": 17,
   "metadata": {
    "scrolled": true
   },
   "outputs": [
    {
     "data": {
      "text/plain": [
       "date                                                     0\n",
       "final.output.concentrate_ag                              1\n",
       "final.output.concentrate_pb                              1\n",
       "final.output.concentrate_sol                           211\n",
       "final.output.concentrate_au                              0\n",
       "final.output.recovery                                    0\n",
       "final.output.tail_ag                                     0\n",
       "final.output.tail_pb                                   100\n",
       "final.output.tail_sol                                    5\n",
       "final.output.tail_au                                     0\n",
       "primary_cleaner.input.sulfate                           20\n",
       "primary_cleaner.input.depressant                        32\n",
       "primary_cleaner.input.feed_size                          0\n",
       "primary_cleaner.input.xanthate                         100\n",
       "primary_cleaner.output.concentrate_ag                    0\n",
       "primary_cleaner.output.concentrate_pb                   86\n",
       "primary_cleaner.output.concentrate_sol                 286\n",
       "primary_cleaner.output.concentrate_au                    0\n",
       "primary_cleaner.output.tail_ag                           1\n",
       "primary_cleaner.output.tail_pb                          15\n",
       "primary_cleaner.output.tail_sol                         46\n",
       "primary_cleaner.output.tail_au                           0\n",
       "primary_cleaner.state.floatbank8_a_air                   4\n",
       "primary_cleaner.state.floatbank8_a_level                 1\n",
       "primary_cleaner.state.floatbank8_b_air                   4\n",
       "primary_cleaner.state.floatbank8_b_level                 1\n",
       "primary_cleaner.state.floatbank8_c_air                   2\n",
       "primary_cleaner.state.floatbank8_c_level                 1\n",
       "primary_cleaner.state.floatbank8_d_air                   3\n",
       "primary_cleaner.state.floatbank8_d_level                 1\n",
       "rougher.calculation.sulfate_to_au_concentrate            1\n",
       "rougher.calculation.floatbank10_sulfate_to_au_feed       1\n",
       "rougher.calculation.floatbank11_sulfate_to_au_feed       1\n",
       "rougher.calculation.au_pb_ratio                          0\n",
       "rougher.input.feed_ag                                    0\n",
       "rougher.input.feed_pb                                  100\n",
       "rougher.input.feed_rate                                  8\n",
       "rougher.input.feed_size                                144\n",
       "rougher.input.feed_sol                                  78\n",
       "rougher.input.feed_au                                    0\n",
       "rougher.input.floatbank10_sulfate                       29\n",
       "rougher.input.floatbank10_xanthate                       8\n",
       "rougher.input.floatbank11_sulfate                       36\n",
       "rougher.input.floatbank11_xanthate                     428\n",
       "rougher.output.concentrate_ag                            0\n",
       "rougher.output.concentrate_pb                            0\n",
       "rougher.output.concentrate_sol                          22\n",
       "rougher.output.concentrate_au                            0\n",
       "rougher.output.recovery                                  0\n",
       "rougher.output.tail_ag                                   1\n",
       "rougher.output.tail_pb                                   0\n",
       "rougher.output.tail_sol                                  0\n",
       "rougher.output.tail_au                                   0\n",
       "rougher.state.floatbank10_a_air                          1\n",
       "rougher.state.floatbank10_a_level                        1\n",
       "rougher.state.floatbank10_b_air                          1\n",
       "rougher.state.floatbank10_b_level                        1\n",
       "rougher.state.floatbank10_c_air                          1\n",
       "rougher.state.floatbank10_c_level                        1\n",
       "rougher.state.floatbank10_d_air                          0\n",
       "rougher.state.floatbank10_d_level                        0\n",
       "rougher.state.floatbank10_e_air                        436\n",
       "rougher.state.floatbank10_e_level                        0\n",
       "rougher.state.floatbank10_f_air                          0\n",
       "rougher.state.floatbank10_f_level                        0\n",
       "secondary_cleaner.output.tail_ag                         2\n",
       "secondary_cleaner.output.tail_pb                        10\n",
       "secondary_cleaner.output.tail_sol                     1605\n",
       "secondary_cleaner.output.tail_au                         0\n",
       "secondary_cleaner.state.floatbank2_a_air               217\n",
       "secondary_cleaner.state.floatbank2_a_level               1\n",
       "secondary_cleaner.state.floatbank2_b_air                21\n",
       "secondary_cleaner.state.floatbank2_b_level               1\n",
       "secondary_cleaner.state.floatbank3_a_air                 4\n",
       "secondary_cleaner.state.floatbank3_a_level               1\n",
       "secondary_cleaner.state.floatbank3_b_air                 1\n",
       "secondary_cleaner.state.floatbank3_b_level               1\n",
       "secondary_cleaner.state.floatbank4_a_air                 6\n",
       "secondary_cleaner.state.floatbank4_a_level               1\n",
       "secondary_cleaner.state.floatbank4_b_air                 1\n",
       "secondary_cleaner.state.floatbank4_b_level               1\n",
       "secondary_cleaner.state.floatbank5_a_air                 1\n",
       "secondary_cleaner.state.floatbank5_a_level               1\n",
       "secondary_cleaner.state.floatbank5_b_air                 1\n",
       "secondary_cleaner.state.floatbank5_b_level               1\n",
       "secondary_cleaner.state.floatbank6_a_air                 2\n",
       "secondary_cleaner.state.floatbank6_a_level               1\n",
       "dtype: int64"
      ]
     },
     "execution_count": 17,
     "metadata": {},
     "output_type": "execute_result"
    }
   ],
   "source": [
    "# Пропущенные значения по столбцам\n",
    "pd.set_option('display.max_rows', None)\n",
    "train_df.isna().sum()"
   ]
  },
  {
   "cell_type": "code",
   "execution_count": 18,
   "metadata": {},
   "outputs": [
    {
     "name": "stdout",
     "output_type": "stream",
     "text": [
      "Количество пропущенных значений в обучающей выборке - 4100\n"
     ]
    }
   ],
   "source": [
    "# Всего пропущенных значений\n",
    "print('Количество пропущенных значений в обучающей выборке -',train_df.isna().sum().sum())"
   ]
  },
  {
   "cell_type": "markdown",
   "metadata": {},
   "source": [
    "По условию задачи, данные индексируются датой и временем получения информации (признак date). Соседние по времени параметры часто похожи. Так как данные уже расположены по возрастанию по столбцу \"date\", просто заменим соседними значения предыдущими параметрами."
   ]
  },
  {
   "cell_type": "code",
   "execution_count": 19,
   "metadata": {},
   "outputs": [],
   "source": [
    "# Заменим пропущенные значения соседними\n",
    "train_df = train_df.fillna(method='ffill')"
   ]
  },
  {
   "cell_type": "code",
   "execution_count": 20,
   "metadata": {},
   "outputs": [
    {
     "name": "stdout",
     "output_type": "stream",
     "text": [
      "Пропущенные значения в обучающей выборке: 0\n"
     ]
    }
   ],
   "source": [
    "print('Пропущенные значения в обучающей выборке:',train_df.isna().sum().sum())"
   ]
  },
  {
   "cell_type": "markdown",
   "metadata": {},
   "source": [
    "Методом describe() рассмотрим выбросы по медиане и среднему значению."
   ]
  },
  {
   "cell_type": "code",
   "execution_count": 21,
   "metadata": {},
   "outputs": [
    {
     "data": {
      "text/html": [
       "<div>\n",
       "<style scoped>\n",
       "    .dataframe tbody tr th:only-of-type {\n",
       "        vertical-align: middle;\n",
       "    }\n",
       "\n",
       "    .dataframe tbody tr th {\n",
       "        vertical-align: top;\n",
       "    }\n",
       "\n",
       "    .dataframe thead th {\n",
       "        text-align: right;\n",
       "    }\n",
       "</style>\n",
       "<table border=\"1\" class=\"dataframe\">\n",
       "  <thead>\n",
       "    <tr style=\"text-align: right;\">\n",
       "      <th></th>\n",
       "      <th>final.output.concentrate_ag</th>\n",
       "      <th>final.output.concentrate_pb</th>\n",
       "      <th>final.output.concentrate_sol</th>\n",
       "      <th>final.output.concentrate_au</th>\n",
       "      <th>final.output.recovery</th>\n",
       "      <th>final.output.tail_ag</th>\n",
       "      <th>final.output.tail_pb</th>\n",
       "      <th>final.output.tail_sol</th>\n",
       "      <th>final.output.tail_au</th>\n",
       "      <th>primary_cleaner.input.sulfate</th>\n",
       "      <th>primary_cleaner.input.depressant</th>\n",
       "      <th>primary_cleaner.input.feed_size</th>\n",
       "      <th>primary_cleaner.input.xanthate</th>\n",
       "      <th>primary_cleaner.output.concentrate_ag</th>\n",
       "      <th>primary_cleaner.output.concentrate_pb</th>\n",
       "      <th>primary_cleaner.output.concentrate_sol</th>\n",
       "      <th>primary_cleaner.output.concentrate_au</th>\n",
       "      <th>primary_cleaner.output.tail_ag</th>\n",
       "      <th>primary_cleaner.output.tail_pb</th>\n",
       "      <th>primary_cleaner.output.tail_sol</th>\n",
       "      <th>primary_cleaner.output.tail_au</th>\n",
       "      <th>primary_cleaner.state.floatbank8_a_air</th>\n",
       "      <th>primary_cleaner.state.floatbank8_a_level</th>\n",
       "      <th>primary_cleaner.state.floatbank8_b_air</th>\n",
       "      <th>primary_cleaner.state.floatbank8_b_level</th>\n",
       "      <th>primary_cleaner.state.floatbank8_c_air</th>\n",
       "      <th>primary_cleaner.state.floatbank8_c_level</th>\n",
       "      <th>primary_cleaner.state.floatbank8_d_air</th>\n",
       "      <th>primary_cleaner.state.floatbank8_d_level</th>\n",
       "      <th>rougher.calculation.sulfate_to_au_concentrate</th>\n",
       "      <th>rougher.calculation.floatbank10_sulfate_to_au_feed</th>\n",
       "      <th>rougher.calculation.floatbank11_sulfate_to_au_feed</th>\n",
       "      <th>rougher.calculation.au_pb_ratio</th>\n",
       "      <th>rougher.input.feed_ag</th>\n",
       "      <th>rougher.input.feed_pb</th>\n",
       "      <th>rougher.input.feed_rate</th>\n",
       "      <th>rougher.input.feed_size</th>\n",
       "      <th>rougher.input.feed_sol</th>\n",
       "      <th>rougher.input.feed_au</th>\n",
       "      <th>rougher.input.floatbank10_sulfate</th>\n",
       "      <th>rougher.input.floatbank10_xanthate</th>\n",
       "      <th>rougher.input.floatbank11_sulfate</th>\n",
       "      <th>rougher.input.floatbank11_xanthate</th>\n",
       "      <th>rougher.output.concentrate_ag</th>\n",
       "      <th>rougher.output.concentrate_pb</th>\n",
       "      <th>rougher.output.concentrate_sol</th>\n",
       "      <th>rougher.output.concentrate_au</th>\n",
       "      <th>rougher.output.recovery</th>\n",
       "      <th>rougher.output.tail_ag</th>\n",
       "      <th>rougher.output.tail_pb</th>\n",
       "      <th>rougher.output.tail_sol</th>\n",
       "      <th>rougher.output.tail_au</th>\n",
       "      <th>rougher.state.floatbank10_a_air</th>\n",
       "      <th>rougher.state.floatbank10_a_level</th>\n",
       "      <th>rougher.state.floatbank10_b_air</th>\n",
       "      <th>rougher.state.floatbank10_b_level</th>\n",
       "      <th>rougher.state.floatbank10_c_air</th>\n",
       "      <th>rougher.state.floatbank10_c_level</th>\n",
       "      <th>rougher.state.floatbank10_d_air</th>\n",
       "      <th>rougher.state.floatbank10_d_level</th>\n",
       "      <th>rougher.state.floatbank10_e_air</th>\n",
       "      <th>rougher.state.floatbank10_e_level</th>\n",
       "      <th>rougher.state.floatbank10_f_air</th>\n",
       "      <th>rougher.state.floatbank10_f_level</th>\n",
       "      <th>secondary_cleaner.output.tail_ag</th>\n",
       "      <th>secondary_cleaner.output.tail_pb</th>\n",
       "      <th>secondary_cleaner.output.tail_sol</th>\n",
       "      <th>secondary_cleaner.output.tail_au</th>\n",
       "      <th>secondary_cleaner.state.floatbank2_a_air</th>\n",
       "      <th>secondary_cleaner.state.floatbank2_a_level</th>\n",
       "      <th>secondary_cleaner.state.floatbank2_b_air</th>\n",
       "      <th>secondary_cleaner.state.floatbank2_b_level</th>\n",
       "      <th>secondary_cleaner.state.floatbank3_a_air</th>\n",
       "      <th>secondary_cleaner.state.floatbank3_a_level</th>\n",
       "      <th>secondary_cleaner.state.floatbank3_b_air</th>\n",
       "      <th>secondary_cleaner.state.floatbank3_b_level</th>\n",
       "      <th>secondary_cleaner.state.floatbank4_a_air</th>\n",
       "      <th>secondary_cleaner.state.floatbank4_a_level</th>\n",
       "      <th>secondary_cleaner.state.floatbank4_b_air</th>\n",
       "      <th>secondary_cleaner.state.floatbank4_b_level</th>\n",
       "      <th>secondary_cleaner.state.floatbank5_a_air</th>\n",
       "      <th>secondary_cleaner.state.floatbank5_a_level</th>\n",
       "      <th>secondary_cleaner.state.floatbank5_b_air</th>\n",
       "      <th>secondary_cleaner.state.floatbank5_b_level</th>\n",
       "      <th>secondary_cleaner.state.floatbank6_a_air</th>\n",
       "      <th>secondary_cleaner.state.floatbank6_a_level</th>\n",
       "    </tr>\n",
       "  </thead>\n",
       "  <tbody>\n",
       "    <tr>\n",
       "      <th>count</th>\n",
       "      <td>14149.000000</td>\n",
       "      <td>14149.000000</td>\n",
       "      <td>14149.000000</td>\n",
       "      <td>14149.000000</td>\n",
       "      <td>14149.000000</td>\n",
       "      <td>14149.000000</td>\n",
       "      <td>14149.000000</td>\n",
       "      <td>14149.000000</td>\n",
       "      <td>14149.000000</td>\n",
       "      <td>14149.000000</td>\n",
       "      <td>14149.000000</td>\n",
       "      <td>14149.000000</td>\n",
       "      <td>14149.000000</td>\n",
       "      <td>14149.000000</td>\n",
       "      <td>14149.000000</td>\n",
       "      <td>14149.000000</td>\n",
       "      <td>14149.000000</td>\n",
       "      <td>14149.000000</td>\n",
       "      <td>14149.000000</td>\n",
       "      <td>14149.000000</td>\n",
       "      <td>14149.000000</td>\n",
       "      <td>14149.000000</td>\n",
       "      <td>14149.000000</td>\n",
       "      <td>14149.000000</td>\n",
       "      <td>14149.000000</td>\n",
       "      <td>14149.000000</td>\n",
       "      <td>14149.000000</td>\n",
       "      <td>14149.000000</td>\n",
       "      <td>14149.000000</td>\n",
       "      <td>1.414900e+04</td>\n",
       "      <td>14149.000000</td>\n",
       "      <td>14149.000000</td>\n",
       "      <td>14149.000000</td>\n",
       "      <td>14149.000000</td>\n",
       "      <td>14149.000000</td>\n",
       "      <td>14149.000000</td>\n",
       "      <td>14149.000000</td>\n",
       "      <td>14149.000000</td>\n",
       "      <td>14149.000000</td>\n",
       "      <td>14149.000000</td>\n",
       "      <td>14149.000000</td>\n",
       "      <td>14149.000000</td>\n",
       "      <td>14149.000000</td>\n",
       "      <td>14149.000000</td>\n",
       "      <td>14149.000000</td>\n",
       "      <td>14149.000000</td>\n",
       "      <td>14149.000000</td>\n",
       "      <td>14149.000000</td>\n",
       "      <td>14149.000000</td>\n",
       "      <td>14149.000000</td>\n",
       "      <td>14149.000000</td>\n",
       "      <td>14149.000000</td>\n",
       "      <td>14149.000000</td>\n",
       "      <td>14149.000000</td>\n",
       "      <td>14149.000000</td>\n",
       "      <td>14149.000000</td>\n",
       "      <td>14149.000000</td>\n",
       "      <td>14149.000000</td>\n",
       "      <td>14149.000000</td>\n",
       "      <td>14149.000000</td>\n",
       "      <td>14149.000000</td>\n",
       "      <td>14149.000000</td>\n",
       "      <td>14149.000000</td>\n",
       "      <td>14149.000000</td>\n",
       "      <td>14149.000000</td>\n",
       "      <td>14149.000000</td>\n",
       "      <td>14149.000000</td>\n",
       "      <td>14149.000000</td>\n",
       "      <td>14149.000000</td>\n",
       "      <td>14149.000000</td>\n",
       "      <td>14149.000000</td>\n",
       "      <td>14149.000000</td>\n",
       "      <td>14149.000000</td>\n",
       "      <td>14149.000000</td>\n",
       "      <td>14149.000000</td>\n",
       "      <td>14149.000000</td>\n",
       "      <td>14149.000000</td>\n",
       "      <td>14149.000000</td>\n",
       "      <td>14149.000000</td>\n",
       "      <td>14149.000000</td>\n",
       "      <td>14149.000000</td>\n",
       "      <td>14149.000000</td>\n",
       "      <td>14149.000000</td>\n",
       "      <td>14149.000000</td>\n",
       "      <td>14149.000000</td>\n",
       "      <td>14149.000000</td>\n",
       "    </tr>\n",
       "    <tr>\n",
       "      <th>mean</th>\n",
       "      <td>5.141921</td>\n",
       "      <td>10.132848</td>\n",
       "      <td>9.109311</td>\n",
       "      <td>44.003792</td>\n",
       "      <td>66.518832</td>\n",
       "      <td>9.607035</td>\n",
       "      <td>2.583179</td>\n",
       "      <td>10.510889</td>\n",
       "      <td>2.918421</td>\n",
       "      <td>133.213938</td>\n",
       "      <td>8.855281</td>\n",
       "      <td>7.322310</td>\n",
       "      <td>0.881455</td>\n",
       "      <td>8.200916</td>\n",
       "      <td>9.568544</td>\n",
       "      <td>10.016250</td>\n",
       "      <td>32.386836</td>\n",
       "      <td>16.303752</td>\n",
       "      <td>3.440612</td>\n",
       "      <td>7.522594</td>\n",
       "      <td>3.839637</td>\n",
       "      <td>1608.010260</td>\n",
       "      <td>-488.776276</td>\n",
       "      <td>1608.624449</td>\n",
       "      <td>-489.172523</td>\n",
       "      <td>1608.881920</td>\n",
       "      <td>-489.606288</td>\n",
       "      <td>1542.262260</td>\n",
       "      <td>-483.463589</td>\n",
       "      <td>4.038262e+04</td>\n",
       "      <td>3456.590870</td>\n",
       "      <td>3253.349001</td>\n",
       "      <td>2.367314</td>\n",
       "      <td>8.579195</td>\n",
       "      <td>3.505465</td>\n",
       "      <td>473.938265</td>\n",
       "      <td>60.239856</td>\n",
       "      <td>36.290933</td>\n",
       "      <td>7.866577</td>\n",
       "      <td>11.746225</td>\n",
       "      <td>5.853080</td>\n",
       "      <td>11.368269</td>\n",
       "      <td>5.803930</td>\n",
       "      <td>11.775812</td>\n",
       "      <td>7.664555</td>\n",
       "      <td>28.292820</td>\n",
       "      <td>19.439958</td>\n",
       "      <td>82.704502</td>\n",
       "      <td>5.567238</td>\n",
       "      <td>0.653277</td>\n",
       "      <td>17.882853</td>\n",
       "      <td>1.757473</td>\n",
       "      <td>1124.717520</td>\n",
       "      <td>-369.470105</td>\n",
       "      <td>1320.724794</td>\n",
       "      <td>-464.261562</td>\n",
       "      <td>1299.381782</td>\n",
       "      <td>-465.057320</td>\n",
       "      <td>1210.335236</td>\n",
       "      <td>-465.457377</td>\n",
       "      <td>1084.329957</td>\n",
       "      <td>-464.919119</td>\n",
       "      <td>1035.490299</td>\n",
       "      <td>-464.688631</td>\n",
       "      <td>14.281516</td>\n",
       "      <td>5.846963</td>\n",
       "      <td>6.267120</td>\n",
       "      <td>4.246961</td>\n",
       "      <td>29.685606</td>\n",
       "      <td>-502.223723</td>\n",
       "      <td>24.900592</td>\n",
       "      <td>-503.695352</td>\n",
       "      <td>29.242738</td>\n",
       "      <td>-478.245518</td>\n",
       "      <td>22.656283</td>\n",
       "      <td>-488.924813</td>\n",
       "      <td>19.979788</td>\n",
       "      <td>-478.702912</td>\n",
       "      <td>15.486812</td>\n",
       "      <td>-460.237231</td>\n",
       "      <td>16.774657</td>\n",
       "      <td>-483.957839</td>\n",
       "      <td>13.064236</td>\n",
       "      <td>-483.967726</td>\n",
       "      <td>19.576675</td>\n",
       "      <td>-506.805007</td>\n",
       "    </tr>\n",
       "    <tr>\n",
       "      <th>std</th>\n",
       "      <td>1.369603</td>\n",
       "      <td>1.654925</td>\n",
       "      <td>2.886929</td>\n",
       "      <td>4.905261</td>\n",
       "      <td>10.295402</td>\n",
       "      <td>2.319069</td>\n",
       "      <td>0.983118</td>\n",
       "      <td>3.003888</td>\n",
       "      <td>0.903712</td>\n",
       "      <td>39.604988</td>\n",
       "      <td>3.375435</td>\n",
       "      <td>0.614062</td>\n",
       "      <td>0.375683</td>\n",
       "      <td>2.005185</td>\n",
       "      <td>2.709330</td>\n",
       "      <td>4.110548</td>\n",
       "      <td>5.798843</td>\n",
       "      <td>3.739771</td>\n",
       "      <td>1.491948</td>\n",
       "      <td>2.147520</td>\n",
       "      <td>1.603544</td>\n",
       "      <td>128.381451</td>\n",
       "      <td>35.703034</td>\n",
       "      <td>131.101079</td>\n",
       "      <td>33.603376</td>\n",
       "      <td>134.260578</td>\n",
       "      <td>35.622851</td>\n",
       "      <td>278.383053</td>\n",
       "      <td>47.099473</td>\n",
       "      <td>3.801302e+05</td>\n",
       "      <td>5772.306612</td>\n",
       "      <td>6753.052049</td>\n",
       "      <td>0.873551</td>\n",
       "      <td>1.896284</td>\n",
       "      <td>1.090064</td>\n",
       "      <td>104.137249</td>\n",
       "      <td>23.005310</td>\n",
       "      <td>4.977652</td>\n",
       "      <td>1.919506</td>\n",
       "      <td>3.307977</td>\n",
       "      <td>1.106509</td>\n",
       "      <td>3.798083</td>\n",
       "      <td>1.239005</td>\n",
       "      <td>2.731747</td>\n",
       "      <td>1.856279</td>\n",
       "      <td>6.119659</td>\n",
       "      <td>3.765192</td>\n",
       "      <td>14.479156</td>\n",
       "      <td>1.039188</td>\n",
       "      <td>0.263766</td>\n",
       "      <td>3.432859</td>\n",
       "      <td>0.713187</td>\n",
       "      <td>169.308048</td>\n",
       "      <td>93.955779</td>\n",
       "      <td>183.164531</td>\n",
       "      <td>57.400744</td>\n",
       "      <td>213.411457</td>\n",
       "      <td>55.903513</td>\n",
       "      <td>210.431555</td>\n",
       "      <td>55.771393</td>\n",
       "      <td>186.264888</td>\n",
       "      <td>56.602962</td>\n",
       "      <td>175.052279</td>\n",
       "      <td>56.645965</td>\n",
       "      <td>4.476820</td>\n",
       "      <td>2.862382</td>\n",
       "      <td>4.363892</td>\n",
       "      <td>2.389060</td>\n",
       "      <td>5.812810</td>\n",
       "      <td>60.279579</td>\n",
       "      <td>6.016986</td>\n",
       "      <td>62.835150</td>\n",
       "      <td>5.636710</td>\n",
       "      <td>54.653487</td>\n",
       "      <td>4.995841</td>\n",
       "      <td>41.926730</td>\n",
       "      <td>5.663611</td>\n",
       "      <td>50.739376</td>\n",
       "      <td>5.255555</td>\n",
       "      <td>58.848850</td>\n",
       "      <td>5.831978</td>\n",
       "      <td>37.892065</td>\n",
       "      <td>5.765567</td>\n",
       "      <td>39.206771</td>\n",
       "      <td>5.764496</td>\n",
       "      <td>37.086065</td>\n",
       "    </tr>\n",
       "    <tr>\n",
       "      <th>min</th>\n",
       "      <td>0.000000</td>\n",
       "      <td>0.000000</td>\n",
       "      <td>0.000000</td>\n",
       "      <td>0.000000</td>\n",
       "      <td>0.000000</td>\n",
       "      <td>0.000000</td>\n",
       "      <td>0.000000</td>\n",
       "      <td>0.000000</td>\n",
       "      <td>0.000000</td>\n",
       "      <td>0.003112</td>\n",
       "      <td>0.000000</td>\n",
       "      <td>1.080000</td>\n",
       "      <td>0.000005</td>\n",
       "      <td>0.000000</td>\n",
       "      <td>0.000000</td>\n",
       "      <td>0.000000</td>\n",
       "      <td>0.000000</td>\n",
       "      <td>0.000000</td>\n",
       "      <td>0.000000</td>\n",
       "      <td>0.000000</td>\n",
       "      <td>0.000000</td>\n",
       "      <td>0.006352</td>\n",
       "      <td>-798.641662</td>\n",
       "      <td>0.008700</td>\n",
       "      <td>-740.122129</td>\n",
       "      <td>0.015159</td>\n",
       "      <td>-799.803073</td>\n",
       "      <td>0.008655</td>\n",
       "      <td>-799.788598</td>\n",
       "      <td>-4.223520e+07</td>\n",
       "      <td>-486.598675</td>\n",
       "      <td>-264.982785</td>\n",
       "      <td>-0.010548</td>\n",
       "      <td>0.010000</td>\n",
       "      <td>0.010000</td>\n",
       "      <td>0.012786</td>\n",
       "      <td>9.659576</td>\n",
       "      <td>0.010000</td>\n",
       "      <td>0.010000</td>\n",
       "      <td>0.001083</td>\n",
       "      <td>0.001428</td>\n",
       "      <td>0.000098</td>\n",
       "      <td>0.000290</td>\n",
       "      <td>0.000000</td>\n",
       "      <td>0.000000</td>\n",
       "      <td>0.000000</td>\n",
       "      <td>0.000000</td>\n",
       "      <td>0.000000</td>\n",
       "      <td>0.594562</td>\n",
       "      <td>0.007566</td>\n",
       "      <td>10.014648</td>\n",
       "      <td>0.020676</td>\n",
       "      <td>-0.041078</td>\n",
       "      <td>-650.202881</td>\n",
       "      <td>-0.653384</td>\n",
       "      <td>-650.260008</td>\n",
       "      <td>-0.035112</td>\n",
       "      <td>-640.995627</td>\n",
       "      <td>-0.554299</td>\n",
       "      <td>-640.519003</td>\n",
       "      <td>-1.970275</td>\n",
       "      <td>-649.443911</td>\n",
       "      <td>-2.430587</td>\n",
       "      <td>-649.880981</td>\n",
       "      <td>0.000000</td>\n",
       "      <td>0.000000</td>\n",
       "      <td>0.000000</td>\n",
       "      <td>0.000000</td>\n",
       "      <td>0.077503</td>\n",
       "      <td>-799.606441</td>\n",
       "      <td>0.000000</td>\n",
       "      <td>-799.873878</td>\n",
       "      <td>0.000000</td>\n",
       "      <td>-799.613013</td>\n",
       "      <td>0.000000</td>\n",
       "      <td>-759.177381</td>\n",
       "      <td>0.000000</td>\n",
       "      <td>-799.709069</td>\n",
       "      <td>0.000000</td>\n",
       "      <td>-799.889113</td>\n",
       "      <td>-0.372054</td>\n",
       "      <td>-797.142475</td>\n",
       "      <td>0.646208</td>\n",
       "      <td>-800.006180</td>\n",
       "      <td>0.195324</td>\n",
       "      <td>-809.398668</td>\n",
       "    </tr>\n",
       "    <tr>\n",
       "      <th>25%</th>\n",
       "      <td>4.211500</td>\n",
       "      <td>9.296833</td>\n",
       "      <td>7.422466</td>\n",
       "      <td>43.276111</td>\n",
       "      <td>62.545817</td>\n",
       "      <td>7.997429</td>\n",
       "      <td>1.889827</td>\n",
       "      <td>8.810653</td>\n",
       "      <td>2.368607</td>\n",
       "      <td>106.859801</td>\n",
       "      <td>6.038358</td>\n",
       "      <td>6.960000</td>\n",
       "      <td>0.604805</td>\n",
       "      <td>7.107126</td>\n",
       "      <td>8.315997</td>\n",
       "      <td>7.376454</td>\n",
       "      <td>30.857764</td>\n",
       "      <td>13.872984</td>\n",
       "      <td>2.418536</td>\n",
       "      <td>6.321252</td>\n",
       "      <td>2.867957</td>\n",
       "      <td>1595.695815</td>\n",
       "      <td>-500.287950</td>\n",
       "      <td>1558.959943</td>\n",
       "      <td>-500.375607</td>\n",
       "      <td>1549.873901</td>\n",
       "      <td>-500.601650</td>\n",
       "      <td>1452.697692</td>\n",
       "      <td>-500.459897</td>\n",
       "      <td>3.999439e+04</td>\n",
       "      <td>2527.106558</td>\n",
       "      <td>2512.201006</td>\n",
       "      <td>1.999588</td>\n",
       "      <td>7.132802</td>\n",
       "      <td>2.766515</td>\n",
       "      <td>420.723210</td>\n",
       "      <td>48.966751</td>\n",
       "      <td>34.086892</td>\n",
       "      <td>6.596217</td>\n",
       "      <td>9.842944</td>\n",
       "      <td>5.113485</td>\n",
       "      <td>9.502098</td>\n",
       "      <td>5.096661</td>\n",
       "      <td>10.486871</td>\n",
       "      <td>6.850501</td>\n",
       "      <td>26.696213</td>\n",
       "      <td>18.432161</td>\n",
       "      <td>79.993067</td>\n",
       "      <td>4.921773</td>\n",
       "      <td>0.474047</td>\n",
       "      <td>15.688727</td>\n",
       "      <td>1.310800</td>\n",
       "      <td>999.799195</td>\n",
       "      <td>-499.787788</td>\n",
       "      <td>1199.367169</td>\n",
       "      <td>-500.183146</td>\n",
       "      <td>1103.096392</td>\n",
       "      <td>-500.211811</td>\n",
       "      <td>1059.708509</td>\n",
       "      <td>-500.359197</td>\n",
       "      <td>951.248809</td>\n",
       "      <td>-500.250033</td>\n",
       "      <td>900.966986</td>\n",
       "      <td>-500.476526</td>\n",
       "      <td>12.177541</td>\n",
       "      <td>3.979249</td>\n",
       "      <td>2.152213</td>\n",
       "      <td>3.153122</td>\n",
       "      <td>25.107090</td>\n",
       "      <td>-500.248792</td>\n",
       "      <td>22.043888</td>\n",
       "      <td>-500.270983</td>\n",
       "      <td>24.991662</td>\n",
       "      <td>-500.175043</td>\n",
       "      <td>19.948440</td>\n",
       "      <td>-500.110576</td>\n",
       "      <td>14.990463</td>\n",
       "      <td>-500.628716</td>\n",
       "      <td>11.894590</td>\n",
       "      <td>-500.149141</td>\n",
       "      <td>11.083699</td>\n",
       "      <td>-500.363203</td>\n",
       "      <td>8.994384</td>\n",
       "      <td>-500.105994</td>\n",
       "      <td>14.989244</td>\n",
       "      <td>-500.745309</td>\n",
       "    </tr>\n",
       "    <tr>\n",
       "      <th>50%</th>\n",
       "      <td>4.994607</td>\n",
       "      <td>10.297013</td>\n",
       "      <td>8.801909</td>\n",
       "      <td>44.872436</td>\n",
       "      <td>67.432775</td>\n",
       "      <td>9.480270</td>\n",
       "      <td>2.581476</td>\n",
       "      <td>10.514141</td>\n",
       "      <td>2.851025</td>\n",
       "      <td>132.999290</td>\n",
       "      <td>8.034222</td>\n",
       "      <td>7.290000</td>\n",
       "      <td>0.887473</td>\n",
       "      <td>8.226247</td>\n",
       "      <td>9.920598</td>\n",
       "      <td>9.648025</td>\n",
       "      <td>33.225835</td>\n",
       "      <td>15.800433</td>\n",
       "      <td>3.217161</td>\n",
       "      <td>7.709205</td>\n",
       "      <td>3.510337</td>\n",
       "      <td>1601.827195</td>\n",
       "      <td>-499.909251</td>\n",
       "      <td>1601.820517</td>\n",
       "      <td>-499.937866</td>\n",
       "      <td>1601.574628</td>\n",
       "      <td>-499.871677</td>\n",
       "      <td>1600.168762</td>\n",
       "      <td>-499.831842</td>\n",
       "      <td>4.368392e+04</td>\n",
       "      <td>2976.126894</td>\n",
       "      <td>2899.894252</td>\n",
       "      <td>2.249275</td>\n",
       "      <td>8.156092</td>\n",
       "      <td>3.414267</td>\n",
       "      <td>499.449303</td>\n",
       "      <td>55.269784</td>\n",
       "      <td>37.008684</td>\n",
       "      <td>7.649138</td>\n",
       "      <td>11.661747</td>\n",
       "      <td>5.949895</td>\n",
       "      <td>11.382460</td>\n",
       "      <td>5.992219</td>\n",
       "      <td>11.747362</td>\n",
       "      <td>7.760435</td>\n",
       "      <td>29.254966</td>\n",
       "      <td>19.947312</td>\n",
       "      <td>85.299462</td>\n",
       "      <td>5.722161</td>\n",
       "      <td>0.625805</td>\n",
       "      <td>18.015894</td>\n",
       "      <td>1.745513</td>\n",
       "      <td>1001.682290</td>\n",
       "      <td>-300.175169</td>\n",
       "      <td>1301.367954</td>\n",
       "      <td>-499.764806</td>\n",
       "      <td>1300.214100</td>\n",
       "      <td>-499.682570</td>\n",
       "      <td>1200.744308</td>\n",
       "      <td>-499.465285</td>\n",
       "      <td>1050.158925</td>\n",
       "      <td>-499.611447</td>\n",
       "      <td>1000.053757</td>\n",
       "      <td>-499.364335</td>\n",
       "      <td>15.356812</td>\n",
       "      <td>5.440583</td>\n",
       "      <td>6.184451</td>\n",
       "      <td>3.980210</td>\n",
       "      <td>30.034084</td>\n",
       "      <td>-499.959205</td>\n",
       "      <td>27.022134</td>\n",
       "      <td>-500.014051</td>\n",
       "      <td>28.016464</td>\n",
       "      <td>-499.877836</td>\n",
       "      <td>22.037443</td>\n",
       "      <td>-499.966795</td>\n",
       "      <td>20.001601</td>\n",
       "      <td>-499.681587</td>\n",
       "      <td>14.975474</td>\n",
       "      <td>-499.388853</td>\n",
       "      <td>17.931987</td>\n",
       "      <td>-499.702479</td>\n",
       "      <td>11.997537</td>\n",
       "      <td>-499.914556</td>\n",
       "      <td>19.984165</td>\n",
       "      <td>-500.061488</td>\n",
       "    </tr>\n",
       "    <tr>\n",
       "      <th>75%</th>\n",
       "      <td>5.859495</td>\n",
       "      <td>11.170578</td>\n",
       "      <td>10.452148</td>\n",
       "      <td>46.166425</td>\n",
       "      <td>72.346428</td>\n",
       "      <td>11.003707</td>\n",
       "      <td>3.237211</td>\n",
       "      <td>11.932186</td>\n",
       "      <td>3.434764</td>\n",
       "      <td>159.825396</td>\n",
       "      <td>11.516919</td>\n",
       "      <td>7.700000</td>\n",
       "      <td>1.100079</td>\n",
       "      <td>9.504924</td>\n",
       "      <td>11.298487</td>\n",
       "      <td>12.974629</td>\n",
       "      <td>35.330145</td>\n",
       "      <td>18.450107</td>\n",
       "      <td>4.250882</td>\n",
       "      <td>8.909183</td>\n",
       "      <td>4.492470</td>\n",
       "      <td>1699.716408</td>\n",
       "      <td>-499.378655</td>\n",
       "      <td>1700.214206</td>\n",
       "      <td>-499.389771</td>\n",
       "      <td>1700.465056</td>\n",
       "      <td>-498.801786</td>\n",
       "      <td>1699.359397</td>\n",
       "      <td>-498.480878</td>\n",
       "      <td>4.775946e+04</td>\n",
       "      <td>3716.340219</td>\n",
       "      <td>3596.529278</td>\n",
       "      <td>2.660896</td>\n",
       "      <td>9.918304</td>\n",
       "      <td>4.220115</td>\n",
       "      <td>547.326781</td>\n",
       "      <td>66.007526</td>\n",
       "      <td>39.410720</td>\n",
       "      <td>9.066976</td>\n",
       "      <td>13.584044</td>\n",
       "      <td>6.602486</td>\n",
       "      <td>13.498047</td>\n",
       "      <td>6.642274</td>\n",
       "      <td>13.426419</td>\n",
       "      <td>8.601927</td>\n",
       "      <td>31.743943</td>\n",
       "      <td>21.392714</td>\n",
       "      <td>90.165021</td>\n",
       "      <td>6.310738</td>\n",
       "      <td>0.794326</td>\n",
       "      <td>19.938672</td>\n",
       "      <td>2.186790</td>\n",
       "      <td>1299.505214</td>\n",
       "      <td>-299.963169</td>\n",
       "      <td>1449.559140</td>\n",
       "      <td>-400.425547</td>\n",
       "      <td>1450.353307</td>\n",
       "      <td>-400.664948</td>\n",
       "      <td>1344.378462</td>\n",
       "      <td>-401.052891</td>\n",
       "      <td>1199.903428</td>\n",
       "      <td>-400.596104</td>\n",
       "      <td>1100.165435</td>\n",
       "      <td>-401.014951</td>\n",
       "      <td>17.230072</td>\n",
       "      <td>7.797396</td>\n",
       "      <td>10.291326</td>\n",
       "      <td>4.883943</td>\n",
       "      <td>34.902699</td>\n",
       "      <td>-499.593172</td>\n",
       "      <td>28.939448</td>\n",
       "      <td>-499.763998</td>\n",
       "      <td>34.990058</td>\n",
       "      <td>-437.069363</td>\n",
       "      <td>25.970312</td>\n",
       "      <td>-499.757527</td>\n",
       "      <td>24.990768</td>\n",
       "      <td>-477.486391</td>\n",
       "      <td>20.059286</td>\n",
       "      <td>-400.039047</td>\n",
       "      <td>21.346135</td>\n",
       "      <td>-487.864322</td>\n",
       "      <td>17.982826</td>\n",
       "      <td>-453.274822</td>\n",
       "      <td>24.991615</td>\n",
       "      <td>-499.536481</td>\n",
       "    </tr>\n",
       "    <tr>\n",
       "      <th>max</th>\n",
       "      <td>16.001945</td>\n",
       "      <td>17.031899</td>\n",
       "      <td>18.124851</td>\n",
       "      <td>52.756638</td>\n",
       "      <td>100.000000</td>\n",
       "      <td>19.552149</td>\n",
       "      <td>5.639565</td>\n",
       "      <td>22.317730</td>\n",
       "      <td>8.197408</td>\n",
       "      <td>250.127834</td>\n",
       "      <td>20.052255</td>\n",
       "      <td>10.470000</td>\n",
       "      <td>2.512968</td>\n",
       "      <td>16.081632</td>\n",
       "      <td>17.081278</td>\n",
       "      <td>22.280845</td>\n",
       "      <td>45.933934</td>\n",
       "      <td>29.459575</td>\n",
       "      <td>9.634565</td>\n",
       "      <td>20.620833</td>\n",
       "      <td>17.788925</td>\n",
       "      <td>2079.531340</td>\n",
       "      <td>-330.134203</td>\n",
       "      <td>2114.906758</td>\n",
       "      <td>-347.354380</td>\n",
       "      <td>2013.156457</td>\n",
       "      <td>-346.653450</td>\n",
       "      <td>2398.903635</td>\n",
       "      <td>-30.601828</td>\n",
       "      <td>3.428099e+06</td>\n",
       "      <td>629638.977914</td>\n",
       "      <td>718684.955855</td>\n",
       "      <td>39.379272</td>\n",
       "      <td>14.596026</td>\n",
       "      <td>7.142594</td>\n",
       "      <td>717.508837</td>\n",
       "      <td>484.967466</td>\n",
       "      <td>48.363177</td>\n",
       "      <td>13.126043</td>\n",
       "      <td>36.118275</td>\n",
       "      <td>9.703448</td>\n",
       "      <td>37.980648</td>\n",
       "      <td>9.698407</td>\n",
       "      <td>24.480271</td>\n",
       "      <td>13.617072</td>\n",
       "      <td>38.351193</td>\n",
       "      <td>28.146838</td>\n",
       "      <td>100.000000</td>\n",
       "      <td>12.719177</td>\n",
       "      <td>3.778064</td>\n",
       "      <td>66.117188</td>\n",
       "      <td>9.688980</td>\n",
       "      <td>1521.980372</td>\n",
       "      <td>-281.039299</td>\n",
       "      <td>1809.194008</td>\n",
       "      <td>-296.383080</td>\n",
       "      <td>2499.129174</td>\n",
       "      <td>-292.155509</td>\n",
       "      <td>1817.199290</td>\n",
       "      <td>-208.330673</td>\n",
       "      <td>1922.636637</td>\n",
       "      <td>-272.199598</td>\n",
       "      <td>1706.307502</td>\n",
       "      <td>-191.718480</td>\n",
       "      <td>23.264738</td>\n",
       "      <td>17.042505</td>\n",
       "      <td>17.976171</td>\n",
       "      <td>26.811643</td>\n",
       "      <td>52.651399</td>\n",
       "      <td>-127.875565</td>\n",
       "      <td>35.152122</td>\n",
       "      <td>-212.064665</td>\n",
       "      <td>44.260464</td>\n",
       "      <td>-191.678810</td>\n",
       "      <td>35.072841</td>\n",
       "      <td>-159.742331</td>\n",
       "      <td>30.115735</td>\n",
       "      <td>-245.239184</td>\n",
       "      <td>24.007913</td>\n",
       "      <td>-145.071088</td>\n",
       "      <td>43.709931</td>\n",
       "      <td>-275.073125</td>\n",
       "      <td>27.926001</td>\n",
       "      <td>-157.396071</td>\n",
       "      <td>32.188906</td>\n",
       "      <td>-104.427459</td>\n",
       "    </tr>\n",
       "  </tbody>\n",
       "</table>\n",
       "</div>"
      ],
      "text/plain": [
       "       final.output.concentrate_ag  final.output.concentrate_pb  \\\n",
       "count                 14149.000000                 14149.000000   \n",
       "mean                      5.141921                    10.132848   \n",
       "std                       1.369603                     1.654925   \n",
       "min                       0.000000                     0.000000   \n",
       "25%                       4.211500                     9.296833   \n",
       "50%                       4.994607                    10.297013   \n",
       "75%                       5.859495                    11.170578   \n",
       "max                      16.001945                    17.031899   \n",
       "\n",
       "       final.output.concentrate_sol  final.output.concentrate_au  \\\n",
       "count                  14149.000000                 14149.000000   \n",
       "mean                       9.109311                    44.003792   \n",
       "std                        2.886929                     4.905261   \n",
       "min                        0.000000                     0.000000   \n",
       "25%                        7.422466                    43.276111   \n",
       "50%                        8.801909                    44.872436   \n",
       "75%                       10.452148                    46.166425   \n",
       "max                       18.124851                    52.756638   \n",
       "\n",
       "       final.output.recovery  final.output.tail_ag  final.output.tail_pb  \\\n",
       "count           14149.000000          14149.000000          14149.000000   \n",
       "mean               66.518832              9.607035              2.583179   \n",
       "std                10.295402              2.319069              0.983118   \n",
       "min                 0.000000              0.000000              0.000000   \n",
       "25%                62.545817              7.997429              1.889827   \n",
       "50%                67.432775              9.480270              2.581476   \n",
       "75%                72.346428             11.003707              3.237211   \n",
       "max               100.000000             19.552149              5.639565   \n",
       "\n",
       "       final.output.tail_sol  final.output.tail_au  \\\n",
       "count           14149.000000          14149.000000   \n",
       "mean               10.510889              2.918421   \n",
       "std                 3.003888              0.903712   \n",
       "min                 0.000000              0.000000   \n",
       "25%                 8.810653              2.368607   \n",
       "50%                10.514141              2.851025   \n",
       "75%                11.932186              3.434764   \n",
       "max                22.317730              8.197408   \n",
       "\n",
       "       primary_cleaner.input.sulfate  primary_cleaner.input.depressant  \\\n",
       "count                   14149.000000                      14149.000000   \n",
       "mean                      133.213938                          8.855281   \n",
       "std                        39.604988                          3.375435   \n",
       "min                         0.003112                          0.000000   \n",
       "25%                       106.859801                          6.038358   \n",
       "50%                       132.999290                          8.034222   \n",
       "75%                       159.825396                         11.516919   \n",
       "max                       250.127834                         20.052255   \n",
       "\n",
       "       primary_cleaner.input.feed_size  primary_cleaner.input.xanthate  \\\n",
       "count                     14149.000000                    14149.000000   \n",
       "mean                          7.322310                        0.881455   \n",
       "std                           0.614062                        0.375683   \n",
       "min                           1.080000                        0.000005   \n",
       "25%                           6.960000                        0.604805   \n",
       "50%                           7.290000                        0.887473   \n",
       "75%                           7.700000                        1.100079   \n",
       "max                          10.470000                        2.512968   \n",
       "\n",
       "       primary_cleaner.output.concentrate_ag  \\\n",
       "count                           14149.000000   \n",
       "mean                                8.200916   \n",
       "std                                 2.005185   \n",
       "min                                 0.000000   \n",
       "25%                                 7.107126   \n",
       "50%                                 8.226247   \n",
       "75%                                 9.504924   \n",
       "max                                16.081632   \n",
       "\n",
       "       primary_cleaner.output.concentrate_pb  \\\n",
       "count                           14149.000000   \n",
       "mean                                9.568544   \n",
       "std                                 2.709330   \n",
       "min                                 0.000000   \n",
       "25%                                 8.315997   \n",
       "50%                                 9.920598   \n",
       "75%                                11.298487   \n",
       "max                                17.081278   \n",
       "\n",
       "       primary_cleaner.output.concentrate_sol  \\\n",
       "count                            14149.000000   \n",
       "mean                                10.016250   \n",
       "std                                  4.110548   \n",
       "min                                  0.000000   \n",
       "25%                                  7.376454   \n",
       "50%                                  9.648025   \n",
       "75%                                 12.974629   \n",
       "max                                 22.280845   \n",
       "\n",
       "       primary_cleaner.output.concentrate_au  primary_cleaner.output.tail_ag  \\\n",
       "count                           14149.000000                    14149.000000   \n",
       "mean                               32.386836                       16.303752   \n",
       "std                                 5.798843                        3.739771   \n",
       "min                                 0.000000                        0.000000   \n",
       "25%                                30.857764                       13.872984   \n",
       "50%                                33.225835                       15.800433   \n",
       "75%                                35.330145                       18.450107   \n",
       "max                                45.933934                       29.459575   \n",
       "\n",
       "       primary_cleaner.output.tail_pb  primary_cleaner.output.tail_sol  \\\n",
       "count                    14149.000000                     14149.000000   \n",
       "mean                         3.440612                         7.522594   \n",
       "std                          1.491948                         2.147520   \n",
       "min                          0.000000                         0.000000   \n",
       "25%                          2.418536                         6.321252   \n",
       "50%                          3.217161                         7.709205   \n",
       "75%                          4.250882                         8.909183   \n",
       "max                          9.634565                        20.620833   \n",
       "\n",
       "       primary_cleaner.output.tail_au  primary_cleaner.state.floatbank8_a_air  \\\n",
       "count                    14149.000000                            14149.000000   \n",
       "mean                         3.839637                             1608.010260   \n",
       "std                          1.603544                              128.381451   \n",
       "min                          0.000000                                0.006352   \n",
       "25%                          2.867957                             1595.695815   \n",
       "50%                          3.510337                             1601.827195   \n",
       "75%                          4.492470                             1699.716408   \n",
       "max                         17.788925                             2079.531340   \n",
       "\n",
       "       primary_cleaner.state.floatbank8_a_level  \\\n",
       "count                              14149.000000   \n",
       "mean                                -488.776276   \n",
       "std                                   35.703034   \n",
       "min                                 -798.641662   \n",
       "25%                                 -500.287950   \n",
       "50%                                 -499.909251   \n",
       "75%                                 -499.378655   \n",
       "max                                 -330.134203   \n",
       "\n",
       "       primary_cleaner.state.floatbank8_b_air  \\\n",
       "count                            14149.000000   \n",
       "mean                              1608.624449   \n",
       "std                                131.101079   \n",
       "min                                  0.008700   \n",
       "25%                               1558.959943   \n",
       "50%                               1601.820517   \n",
       "75%                               1700.214206   \n",
       "max                               2114.906758   \n",
       "\n",
       "       primary_cleaner.state.floatbank8_b_level  \\\n",
       "count                              14149.000000   \n",
       "mean                                -489.172523   \n",
       "std                                   33.603376   \n",
       "min                                 -740.122129   \n",
       "25%                                 -500.375607   \n",
       "50%                                 -499.937866   \n",
       "75%                                 -499.389771   \n",
       "max                                 -347.354380   \n",
       "\n",
       "       primary_cleaner.state.floatbank8_c_air  \\\n",
       "count                            14149.000000   \n",
       "mean                              1608.881920   \n",
       "std                                134.260578   \n",
       "min                                  0.015159   \n",
       "25%                               1549.873901   \n",
       "50%                               1601.574628   \n",
       "75%                               1700.465056   \n",
       "max                               2013.156457   \n",
       "\n",
       "       primary_cleaner.state.floatbank8_c_level  \\\n",
       "count                              14149.000000   \n",
       "mean                                -489.606288   \n",
       "std                                   35.622851   \n",
       "min                                 -799.803073   \n",
       "25%                                 -500.601650   \n",
       "50%                                 -499.871677   \n",
       "75%                                 -498.801786   \n",
       "max                                 -346.653450   \n",
       "\n",
       "       primary_cleaner.state.floatbank8_d_air  \\\n",
       "count                            14149.000000   \n",
       "mean                              1542.262260   \n",
       "std                                278.383053   \n",
       "min                                  0.008655   \n",
       "25%                               1452.697692   \n",
       "50%                               1600.168762   \n",
       "75%                               1699.359397   \n",
       "max                               2398.903635   \n",
       "\n",
       "       primary_cleaner.state.floatbank8_d_level  \\\n",
       "count                              14149.000000   \n",
       "mean                                -483.463589   \n",
       "std                                   47.099473   \n",
       "min                                 -799.788598   \n",
       "25%                                 -500.459897   \n",
       "50%                                 -499.831842   \n",
       "75%                                 -498.480878   \n",
       "max                                  -30.601828   \n",
       "\n",
       "       rougher.calculation.sulfate_to_au_concentrate  \\\n",
       "count                                   1.414900e+04   \n",
       "mean                                    4.038262e+04   \n",
       "std                                     3.801302e+05   \n",
       "min                                    -4.223520e+07   \n",
       "25%                                     3.999439e+04   \n",
       "50%                                     4.368392e+04   \n",
       "75%                                     4.775946e+04   \n",
       "max                                     3.428099e+06   \n",
       "\n",
       "       rougher.calculation.floatbank10_sulfate_to_au_feed  \\\n",
       "count                                       14149.000000    \n",
       "mean                                         3456.590870    \n",
       "std                                          5772.306612    \n",
       "min                                          -486.598675    \n",
       "25%                                          2527.106558    \n",
       "50%                                          2976.126894    \n",
       "75%                                          3716.340219    \n",
       "max                                        629638.977914    \n",
       "\n",
       "       rougher.calculation.floatbank11_sulfate_to_au_feed  \\\n",
       "count                                       14149.000000    \n",
       "mean                                         3253.349001    \n",
       "std                                          6753.052049    \n",
       "min                                          -264.982785    \n",
       "25%                                          2512.201006    \n",
       "50%                                          2899.894252    \n",
       "75%                                          3596.529278    \n",
       "max                                        718684.955855    \n",
       "\n",
       "       rougher.calculation.au_pb_ratio  rougher.input.feed_ag  \\\n",
       "count                     14149.000000           14149.000000   \n",
       "mean                          2.367314               8.579195   \n",
       "std                           0.873551               1.896284   \n",
       "min                          -0.010548               0.010000   \n",
       "25%                           1.999588               7.132802   \n",
       "50%                           2.249275               8.156092   \n",
       "75%                           2.660896               9.918304   \n",
       "max                          39.379272              14.596026   \n",
       "\n",
       "       rougher.input.feed_pb  rougher.input.feed_rate  \\\n",
       "count           14149.000000             14149.000000   \n",
       "mean                3.505465               473.938265   \n",
       "std                 1.090064               104.137249   \n",
       "min                 0.010000                 0.012786   \n",
       "25%                 2.766515               420.723210   \n",
       "50%                 3.414267               499.449303   \n",
       "75%                 4.220115               547.326781   \n",
       "max                 7.142594               717.508837   \n",
       "\n",
       "       rougher.input.feed_size  rougher.input.feed_sol  rougher.input.feed_au  \\\n",
       "count             14149.000000            14149.000000           14149.000000   \n",
       "mean                 60.239856               36.290933               7.866577   \n",
       "std                  23.005310                4.977652               1.919506   \n",
       "min                   9.659576                0.010000               0.010000   \n",
       "25%                  48.966751               34.086892               6.596217   \n",
       "50%                  55.269784               37.008684               7.649138   \n",
       "75%                  66.007526               39.410720               9.066976   \n",
       "max                 484.967466               48.363177              13.126043   \n",
       "\n",
       "       rougher.input.floatbank10_sulfate  rougher.input.floatbank10_xanthate  \\\n",
       "count                       14149.000000                        14149.000000   \n",
       "mean                           11.746225                            5.853080   \n",
       "std                             3.307977                            1.106509   \n",
       "min                             0.001083                            0.001428   \n",
       "25%                             9.842944                            5.113485   \n",
       "50%                            11.661747                            5.949895   \n",
       "75%                            13.584044                            6.602486   \n",
       "max                            36.118275                            9.703448   \n",
       "\n",
       "       rougher.input.floatbank11_sulfate  rougher.input.floatbank11_xanthate  \\\n",
       "count                       14149.000000                        14149.000000   \n",
       "mean                           11.368269                            5.803930   \n",
       "std                             3.798083                            1.239005   \n",
       "min                             0.000098                            0.000290   \n",
       "25%                             9.502098                            5.096661   \n",
       "50%                            11.382460                            5.992219   \n",
       "75%                            13.498047                            6.642274   \n",
       "max                            37.980648                            9.698407   \n",
       "\n",
       "       rougher.output.concentrate_ag  rougher.output.concentrate_pb  \\\n",
       "count                   14149.000000                   14149.000000   \n",
       "mean                       11.775812                       7.664555   \n",
       "std                         2.731747                       1.856279   \n",
       "min                         0.000000                       0.000000   \n",
       "25%                        10.486871                       6.850501   \n",
       "50%                        11.747362                       7.760435   \n",
       "75%                        13.426419                       8.601927   \n",
       "max                        24.480271                      13.617072   \n",
       "\n",
       "       rougher.output.concentrate_sol  rougher.output.concentrate_au  \\\n",
       "count                    14149.000000                   14149.000000   \n",
       "mean                        28.292820                      19.439958   \n",
       "std                          6.119659                       3.765192   \n",
       "min                          0.000000                       0.000000   \n",
       "25%                         26.696213                      18.432161   \n",
       "50%                         29.254966                      19.947312   \n",
       "75%                         31.743943                      21.392714   \n",
       "max                         38.351193                      28.146838   \n",
       "\n",
       "       rougher.output.recovery  rougher.output.tail_ag  \\\n",
       "count             14149.000000            14149.000000   \n",
       "mean                 82.704502                5.567238   \n",
       "std                  14.479156                1.039188   \n",
       "min                   0.000000                0.594562   \n",
       "25%                  79.993067                4.921773   \n",
       "50%                  85.299462                5.722161   \n",
       "75%                  90.165021                6.310738   \n",
       "max                 100.000000               12.719177   \n",
       "\n",
       "       rougher.output.tail_pb  rougher.output.tail_sol  \\\n",
       "count            14149.000000             14149.000000   \n",
       "mean                 0.653277                17.882853   \n",
       "std                  0.263766                 3.432859   \n",
       "min                  0.007566                10.014648   \n",
       "25%                  0.474047                15.688727   \n",
       "50%                  0.625805                18.015894   \n",
       "75%                  0.794326                19.938672   \n",
       "max                  3.778064                66.117188   \n",
       "\n",
       "       rougher.output.tail_au  rougher.state.floatbank10_a_air  \\\n",
       "count            14149.000000                     14149.000000   \n",
       "mean                 1.757473                      1124.717520   \n",
       "std                  0.713187                       169.308048   \n",
       "min                  0.020676                        -0.041078   \n",
       "25%                  1.310800                       999.799195   \n",
       "50%                  1.745513                      1001.682290   \n",
       "75%                  2.186790                      1299.505214   \n",
       "max                  9.688980                      1521.980372   \n",
       "\n",
       "       rougher.state.floatbank10_a_level  rougher.state.floatbank10_b_air  \\\n",
       "count                       14149.000000                     14149.000000   \n",
       "mean                         -369.470105                      1320.724794   \n",
       "std                            93.955779                       183.164531   \n",
       "min                          -650.202881                        -0.653384   \n",
       "25%                          -499.787788                      1199.367169   \n",
       "50%                          -300.175169                      1301.367954   \n",
       "75%                          -299.963169                      1449.559140   \n",
       "max                          -281.039299                      1809.194008   \n",
       "\n",
       "       rougher.state.floatbank10_b_level  rougher.state.floatbank10_c_air  \\\n",
       "count                       14149.000000                     14149.000000   \n",
       "mean                         -464.261562                      1299.381782   \n",
       "std                            57.400744                       213.411457   \n",
       "min                          -650.260008                        -0.035112   \n",
       "25%                          -500.183146                      1103.096392   \n",
       "50%                          -499.764806                      1300.214100   \n",
       "75%                          -400.425547                      1450.353307   \n",
       "max                          -296.383080                      2499.129174   \n",
       "\n",
       "       rougher.state.floatbank10_c_level  rougher.state.floatbank10_d_air  \\\n",
       "count                       14149.000000                     14149.000000   \n",
       "mean                         -465.057320                      1210.335236   \n",
       "std                            55.903513                       210.431555   \n",
       "min                          -640.995627                        -0.554299   \n",
       "25%                          -500.211811                      1059.708509   \n",
       "50%                          -499.682570                      1200.744308   \n",
       "75%                          -400.664948                      1344.378462   \n",
       "max                          -292.155509                      1817.199290   \n",
       "\n",
       "       rougher.state.floatbank10_d_level  rougher.state.floatbank10_e_air  \\\n",
       "count                       14149.000000                     14149.000000   \n",
       "mean                         -465.457377                      1084.329957   \n",
       "std                            55.771393                       186.264888   \n",
       "min                          -640.519003                        -1.970275   \n",
       "25%                          -500.359197                       951.248809   \n",
       "50%                          -499.465285                      1050.158925   \n",
       "75%                          -401.052891                      1199.903428   \n",
       "max                          -208.330673                      1922.636637   \n",
       "\n",
       "       rougher.state.floatbank10_e_level  rougher.state.floatbank10_f_air  \\\n",
       "count                       14149.000000                     14149.000000   \n",
       "mean                         -464.919119                      1035.490299   \n",
       "std                            56.602962                       175.052279   \n",
       "min                          -649.443911                        -2.430587   \n",
       "25%                          -500.250033                       900.966986   \n",
       "50%                          -499.611447                      1000.053757   \n",
       "75%                          -400.596104                      1100.165435   \n",
       "max                          -272.199598                      1706.307502   \n",
       "\n",
       "       rougher.state.floatbank10_f_level  secondary_cleaner.output.tail_ag  \\\n",
       "count                       14149.000000                      14149.000000   \n",
       "mean                         -464.688631                         14.281516   \n",
       "std                            56.645965                          4.476820   \n",
       "min                          -649.880981                          0.000000   \n",
       "25%                          -500.476526                         12.177541   \n",
       "50%                          -499.364335                         15.356812   \n",
       "75%                          -401.014951                         17.230072   \n",
       "max                          -191.718480                         23.264738   \n",
       "\n",
       "       secondary_cleaner.output.tail_pb  secondary_cleaner.output.tail_sol  \\\n",
       "count                      14149.000000                       14149.000000   \n",
       "mean                           5.846963                           6.267120   \n",
       "std                            2.862382                           4.363892   \n",
       "min                            0.000000                           0.000000   \n",
       "25%                            3.979249                           2.152213   \n",
       "50%                            5.440583                           6.184451   \n",
       "75%                            7.797396                          10.291326   \n",
       "max                           17.042505                          17.976171   \n",
       "\n",
       "       secondary_cleaner.output.tail_au  \\\n",
       "count                      14149.000000   \n",
       "mean                           4.246961   \n",
       "std                            2.389060   \n",
       "min                            0.000000   \n",
       "25%                            3.153122   \n",
       "50%                            3.980210   \n",
       "75%                            4.883943   \n",
       "max                           26.811643   \n",
       "\n",
       "       secondary_cleaner.state.floatbank2_a_air  \\\n",
       "count                              14149.000000   \n",
       "mean                                  29.685606   \n",
       "std                                    5.812810   \n",
       "min                                    0.077503   \n",
       "25%                                   25.107090   \n",
       "50%                                   30.034084   \n",
       "75%                                   34.902699   \n",
       "max                                   52.651399   \n",
       "\n",
       "       secondary_cleaner.state.floatbank2_a_level  \\\n",
       "count                                14149.000000   \n",
       "mean                                  -502.223723   \n",
       "std                                     60.279579   \n",
       "min                                   -799.606441   \n",
       "25%                                   -500.248792   \n",
       "50%                                   -499.959205   \n",
       "75%                                   -499.593172   \n",
       "max                                   -127.875565   \n",
       "\n",
       "       secondary_cleaner.state.floatbank2_b_air  \\\n",
       "count                              14149.000000   \n",
       "mean                                  24.900592   \n",
       "std                                    6.016986   \n",
       "min                                    0.000000   \n",
       "25%                                   22.043888   \n",
       "50%                                   27.022134   \n",
       "75%                                   28.939448   \n",
       "max                                   35.152122   \n",
       "\n",
       "       secondary_cleaner.state.floatbank2_b_level  \\\n",
       "count                                14149.000000   \n",
       "mean                                  -503.695352   \n",
       "std                                     62.835150   \n",
       "min                                   -799.873878   \n",
       "25%                                   -500.270983   \n",
       "50%                                   -500.014051   \n",
       "75%                                   -499.763998   \n",
       "max                                   -212.064665   \n",
       "\n",
       "       secondary_cleaner.state.floatbank3_a_air  \\\n",
       "count                              14149.000000   \n",
       "mean                                  29.242738   \n",
       "std                                    5.636710   \n",
       "min                                    0.000000   \n",
       "25%                                   24.991662   \n",
       "50%                                   28.016464   \n",
       "75%                                   34.990058   \n",
       "max                                   44.260464   \n",
       "\n",
       "       secondary_cleaner.state.floatbank3_a_level  \\\n",
       "count                                14149.000000   \n",
       "mean                                  -478.245518   \n",
       "std                                     54.653487   \n",
       "min                                   -799.613013   \n",
       "25%                                   -500.175043   \n",
       "50%                                   -499.877836   \n",
       "75%                                   -437.069363   \n",
       "max                                   -191.678810   \n",
       "\n",
       "       secondary_cleaner.state.floatbank3_b_air  \\\n",
       "count                              14149.000000   \n",
       "mean                                  22.656283   \n",
       "std                                    4.995841   \n",
       "min                                    0.000000   \n",
       "25%                                   19.948440   \n",
       "50%                                   22.037443   \n",
       "75%                                   25.970312   \n",
       "max                                   35.072841   \n",
       "\n",
       "       secondary_cleaner.state.floatbank3_b_level  \\\n",
       "count                                14149.000000   \n",
       "mean                                  -488.924813   \n",
       "std                                     41.926730   \n",
       "min                                   -759.177381   \n",
       "25%                                   -500.110576   \n",
       "50%                                   -499.966795   \n",
       "75%                                   -499.757527   \n",
       "max                                   -159.742331   \n",
       "\n",
       "       secondary_cleaner.state.floatbank4_a_air  \\\n",
       "count                              14149.000000   \n",
       "mean                                  19.979788   \n",
       "std                                    5.663611   \n",
       "min                                    0.000000   \n",
       "25%                                   14.990463   \n",
       "50%                                   20.001601   \n",
       "75%                                   24.990768   \n",
       "max                                   30.115735   \n",
       "\n",
       "       secondary_cleaner.state.floatbank4_a_level  \\\n",
       "count                                14149.000000   \n",
       "mean                                  -478.702912   \n",
       "std                                     50.739376   \n",
       "min                                   -799.709069   \n",
       "25%                                   -500.628716   \n",
       "50%                                   -499.681587   \n",
       "75%                                   -477.486391   \n",
       "max                                   -245.239184   \n",
       "\n",
       "       secondary_cleaner.state.floatbank4_b_air  \\\n",
       "count                              14149.000000   \n",
       "mean                                  15.486812   \n",
       "std                                    5.255555   \n",
       "min                                    0.000000   \n",
       "25%                                   11.894590   \n",
       "50%                                   14.975474   \n",
       "75%                                   20.059286   \n",
       "max                                   24.007913   \n",
       "\n",
       "       secondary_cleaner.state.floatbank4_b_level  \\\n",
       "count                                14149.000000   \n",
       "mean                                  -460.237231   \n",
       "std                                     58.848850   \n",
       "min                                   -799.889113   \n",
       "25%                                   -500.149141   \n",
       "50%                                   -499.388853   \n",
       "75%                                   -400.039047   \n",
       "max                                   -145.071088   \n",
       "\n",
       "       secondary_cleaner.state.floatbank5_a_air  \\\n",
       "count                              14149.000000   \n",
       "mean                                  16.774657   \n",
       "std                                    5.831978   \n",
       "min                                   -0.372054   \n",
       "25%                                   11.083699   \n",
       "50%                                   17.931987   \n",
       "75%                                   21.346135   \n",
       "max                                   43.709931   \n",
       "\n",
       "       secondary_cleaner.state.floatbank5_a_level  \\\n",
       "count                                14149.000000   \n",
       "mean                                  -483.957839   \n",
       "std                                     37.892065   \n",
       "min                                   -797.142475   \n",
       "25%                                   -500.363203   \n",
       "50%                                   -499.702479   \n",
       "75%                                   -487.864322   \n",
       "max                                   -275.073125   \n",
       "\n",
       "       secondary_cleaner.state.floatbank5_b_air  \\\n",
       "count                              14149.000000   \n",
       "mean                                  13.064236   \n",
       "std                                    5.765567   \n",
       "min                                    0.646208   \n",
       "25%                                    8.994384   \n",
       "50%                                   11.997537   \n",
       "75%                                   17.982826   \n",
       "max                                   27.926001   \n",
       "\n",
       "       secondary_cleaner.state.floatbank5_b_level  \\\n",
       "count                                14149.000000   \n",
       "mean                                  -483.967726   \n",
       "std                                     39.206771   \n",
       "min                                   -800.006180   \n",
       "25%                                   -500.105994   \n",
       "50%                                   -499.914556   \n",
       "75%                                   -453.274822   \n",
       "max                                   -157.396071   \n",
       "\n",
       "       secondary_cleaner.state.floatbank6_a_air  \\\n",
       "count                              14149.000000   \n",
       "mean                                  19.576675   \n",
       "std                                    5.764496   \n",
       "min                                    0.195324   \n",
       "25%                                   14.989244   \n",
       "50%                                   19.984165   \n",
       "75%                                   24.991615   \n",
       "max                                   32.188906   \n",
       "\n",
       "       secondary_cleaner.state.floatbank6_a_level  \n",
       "count                                14149.000000  \n",
       "mean                                  -506.805007  \n",
       "std                                     37.086065  \n",
       "min                                   -809.398668  \n",
       "25%                                   -500.745309  \n",
       "50%                                   -500.061488  \n",
       "75%                                   -499.536481  \n",
       "max                                   -104.427459  "
      ]
     },
     "execution_count": 21,
     "metadata": {},
     "output_type": "execute_result"
    }
   ],
   "source": [
    "# Описательная статистика для определения выбросов\n",
    "train_df.describe()"
   ]
  },
  {
   "cell_type": "code",
   "execution_count": 22,
   "metadata": {},
   "outputs": [
    {
     "data": {
      "text/html": [
       "<div>\n",
       "<style scoped>\n",
       "    .dataframe tbody tr th:only-of-type {\n",
       "        vertical-align: middle;\n",
       "    }\n",
       "\n",
       "    .dataframe tbody tr th {\n",
       "        vertical-align: top;\n",
       "    }\n",
       "\n",
       "    .dataframe thead th {\n",
       "        text-align: right;\n",
       "    }\n",
       "</style>\n",
       "<table border=\"1\" class=\"dataframe\">\n",
       "  <thead>\n",
       "    <tr style=\"text-align: right;\">\n",
       "      <th></th>\n",
       "      <th>date</th>\n",
       "      <th>final.output.concentrate_ag</th>\n",
       "      <th>final.output.concentrate_pb</th>\n",
       "      <th>final.output.concentrate_sol</th>\n",
       "      <th>final.output.concentrate_au</th>\n",
       "      <th>final.output.recovery</th>\n",
       "      <th>final.output.tail_ag</th>\n",
       "      <th>final.output.tail_pb</th>\n",
       "      <th>final.output.tail_sol</th>\n",
       "      <th>final.output.tail_au</th>\n",
       "      <th>primary_cleaner.input.sulfate</th>\n",
       "      <th>primary_cleaner.input.depressant</th>\n",
       "      <th>primary_cleaner.input.feed_size</th>\n",
       "      <th>primary_cleaner.input.xanthate</th>\n",
       "      <th>primary_cleaner.output.concentrate_ag</th>\n",
       "      <th>primary_cleaner.output.concentrate_pb</th>\n",
       "      <th>primary_cleaner.output.concentrate_sol</th>\n",
       "      <th>primary_cleaner.output.concentrate_au</th>\n",
       "      <th>primary_cleaner.output.tail_ag</th>\n",
       "      <th>primary_cleaner.output.tail_pb</th>\n",
       "      <th>primary_cleaner.output.tail_sol</th>\n",
       "      <th>primary_cleaner.output.tail_au</th>\n",
       "      <th>primary_cleaner.state.floatbank8_a_air</th>\n",
       "      <th>primary_cleaner.state.floatbank8_a_level</th>\n",
       "      <th>primary_cleaner.state.floatbank8_b_air</th>\n",
       "      <th>primary_cleaner.state.floatbank8_b_level</th>\n",
       "      <th>primary_cleaner.state.floatbank8_c_air</th>\n",
       "      <th>primary_cleaner.state.floatbank8_c_level</th>\n",
       "      <th>primary_cleaner.state.floatbank8_d_air</th>\n",
       "      <th>primary_cleaner.state.floatbank8_d_level</th>\n",
       "      <th>rougher.calculation.sulfate_to_au_concentrate</th>\n",
       "      <th>rougher.calculation.floatbank10_sulfate_to_au_feed</th>\n",
       "      <th>rougher.calculation.floatbank11_sulfate_to_au_feed</th>\n",
       "      <th>rougher.calculation.au_pb_ratio</th>\n",
       "      <th>rougher.input.feed_ag</th>\n",
       "      <th>rougher.input.feed_pb</th>\n",
       "      <th>rougher.input.feed_rate</th>\n",
       "      <th>rougher.input.feed_size</th>\n",
       "      <th>rougher.input.feed_sol</th>\n",
       "      <th>rougher.input.feed_au</th>\n",
       "      <th>rougher.input.floatbank10_sulfate</th>\n",
       "      <th>rougher.input.floatbank10_xanthate</th>\n",
       "      <th>rougher.input.floatbank11_sulfate</th>\n",
       "      <th>rougher.input.floatbank11_xanthate</th>\n",
       "      <th>rougher.output.concentrate_ag</th>\n",
       "      <th>rougher.output.concentrate_pb</th>\n",
       "      <th>rougher.output.concentrate_sol</th>\n",
       "      <th>rougher.output.concentrate_au</th>\n",
       "      <th>rougher.output.recovery</th>\n",
       "      <th>rougher.output.tail_ag</th>\n",
       "      <th>rougher.output.tail_pb</th>\n",
       "      <th>rougher.output.tail_sol</th>\n",
       "      <th>rougher.output.tail_au</th>\n",
       "      <th>rougher.state.floatbank10_a_air</th>\n",
       "      <th>rougher.state.floatbank10_a_level</th>\n",
       "      <th>rougher.state.floatbank10_b_air</th>\n",
       "      <th>rougher.state.floatbank10_b_level</th>\n",
       "      <th>rougher.state.floatbank10_c_air</th>\n",
       "      <th>rougher.state.floatbank10_c_level</th>\n",
       "      <th>rougher.state.floatbank10_d_air</th>\n",
       "      <th>rougher.state.floatbank10_d_level</th>\n",
       "      <th>rougher.state.floatbank10_e_air</th>\n",
       "      <th>rougher.state.floatbank10_e_level</th>\n",
       "      <th>rougher.state.floatbank10_f_air</th>\n",
       "      <th>rougher.state.floatbank10_f_level</th>\n",
       "      <th>secondary_cleaner.output.tail_ag</th>\n",
       "      <th>secondary_cleaner.output.tail_pb</th>\n",
       "      <th>secondary_cleaner.output.tail_sol</th>\n",
       "      <th>secondary_cleaner.output.tail_au</th>\n",
       "      <th>secondary_cleaner.state.floatbank2_a_air</th>\n",
       "      <th>secondary_cleaner.state.floatbank2_a_level</th>\n",
       "      <th>secondary_cleaner.state.floatbank2_b_air</th>\n",
       "      <th>secondary_cleaner.state.floatbank2_b_level</th>\n",
       "      <th>secondary_cleaner.state.floatbank3_a_air</th>\n",
       "      <th>secondary_cleaner.state.floatbank3_a_level</th>\n",
       "      <th>secondary_cleaner.state.floatbank3_b_air</th>\n",
       "      <th>secondary_cleaner.state.floatbank3_b_level</th>\n",
       "      <th>secondary_cleaner.state.floatbank4_a_air</th>\n",
       "      <th>secondary_cleaner.state.floatbank4_a_level</th>\n",
       "      <th>secondary_cleaner.state.floatbank4_b_air</th>\n",
       "      <th>secondary_cleaner.state.floatbank4_b_level</th>\n",
       "      <th>secondary_cleaner.state.floatbank5_a_air</th>\n",
       "      <th>secondary_cleaner.state.floatbank5_a_level</th>\n",
       "      <th>secondary_cleaner.state.floatbank5_b_air</th>\n",
       "      <th>secondary_cleaner.state.floatbank5_b_level</th>\n",
       "      <th>secondary_cleaner.state.floatbank6_a_air</th>\n",
       "      <th>secondary_cleaner.state.floatbank6_a_level</th>\n",
       "    </tr>\n",
       "  </thead>\n",
       "  <tbody>\n",
       "    <tr>\n",
       "      <th>2825</th>\n",
       "      <td>2016-06-06 13:59:59</td>\n",
       "      <td>3.132967</td>\n",
       "      <td>9.577148</td>\n",
       "      <td>8.264648</td>\n",
       "      <td>48.166565</td>\n",
       "      <td>46.375447</td>\n",
       "      <td>7.381221</td>\n",
       "      <td>2.456787</td>\n",
       "      <td>10.764648</td>\n",
       "      <td>3.703931</td>\n",
       "      <td>0.832935</td>\n",
       "      <td>8.524928</td>\n",
       "      <td>6.80</td>\n",
       "      <td>0.010702</td>\n",
       "      <td>5.166335</td>\n",
       "      <td>6.413574</td>\n",
       "      <td>5.944824</td>\n",
       "      <td>39.676826</td>\n",
       "      <td>15.297998</td>\n",
       "      <td>2.925537</td>\n",
       "      <td>4.913574</td>\n",
       "      <td>6.151619</td>\n",
       "      <td>1191.181589</td>\n",
       "      <td>-502.140749</td>\n",
       "      <td>1192.766017</td>\n",
       "      <td>-494.615276</td>\n",
       "      <td>1193.561361</td>\n",
       "      <td>-635.561247</td>\n",
       "      <td>1200.953628</td>\n",
       "      <td>-625.788364</td>\n",
       "      <td>653.775774</td>\n",
       "      <td>403.840141</td>\n",
       "      <td>19812.08734</td>\n",
       "      <td>2.190368</td>\n",
       "      <td>7.141677</td>\n",
       "      <td>2.956787</td>\n",
       "      <td>0.160741</td>\n",
       "      <td>50.810210</td>\n",
       "      <td>31.529297</td>\n",
       "      <td>6.476451</td>\n",
       "      <td>0.009081</td>\n",
       "      <td>0.006156</td>\n",
       "      <td>0.159014</td>\n",
       "      <td>4.500595</td>\n",
       "      <td>9.857195</td>\n",
       "      <td>8.139648</td>\n",
       "      <td>35.808594</td>\n",
       "      <td>24.203442</td>\n",
       "      <td>65.876081</td>\n",
       "      <td>6.386770</td>\n",
       "      <td>0.093864</td>\n",
       "      <td>66.117188</td>\n",
       "      <td>2.682953</td>\n",
       "      <td>-0.041078</td>\n",
       "      <td>-650.073062</td>\n",
       "      <td>-0.653384</td>\n",
       "      <td>-549.021821</td>\n",
       "      <td>-0.035112</td>\n",
       "      <td>-548.934082</td>\n",
       "      <td>-0.124766</td>\n",
       "      <td>-558.441874</td>\n",
       "      <td>-1.936877</td>\n",
       "      <td>-643.110973</td>\n",
       "      <td>-2.430587</td>\n",
       "      <td>-649.880981</td>\n",
       "      <td>13.247175</td>\n",
       "      <td>6.851074</td>\n",
       "      <td>11.639648</td>\n",
       "      <td>8.456227</td>\n",
       "      <td>23.086318</td>\n",
       "      <td>-499.837336</td>\n",
       "      <td>16.947328</td>\n",
       "      <td>-785.756057</td>\n",
       "      <td>21.996269</td>\n",
       "      <td>-500.100315</td>\n",
       "      <td>20.935082</td>\n",
       "      <td>-499.733353</td>\n",
       "      <td>10.016232</td>\n",
       "      <td>-591.105501</td>\n",
       "      <td>8.034319</td>\n",
       "      <td>-547.173732</td>\n",
       "      <td>7.957247</td>\n",
       "      <td>-495.834105</td>\n",
       "      <td>6.025972</td>\n",
       "      <td>-500.221367</td>\n",
       "      <td>18.015904</td>\n",
       "      <td>-495.628009</td>\n",
       "    </tr>\n",
       "    <tr>\n",
       "      <th>4819</th>\n",
       "      <td>2017-01-06 19:59:59</td>\n",
       "      <td>3.554558</td>\n",
       "      <td>12.202148</td>\n",
       "      <td>13.827148</td>\n",
       "      <td>44.528214</td>\n",
       "      <td>67.275195</td>\n",
       "      <td>7.958822</td>\n",
       "      <td>4.226074</td>\n",
       "      <td>9.827148</td>\n",
       "      <td>3.199278</td>\n",
       "      <td>179.065103</td>\n",
       "      <td>0.416502</td>\n",
       "      <td>7.79</td>\n",
       "      <td>0.686339</td>\n",
       "      <td>0.000000</td>\n",
       "      <td>0.000000</td>\n",
       "      <td>0.000000</td>\n",
       "      <td>0.000000</td>\n",
       "      <td>14.701225</td>\n",
       "      <td>3.722412</td>\n",
       "      <td>8.764648</td>\n",
       "      <td>3.291831</td>\n",
       "      <td>1854.162080</td>\n",
       "      <td>-615.091268</td>\n",
       "      <td>2114.906758</td>\n",
       "      <td>-593.303764</td>\n",
       "      <td>1779.139349</td>\n",
       "      <td>-799.719089</td>\n",
       "      <td>1388.159640</td>\n",
       "      <td>-600.970547</td>\n",
       "      <td>-3.537621</td>\n",
       "      <td>-0.146087</td>\n",
       "      <td>2.90006</td>\n",
       "      <td>1.690585</td>\n",
       "      <td>7.061728</td>\n",
       "      <td>5.038574</td>\n",
       "      <td>0.137877</td>\n",
       "      <td>46.128772</td>\n",
       "      <td>36.808594</td>\n",
       "      <td>8.518138</td>\n",
       "      <td>0.001613</td>\n",
       "      <td>0.007275</td>\n",
       "      <td>0.009350</td>\n",
       "      <td>5.801900</td>\n",
       "      <td>9.975555</td>\n",
       "      <td>10.452148</td>\n",
       "      <td>31.654297</td>\n",
       "      <td>20.341888</td>\n",
       "      <td>91.792293</td>\n",
       "      <td>4.576932</td>\n",
       "      <td>0.582947</td>\n",
       "      <td>15.202148</td>\n",
       "      <td>1.135672</td>\n",
       "      <td>-0.020059</td>\n",
       "      <td>-650.202881</td>\n",
       "      <td>-0.408072</td>\n",
       "      <td>-650.260008</td>\n",
       "      <td>-0.026301</td>\n",
       "      <td>-640.995627</td>\n",
       "      <td>-0.554299</td>\n",
       "      <td>-593.648790</td>\n",
       "      <td>-1.970275</td>\n",
       "      <td>-634.797810</td>\n",
       "      <td>-2.328641</td>\n",
       "      <td>-649.764418</td>\n",
       "      <td>0.000000</td>\n",
       "      <td>0.000000</td>\n",
       "      <td>0.000000</td>\n",
       "      <td>0.000000</td>\n",
       "      <td>5.103202</td>\n",
       "      <td>-669.511317</td>\n",
       "      <td>0.000000</td>\n",
       "      <td>-791.746224</td>\n",
       "      <td>0.000000</td>\n",
       "      <td>-798.365903</td>\n",
       "      <td>0.000000</td>\n",
       "      <td>-737.708308</td>\n",
       "      <td>0.000000</td>\n",
       "      <td>-530.197868</td>\n",
       "      <td>0.000000</td>\n",
       "      <td>-799.619081</td>\n",
       "      <td>-0.112612</td>\n",
       "      <td>-792.794538</td>\n",
       "      <td>0.646208</td>\n",
       "      <td>-515.392892</td>\n",
       "      <td>0.238511</td>\n",
       "      <td>-809.398668</td>\n",
       "    </tr>\n",
       "  </tbody>\n",
       "</table>\n",
       "</div>"
      ],
      "text/plain": [
       "                    date  final.output.concentrate_ag  \\\n",
       "2825 2016-06-06 13:59:59                     3.132967   \n",
       "4819 2017-01-06 19:59:59                     3.554558   \n",
       "\n",
       "      final.output.concentrate_pb  final.output.concentrate_sol  \\\n",
       "2825                     9.577148                      8.264648   \n",
       "4819                    12.202148                     13.827148   \n",
       "\n",
       "      final.output.concentrate_au  final.output.recovery  \\\n",
       "2825                    48.166565              46.375447   \n",
       "4819                    44.528214              67.275195   \n",
       "\n",
       "      final.output.tail_ag  final.output.tail_pb  final.output.tail_sol  \\\n",
       "2825              7.381221              2.456787              10.764648   \n",
       "4819              7.958822              4.226074               9.827148   \n",
       "\n",
       "      final.output.tail_au  primary_cleaner.input.sulfate  \\\n",
       "2825              3.703931                       0.832935   \n",
       "4819              3.199278                     179.065103   \n",
       "\n",
       "      primary_cleaner.input.depressant  primary_cleaner.input.feed_size  \\\n",
       "2825                          8.524928                             6.80   \n",
       "4819                          0.416502                             7.79   \n",
       "\n",
       "      primary_cleaner.input.xanthate  primary_cleaner.output.concentrate_ag  \\\n",
       "2825                        0.010702                               5.166335   \n",
       "4819                        0.686339                               0.000000   \n",
       "\n",
       "      primary_cleaner.output.concentrate_pb  \\\n",
       "2825                               6.413574   \n",
       "4819                               0.000000   \n",
       "\n",
       "      primary_cleaner.output.concentrate_sol  \\\n",
       "2825                                5.944824   \n",
       "4819                                0.000000   \n",
       "\n",
       "      primary_cleaner.output.concentrate_au  primary_cleaner.output.tail_ag  \\\n",
       "2825                              39.676826                       15.297998   \n",
       "4819                               0.000000                       14.701225   \n",
       "\n",
       "      primary_cleaner.output.tail_pb  primary_cleaner.output.tail_sol  \\\n",
       "2825                        2.925537                         4.913574   \n",
       "4819                        3.722412                         8.764648   \n",
       "\n",
       "      primary_cleaner.output.tail_au  primary_cleaner.state.floatbank8_a_air  \\\n",
       "2825                        6.151619                             1191.181589   \n",
       "4819                        3.291831                             1854.162080   \n",
       "\n",
       "      primary_cleaner.state.floatbank8_a_level  \\\n",
       "2825                               -502.140749   \n",
       "4819                               -615.091268   \n",
       "\n",
       "      primary_cleaner.state.floatbank8_b_air  \\\n",
       "2825                             1192.766017   \n",
       "4819                             2114.906758   \n",
       "\n",
       "      primary_cleaner.state.floatbank8_b_level  \\\n",
       "2825                               -494.615276   \n",
       "4819                               -593.303764   \n",
       "\n",
       "      primary_cleaner.state.floatbank8_c_air  \\\n",
       "2825                             1193.561361   \n",
       "4819                             1779.139349   \n",
       "\n",
       "      primary_cleaner.state.floatbank8_c_level  \\\n",
       "2825                               -635.561247   \n",
       "4819                               -799.719089   \n",
       "\n",
       "      primary_cleaner.state.floatbank8_d_air  \\\n",
       "2825                             1200.953628   \n",
       "4819                             1388.159640   \n",
       "\n",
       "      primary_cleaner.state.floatbank8_d_level  \\\n",
       "2825                               -625.788364   \n",
       "4819                               -600.970547   \n",
       "\n",
       "      rougher.calculation.sulfate_to_au_concentrate  \\\n",
       "2825                                     653.775774   \n",
       "4819                                      -3.537621   \n",
       "\n",
       "      rougher.calculation.floatbank10_sulfate_to_au_feed  \\\n",
       "2825                                         403.840141    \n",
       "4819                                          -0.146087    \n",
       "\n",
       "      rougher.calculation.floatbank11_sulfate_to_au_feed  \\\n",
       "2825                                        19812.08734    \n",
       "4819                                            2.90006    \n",
       "\n",
       "      rougher.calculation.au_pb_ratio  rougher.input.feed_ag  \\\n",
       "2825                         2.190368               7.141677   \n",
       "4819                         1.690585               7.061728   \n",
       "\n",
       "      rougher.input.feed_pb  rougher.input.feed_rate  rougher.input.feed_size  \\\n",
       "2825               2.956787                 0.160741                50.810210   \n",
       "4819               5.038574                 0.137877                46.128772   \n",
       "\n",
       "      rougher.input.feed_sol  rougher.input.feed_au  \\\n",
       "2825               31.529297               6.476451   \n",
       "4819               36.808594               8.518138   \n",
       "\n",
       "      rougher.input.floatbank10_sulfate  rougher.input.floatbank10_xanthate  \\\n",
       "2825                           0.009081                            0.006156   \n",
       "4819                           0.001613                            0.007275   \n",
       "\n",
       "      rougher.input.floatbank11_sulfate  rougher.input.floatbank11_xanthate  \\\n",
       "2825                           0.159014                            4.500595   \n",
       "4819                           0.009350                            5.801900   \n",
       "\n",
       "      rougher.output.concentrate_ag  rougher.output.concentrate_pb  \\\n",
       "2825                       9.857195                       8.139648   \n",
       "4819                       9.975555                      10.452148   \n",
       "\n",
       "      rougher.output.concentrate_sol  rougher.output.concentrate_au  \\\n",
       "2825                       35.808594                      24.203442   \n",
       "4819                       31.654297                      20.341888   \n",
       "\n",
       "      rougher.output.recovery  rougher.output.tail_ag  rougher.output.tail_pb  \\\n",
       "2825                65.876081                6.386770                0.093864   \n",
       "4819                91.792293                4.576932                0.582947   \n",
       "\n",
       "      rougher.output.tail_sol  rougher.output.tail_au  \\\n",
       "2825                66.117188                2.682953   \n",
       "4819                15.202148                1.135672   \n",
       "\n",
       "      rougher.state.floatbank10_a_air  rougher.state.floatbank10_a_level  \\\n",
       "2825                        -0.041078                        -650.073062   \n",
       "4819                        -0.020059                        -650.202881   \n",
       "\n",
       "      rougher.state.floatbank10_b_air  rougher.state.floatbank10_b_level  \\\n",
       "2825                        -0.653384                        -549.021821   \n",
       "4819                        -0.408072                        -650.260008   \n",
       "\n",
       "      rougher.state.floatbank10_c_air  rougher.state.floatbank10_c_level  \\\n",
       "2825                        -0.035112                        -548.934082   \n",
       "4819                        -0.026301                        -640.995627   \n",
       "\n",
       "      rougher.state.floatbank10_d_air  rougher.state.floatbank10_d_level  \\\n",
       "2825                        -0.124766                        -558.441874   \n",
       "4819                        -0.554299                        -593.648790   \n",
       "\n",
       "      rougher.state.floatbank10_e_air  rougher.state.floatbank10_e_level  \\\n",
       "2825                        -1.936877                        -643.110973   \n",
       "4819                        -1.970275                        -634.797810   \n",
       "\n",
       "      rougher.state.floatbank10_f_air  rougher.state.floatbank10_f_level  \\\n",
       "2825                        -2.430587                        -649.880981   \n",
       "4819                        -2.328641                        -649.764418   \n",
       "\n",
       "      secondary_cleaner.output.tail_ag  secondary_cleaner.output.tail_pb  \\\n",
       "2825                         13.247175                          6.851074   \n",
       "4819                          0.000000                          0.000000   \n",
       "\n",
       "      secondary_cleaner.output.tail_sol  secondary_cleaner.output.tail_au  \\\n",
       "2825                          11.639648                          8.456227   \n",
       "4819                           0.000000                          0.000000   \n",
       "\n",
       "      secondary_cleaner.state.floatbank2_a_air  \\\n",
       "2825                                 23.086318   \n",
       "4819                                  5.103202   \n",
       "\n",
       "      secondary_cleaner.state.floatbank2_a_level  \\\n",
       "2825                                 -499.837336   \n",
       "4819                                 -669.511317   \n",
       "\n",
       "      secondary_cleaner.state.floatbank2_b_air  \\\n",
       "2825                                 16.947328   \n",
       "4819                                  0.000000   \n",
       "\n",
       "      secondary_cleaner.state.floatbank2_b_level  \\\n",
       "2825                                 -785.756057   \n",
       "4819                                 -791.746224   \n",
       "\n",
       "      secondary_cleaner.state.floatbank3_a_air  \\\n",
       "2825                                 21.996269   \n",
       "4819                                  0.000000   \n",
       "\n",
       "      secondary_cleaner.state.floatbank3_a_level  \\\n",
       "2825                                 -500.100315   \n",
       "4819                                 -798.365903   \n",
       "\n",
       "      secondary_cleaner.state.floatbank3_b_air  \\\n",
       "2825                                 20.935082   \n",
       "4819                                  0.000000   \n",
       "\n",
       "      secondary_cleaner.state.floatbank3_b_level  \\\n",
       "2825                                 -499.733353   \n",
       "4819                                 -737.708308   \n",
       "\n",
       "      secondary_cleaner.state.floatbank4_a_air  \\\n",
       "2825                                 10.016232   \n",
       "4819                                  0.000000   \n",
       "\n",
       "      secondary_cleaner.state.floatbank4_a_level  \\\n",
       "2825                                 -591.105501   \n",
       "4819                                 -530.197868   \n",
       "\n",
       "      secondary_cleaner.state.floatbank4_b_air  \\\n",
       "2825                                  8.034319   \n",
       "4819                                  0.000000   \n",
       "\n",
       "      secondary_cleaner.state.floatbank4_b_level  \\\n",
       "2825                                 -547.173732   \n",
       "4819                                 -799.619081   \n",
       "\n",
       "      secondary_cleaner.state.floatbank5_a_air  \\\n",
       "2825                                  7.957247   \n",
       "4819                                 -0.112612   \n",
       "\n",
       "      secondary_cleaner.state.floatbank5_a_level  \\\n",
       "2825                                 -495.834105   \n",
       "4819                                 -792.794538   \n",
       "\n",
       "      secondary_cleaner.state.floatbank5_b_air  \\\n",
       "2825                                  6.025972   \n",
       "4819                                  0.646208   \n",
       "\n",
       "      secondary_cleaner.state.floatbank5_b_level  \\\n",
       "2825                                 -500.221367   \n",
       "4819                                 -515.392892   \n",
       "\n",
       "      secondary_cleaner.state.floatbank6_a_air  \\\n",
       "2825                                 18.015904   \n",
       "4819                                  0.238511   \n",
       "\n",
       "      secondary_cleaner.state.floatbank6_a_level  \n",
       "2825                                 -495.628009  \n",
       "4819                                 -809.398668  "
      ]
     },
     "execution_count": 22,
     "metadata": {},
     "output_type": "execute_result"
    }
   ],
   "source": [
    "train_df[train_df['rougher.state.floatbank10_c_air']<1]"
   ]
  },
  {
   "cell_type": "code",
   "execution_count": 23,
   "metadata": {},
   "outputs": [
    {
     "data": {
      "text/html": [
       "<div>\n",
       "<style scoped>\n",
       "    .dataframe tbody tr th:only-of-type {\n",
       "        vertical-align: middle;\n",
       "    }\n",
       "\n",
       "    .dataframe tbody tr th {\n",
       "        vertical-align: top;\n",
       "    }\n",
       "\n",
       "    .dataframe thead th {\n",
       "        text-align: right;\n",
       "    }\n",
       "</style>\n",
       "<table border=\"1\" class=\"dataframe\">\n",
       "  <thead>\n",
       "    <tr style=\"text-align: right;\">\n",
       "      <th></th>\n",
       "      <th>date</th>\n",
       "      <th>final.output.concentrate_ag</th>\n",
       "      <th>final.output.concentrate_pb</th>\n",
       "      <th>final.output.concentrate_sol</th>\n",
       "      <th>final.output.concentrate_au</th>\n",
       "      <th>final.output.recovery</th>\n",
       "      <th>final.output.tail_ag</th>\n",
       "      <th>final.output.tail_pb</th>\n",
       "      <th>final.output.tail_sol</th>\n",
       "      <th>final.output.tail_au</th>\n",
       "      <th>primary_cleaner.input.sulfate</th>\n",
       "      <th>primary_cleaner.input.depressant</th>\n",
       "      <th>primary_cleaner.input.feed_size</th>\n",
       "      <th>primary_cleaner.input.xanthate</th>\n",
       "      <th>primary_cleaner.output.concentrate_ag</th>\n",
       "      <th>primary_cleaner.output.concentrate_pb</th>\n",
       "      <th>primary_cleaner.output.concentrate_sol</th>\n",
       "      <th>primary_cleaner.output.concentrate_au</th>\n",
       "      <th>primary_cleaner.output.tail_ag</th>\n",
       "      <th>primary_cleaner.output.tail_pb</th>\n",
       "      <th>primary_cleaner.output.tail_sol</th>\n",
       "      <th>primary_cleaner.output.tail_au</th>\n",
       "      <th>primary_cleaner.state.floatbank8_a_air</th>\n",
       "      <th>primary_cleaner.state.floatbank8_a_level</th>\n",
       "      <th>primary_cleaner.state.floatbank8_b_air</th>\n",
       "      <th>primary_cleaner.state.floatbank8_b_level</th>\n",
       "      <th>primary_cleaner.state.floatbank8_c_air</th>\n",
       "      <th>primary_cleaner.state.floatbank8_c_level</th>\n",
       "      <th>primary_cleaner.state.floatbank8_d_air</th>\n",
       "      <th>primary_cleaner.state.floatbank8_d_level</th>\n",
       "      <th>rougher.calculation.sulfate_to_au_concentrate</th>\n",
       "      <th>rougher.calculation.floatbank10_sulfate_to_au_feed</th>\n",
       "      <th>rougher.calculation.floatbank11_sulfate_to_au_feed</th>\n",
       "      <th>rougher.calculation.au_pb_ratio</th>\n",
       "      <th>rougher.input.feed_ag</th>\n",
       "      <th>rougher.input.feed_pb</th>\n",
       "      <th>rougher.input.feed_rate</th>\n",
       "      <th>rougher.input.feed_size</th>\n",
       "      <th>rougher.input.feed_sol</th>\n",
       "      <th>rougher.input.feed_au</th>\n",
       "      <th>rougher.input.floatbank10_sulfate</th>\n",
       "      <th>rougher.input.floatbank10_xanthate</th>\n",
       "      <th>rougher.input.floatbank11_sulfate</th>\n",
       "      <th>rougher.input.floatbank11_xanthate</th>\n",
       "      <th>rougher.output.concentrate_ag</th>\n",
       "      <th>rougher.output.concentrate_pb</th>\n",
       "      <th>rougher.output.concentrate_sol</th>\n",
       "      <th>rougher.output.concentrate_au</th>\n",
       "      <th>rougher.output.recovery</th>\n",
       "      <th>rougher.output.tail_ag</th>\n",
       "      <th>rougher.output.tail_pb</th>\n",
       "      <th>rougher.output.tail_sol</th>\n",
       "      <th>rougher.output.tail_au</th>\n",
       "      <th>rougher.state.floatbank10_a_air</th>\n",
       "      <th>rougher.state.floatbank10_a_level</th>\n",
       "      <th>rougher.state.floatbank10_b_air</th>\n",
       "      <th>rougher.state.floatbank10_b_level</th>\n",
       "      <th>rougher.state.floatbank10_c_air</th>\n",
       "      <th>rougher.state.floatbank10_c_level</th>\n",
       "      <th>rougher.state.floatbank10_d_air</th>\n",
       "      <th>rougher.state.floatbank10_d_level</th>\n",
       "      <th>rougher.state.floatbank10_e_air</th>\n",
       "      <th>rougher.state.floatbank10_e_level</th>\n",
       "      <th>rougher.state.floatbank10_f_air</th>\n",
       "      <th>rougher.state.floatbank10_f_level</th>\n",
       "      <th>secondary_cleaner.output.tail_ag</th>\n",
       "      <th>secondary_cleaner.output.tail_pb</th>\n",
       "      <th>secondary_cleaner.output.tail_sol</th>\n",
       "      <th>secondary_cleaner.output.tail_au</th>\n",
       "      <th>secondary_cleaner.state.floatbank2_a_air</th>\n",
       "      <th>secondary_cleaner.state.floatbank2_a_level</th>\n",
       "      <th>secondary_cleaner.state.floatbank2_b_air</th>\n",
       "      <th>secondary_cleaner.state.floatbank2_b_level</th>\n",
       "      <th>secondary_cleaner.state.floatbank3_a_air</th>\n",
       "      <th>secondary_cleaner.state.floatbank3_a_level</th>\n",
       "      <th>secondary_cleaner.state.floatbank3_b_air</th>\n",
       "      <th>secondary_cleaner.state.floatbank3_b_level</th>\n",
       "      <th>secondary_cleaner.state.floatbank4_a_air</th>\n",
       "      <th>secondary_cleaner.state.floatbank4_a_level</th>\n",
       "      <th>secondary_cleaner.state.floatbank4_b_air</th>\n",
       "      <th>secondary_cleaner.state.floatbank4_b_level</th>\n",
       "      <th>secondary_cleaner.state.floatbank5_a_air</th>\n",
       "      <th>secondary_cleaner.state.floatbank5_a_level</th>\n",
       "      <th>secondary_cleaner.state.floatbank5_b_air</th>\n",
       "      <th>secondary_cleaner.state.floatbank5_b_level</th>\n",
       "      <th>secondary_cleaner.state.floatbank6_a_air</th>\n",
       "      <th>secondary_cleaner.state.floatbank6_a_level</th>\n",
       "    </tr>\n",
       "  </thead>\n",
       "  <tbody>\n",
       "    <tr>\n",
       "      <th>2825</th>\n",
       "      <td>2016-06-06 13:59:59</td>\n",
       "      <td>3.132967</td>\n",
       "      <td>9.577148</td>\n",
       "      <td>8.264648</td>\n",
       "      <td>48.166565</td>\n",
       "      <td>46.375447</td>\n",
       "      <td>7.381221</td>\n",
       "      <td>2.456787</td>\n",
       "      <td>10.764648</td>\n",
       "      <td>3.703931</td>\n",
       "      <td>0.832935</td>\n",
       "      <td>8.524928</td>\n",
       "      <td>6.80</td>\n",
       "      <td>0.010702</td>\n",
       "      <td>5.166335</td>\n",
       "      <td>6.413574</td>\n",
       "      <td>5.944824</td>\n",
       "      <td>39.676826</td>\n",
       "      <td>15.297998</td>\n",
       "      <td>2.925537</td>\n",
       "      <td>4.913574</td>\n",
       "      <td>6.151619</td>\n",
       "      <td>1191.181589</td>\n",
       "      <td>-502.140749</td>\n",
       "      <td>1192.766017</td>\n",
       "      <td>-494.615276</td>\n",
       "      <td>1193.561361</td>\n",
       "      <td>-635.561247</td>\n",
       "      <td>1200.953628</td>\n",
       "      <td>-625.788364</td>\n",
       "      <td>653.775774</td>\n",
       "      <td>403.840141</td>\n",
       "      <td>19812.08734</td>\n",
       "      <td>2.190368</td>\n",
       "      <td>7.141677</td>\n",
       "      <td>2.956787</td>\n",
       "      <td>0.160741</td>\n",
       "      <td>50.810210</td>\n",
       "      <td>31.529297</td>\n",
       "      <td>6.476451</td>\n",
       "      <td>0.009081</td>\n",
       "      <td>0.006156</td>\n",
       "      <td>0.159014</td>\n",
       "      <td>4.500595</td>\n",
       "      <td>9.857195</td>\n",
       "      <td>8.139648</td>\n",
       "      <td>35.808594</td>\n",
       "      <td>24.203442</td>\n",
       "      <td>65.876081</td>\n",
       "      <td>6.386770</td>\n",
       "      <td>0.093864</td>\n",
       "      <td>66.117188</td>\n",
       "      <td>2.682953</td>\n",
       "      <td>-0.041078</td>\n",
       "      <td>-650.073062</td>\n",
       "      <td>-0.653384</td>\n",
       "      <td>-549.021821</td>\n",
       "      <td>-0.035112</td>\n",
       "      <td>-548.934082</td>\n",
       "      <td>-0.124766</td>\n",
       "      <td>-558.441874</td>\n",
       "      <td>-1.936877</td>\n",
       "      <td>-643.110973</td>\n",
       "      <td>-2.430587</td>\n",
       "      <td>-649.880981</td>\n",
       "      <td>13.247175</td>\n",
       "      <td>6.851074</td>\n",
       "      <td>11.639648</td>\n",
       "      <td>8.456227</td>\n",
       "      <td>23.086318</td>\n",
       "      <td>-499.837336</td>\n",
       "      <td>16.947328</td>\n",
       "      <td>-785.756057</td>\n",
       "      <td>21.996269</td>\n",
       "      <td>-500.100315</td>\n",
       "      <td>20.935082</td>\n",
       "      <td>-499.733353</td>\n",
       "      <td>10.016232</td>\n",
       "      <td>-591.105501</td>\n",
       "      <td>8.034319</td>\n",
       "      <td>-547.173732</td>\n",
       "      <td>7.957247</td>\n",
       "      <td>-495.834105</td>\n",
       "      <td>6.025972</td>\n",
       "      <td>-500.221367</td>\n",
       "      <td>18.015904</td>\n",
       "      <td>-495.628009</td>\n",
       "    </tr>\n",
       "    <tr>\n",
       "      <th>4819</th>\n",
       "      <td>2017-01-06 19:59:59</td>\n",
       "      <td>3.554558</td>\n",
       "      <td>12.202148</td>\n",
       "      <td>13.827148</td>\n",
       "      <td>44.528214</td>\n",
       "      <td>67.275195</td>\n",
       "      <td>7.958822</td>\n",
       "      <td>4.226074</td>\n",
       "      <td>9.827148</td>\n",
       "      <td>3.199278</td>\n",
       "      <td>179.065103</td>\n",
       "      <td>0.416502</td>\n",
       "      <td>7.79</td>\n",
       "      <td>0.686339</td>\n",
       "      <td>0.000000</td>\n",
       "      <td>0.000000</td>\n",
       "      <td>0.000000</td>\n",
       "      <td>0.000000</td>\n",
       "      <td>14.701225</td>\n",
       "      <td>3.722412</td>\n",
       "      <td>8.764648</td>\n",
       "      <td>3.291831</td>\n",
       "      <td>1854.162080</td>\n",
       "      <td>-615.091268</td>\n",
       "      <td>2114.906758</td>\n",
       "      <td>-593.303764</td>\n",
       "      <td>1779.139349</td>\n",
       "      <td>-799.719089</td>\n",
       "      <td>1388.159640</td>\n",
       "      <td>-600.970547</td>\n",
       "      <td>-3.537621</td>\n",
       "      <td>-0.146087</td>\n",
       "      <td>2.90006</td>\n",
       "      <td>1.690585</td>\n",
       "      <td>7.061728</td>\n",
       "      <td>5.038574</td>\n",
       "      <td>0.137877</td>\n",
       "      <td>46.128772</td>\n",
       "      <td>36.808594</td>\n",
       "      <td>8.518138</td>\n",
       "      <td>0.001613</td>\n",
       "      <td>0.007275</td>\n",
       "      <td>0.009350</td>\n",
       "      <td>5.801900</td>\n",
       "      <td>9.975555</td>\n",
       "      <td>10.452148</td>\n",
       "      <td>31.654297</td>\n",
       "      <td>20.341888</td>\n",
       "      <td>91.792293</td>\n",
       "      <td>4.576932</td>\n",
       "      <td>0.582947</td>\n",
       "      <td>15.202148</td>\n",
       "      <td>1.135672</td>\n",
       "      <td>-0.020059</td>\n",
       "      <td>-650.202881</td>\n",
       "      <td>-0.408072</td>\n",
       "      <td>-650.260008</td>\n",
       "      <td>-0.026301</td>\n",
       "      <td>-640.995627</td>\n",
       "      <td>-0.554299</td>\n",
       "      <td>-593.648790</td>\n",
       "      <td>-1.970275</td>\n",
       "      <td>-634.797810</td>\n",
       "      <td>-2.328641</td>\n",
       "      <td>-649.764418</td>\n",
       "      <td>0.000000</td>\n",
       "      <td>0.000000</td>\n",
       "      <td>0.000000</td>\n",
       "      <td>0.000000</td>\n",
       "      <td>5.103202</td>\n",
       "      <td>-669.511317</td>\n",
       "      <td>0.000000</td>\n",
       "      <td>-791.746224</td>\n",
       "      <td>0.000000</td>\n",
       "      <td>-798.365903</td>\n",
       "      <td>0.000000</td>\n",
       "      <td>-737.708308</td>\n",
       "      <td>0.000000</td>\n",
       "      <td>-530.197868</td>\n",
       "      <td>0.000000</td>\n",
       "      <td>-799.619081</td>\n",
       "      <td>-0.112612</td>\n",
       "      <td>-792.794538</td>\n",
       "      <td>0.646208</td>\n",
       "      <td>-515.392892</td>\n",
       "      <td>0.238511</td>\n",
       "      <td>-809.398668</td>\n",
       "    </tr>\n",
       "  </tbody>\n",
       "</table>\n",
       "</div>"
      ],
      "text/plain": [
       "                    date  final.output.concentrate_ag  \\\n",
       "2825 2016-06-06 13:59:59                     3.132967   \n",
       "4819 2017-01-06 19:59:59                     3.554558   \n",
       "\n",
       "      final.output.concentrate_pb  final.output.concentrate_sol  \\\n",
       "2825                     9.577148                      8.264648   \n",
       "4819                    12.202148                     13.827148   \n",
       "\n",
       "      final.output.concentrate_au  final.output.recovery  \\\n",
       "2825                    48.166565              46.375447   \n",
       "4819                    44.528214              67.275195   \n",
       "\n",
       "      final.output.tail_ag  final.output.tail_pb  final.output.tail_sol  \\\n",
       "2825              7.381221              2.456787              10.764648   \n",
       "4819              7.958822              4.226074               9.827148   \n",
       "\n",
       "      final.output.tail_au  primary_cleaner.input.sulfate  \\\n",
       "2825              3.703931                       0.832935   \n",
       "4819              3.199278                     179.065103   \n",
       "\n",
       "      primary_cleaner.input.depressant  primary_cleaner.input.feed_size  \\\n",
       "2825                          8.524928                             6.80   \n",
       "4819                          0.416502                             7.79   \n",
       "\n",
       "      primary_cleaner.input.xanthate  primary_cleaner.output.concentrate_ag  \\\n",
       "2825                        0.010702                               5.166335   \n",
       "4819                        0.686339                               0.000000   \n",
       "\n",
       "      primary_cleaner.output.concentrate_pb  \\\n",
       "2825                               6.413574   \n",
       "4819                               0.000000   \n",
       "\n",
       "      primary_cleaner.output.concentrate_sol  \\\n",
       "2825                                5.944824   \n",
       "4819                                0.000000   \n",
       "\n",
       "      primary_cleaner.output.concentrate_au  primary_cleaner.output.tail_ag  \\\n",
       "2825                              39.676826                       15.297998   \n",
       "4819                               0.000000                       14.701225   \n",
       "\n",
       "      primary_cleaner.output.tail_pb  primary_cleaner.output.tail_sol  \\\n",
       "2825                        2.925537                         4.913574   \n",
       "4819                        3.722412                         8.764648   \n",
       "\n",
       "      primary_cleaner.output.tail_au  primary_cleaner.state.floatbank8_a_air  \\\n",
       "2825                        6.151619                             1191.181589   \n",
       "4819                        3.291831                             1854.162080   \n",
       "\n",
       "      primary_cleaner.state.floatbank8_a_level  \\\n",
       "2825                               -502.140749   \n",
       "4819                               -615.091268   \n",
       "\n",
       "      primary_cleaner.state.floatbank8_b_air  \\\n",
       "2825                             1192.766017   \n",
       "4819                             2114.906758   \n",
       "\n",
       "      primary_cleaner.state.floatbank8_b_level  \\\n",
       "2825                               -494.615276   \n",
       "4819                               -593.303764   \n",
       "\n",
       "      primary_cleaner.state.floatbank8_c_air  \\\n",
       "2825                             1193.561361   \n",
       "4819                             1779.139349   \n",
       "\n",
       "      primary_cleaner.state.floatbank8_c_level  \\\n",
       "2825                               -635.561247   \n",
       "4819                               -799.719089   \n",
       "\n",
       "      primary_cleaner.state.floatbank8_d_air  \\\n",
       "2825                             1200.953628   \n",
       "4819                             1388.159640   \n",
       "\n",
       "      primary_cleaner.state.floatbank8_d_level  \\\n",
       "2825                               -625.788364   \n",
       "4819                               -600.970547   \n",
       "\n",
       "      rougher.calculation.sulfate_to_au_concentrate  \\\n",
       "2825                                     653.775774   \n",
       "4819                                      -3.537621   \n",
       "\n",
       "      rougher.calculation.floatbank10_sulfate_to_au_feed  \\\n",
       "2825                                         403.840141    \n",
       "4819                                          -0.146087    \n",
       "\n",
       "      rougher.calculation.floatbank11_sulfate_to_au_feed  \\\n",
       "2825                                        19812.08734    \n",
       "4819                                            2.90006    \n",
       "\n",
       "      rougher.calculation.au_pb_ratio  rougher.input.feed_ag  \\\n",
       "2825                         2.190368               7.141677   \n",
       "4819                         1.690585               7.061728   \n",
       "\n",
       "      rougher.input.feed_pb  rougher.input.feed_rate  rougher.input.feed_size  \\\n",
       "2825               2.956787                 0.160741                50.810210   \n",
       "4819               5.038574                 0.137877                46.128772   \n",
       "\n",
       "      rougher.input.feed_sol  rougher.input.feed_au  \\\n",
       "2825               31.529297               6.476451   \n",
       "4819               36.808594               8.518138   \n",
       "\n",
       "      rougher.input.floatbank10_sulfate  rougher.input.floatbank10_xanthate  \\\n",
       "2825                           0.009081                            0.006156   \n",
       "4819                           0.001613                            0.007275   \n",
       "\n",
       "      rougher.input.floatbank11_sulfate  rougher.input.floatbank11_xanthate  \\\n",
       "2825                           0.159014                            4.500595   \n",
       "4819                           0.009350                            5.801900   \n",
       "\n",
       "      rougher.output.concentrate_ag  rougher.output.concentrate_pb  \\\n",
       "2825                       9.857195                       8.139648   \n",
       "4819                       9.975555                      10.452148   \n",
       "\n",
       "      rougher.output.concentrate_sol  rougher.output.concentrate_au  \\\n",
       "2825                       35.808594                      24.203442   \n",
       "4819                       31.654297                      20.341888   \n",
       "\n",
       "      rougher.output.recovery  rougher.output.tail_ag  rougher.output.tail_pb  \\\n",
       "2825                65.876081                6.386770                0.093864   \n",
       "4819                91.792293                4.576932                0.582947   \n",
       "\n",
       "      rougher.output.tail_sol  rougher.output.tail_au  \\\n",
       "2825                66.117188                2.682953   \n",
       "4819                15.202148                1.135672   \n",
       "\n",
       "      rougher.state.floatbank10_a_air  rougher.state.floatbank10_a_level  \\\n",
       "2825                        -0.041078                        -650.073062   \n",
       "4819                        -0.020059                        -650.202881   \n",
       "\n",
       "      rougher.state.floatbank10_b_air  rougher.state.floatbank10_b_level  \\\n",
       "2825                        -0.653384                        -549.021821   \n",
       "4819                        -0.408072                        -650.260008   \n",
       "\n",
       "      rougher.state.floatbank10_c_air  rougher.state.floatbank10_c_level  \\\n",
       "2825                        -0.035112                        -548.934082   \n",
       "4819                        -0.026301                        -640.995627   \n",
       "\n",
       "      rougher.state.floatbank10_d_air  rougher.state.floatbank10_d_level  \\\n",
       "2825                        -0.124766                        -558.441874   \n",
       "4819                        -0.554299                        -593.648790   \n",
       "\n",
       "      rougher.state.floatbank10_e_air  rougher.state.floatbank10_e_level  \\\n",
       "2825                        -1.936877                        -643.110973   \n",
       "4819                        -1.970275                        -634.797810   \n",
       "\n",
       "      rougher.state.floatbank10_f_air  rougher.state.floatbank10_f_level  \\\n",
       "2825                        -2.430587                        -649.880981   \n",
       "4819                        -2.328641                        -649.764418   \n",
       "\n",
       "      secondary_cleaner.output.tail_ag  secondary_cleaner.output.tail_pb  \\\n",
       "2825                         13.247175                          6.851074   \n",
       "4819                          0.000000                          0.000000   \n",
       "\n",
       "      secondary_cleaner.output.tail_sol  secondary_cleaner.output.tail_au  \\\n",
       "2825                          11.639648                          8.456227   \n",
       "4819                           0.000000                          0.000000   \n",
       "\n",
       "      secondary_cleaner.state.floatbank2_a_air  \\\n",
       "2825                                 23.086318   \n",
       "4819                                  5.103202   \n",
       "\n",
       "      secondary_cleaner.state.floatbank2_a_level  \\\n",
       "2825                                 -499.837336   \n",
       "4819                                 -669.511317   \n",
       "\n",
       "      secondary_cleaner.state.floatbank2_b_air  \\\n",
       "2825                                 16.947328   \n",
       "4819                                  0.000000   \n",
       "\n",
       "      secondary_cleaner.state.floatbank2_b_level  \\\n",
       "2825                                 -785.756057   \n",
       "4819                                 -791.746224   \n",
       "\n",
       "      secondary_cleaner.state.floatbank3_a_air  \\\n",
       "2825                                 21.996269   \n",
       "4819                                  0.000000   \n",
       "\n",
       "      secondary_cleaner.state.floatbank3_a_level  \\\n",
       "2825                                 -500.100315   \n",
       "4819                                 -798.365903   \n",
       "\n",
       "      secondary_cleaner.state.floatbank3_b_air  \\\n",
       "2825                                 20.935082   \n",
       "4819                                  0.000000   \n",
       "\n",
       "      secondary_cleaner.state.floatbank3_b_level  \\\n",
       "2825                                 -499.733353   \n",
       "4819                                 -737.708308   \n",
       "\n",
       "      secondary_cleaner.state.floatbank4_a_air  \\\n",
       "2825                                 10.016232   \n",
       "4819                                  0.000000   \n",
       "\n",
       "      secondary_cleaner.state.floatbank4_a_level  \\\n",
       "2825                                 -591.105501   \n",
       "4819                                 -530.197868   \n",
       "\n",
       "      secondary_cleaner.state.floatbank4_b_air  \\\n",
       "2825                                  8.034319   \n",
       "4819                                  0.000000   \n",
       "\n",
       "      secondary_cleaner.state.floatbank4_b_level  \\\n",
       "2825                                 -547.173732   \n",
       "4819                                 -799.619081   \n",
       "\n",
       "      secondary_cleaner.state.floatbank5_a_air  \\\n",
       "2825                                  7.957247   \n",
       "4819                                 -0.112612   \n",
       "\n",
       "      secondary_cleaner.state.floatbank5_a_level  \\\n",
       "2825                                 -495.834105   \n",
       "4819                                 -792.794538   \n",
       "\n",
       "      secondary_cleaner.state.floatbank5_b_air  \\\n",
       "2825                                  6.025972   \n",
       "4819                                  0.646208   \n",
       "\n",
       "      secondary_cleaner.state.floatbank5_b_level  \\\n",
       "2825                                 -500.221367   \n",
       "4819                                 -515.392892   \n",
       "\n",
       "      secondary_cleaner.state.floatbank6_a_air  \\\n",
       "2825                                 18.015904   \n",
       "4819                                  0.238511   \n",
       "\n",
       "      secondary_cleaner.state.floatbank6_a_level  \n",
       "2825                                 -495.628009  \n",
       "4819                                 -809.398668  "
      ]
     },
     "execution_count": 23,
     "metadata": {},
     "output_type": "execute_result"
    }
   ],
   "source": [
    "train_df[train_df['rougher.state.floatbank10_b_air']<1]"
   ]
  },
  {
   "cell_type": "code",
   "execution_count": 24,
   "metadata": {},
   "outputs": [
    {
     "data": {
      "text/html": [
       "<div>\n",
       "<style scoped>\n",
       "    .dataframe tbody tr th:only-of-type {\n",
       "        vertical-align: middle;\n",
       "    }\n",
       "\n",
       "    .dataframe tbody tr th {\n",
       "        vertical-align: top;\n",
       "    }\n",
       "\n",
       "    .dataframe thead th {\n",
       "        text-align: right;\n",
       "    }\n",
       "</style>\n",
       "<table border=\"1\" class=\"dataframe\">\n",
       "  <thead>\n",
       "    <tr style=\"text-align: right;\">\n",
       "      <th></th>\n",
       "      <th>date</th>\n",
       "      <th>final.output.concentrate_ag</th>\n",
       "      <th>final.output.concentrate_pb</th>\n",
       "      <th>final.output.concentrate_sol</th>\n",
       "      <th>final.output.concentrate_au</th>\n",
       "      <th>final.output.recovery</th>\n",
       "      <th>final.output.tail_ag</th>\n",
       "      <th>final.output.tail_pb</th>\n",
       "      <th>final.output.tail_sol</th>\n",
       "      <th>final.output.tail_au</th>\n",
       "      <th>primary_cleaner.input.sulfate</th>\n",
       "      <th>primary_cleaner.input.depressant</th>\n",
       "      <th>primary_cleaner.input.feed_size</th>\n",
       "      <th>primary_cleaner.input.xanthate</th>\n",
       "      <th>primary_cleaner.output.concentrate_ag</th>\n",
       "      <th>primary_cleaner.output.concentrate_pb</th>\n",
       "      <th>primary_cleaner.output.concentrate_sol</th>\n",
       "      <th>primary_cleaner.output.concentrate_au</th>\n",
       "      <th>primary_cleaner.output.tail_ag</th>\n",
       "      <th>primary_cleaner.output.tail_pb</th>\n",
       "      <th>primary_cleaner.output.tail_sol</th>\n",
       "      <th>primary_cleaner.output.tail_au</th>\n",
       "      <th>primary_cleaner.state.floatbank8_a_air</th>\n",
       "      <th>primary_cleaner.state.floatbank8_a_level</th>\n",
       "      <th>primary_cleaner.state.floatbank8_b_air</th>\n",
       "      <th>primary_cleaner.state.floatbank8_b_level</th>\n",
       "      <th>primary_cleaner.state.floatbank8_c_air</th>\n",
       "      <th>primary_cleaner.state.floatbank8_c_level</th>\n",
       "      <th>primary_cleaner.state.floatbank8_d_air</th>\n",
       "      <th>primary_cleaner.state.floatbank8_d_level</th>\n",
       "      <th>rougher.calculation.sulfate_to_au_concentrate</th>\n",
       "      <th>rougher.calculation.floatbank10_sulfate_to_au_feed</th>\n",
       "      <th>rougher.calculation.floatbank11_sulfate_to_au_feed</th>\n",
       "      <th>rougher.calculation.au_pb_ratio</th>\n",
       "      <th>rougher.input.feed_ag</th>\n",
       "      <th>rougher.input.feed_pb</th>\n",
       "      <th>rougher.input.feed_rate</th>\n",
       "      <th>rougher.input.feed_size</th>\n",
       "      <th>rougher.input.feed_sol</th>\n",
       "      <th>rougher.input.feed_au</th>\n",
       "      <th>rougher.input.floatbank10_sulfate</th>\n",
       "      <th>rougher.input.floatbank10_xanthate</th>\n",
       "      <th>rougher.input.floatbank11_sulfate</th>\n",
       "      <th>rougher.input.floatbank11_xanthate</th>\n",
       "      <th>rougher.output.concentrate_ag</th>\n",
       "      <th>rougher.output.concentrate_pb</th>\n",
       "      <th>rougher.output.concentrate_sol</th>\n",
       "      <th>rougher.output.concentrate_au</th>\n",
       "      <th>rougher.output.recovery</th>\n",
       "      <th>rougher.output.tail_ag</th>\n",
       "      <th>rougher.output.tail_pb</th>\n",
       "      <th>rougher.output.tail_sol</th>\n",
       "      <th>rougher.output.tail_au</th>\n",
       "      <th>rougher.state.floatbank10_a_air</th>\n",
       "      <th>rougher.state.floatbank10_a_level</th>\n",
       "      <th>rougher.state.floatbank10_b_air</th>\n",
       "      <th>rougher.state.floatbank10_b_level</th>\n",
       "      <th>rougher.state.floatbank10_c_air</th>\n",
       "      <th>rougher.state.floatbank10_c_level</th>\n",
       "      <th>rougher.state.floatbank10_d_air</th>\n",
       "      <th>rougher.state.floatbank10_d_level</th>\n",
       "      <th>rougher.state.floatbank10_e_air</th>\n",
       "      <th>rougher.state.floatbank10_e_level</th>\n",
       "      <th>rougher.state.floatbank10_f_air</th>\n",
       "      <th>rougher.state.floatbank10_f_level</th>\n",
       "      <th>secondary_cleaner.output.tail_ag</th>\n",
       "      <th>secondary_cleaner.output.tail_pb</th>\n",
       "      <th>secondary_cleaner.output.tail_sol</th>\n",
       "      <th>secondary_cleaner.output.tail_au</th>\n",
       "      <th>secondary_cleaner.state.floatbank2_a_air</th>\n",
       "      <th>secondary_cleaner.state.floatbank2_a_level</th>\n",
       "      <th>secondary_cleaner.state.floatbank2_b_air</th>\n",
       "      <th>secondary_cleaner.state.floatbank2_b_level</th>\n",
       "      <th>secondary_cleaner.state.floatbank3_a_air</th>\n",
       "      <th>secondary_cleaner.state.floatbank3_a_level</th>\n",
       "      <th>secondary_cleaner.state.floatbank3_b_air</th>\n",
       "      <th>secondary_cleaner.state.floatbank3_b_level</th>\n",
       "      <th>secondary_cleaner.state.floatbank4_a_air</th>\n",
       "      <th>secondary_cleaner.state.floatbank4_a_level</th>\n",
       "      <th>secondary_cleaner.state.floatbank4_b_air</th>\n",
       "      <th>secondary_cleaner.state.floatbank4_b_level</th>\n",
       "      <th>secondary_cleaner.state.floatbank5_a_air</th>\n",
       "      <th>secondary_cleaner.state.floatbank5_a_level</th>\n",
       "      <th>secondary_cleaner.state.floatbank5_b_air</th>\n",
       "      <th>secondary_cleaner.state.floatbank5_b_level</th>\n",
       "      <th>secondary_cleaner.state.floatbank6_a_air</th>\n",
       "      <th>secondary_cleaner.state.floatbank6_a_level</th>\n",
       "    </tr>\n",
       "  </thead>\n",
       "  <tbody>\n",
       "    <tr>\n",
       "      <th>2825</th>\n",
       "      <td>2016-06-06 13:59:59</td>\n",
       "      <td>3.132967</td>\n",
       "      <td>9.577148</td>\n",
       "      <td>8.264648</td>\n",
       "      <td>48.166565</td>\n",
       "      <td>46.375447</td>\n",
       "      <td>7.381221</td>\n",
       "      <td>2.456787</td>\n",
       "      <td>10.764648</td>\n",
       "      <td>3.703931</td>\n",
       "      <td>0.832935</td>\n",
       "      <td>8.524928</td>\n",
       "      <td>6.80</td>\n",
       "      <td>0.010702</td>\n",
       "      <td>5.166335</td>\n",
       "      <td>6.413574</td>\n",
       "      <td>5.944824</td>\n",
       "      <td>39.676826</td>\n",
       "      <td>15.297998</td>\n",
       "      <td>2.925537</td>\n",
       "      <td>4.913574</td>\n",
       "      <td>6.151619</td>\n",
       "      <td>1191.181589</td>\n",
       "      <td>-502.140749</td>\n",
       "      <td>1192.766017</td>\n",
       "      <td>-494.615276</td>\n",
       "      <td>1193.561361</td>\n",
       "      <td>-635.561247</td>\n",
       "      <td>1200.953628</td>\n",
       "      <td>-625.788364</td>\n",
       "      <td>653.775774</td>\n",
       "      <td>403.840141</td>\n",
       "      <td>19812.08734</td>\n",
       "      <td>2.190368</td>\n",
       "      <td>7.141677</td>\n",
       "      <td>2.956787</td>\n",
       "      <td>0.160741</td>\n",
       "      <td>50.810210</td>\n",
       "      <td>31.529297</td>\n",
       "      <td>6.476451</td>\n",
       "      <td>0.009081</td>\n",
       "      <td>0.006156</td>\n",
       "      <td>0.159014</td>\n",
       "      <td>4.500595</td>\n",
       "      <td>9.857195</td>\n",
       "      <td>8.139648</td>\n",
       "      <td>35.808594</td>\n",
       "      <td>24.203442</td>\n",
       "      <td>65.876081</td>\n",
       "      <td>6.386770</td>\n",
       "      <td>0.093864</td>\n",
       "      <td>66.117188</td>\n",
       "      <td>2.682953</td>\n",
       "      <td>-0.041078</td>\n",
       "      <td>-650.073062</td>\n",
       "      <td>-0.653384</td>\n",
       "      <td>-549.021821</td>\n",
       "      <td>-0.035112</td>\n",
       "      <td>-548.934082</td>\n",
       "      <td>-0.124766</td>\n",
       "      <td>-558.441874</td>\n",
       "      <td>-1.936877</td>\n",
       "      <td>-643.110973</td>\n",
       "      <td>-2.430587</td>\n",
       "      <td>-649.880981</td>\n",
       "      <td>13.247175</td>\n",
       "      <td>6.851074</td>\n",
       "      <td>11.639648</td>\n",
       "      <td>8.456227</td>\n",
       "      <td>23.086318</td>\n",
       "      <td>-499.837336</td>\n",
       "      <td>16.947328</td>\n",
       "      <td>-785.756057</td>\n",
       "      <td>21.996269</td>\n",
       "      <td>-500.100315</td>\n",
       "      <td>20.935082</td>\n",
       "      <td>-499.733353</td>\n",
       "      <td>10.016232</td>\n",
       "      <td>-591.105501</td>\n",
       "      <td>8.034319</td>\n",
       "      <td>-547.173732</td>\n",
       "      <td>7.957247</td>\n",
       "      <td>-495.834105</td>\n",
       "      <td>6.025972</td>\n",
       "      <td>-500.221367</td>\n",
       "      <td>18.015904</td>\n",
       "      <td>-495.628009</td>\n",
       "    </tr>\n",
       "    <tr>\n",
       "      <th>4819</th>\n",
       "      <td>2017-01-06 19:59:59</td>\n",
       "      <td>3.554558</td>\n",
       "      <td>12.202148</td>\n",
       "      <td>13.827148</td>\n",
       "      <td>44.528214</td>\n",
       "      <td>67.275195</td>\n",
       "      <td>7.958822</td>\n",
       "      <td>4.226074</td>\n",
       "      <td>9.827148</td>\n",
       "      <td>3.199278</td>\n",
       "      <td>179.065103</td>\n",
       "      <td>0.416502</td>\n",
       "      <td>7.79</td>\n",
       "      <td>0.686339</td>\n",
       "      <td>0.000000</td>\n",
       "      <td>0.000000</td>\n",
       "      <td>0.000000</td>\n",
       "      <td>0.000000</td>\n",
       "      <td>14.701225</td>\n",
       "      <td>3.722412</td>\n",
       "      <td>8.764648</td>\n",
       "      <td>3.291831</td>\n",
       "      <td>1854.162080</td>\n",
       "      <td>-615.091268</td>\n",
       "      <td>2114.906758</td>\n",
       "      <td>-593.303764</td>\n",
       "      <td>1779.139349</td>\n",
       "      <td>-799.719089</td>\n",
       "      <td>1388.159640</td>\n",
       "      <td>-600.970547</td>\n",
       "      <td>-3.537621</td>\n",
       "      <td>-0.146087</td>\n",
       "      <td>2.90006</td>\n",
       "      <td>1.690585</td>\n",
       "      <td>7.061728</td>\n",
       "      <td>5.038574</td>\n",
       "      <td>0.137877</td>\n",
       "      <td>46.128772</td>\n",
       "      <td>36.808594</td>\n",
       "      <td>8.518138</td>\n",
       "      <td>0.001613</td>\n",
       "      <td>0.007275</td>\n",
       "      <td>0.009350</td>\n",
       "      <td>5.801900</td>\n",
       "      <td>9.975555</td>\n",
       "      <td>10.452148</td>\n",
       "      <td>31.654297</td>\n",
       "      <td>20.341888</td>\n",
       "      <td>91.792293</td>\n",
       "      <td>4.576932</td>\n",
       "      <td>0.582947</td>\n",
       "      <td>15.202148</td>\n",
       "      <td>1.135672</td>\n",
       "      <td>-0.020059</td>\n",
       "      <td>-650.202881</td>\n",
       "      <td>-0.408072</td>\n",
       "      <td>-650.260008</td>\n",
       "      <td>-0.026301</td>\n",
       "      <td>-640.995627</td>\n",
       "      <td>-0.554299</td>\n",
       "      <td>-593.648790</td>\n",
       "      <td>-1.970275</td>\n",
       "      <td>-634.797810</td>\n",
       "      <td>-2.328641</td>\n",
       "      <td>-649.764418</td>\n",
       "      <td>0.000000</td>\n",
       "      <td>0.000000</td>\n",
       "      <td>0.000000</td>\n",
       "      <td>0.000000</td>\n",
       "      <td>5.103202</td>\n",
       "      <td>-669.511317</td>\n",
       "      <td>0.000000</td>\n",
       "      <td>-791.746224</td>\n",
       "      <td>0.000000</td>\n",
       "      <td>-798.365903</td>\n",
       "      <td>0.000000</td>\n",
       "      <td>-737.708308</td>\n",
       "      <td>0.000000</td>\n",
       "      <td>-530.197868</td>\n",
       "      <td>0.000000</td>\n",
       "      <td>-799.619081</td>\n",
       "      <td>-0.112612</td>\n",
       "      <td>-792.794538</td>\n",
       "      <td>0.646208</td>\n",
       "      <td>-515.392892</td>\n",
       "      <td>0.238511</td>\n",
       "      <td>-809.398668</td>\n",
       "    </tr>\n",
       "  </tbody>\n",
       "</table>\n",
       "</div>"
      ],
      "text/plain": [
       "                    date  final.output.concentrate_ag  \\\n",
       "2825 2016-06-06 13:59:59                     3.132967   \n",
       "4819 2017-01-06 19:59:59                     3.554558   \n",
       "\n",
       "      final.output.concentrate_pb  final.output.concentrate_sol  \\\n",
       "2825                     9.577148                      8.264648   \n",
       "4819                    12.202148                     13.827148   \n",
       "\n",
       "      final.output.concentrate_au  final.output.recovery  \\\n",
       "2825                    48.166565              46.375447   \n",
       "4819                    44.528214              67.275195   \n",
       "\n",
       "      final.output.tail_ag  final.output.tail_pb  final.output.tail_sol  \\\n",
       "2825              7.381221              2.456787              10.764648   \n",
       "4819              7.958822              4.226074               9.827148   \n",
       "\n",
       "      final.output.tail_au  primary_cleaner.input.sulfate  \\\n",
       "2825              3.703931                       0.832935   \n",
       "4819              3.199278                     179.065103   \n",
       "\n",
       "      primary_cleaner.input.depressant  primary_cleaner.input.feed_size  \\\n",
       "2825                          8.524928                             6.80   \n",
       "4819                          0.416502                             7.79   \n",
       "\n",
       "      primary_cleaner.input.xanthate  primary_cleaner.output.concentrate_ag  \\\n",
       "2825                        0.010702                               5.166335   \n",
       "4819                        0.686339                               0.000000   \n",
       "\n",
       "      primary_cleaner.output.concentrate_pb  \\\n",
       "2825                               6.413574   \n",
       "4819                               0.000000   \n",
       "\n",
       "      primary_cleaner.output.concentrate_sol  \\\n",
       "2825                                5.944824   \n",
       "4819                                0.000000   \n",
       "\n",
       "      primary_cleaner.output.concentrate_au  primary_cleaner.output.tail_ag  \\\n",
       "2825                              39.676826                       15.297998   \n",
       "4819                               0.000000                       14.701225   \n",
       "\n",
       "      primary_cleaner.output.tail_pb  primary_cleaner.output.tail_sol  \\\n",
       "2825                        2.925537                         4.913574   \n",
       "4819                        3.722412                         8.764648   \n",
       "\n",
       "      primary_cleaner.output.tail_au  primary_cleaner.state.floatbank8_a_air  \\\n",
       "2825                        6.151619                             1191.181589   \n",
       "4819                        3.291831                             1854.162080   \n",
       "\n",
       "      primary_cleaner.state.floatbank8_a_level  \\\n",
       "2825                               -502.140749   \n",
       "4819                               -615.091268   \n",
       "\n",
       "      primary_cleaner.state.floatbank8_b_air  \\\n",
       "2825                             1192.766017   \n",
       "4819                             2114.906758   \n",
       "\n",
       "      primary_cleaner.state.floatbank8_b_level  \\\n",
       "2825                               -494.615276   \n",
       "4819                               -593.303764   \n",
       "\n",
       "      primary_cleaner.state.floatbank8_c_air  \\\n",
       "2825                             1193.561361   \n",
       "4819                             1779.139349   \n",
       "\n",
       "      primary_cleaner.state.floatbank8_c_level  \\\n",
       "2825                               -635.561247   \n",
       "4819                               -799.719089   \n",
       "\n",
       "      primary_cleaner.state.floatbank8_d_air  \\\n",
       "2825                             1200.953628   \n",
       "4819                             1388.159640   \n",
       "\n",
       "      primary_cleaner.state.floatbank8_d_level  \\\n",
       "2825                               -625.788364   \n",
       "4819                               -600.970547   \n",
       "\n",
       "      rougher.calculation.sulfate_to_au_concentrate  \\\n",
       "2825                                     653.775774   \n",
       "4819                                      -3.537621   \n",
       "\n",
       "      rougher.calculation.floatbank10_sulfate_to_au_feed  \\\n",
       "2825                                         403.840141    \n",
       "4819                                          -0.146087    \n",
       "\n",
       "      rougher.calculation.floatbank11_sulfate_to_au_feed  \\\n",
       "2825                                        19812.08734    \n",
       "4819                                            2.90006    \n",
       "\n",
       "      rougher.calculation.au_pb_ratio  rougher.input.feed_ag  \\\n",
       "2825                         2.190368               7.141677   \n",
       "4819                         1.690585               7.061728   \n",
       "\n",
       "      rougher.input.feed_pb  rougher.input.feed_rate  rougher.input.feed_size  \\\n",
       "2825               2.956787                 0.160741                50.810210   \n",
       "4819               5.038574                 0.137877                46.128772   \n",
       "\n",
       "      rougher.input.feed_sol  rougher.input.feed_au  \\\n",
       "2825               31.529297               6.476451   \n",
       "4819               36.808594               8.518138   \n",
       "\n",
       "      rougher.input.floatbank10_sulfate  rougher.input.floatbank10_xanthate  \\\n",
       "2825                           0.009081                            0.006156   \n",
       "4819                           0.001613                            0.007275   \n",
       "\n",
       "      rougher.input.floatbank11_sulfate  rougher.input.floatbank11_xanthate  \\\n",
       "2825                           0.159014                            4.500595   \n",
       "4819                           0.009350                            5.801900   \n",
       "\n",
       "      rougher.output.concentrate_ag  rougher.output.concentrate_pb  \\\n",
       "2825                       9.857195                       8.139648   \n",
       "4819                       9.975555                      10.452148   \n",
       "\n",
       "      rougher.output.concentrate_sol  rougher.output.concentrate_au  \\\n",
       "2825                       35.808594                      24.203442   \n",
       "4819                       31.654297                      20.341888   \n",
       "\n",
       "      rougher.output.recovery  rougher.output.tail_ag  rougher.output.tail_pb  \\\n",
       "2825                65.876081                6.386770                0.093864   \n",
       "4819                91.792293                4.576932                0.582947   \n",
       "\n",
       "      rougher.output.tail_sol  rougher.output.tail_au  \\\n",
       "2825                66.117188                2.682953   \n",
       "4819                15.202148                1.135672   \n",
       "\n",
       "      rougher.state.floatbank10_a_air  rougher.state.floatbank10_a_level  \\\n",
       "2825                        -0.041078                        -650.073062   \n",
       "4819                        -0.020059                        -650.202881   \n",
       "\n",
       "      rougher.state.floatbank10_b_air  rougher.state.floatbank10_b_level  \\\n",
       "2825                        -0.653384                        -549.021821   \n",
       "4819                        -0.408072                        -650.260008   \n",
       "\n",
       "      rougher.state.floatbank10_c_air  rougher.state.floatbank10_c_level  \\\n",
       "2825                        -0.035112                        -548.934082   \n",
       "4819                        -0.026301                        -640.995627   \n",
       "\n",
       "      rougher.state.floatbank10_d_air  rougher.state.floatbank10_d_level  \\\n",
       "2825                        -0.124766                        -558.441874   \n",
       "4819                        -0.554299                        -593.648790   \n",
       "\n",
       "      rougher.state.floatbank10_e_air  rougher.state.floatbank10_e_level  \\\n",
       "2825                        -1.936877                        -643.110973   \n",
       "4819                        -1.970275                        -634.797810   \n",
       "\n",
       "      rougher.state.floatbank10_f_air  rougher.state.floatbank10_f_level  \\\n",
       "2825                        -2.430587                        -649.880981   \n",
       "4819                        -2.328641                        -649.764418   \n",
       "\n",
       "      secondary_cleaner.output.tail_ag  secondary_cleaner.output.tail_pb  \\\n",
       "2825                         13.247175                          6.851074   \n",
       "4819                          0.000000                          0.000000   \n",
       "\n",
       "      secondary_cleaner.output.tail_sol  secondary_cleaner.output.tail_au  \\\n",
       "2825                          11.639648                          8.456227   \n",
       "4819                           0.000000                          0.000000   \n",
       "\n",
       "      secondary_cleaner.state.floatbank2_a_air  \\\n",
       "2825                                 23.086318   \n",
       "4819                                  5.103202   \n",
       "\n",
       "      secondary_cleaner.state.floatbank2_a_level  \\\n",
       "2825                                 -499.837336   \n",
       "4819                                 -669.511317   \n",
       "\n",
       "      secondary_cleaner.state.floatbank2_b_air  \\\n",
       "2825                                 16.947328   \n",
       "4819                                  0.000000   \n",
       "\n",
       "      secondary_cleaner.state.floatbank2_b_level  \\\n",
       "2825                                 -785.756057   \n",
       "4819                                 -791.746224   \n",
       "\n",
       "      secondary_cleaner.state.floatbank3_a_air  \\\n",
       "2825                                 21.996269   \n",
       "4819                                  0.000000   \n",
       "\n",
       "      secondary_cleaner.state.floatbank3_a_level  \\\n",
       "2825                                 -500.100315   \n",
       "4819                                 -798.365903   \n",
       "\n",
       "      secondary_cleaner.state.floatbank3_b_air  \\\n",
       "2825                                 20.935082   \n",
       "4819                                  0.000000   \n",
       "\n",
       "      secondary_cleaner.state.floatbank3_b_level  \\\n",
       "2825                                 -499.733353   \n",
       "4819                                 -737.708308   \n",
       "\n",
       "      secondary_cleaner.state.floatbank4_a_air  \\\n",
       "2825                                 10.016232   \n",
       "4819                                  0.000000   \n",
       "\n",
       "      secondary_cleaner.state.floatbank4_a_level  \\\n",
       "2825                                 -591.105501   \n",
       "4819                                 -530.197868   \n",
       "\n",
       "      secondary_cleaner.state.floatbank4_b_air  \\\n",
       "2825                                  8.034319   \n",
       "4819                                  0.000000   \n",
       "\n",
       "      secondary_cleaner.state.floatbank4_b_level  \\\n",
       "2825                                 -547.173732   \n",
       "4819                                 -799.619081   \n",
       "\n",
       "      secondary_cleaner.state.floatbank5_a_air  \\\n",
       "2825                                  7.957247   \n",
       "4819                                 -0.112612   \n",
       "\n",
       "      secondary_cleaner.state.floatbank5_a_level  \\\n",
       "2825                                 -495.834105   \n",
       "4819                                 -792.794538   \n",
       "\n",
       "      secondary_cleaner.state.floatbank5_b_air  \\\n",
       "2825                                  6.025972   \n",
       "4819                                  0.646208   \n",
       "\n",
       "      secondary_cleaner.state.floatbank5_b_level  \\\n",
       "2825                                 -500.221367   \n",
       "4819                                 -515.392892   \n",
       "\n",
       "      secondary_cleaner.state.floatbank6_a_air  \\\n",
       "2825                                 18.015904   \n",
       "4819                                  0.238511   \n",
       "\n",
       "      secondary_cleaner.state.floatbank6_a_level  \n",
       "2825                                 -495.628009  \n",
       "4819                                 -809.398668  "
      ]
     },
     "execution_count": 24,
     "metadata": {},
     "output_type": "execute_result"
    }
   ],
   "source": [
    "train_df[train_df['rougher.state.floatbank10_a_air']<1]"
   ]
  },
  {
   "cell_type": "code",
   "execution_count": 25,
   "metadata": {},
   "outputs": [
    {
     "data": {
      "text/html": [
       "<div>\n",
       "<style scoped>\n",
       "    .dataframe tbody tr th:only-of-type {\n",
       "        vertical-align: middle;\n",
       "    }\n",
       "\n",
       "    .dataframe tbody tr th {\n",
       "        vertical-align: top;\n",
       "    }\n",
       "\n",
       "    .dataframe thead th {\n",
       "        text-align: right;\n",
       "    }\n",
       "</style>\n",
       "<table border=\"1\" class=\"dataframe\">\n",
       "  <thead>\n",
       "    <tr style=\"text-align: right;\">\n",
       "      <th></th>\n",
       "      <th>date</th>\n",
       "      <th>final.output.concentrate_ag</th>\n",
       "      <th>final.output.concentrate_pb</th>\n",
       "      <th>final.output.concentrate_sol</th>\n",
       "      <th>final.output.concentrate_au</th>\n",
       "      <th>final.output.recovery</th>\n",
       "      <th>final.output.tail_ag</th>\n",
       "      <th>final.output.tail_pb</th>\n",
       "      <th>final.output.tail_sol</th>\n",
       "      <th>final.output.tail_au</th>\n",
       "      <th>primary_cleaner.input.sulfate</th>\n",
       "      <th>primary_cleaner.input.depressant</th>\n",
       "      <th>primary_cleaner.input.feed_size</th>\n",
       "      <th>primary_cleaner.input.xanthate</th>\n",
       "      <th>primary_cleaner.output.concentrate_ag</th>\n",
       "      <th>primary_cleaner.output.concentrate_pb</th>\n",
       "      <th>primary_cleaner.output.concentrate_sol</th>\n",
       "      <th>primary_cleaner.output.concentrate_au</th>\n",
       "      <th>primary_cleaner.output.tail_ag</th>\n",
       "      <th>primary_cleaner.output.tail_pb</th>\n",
       "      <th>primary_cleaner.output.tail_sol</th>\n",
       "      <th>primary_cleaner.output.tail_au</th>\n",
       "      <th>primary_cleaner.state.floatbank8_a_air</th>\n",
       "      <th>primary_cleaner.state.floatbank8_a_level</th>\n",
       "      <th>primary_cleaner.state.floatbank8_b_air</th>\n",
       "      <th>primary_cleaner.state.floatbank8_b_level</th>\n",
       "      <th>primary_cleaner.state.floatbank8_c_air</th>\n",
       "      <th>primary_cleaner.state.floatbank8_c_level</th>\n",
       "      <th>primary_cleaner.state.floatbank8_d_air</th>\n",
       "      <th>primary_cleaner.state.floatbank8_d_level</th>\n",
       "      <th>rougher.calculation.sulfate_to_au_concentrate</th>\n",
       "      <th>rougher.calculation.floatbank10_sulfate_to_au_feed</th>\n",
       "      <th>rougher.calculation.floatbank11_sulfate_to_au_feed</th>\n",
       "      <th>rougher.calculation.au_pb_ratio</th>\n",
       "      <th>rougher.input.feed_ag</th>\n",
       "      <th>rougher.input.feed_pb</th>\n",
       "      <th>rougher.input.feed_rate</th>\n",
       "      <th>rougher.input.feed_size</th>\n",
       "      <th>rougher.input.feed_sol</th>\n",
       "      <th>rougher.input.feed_au</th>\n",
       "      <th>rougher.input.floatbank10_sulfate</th>\n",
       "      <th>rougher.input.floatbank10_xanthate</th>\n",
       "      <th>rougher.input.floatbank11_sulfate</th>\n",
       "      <th>rougher.input.floatbank11_xanthate</th>\n",
       "      <th>rougher.output.concentrate_ag</th>\n",
       "      <th>rougher.output.concentrate_pb</th>\n",
       "      <th>rougher.output.concentrate_sol</th>\n",
       "      <th>rougher.output.concentrate_au</th>\n",
       "      <th>rougher.output.recovery</th>\n",
       "      <th>rougher.output.tail_ag</th>\n",
       "      <th>rougher.output.tail_pb</th>\n",
       "      <th>rougher.output.tail_sol</th>\n",
       "      <th>rougher.output.tail_au</th>\n",
       "      <th>rougher.state.floatbank10_a_air</th>\n",
       "      <th>rougher.state.floatbank10_a_level</th>\n",
       "      <th>rougher.state.floatbank10_b_air</th>\n",
       "      <th>rougher.state.floatbank10_b_level</th>\n",
       "      <th>rougher.state.floatbank10_c_air</th>\n",
       "      <th>rougher.state.floatbank10_c_level</th>\n",
       "      <th>rougher.state.floatbank10_d_air</th>\n",
       "      <th>rougher.state.floatbank10_d_level</th>\n",
       "      <th>rougher.state.floatbank10_e_air</th>\n",
       "      <th>rougher.state.floatbank10_e_level</th>\n",
       "      <th>rougher.state.floatbank10_f_air</th>\n",
       "      <th>rougher.state.floatbank10_f_level</th>\n",
       "      <th>secondary_cleaner.output.tail_ag</th>\n",
       "      <th>secondary_cleaner.output.tail_pb</th>\n",
       "      <th>secondary_cleaner.output.tail_sol</th>\n",
       "      <th>secondary_cleaner.output.tail_au</th>\n",
       "      <th>secondary_cleaner.state.floatbank2_a_air</th>\n",
       "      <th>secondary_cleaner.state.floatbank2_a_level</th>\n",
       "      <th>secondary_cleaner.state.floatbank2_b_air</th>\n",
       "      <th>secondary_cleaner.state.floatbank2_b_level</th>\n",
       "      <th>secondary_cleaner.state.floatbank3_a_air</th>\n",
       "      <th>secondary_cleaner.state.floatbank3_a_level</th>\n",
       "      <th>secondary_cleaner.state.floatbank3_b_air</th>\n",
       "      <th>secondary_cleaner.state.floatbank3_b_level</th>\n",
       "      <th>secondary_cleaner.state.floatbank4_a_air</th>\n",
       "      <th>secondary_cleaner.state.floatbank4_a_level</th>\n",
       "      <th>secondary_cleaner.state.floatbank4_b_air</th>\n",
       "      <th>secondary_cleaner.state.floatbank4_b_level</th>\n",
       "      <th>secondary_cleaner.state.floatbank5_a_air</th>\n",
       "      <th>secondary_cleaner.state.floatbank5_a_level</th>\n",
       "      <th>secondary_cleaner.state.floatbank5_b_air</th>\n",
       "      <th>secondary_cleaner.state.floatbank5_b_level</th>\n",
       "      <th>secondary_cleaner.state.floatbank6_a_air</th>\n",
       "      <th>secondary_cleaner.state.floatbank6_a_level</th>\n",
       "    </tr>\n",
       "  </thead>\n",
       "  <tbody>\n",
       "    <tr>\n",
       "      <th>4496</th>\n",
       "      <td>2016-08-23 14:59:59</td>\n",
       "      <td>5.083731</td>\n",
       "      <td>10.137440</td>\n",
       "      <td>8.656940</td>\n",
       "      <td>44.526598</td>\n",
       "      <td>53.410104</td>\n",
       "      <td>9.378425</td>\n",
       "      <td>3.190610</td>\n",
       "      <td>9.008972</td>\n",
       "      <td>5.530278</td>\n",
       "      <td>137.285657</td>\n",
       "      <td>9.458449</td>\n",
       "      <td>8.08</td>\n",
       "      <td>0.111984</td>\n",
       "      <td>1.438242</td>\n",
       "      <td>11.33958</td>\n",
       "      <td>10.874298</td>\n",
       "      <td>9.923395</td>\n",
       "      <td>1.1209</td>\n",
       "      <td>0.290961</td>\n",
       "      <td>0.720224</td>\n",
       "      <td>1.122721</td>\n",
       "      <td>0.016993</td>\n",
       "      <td>-499.020645</td>\n",
       "      <td>0.023275</td>\n",
       "      <td>-501.276978</td>\n",
       "      <td>0.040552</td>\n",
       "      <td>-499.823259</td>\n",
       "      <td>0.023153</td>\n",
       "      <td>-499.60307</td>\n",
       "      <td>44560.881886</td>\n",
       "      <td>2544.726289</td>\n",
       "      <td>2548.718203</td>\n",
       "      <td>2.580822</td>\n",
       "      <td>9.442157</td>\n",
       "      <td>4.026106</td>\n",
       "      <td>350.107465</td>\n",
       "      <td>48.781989</td>\n",
       "      <td>35.185757</td>\n",
       "      <td>10.390665</td>\n",
       "      <td>9.007773</td>\n",
       "      <td>4.797336</td>\n",
       "      <td>9.004379</td>\n",
       "      <td>4.800689</td>\n",
       "      <td>12.407927</td>\n",
       "      <td>7.295667</td>\n",
       "      <td>28.181635</td>\n",
       "      <td>21.803817</td>\n",
       "      <td>86.835549</td>\n",
       "      <td>6.148611</td>\n",
       "      <td>0.749412</td>\n",
       "      <td>17.424158</td>\n",
       "      <td>2.333527</td>\n",
       "      <td>899.694387</td>\n",
       "      <td>-499.550395</td>\n",
       "      <td>1374.208462</td>\n",
       "      <td>-398.489007</td>\n",
       "      <td>1364.147828</td>\n",
       "      <td>-397.443715</td>\n",
       "      <td>1240.603834</td>\n",
       "      <td>-399.016439</td>\n",
       "      <td>1050.953863</td>\n",
       "      <td>-400.154026</td>\n",
       "      <td>950.924105</td>\n",
       "      <td>-400.426305</td>\n",
       "      <td>8.469689</td>\n",
       "      <td>2.431039</td>\n",
       "      <td>7.128592</td>\n",
       "      <td>4.196606</td>\n",
       "      <td>29.468454</td>\n",
       "      <td>-399.903145</td>\n",
       "      <td>23.839584</td>\n",
       "      <td>-401.027430</td>\n",
       "      <td>23.916957</td>\n",
       "      <td>-399.566011</td>\n",
       "      <td>15.952405</td>\n",
       "      <td>-399.801105</td>\n",
       "      <td>17.962890</td>\n",
       "      <td>-399.856508</td>\n",
       "      <td>10.046007</td>\n",
       "      <td>-403.844511</td>\n",
       "      <td>10.004214</td>\n",
       "      <td>-399.028523</td>\n",
       "      <td>5.004691</td>\n",
       "      <td>-401.004709</td>\n",
       "      <td>24.962476</td>\n",
       "      <td>-500.704776</td>\n",
       "    </tr>\n",
       "    <tr>\n",
       "      <th>4497</th>\n",
       "      <td>2016-08-23 15:59:59</td>\n",
       "      <td>4.876925</td>\n",
       "      <td>9.820362</td>\n",
       "      <td>9.756834</td>\n",
       "      <td>46.659128</td>\n",
       "      <td>62.456206</td>\n",
       "      <td>9.181017</td>\n",
       "      <td>2.797005</td>\n",
       "      <td>8.770914</td>\n",
       "      <td>4.370149</td>\n",
       "      <td>132.673093</td>\n",
       "      <td>9.562038</td>\n",
       "      <td>8.08</td>\n",
       "      <td>0.111984</td>\n",
       "      <td>0.000000</td>\n",
       "      <td>0.00000</td>\n",
       "      <td>0.000000</td>\n",
       "      <td>0.000000</td>\n",
       "      <td>0.0000</td>\n",
       "      <td>0.000000</td>\n",
       "      <td>0.000000</td>\n",
       "      <td>0.000000</td>\n",
       "      <td>0.006352</td>\n",
       "      <td>-500.304951</td>\n",
       "      <td>0.008700</td>\n",
       "      <td>-499.262719</td>\n",
       "      <td>0.015159</td>\n",
       "      <td>-500.343851</td>\n",
       "      <td>0.008655</td>\n",
       "      <td>-500.76152</td>\n",
       "      <td>44626.689191</td>\n",
       "      <td>2627.172056</td>\n",
       "      <td>2626.420883</td>\n",
       "      <td>2.558466</td>\n",
       "      <td>9.159074</td>\n",
       "      <td>3.936331</td>\n",
       "      <td>350.562961</td>\n",
       "      <td>48.056016</td>\n",
       "      <td>33.308177</td>\n",
       "      <td>10.070971</td>\n",
       "      <td>9.002514</td>\n",
       "      <td>4.799556</td>\n",
       "      <td>9.008650</td>\n",
       "      <td>4.802135</td>\n",
       "      <td>12.809505</td>\n",
       "      <td>7.659938</td>\n",
       "      <td>32.599452</td>\n",
       "      <td>24.250112</td>\n",
       "      <td>82.886233</td>\n",
       "      <td>6.391698</td>\n",
       "      <td>0.847893</td>\n",
       "      <td>16.742977</td>\n",
       "      <td>2.628215</td>\n",
       "      <td>900.785691</td>\n",
       "      <td>-500.202407</td>\n",
       "      <td>1206.274557</td>\n",
       "      <td>-399.539908</td>\n",
       "      <td>1206.587607</td>\n",
       "      <td>-399.315260</td>\n",
       "      <td>1201.566358</td>\n",
       "      <td>-398.762402</td>\n",
       "      <td>1048.611273</td>\n",
       "      <td>-399.976748</td>\n",
       "      <td>948.560154</td>\n",
       "      <td>-401.059904</td>\n",
       "      <td>5.676882</td>\n",
       "      <td>1.776690</td>\n",
       "      <td>5.274518</td>\n",
       "      <td>3.210591</td>\n",
       "      <td>30.039381</td>\n",
       "      <td>-401.661142</td>\n",
       "      <td>24.894547</td>\n",
       "      <td>-400.429252</td>\n",
       "      <td>23.982009</td>\n",
       "      <td>-399.466613</td>\n",
       "      <td>15.953783</td>\n",
       "      <td>-400.185940</td>\n",
       "      <td>17.985631</td>\n",
       "      <td>-399.727175</td>\n",
       "      <td>9.947099</td>\n",
       "      <td>-400.188069</td>\n",
       "      <td>9.982761</td>\n",
       "      <td>-396.801088</td>\n",
       "      <td>4.976753</td>\n",
       "      <td>-400.430756</td>\n",
       "      <td>25.023599</td>\n",
       "      <td>-498.866859</td>\n",
       "    </tr>\n",
       "  </tbody>\n",
       "</table>\n",
       "</div>"
      ],
      "text/plain": [
       "                    date  final.output.concentrate_ag  \\\n",
       "4496 2016-08-23 14:59:59                     5.083731   \n",
       "4497 2016-08-23 15:59:59                     4.876925   \n",
       "\n",
       "      final.output.concentrate_pb  final.output.concentrate_sol  \\\n",
       "4496                    10.137440                      8.656940   \n",
       "4497                     9.820362                      9.756834   \n",
       "\n",
       "      final.output.concentrate_au  final.output.recovery  \\\n",
       "4496                    44.526598              53.410104   \n",
       "4497                    46.659128              62.456206   \n",
       "\n",
       "      final.output.tail_ag  final.output.tail_pb  final.output.tail_sol  \\\n",
       "4496              9.378425              3.190610               9.008972   \n",
       "4497              9.181017              2.797005               8.770914   \n",
       "\n",
       "      final.output.tail_au  primary_cleaner.input.sulfate  \\\n",
       "4496              5.530278                     137.285657   \n",
       "4497              4.370149                     132.673093   \n",
       "\n",
       "      primary_cleaner.input.depressant  primary_cleaner.input.feed_size  \\\n",
       "4496                          9.458449                             8.08   \n",
       "4497                          9.562038                             8.08   \n",
       "\n",
       "      primary_cleaner.input.xanthate  primary_cleaner.output.concentrate_ag  \\\n",
       "4496                        0.111984                               1.438242   \n",
       "4497                        0.111984                               0.000000   \n",
       "\n",
       "      primary_cleaner.output.concentrate_pb  \\\n",
       "4496                               11.33958   \n",
       "4497                                0.00000   \n",
       "\n",
       "      primary_cleaner.output.concentrate_sol  \\\n",
       "4496                               10.874298   \n",
       "4497                                0.000000   \n",
       "\n",
       "      primary_cleaner.output.concentrate_au  primary_cleaner.output.tail_ag  \\\n",
       "4496                               9.923395                          1.1209   \n",
       "4497                               0.000000                          0.0000   \n",
       "\n",
       "      primary_cleaner.output.tail_pb  primary_cleaner.output.tail_sol  \\\n",
       "4496                        0.290961                         0.720224   \n",
       "4497                        0.000000                         0.000000   \n",
       "\n",
       "      primary_cleaner.output.tail_au  primary_cleaner.state.floatbank8_a_air  \\\n",
       "4496                        1.122721                                0.016993   \n",
       "4497                        0.000000                                0.006352   \n",
       "\n",
       "      primary_cleaner.state.floatbank8_a_level  \\\n",
       "4496                               -499.020645   \n",
       "4497                               -500.304951   \n",
       "\n",
       "      primary_cleaner.state.floatbank8_b_air  \\\n",
       "4496                                0.023275   \n",
       "4497                                0.008700   \n",
       "\n",
       "      primary_cleaner.state.floatbank8_b_level  \\\n",
       "4496                               -501.276978   \n",
       "4497                               -499.262719   \n",
       "\n",
       "      primary_cleaner.state.floatbank8_c_air  \\\n",
       "4496                                0.040552   \n",
       "4497                                0.015159   \n",
       "\n",
       "      primary_cleaner.state.floatbank8_c_level  \\\n",
       "4496                               -499.823259   \n",
       "4497                               -500.343851   \n",
       "\n",
       "      primary_cleaner.state.floatbank8_d_air  \\\n",
       "4496                                0.023153   \n",
       "4497                                0.008655   \n",
       "\n",
       "      primary_cleaner.state.floatbank8_d_level  \\\n",
       "4496                                -499.60307   \n",
       "4497                                -500.76152   \n",
       "\n",
       "      rougher.calculation.sulfate_to_au_concentrate  \\\n",
       "4496                                   44560.881886   \n",
       "4497                                   44626.689191   \n",
       "\n",
       "      rougher.calculation.floatbank10_sulfate_to_au_feed  \\\n",
       "4496                                        2544.726289    \n",
       "4497                                        2627.172056    \n",
       "\n",
       "      rougher.calculation.floatbank11_sulfate_to_au_feed  \\\n",
       "4496                                        2548.718203    \n",
       "4497                                        2626.420883    \n",
       "\n",
       "      rougher.calculation.au_pb_ratio  rougher.input.feed_ag  \\\n",
       "4496                         2.580822               9.442157   \n",
       "4497                         2.558466               9.159074   \n",
       "\n",
       "      rougher.input.feed_pb  rougher.input.feed_rate  rougher.input.feed_size  \\\n",
       "4496               4.026106               350.107465                48.781989   \n",
       "4497               3.936331               350.562961                48.056016   \n",
       "\n",
       "      rougher.input.feed_sol  rougher.input.feed_au  \\\n",
       "4496               35.185757              10.390665   \n",
       "4497               33.308177              10.070971   \n",
       "\n",
       "      rougher.input.floatbank10_sulfate  rougher.input.floatbank10_xanthate  \\\n",
       "4496                           9.007773                            4.797336   \n",
       "4497                           9.002514                            4.799556   \n",
       "\n",
       "      rougher.input.floatbank11_sulfate  rougher.input.floatbank11_xanthate  \\\n",
       "4496                           9.004379                            4.800689   \n",
       "4497                           9.008650                            4.802135   \n",
       "\n",
       "      rougher.output.concentrate_ag  rougher.output.concentrate_pb  \\\n",
       "4496                      12.407927                       7.295667   \n",
       "4497                      12.809505                       7.659938   \n",
       "\n",
       "      rougher.output.concentrate_sol  rougher.output.concentrate_au  \\\n",
       "4496                       28.181635                      21.803817   \n",
       "4497                       32.599452                      24.250112   \n",
       "\n",
       "      rougher.output.recovery  rougher.output.tail_ag  rougher.output.tail_pb  \\\n",
       "4496                86.835549                6.148611                0.749412   \n",
       "4497                82.886233                6.391698                0.847893   \n",
       "\n",
       "      rougher.output.tail_sol  rougher.output.tail_au  \\\n",
       "4496                17.424158                2.333527   \n",
       "4497                16.742977                2.628215   \n",
       "\n",
       "      rougher.state.floatbank10_a_air  rougher.state.floatbank10_a_level  \\\n",
       "4496                       899.694387                        -499.550395   \n",
       "4497                       900.785691                        -500.202407   \n",
       "\n",
       "      rougher.state.floatbank10_b_air  rougher.state.floatbank10_b_level  \\\n",
       "4496                      1374.208462                        -398.489007   \n",
       "4497                      1206.274557                        -399.539908   \n",
       "\n",
       "      rougher.state.floatbank10_c_air  rougher.state.floatbank10_c_level  \\\n",
       "4496                      1364.147828                        -397.443715   \n",
       "4497                      1206.587607                        -399.315260   \n",
       "\n",
       "      rougher.state.floatbank10_d_air  rougher.state.floatbank10_d_level  \\\n",
       "4496                      1240.603834                        -399.016439   \n",
       "4497                      1201.566358                        -398.762402   \n",
       "\n",
       "      rougher.state.floatbank10_e_air  rougher.state.floatbank10_e_level  \\\n",
       "4496                      1050.953863                        -400.154026   \n",
       "4497                      1048.611273                        -399.976748   \n",
       "\n",
       "      rougher.state.floatbank10_f_air  rougher.state.floatbank10_f_level  \\\n",
       "4496                       950.924105                        -400.426305   \n",
       "4497                       948.560154                        -401.059904   \n",
       "\n",
       "      secondary_cleaner.output.tail_ag  secondary_cleaner.output.tail_pb  \\\n",
       "4496                          8.469689                          2.431039   \n",
       "4497                          5.676882                          1.776690   \n",
       "\n",
       "      secondary_cleaner.output.tail_sol  secondary_cleaner.output.tail_au  \\\n",
       "4496                           7.128592                          4.196606   \n",
       "4497                           5.274518                          3.210591   \n",
       "\n",
       "      secondary_cleaner.state.floatbank2_a_air  \\\n",
       "4496                                 29.468454   \n",
       "4497                                 30.039381   \n",
       "\n",
       "      secondary_cleaner.state.floatbank2_a_level  \\\n",
       "4496                                 -399.903145   \n",
       "4497                                 -401.661142   \n",
       "\n",
       "      secondary_cleaner.state.floatbank2_b_air  \\\n",
       "4496                                 23.839584   \n",
       "4497                                 24.894547   \n",
       "\n",
       "      secondary_cleaner.state.floatbank2_b_level  \\\n",
       "4496                                 -401.027430   \n",
       "4497                                 -400.429252   \n",
       "\n",
       "      secondary_cleaner.state.floatbank3_a_air  \\\n",
       "4496                                 23.916957   \n",
       "4497                                 23.982009   \n",
       "\n",
       "      secondary_cleaner.state.floatbank3_a_level  \\\n",
       "4496                                 -399.566011   \n",
       "4497                                 -399.466613   \n",
       "\n",
       "      secondary_cleaner.state.floatbank3_b_air  \\\n",
       "4496                                 15.952405   \n",
       "4497                                 15.953783   \n",
       "\n",
       "      secondary_cleaner.state.floatbank3_b_level  \\\n",
       "4496                                 -399.801105   \n",
       "4497                                 -400.185940   \n",
       "\n",
       "      secondary_cleaner.state.floatbank4_a_air  \\\n",
       "4496                                 17.962890   \n",
       "4497                                 17.985631   \n",
       "\n",
       "      secondary_cleaner.state.floatbank4_a_level  \\\n",
       "4496                                 -399.856508   \n",
       "4497                                 -399.727175   \n",
       "\n",
       "      secondary_cleaner.state.floatbank4_b_air  \\\n",
       "4496                                 10.046007   \n",
       "4497                                  9.947099   \n",
       "\n",
       "      secondary_cleaner.state.floatbank4_b_level  \\\n",
       "4496                                 -403.844511   \n",
       "4497                                 -400.188069   \n",
       "\n",
       "      secondary_cleaner.state.floatbank5_a_air  \\\n",
       "4496                                 10.004214   \n",
       "4497                                  9.982761   \n",
       "\n",
       "      secondary_cleaner.state.floatbank5_a_level  \\\n",
       "4496                                 -399.028523   \n",
       "4497                                 -396.801088   \n",
       "\n",
       "      secondary_cleaner.state.floatbank5_b_air  \\\n",
       "4496                                  5.004691   \n",
       "4497                                  4.976753   \n",
       "\n",
       "      secondary_cleaner.state.floatbank5_b_level  \\\n",
       "4496                                 -401.004709   \n",
       "4497                                 -400.430756   \n",
       "\n",
       "      secondary_cleaner.state.floatbank6_a_air  \\\n",
       "4496                                 24.962476   \n",
       "4497                                 25.023599   \n",
       "\n",
       "      secondary_cleaner.state.floatbank6_a_level  \n",
       "4496                                 -500.704776  \n",
       "4497                                 -498.866859  "
      ]
     },
     "execution_count": 25,
     "metadata": {},
     "output_type": "execute_result"
    }
   ],
   "source": [
    "train_df[train_df['primary_cleaner.state.floatbank8_a_air']<1]"
   ]
  },
  {
   "cell_type": "code",
   "execution_count": 26,
   "metadata": {},
   "outputs": [
    {
     "data": {
      "text/html": [
       "<div>\n",
       "<style scoped>\n",
       "    .dataframe tbody tr th:only-of-type {\n",
       "        vertical-align: middle;\n",
       "    }\n",
       "\n",
       "    .dataframe tbody tr th {\n",
       "        vertical-align: top;\n",
       "    }\n",
       "\n",
       "    .dataframe thead th {\n",
       "        text-align: right;\n",
       "    }\n",
       "</style>\n",
       "<table border=\"1\" class=\"dataframe\">\n",
       "  <thead>\n",
       "    <tr style=\"text-align: right;\">\n",
       "      <th></th>\n",
       "      <th>date</th>\n",
       "      <th>final.output.concentrate_ag</th>\n",
       "      <th>final.output.concentrate_pb</th>\n",
       "      <th>final.output.concentrate_sol</th>\n",
       "      <th>final.output.concentrate_au</th>\n",
       "      <th>final.output.recovery</th>\n",
       "      <th>final.output.tail_ag</th>\n",
       "      <th>final.output.tail_pb</th>\n",
       "      <th>final.output.tail_sol</th>\n",
       "      <th>final.output.tail_au</th>\n",
       "      <th>primary_cleaner.input.sulfate</th>\n",
       "      <th>primary_cleaner.input.depressant</th>\n",
       "      <th>primary_cleaner.input.feed_size</th>\n",
       "      <th>primary_cleaner.input.xanthate</th>\n",
       "      <th>primary_cleaner.output.concentrate_ag</th>\n",
       "      <th>primary_cleaner.output.concentrate_pb</th>\n",
       "      <th>primary_cleaner.output.concentrate_sol</th>\n",
       "      <th>primary_cleaner.output.concentrate_au</th>\n",
       "      <th>primary_cleaner.output.tail_ag</th>\n",
       "      <th>primary_cleaner.output.tail_pb</th>\n",
       "      <th>primary_cleaner.output.tail_sol</th>\n",
       "      <th>primary_cleaner.output.tail_au</th>\n",
       "      <th>primary_cleaner.state.floatbank8_a_air</th>\n",
       "      <th>primary_cleaner.state.floatbank8_a_level</th>\n",
       "      <th>primary_cleaner.state.floatbank8_b_air</th>\n",
       "      <th>primary_cleaner.state.floatbank8_b_level</th>\n",
       "      <th>primary_cleaner.state.floatbank8_c_air</th>\n",
       "      <th>primary_cleaner.state.floatbank8_c_level</th>\n",
       "      <th>primary_cleaner.state.floatbank8_d_air</th>\n",
       "      <th>primary_cleaner.state.floatbank8_d_level</th>\n",
       "      <th>rougher.calculation.sulfate_to_au_concentrate</th>\n",
       "      <th>rougher.calculation.floatbank10_sulfate_to_au_feed</th>\n",
       "      <th>rougher.calculation.floatbank11_sulfate_to_au_feed</th>\n",
       "      <th>rougher.calculation.au_pb_ratio</th>\n",
       "      <th>rougher.input.feed_ag</th>\n",
       "      <th>rougher.input.feed_pb</th>\n",
       "      <th>rougher.input.feed_rate</th>\n",
       "      <th>rougher.input.feed_size</th>\n",
       "      <th>rougher.input.feed_sol</th>\n",
       "      <th>rougher.input.feed_au</th>\n",
       "      <th>rougher.input.floatbank10_sulfate</th>\n",
       "      <th>rougher.input.floatbank10_xanthate</th>\n",
       "      <th>rougher.input.floatbank11_sulfate</th>\n",
       "      <th>rougher.input.floatbank11_xanthate</th>\n",
       "      <th>rougher.output.concentrate_ag</th>\n",
       "      <th>rougher.output.concentrate_pb</th>\n",
       "      <th>rougher.output.concentrate_sol</th>\n",
       "      <th>rougher.output.concentrate_au</th>\n",
       "      <th>rougher.output.recovery</th>\n",
       "      <th>rougher.output.tail_ag</th>\n",
       "      <th>rougher.output.tail_pb</th>\n",
       "      <th>rougher.output.tail_sol</th>\n",
       "      <th>rougher.output.tail_au</th>\n",
       "      <th>rougher.state.floatbank10_a_air</th>\n",
       "      <th>rougher.state.floatbank10_a_level</th>\n",
       "      <th>rougher.state.floatbank10_b_air</th>\n",
       "      <th>rougher.state.floatbank10_b_level</th>\n",
       "      <th>rougher.state.floatbank10_c_air</th>\n",
       "      <th>rougher.state.floatbank10_c_level</th>\n",
       "      <th>rougher.state.floatbank10_d_air</th>\n",
       "      <th>rougher.state.floatbank10_d_level</th>\n",
       "      <th>rougher.state.floatbank10_e_air</th>\n",
       "      <th>rougher.state.floatbank10_e_level</th>\n",
       "      <th>rougher.state.floatbank10_f_air</th>\n",
       "      <th>rougher.state.floatbank10_f_level</th>\n",
       "      <th>secondary_cleaner.output.tail_ag</th>\n",
       "      <th>secondary_cleaner.output.tail_pb</th>\n",
       "      <th>secondary_cleaner.output.tail_sol</th>\n",
       "      <th>secondary_cleaner.output.tail_au</th>\n",
       "      <th>secondary_cleaner.state.floatbank2_a_air</th>\n",
       "      <th>secondary_cleaner.state.floatbank2_a_level</th>\n",
       "      <th>secondary_cleaner.state.floatbank2_b_air</th>\n",
       "      <th>secondary_cleaner.state.floatbank2_b_level</th>\n",
       "      <th>secondary_cleaner.state.floatbank3_a_air</th>\n",
       "      <th>secondary_cleaner.state.floatbank3_a_level</th>\n",
       "      <th>secondary_cleaner.state.floatbank3_b_air</th>\n",
       "      <th>secondary_cleaner.state.floatbank3_b_level</th>\n",
       "      <th>secondary_cleaner.state.floatbank4_a_air</th>\n",
       "      <th>secondary_cleaner.state.floatbank4_a_level</th>\n",
       "      <th>secondary_cleaner.state.floatbank4_b_air</th>\n",
       "      <th>secondary_cleaner.state.floatbank4_b_level</th>\n",
       "      <th>secondary_cleaner.state.floatbank5_a_air</th>\n",
       "      <th>secondary_cleaner.state.floatbank5_a_level</th>\n",
       "      <th>secondary_cleaner.state.floatbank5_b_air</th>\n",
       "      <th>secondary_cleaner.state.floatbank5_b_level</th>\n",
       "      <th>secondary_cleaner.state.floatbank6_a_air</th>\n",
       "      <th>secondary_cleaner.state.floatbank6_a_level</th>\n",
       "    </tr>\n",
       "  </thead>\n",
       "  <tbody>\n",
       "    <tr>\n",
       "      <th>4496</th>\n",
       "      <td>2016-08-23 14:59:59</td>\n",
       "      <td>5.083731</td>\n",
       "      <td>10.137440</td>\n",
       "      <td>8.656940</td>\n",
       "      <td>44.526598</td>\n",
       "      <td>53.410104</td>\n",
       "      <td>9.378425</td>\n",
       "      <td>3.190610</td>\n",
       "      <td>9.008972</td>\n",
       "      <td>5.530278</td>\n",
       "      <td>137.285657</td>\n",
       "      <td>9.458449</td>\n",
       "      <td>8.08</td>\n",
       "      <td>0.111984</td>\n",
       "      <td>1.438242</td>\n",
       "      <td>11.33958</td>\n",
       "      <td>10.874298</td>\n",
       "      <td>9.923395</td>\n",
       "      <td>1.1209</td>\n",
       "      <td>0.290961</td>\n",
       "      <td>0.720224</td>\n",
       "      <td>1.122721</td>\n",
       "      <td>0.016993</td>\n",
       "      <td>-499.020645</td>\n",
       "      <td>0.023275</td>\n",
       "      <td>-501.276978</td>\n",
       "      <td>0.040552</td>\n",
       "      <td>-499.823259</td>\n",
       "      <td>0.023153</td>\n",
       "      <td>-499.60307</td>\n",
       "      <td>44560.881886</td>\n",
       "      <td>2544.726289</td>\n",
       "      <td>2548.718203</td>\n",
       "      <td>2.580822</td>\n",
       "      <td>9.442157</td>\n",
       "      <td>4.026106</td>\n",
       "      <td>350.107465</td>\n",
       "      <td>48.781989</td>\n",
       "      <td>35.185757</td>\n",
       "      <td>10.390665</td>\n",
       "      <td>9.007773</td>\n",
       "      <td>4.797336</td>\n",
       "      <td>9.004379</td>\n",
       "      <td>4.800689</td>\n",
       "      <td>12.407927</td>\n",
       "      <td>7.295667</td>\n",
       "      <td>28.181635</td>\n",
       "      <td>21.803817</td>\n",
       "      <td>86.835549</td>\n",
       "      <td>6.148611</td>\n",
       "      <td>0.749412</td>\n",
       "      <td>17.424158</td>\n",
       "      <td>2.333527</td>\n",
       "      <td>899.694387</td>\n",
       "      <td>-499.550395</td>\n",
       "      <td>1374.208462</td>\n",
       "      <td>-398.489007</td>\n",
       "      <td>1364.147828</td>\n",
       "      <td>-397.443715</td>\n",
       "      <td>1240.603834</td>\n",
       "      <td>-399.016439</td>\n",
       "      <td>1050.953863</td>\n",
       "      <td>-400.154026</td>\n",
       "      <td>950.924105</td>\n",
       "      <td>-400.426305</td>\n",
       "      <td>8.469689</td>\n",
       "      <td>2.431039</td>\n",
       "      <td>7.128592</td>\n",
       "      <td>4.196606</td>\n",
       "      <td>29.468454</td>\n",
       "      <td>-399.903145</td>\n",
       "      <td>23.839584</td>\n",
       "      <td>-401.027430</td>\n",
       "      <td>23.916957</td>\n",
       "      <td>-399.566011</td>\n",
       "      <td>15.952405</td>\n",
       "      <td>-399.801105</td>\n",
       "      <td>17.962890</td>\n",
       "      <td>-399.856508</td>\n",
       "      <td>10.046007</td>\n",
       "      <td>-403.844511</td>\n",
       "      <td>10.004214</td>\n",
       "      <td>-399.028523</td>\n",
       "      <td>5.004691</td>\n",
       "      <td>-401.004709</td>\n",
       "      <td>24.962476</td>\n",
       "      <td>-500.704776</td>\n",
       "    </tr>\n",
       "    <tr>\n",
       "      <th>4497</th>\n",
       "      <td>2016-08-23 15:59:59</td>\n",
       "      <td>4.876925</td>\n",
       "      <td>9.820362</td>\n",
       "      <td>9.756834</td>\n",
       "      <td>46.659128</td>\n",
       "      <td>62.456206</td>\n",
       "      <td>9.181017</td>\n",
       "      <td>2.797005</td>\n",
       "      <td>8.770914</td>\n",
       "      <td>4.370149</td>\n",
       "      <td>132.673093</td>\n",
       "      <td>9.562038</td>\n",
       "      <td>8.08</td>\n",
       "      <td>0.111984</td>\n",
       "      <td>0.000000</td>\n",
       "      <td>0.00000</td>\n",
       "      <td>0.000000</td>\n",
       "      <td>0.000000</td>\n",
       "      <td>0.0000</td>\n",
       "      <td>0.000000</td>\n",
       "      <td>0.000000</td>\n",
       "      <td>0.000000</td>\n",
       "      <td>0.006352</td>\n",
       "      <td>-500.304951</td>\n",
       "      <td>0.008700</td>\n",
       "      <td>-499.262719</td>\n",
       "      <td>0.015159</td>\n",
       "      <td>-500.343851</td>\n",
       "      <td>0.008655</td>\n",
       "      <td>-500.76152</td>\n",
       "      <td>44626.689191</td>\n",
       "      <td>2627.172056</td>\n",
       "      <td>2626.420883</td>\n",
       "      <td>2.558466</td>\n",
       "      <td>9.159074</td>\n",
       "      <td>3.936331</td>\n",
       "      <td>350.562961</td>\n",
       "      <td>48.056016</td>\n",
       "      <td>33.308177</td>\n",
       "      <td>10.070971</td>\n",
       "      <td>9.002514</td>\n",
       "      <td>4.799556</td>\n",
       "      <td>9.008650</td>\n",
       "      <td>4.802135</td>\n",
       "      <td>12.809505</td>\n",
       "      <td>7.659938</td>\n",
       "      <td>32.599452</td>\n",
       "      <td>24.250112</td>\n",
       "      <td>82.886233</td>\n",
       "      <td>6.391698</td>\n",
       "      <td>0.847893</td>\n",
       "      <td>16.742977</td>\n",
       "      <td>2.628215</td>\n",
       "      <td>900.785691</td>\n",
       "      <td>-500.202407</td>\n",
       "      <td>1206.274557</td>\n",
       "      <td>-399.539908</td>\n",
       "      <td>1206.587607</td>\n",
       "      <td>-399.315260</td>\n",
       "      <td>1201.566358</td>\n",
       "      <td>-398.762402</td>\n",
       "      <td>1048.611273</td>\n",
       "      <td>-399.976748</td>\n",
       "      <td>948.560154</td>\n",
       "      <td>-401.059904</td>\n",
       "      <td>5.676882</td>\n",
       "      <td>1.776690</td>\n",
       "      <td>5.274518</td>\n",
       "      <td>3.210591</td>\n",
       "      <td>30.039381</td>\n",
       "      <td>-401.661142</td>\n",
       "      <td>24.894547</td>\n",
       "      <td>-400.429252</td>\n",
       "      <td>23.982009</td>\n",
       "      <td>-399.466613</td>\n",
       "      <td>15.953783</td>\n",
       "      <td>-400.185940</td>\n",
       "      <td>17.985631</td>\n",
       "      <td>-399.727175</td>\n",
       "      <td>9.947099</td>\n",
       "      <td>-400.188069</td>\n",
       "      <td>9.982761</td>\n",
       "      <td>-396.801088</td>\n",
       "      <td>4.976753</td>\n",
       "      <td>-400.430756</td>\n",
       "      <td>25.023599</td>\n",
       "      <td>-498.866859</td>\n",
       "    </tr>\n",
       "  </tbody>\n",
       "</table>\n",
       "</div>"
      ],
      "text/plain": [
       "                    date  final.output.concentrate_ag  \\\n",
       "4496 2016-08-23 14:59:59                     5.083731   \n",
       "4497 2016-08-23 15:59:59                     4.876925   \n",
       "\n",
       "      final.output.concentrate_pb  final.output.concentrate_sol  \\\n",
       "4496                    10.137440                      8.656940   \n",
       "4497                     9.820362                      9.756834   \n",
       "\n",
       "      final.output.concentrate_au  final.output.recovery  \\\n",
       "4496                    44.526598              53.410104   \n",
       "4497                    46.659128              62.456206   \n",
       "\n",
       "      final.output.tail_ag  final.output.tail_pb  final.output.tail_sol  \\\n",
       "4496              9.378425              3.190610               9.008972   \n",
       "4497              9.181017              2.797005               8.770914   \n",
       "\n",
       "      final.output.tail_au  primary_cleaner.input.sulfate  \\\n",
       "4496              5.530278                     137.285657   \n",
       "4497              4.370149                     132.673093   \n",
       "\n",
       "      primary_cleaner.input.depressant  primary_cleaner.input.feed_size  \\\n",
       "4496                          9.458449                             8.08   \n",
       "4497                          9.562038                             8.08   \n",
       "\n",
       "      primary_cleaner.input.xanthate  primary_cleaner.output.concentrate_ag  \\\n",
       "4496                        0.111984                               1.438242   \n",
       "4497                        0.111984                               0.000000   \n",
       "\n",
       "      primary_cleaner.output.concentrate_pb  \\\n",
       "4496                               11.33958   \n",
       "4497                                0.00000   \n",
       "\n",
       "      primary_cleaner.output.concentrate_sol  \\\n",
       "4496                               10.874298   \n",
       "4497                                0.000000   \n",
       "\n",
       "      primary_cleaner.output.concentrate_au  primary_cleaner.output.tail_ag  \\\n",
       "4496                               9.923395                          1.1209   \n",
       "4497                               0.000000                          0.0000   \n",
       "\n",
       "      primary_cleaner.output.tail_pb  primary_cleaner.output.tail_sol  \\\n",
       "4496                        0.290961                         0.720224   \n",
       "4497                        0.000000                         0.000000   \n",
       "\n",
       "      primary_cleaner.output.tail_au  primary_cleaner.state.floatbank8_a_air  \\\n",
       "4496                        1.122721                                0.016993   \n",
       "4497                        0.000000                                0.006352   \n",
       "\n",
       "      primary_cleaner.state.floatbank8_a_level  \\\n",
       "4496                               -499.020645   \n",
       "4497                               -500.304951   \n",
       "\n",
       "      primary_cleaner.state.floatbank8_b_air  \\\n",
       "4496                                0.023275   \n",
       "4497                                0.008700   \n",
       "\n",
       "      primary_cleaner.state.floatbank8_b_level  \\\n",
       "4496                               -501.276978   \n",
       "4497                               -499.262719   \n",
       "\n",
       "      primary_cleaner.state.floatbank8_c_air  \\\n",
       "4496                                0.040552   \n",
       "4497                                0.015159   \n",
       "\n",
       "      primary_cleaner.state.floatbank8_c_level  \\\n",
       "4496                               -499.823259   \n",
       "4497                               -500.343851   \n",
       "\n",
       "      primary_cleaner.state.floatbank8_d_air  \\\n",
       "4496                                0.023153   \n",
       "4497                                0.008655   \n",
       "\n",
       "      primary_cleaner.state.floatbank8_d_level  \\\n",
       "4496                                -499.60307   \n",
       "4497                                -500.76152   \n",
       "\n",
       "      rougher.calculation.sulfate_to_au_concentrate  \\\n",
       "4496                                   44560.881886   \n",
       "4497                                   44626.689191   \n",
       "\n",
       "      rougher.calculation.floatbank10_sulfate_to_au_feed  \\\n",
       "4496                                        2544.726289    \n",
       "4497                                        2627.172056    \n",
       "\n",
       "      rougher.calculation.floatbank11_sulfate_to_au_feed  \\\n",
       "4496                                        2548.718203    \n",
       "4497                                        2626.420883    \n",
       "\n",
       "      rougher.calculation.au_pb_ratio  rougher.input.feed_ag  \\\n",
       "4496                         2.580822               9.442157   \n",
       "4497                         2.558466               9.159074   \n",
       "\n",
       "      rougher.input.feed_pb  rougher.input.feed_rate  rougher.input.feed_size  \\\n",
       "4496               4.026106               350.107465                48.781989   \n",
       "4497               3.936331               350.562961                48.056016   \n",
       "\n",
       "      rougher.input.feed_sol  rougher.input.feed_au  \\\n",
       "4496               35.185757              10.390665   \n",
       "4497               33.308177              10.070971   \n",
       "\n",
       "      rougher.input.floatbank10_sulfate  rougher.input.floatbank10_xanthate  \\\n",
       "4496                           9.007773                            4.797336   \n",
       "4497                           9.002514                            4.799556   \n",
       "\n",
       "      rougher.input.floatbank11_sulfate  rougher.input.floatbank11_xanthate  \\\n",
       "4496                           9.004379                            4.800689   \n",
       "4497                           9.008650                            4.802135   \n",
       "\n",
       "      rougher.output.concentrate_ag  rougher.output.concentrate_pb  \\\n",
       "4496                      12.407927                       7.295667   \n",
       "4497                      12.809505                       7.659938   \n",
       "\n",
       "      rougher.output.concentrate_sol  rougher.output.concentrate_au  \\\n",
       "4496                       28.181635                      21.803817   \n",
       "4497                       32.599452                      24.250112   \n",
       "\n",
       "      rougher.output.recovery  rougher.output.tail_ag  rougher.output.tail_pb  \\\n",
       "4496                86.835549                6.148611                0.749412   \n",
       "4497                82.886233                6.391698                0.847893   \n",
       "\n",
       "      rougher.output.tail_sol  rougher.output.tail_au  \\\n",
       "4496                17.424158                2.333527   \n",
       "4497                16.742977                2.628215   \n",
       "\n",
       "      rougher.state.floatbank10_a_air  rougher.state.floatbank10_a_level  \\\n",
       "4496                       899.694387                        -499.550395   \n",
       "4497                       900.785691                        -500.202407   \n",
       "\n",
       "      rougher.state.floatbank10_b_air  rougher.state.floatbank10_b_level  \\\n",
       "4496                      1374.208462                        -398.489007   \n",
       "4497                      1206.274557                        -399.539908   \n",
       "\n",
       "      rougher.state.floatbank10_c_air  rougher.state.floatbank10_c_level  \\\n",
       "4496                      1364.147828                        -397.443715   \n",
       "4497                      1206.587607                        -399.315260   \n",
       "\n",
       "      rougher.state.floatbank10_d_air  rougher.state.floatbank10_d_level  \\\n",
       "4496                      1240.603834                        -399.016439   \n",
       "4497                      1201.566358                        -398.762402   \n",
       "\n",
       "      rougher.state.floatbank10_e_air  rougher.state.floatbank10_e_level  \\\n",
       "4496                      1050.953863                        -400.154026   \n",
       "4497                      1048.611273                        -399.976748   \n",
       "\n",
       "      rougher.state.floatbank10_f_air  rougher.state.floatbank10_f_level  \\\n",
       "4496                       950.924105                        -400.426305   \n",
       "4497                       948.560154                        -401.059904   \n",
       "\n",
       "      secondary_cleaner.output.tail_ag  secondary_cleaner.output.tail_pb  \\\n",
       "4496                          8.469689                          2.431039   \n",
       "4497                          5.676882                          1.776690   \n",
       "\n",
       "      secondary_cleaner.output.tail_sol  secondary_cleaner.output.tail_au  \\\n",
       "4496                           7.128592                          4.196606   \n",
       "4497                           5.274518                          3.210591   \n",
       "\n",
       "      secondary_cleaner.state.floatbank2_a_air  \\\n",
       "4496                                 29.468454   \n",
       "4497                                 30.039381   \n",
       "\n",
       "      secondary_cleaner.state.floatbank2_a_level  \\\n",
       "4496                                 -399.903145   \n",
       "4497                                 -401.661142   \n",
       "\n",
       "      secondary_cleaner.state.floatbank2_b_air  \\\n",
       "4496                                 23.839584   \n",
       "4497                                 24.894547   \n",
       "\n",
       "      secondary_cleaner.state.floatbank2_b_level  \\\n",
       "4496                                 -401.027430   \n",
       "4497                                 -400.429252   \n",
       "\n",
       "      secondary_cleaner.state.floatbank3_a_air  \\\n",
       "4496                                 23.916957   \n",
       "4497                                 23.982009   \n",
       "\n",
       "      secondary_cleaner.state.floatbank3_a_level  \\\n",
       "4496                                 -399.566011   \n",
       "4497                                 -399.466613   \n",
       "\n",
       "      secondary_cleaner.state.floatbank3_b_air  \\\n",
       "4496                                 15.952405   \n",
       "4497                                 15.953783   \n",
       "\n",
       "      secondary_cleaner.state.floatbank3_b_level  \\\n",
       "4496                                 -399.801105   \n",
       "4497                                 -400.185940   \n",
       "\n",
       "      secondary_cleaner.state.floatbank4_a_air  \\\n",
       "4496                                 17.962890   \n",
       "4497                                 17.985631   \n",
       "\n",
       "      secondary_cleaner.state.floatbank4_a_level  \\\n",
       "4496                                 -399.856508   \n",
       "4497                                 -399.727175   \n",
       "\n",
       "      secondary_cleaner.state.floatbank4_b_air  \\\n",
       "4496                                 10.046007   \n",
       "4497                                  9.947099   \n",
       "\n",
       "      secondary_cleaner.state.floatbank4_b_level  \\\n",
       "4496                                 -403.844511   \n",
       "4497                                 -400.188069   \n",
       "\n",
       "      secondary_cleaner.state.floatbank5_a_air  \\\n",
       "4496                                 10.004214   \n",
       "4497                                  9.982761   \n",
       "\n",
       "      secondary_cleaner.state.floatbank5_a_level  \\\n",
       "4496                                 -399.028523   \n",
       "4497                                 -396.801088   \n",
       "\n",
       "      secondary_cleaner.state.floatbank5_b_air  \\\n",
       "4496                                  5.004691   \n",
       "4497                                  4.976753   \n",
       "\n",
       "      secondary_cleaner.state.floatbank5_b_level  \\\n",
       "4496                                 -401.004709   \n",
       "4497                                 -400.430756   \n",
       "\n",
       "      secondary_cleaner.state.floatbank6_a_air  \\\n",
       "4496                                 24.962476   \n",
       "4497                                 25.023599   \n",
       "\n",
       "      secondary_cleaner.state.floatbank6_a_level  \n",
       "4496                                 -500.704776  \n",
       "4497                                 -498.866859  "
      ]
     },
     "execution_count": 26,
     "metadata": {},
     "output_type": "execute_result"
    }
   ],
   "source": [
    "train_df[train_df['primary_cleaner.state.floatbank8_d_air']<1]"
   ]
  },
  {
   "cell_type": "markdown",
   "metadata": {},
   "source": [
    "Обратим внимание, что выбросы присутствуют в одних и тех же строках, удалим их для дальнейшего построения модели."
   ]
  },
  {
   "cell_type": "code",
   "execution_count": 27,
   "metadata": {},
   "outputs": [],
   "source": [
    "train_df = train_df.drop(train_df[(train_df['rougher.state.floatbank10_c_air']<1) | (train_df['primary_cleaner.state.floatbank8_d_air']<1)].index, axis=0)\n",
    "full_df = full_df.drop(full_df[(full_df['rougher.state.floatbank10_c_air']<1) | (full_df['primary_cleaner.state.floatbank8_d_air']<1)].index, axis=0)"
   ]
  },
  {
   "cell_type": "code",
   "execution_count": 28,
   "metadata": {},
   "outputs": [
    {
     "name": "stdout",
     "output_type": "stream",
     "text": [
      "Количество строк в обучающей выборке после удаления выбросов: 14145\n"
     ]
    }
   ],
   "source": [
    "print('Количество строк в обучающей выборке после удаления выбросов:', train_df.shape[0])"
   ]
  },
  {
   "cell_type": "markdown",
   "metadata": {},
   "source": [
    "Проверим пропуски в тестовой выборке и также заменим их соседними значениями."
   ]
  },
  {
   "cell_type": "code",
   "execution_count": 29,
   "metadata": {},
   "outputs": [
    {
     "name": "stdout",
     "output_type": "stream",
     "text": [
      "Пропущенные значения в тестовой выборке: 90\n"
     ]
    }
   ],
   "source": [
    "print('Пропущенные значения в тестовой выборке:', test_df.isna().sum().sum())"
   ]
  },
  {
   "cell_type": "code",
   "execution_count": 30,
   "metadata": {},
   "outputs": [],
   "source": [
    "# Заменим пропущенные значения предыдущими\n",
    "test_df = test_df.fillna(method='ffill')"
   ]
  },
  {
   "cell_type": "code",
   "execution_count": 31,
   "metadata": {},
   "outputs": [
    {
     "name": "stdout",
     "output_type": "stream",
     "text": [
      "Пропущенные значения в тестовой выборке после обработки: 0\n"
     ]
    }
   ],
   "source": [
    "print('Пропущенные значения в тестовой выборке после обработки:', test_df.isna().sum().sum())"
   ]
  },
  {
   "cell_type": "markdown",
   "metadata": {},
   "source": [
    "По итогу предобработки данных пропущенные значения были заменены соседними, так как по условию задания соседние по времени параметры часто похожи. В столбцах 'date' во всех выборках были исправлены типы данных. Проверены дубликаты. В данных выборках их нет. В тестовую выборку вставлены столбцы 'final.output.concentrate_au и 'rougher.output.concentrate_au', так как они необходимы для расчета качества модели на тестовой выборки.\n",
    "Проанализированы и удалены выбросы. Таким образом, после предобработки были удалены незначительное количество выбросов.Было обнаружено, что в тестовой выборке отсутствуют часть столбцов, которые присутствуют в обучающей выборке. Перед построением модели их надо удалить."
   ]
  },
  {
   "cell_type": "markdown",
   "metadata": {},
   "source": [
    "## Анализ данных"
   ]
  },
  {
   "cell_type": "markdown",
   "metadata": {},
   "source": [
    "### Посмотрите, как меняется концентрация металлов (Au, Ag, Pb) на различных этапах очистки. Опишите выводы"
   ]
  },
  {
   "cell_type": "code",
   "execution_count": 32,
   "metadata": {},
   "outputs": [
    {
     "data": {
      "image/png": "[encoded data removed]",
      "text/plain": [
       "<Figure size 1080x1224 with 3 Axes>"
      ]
     },
     "metadata": {
      "needs_background": "light"
     },
     "output_type": "display_data"
    }
   ],
   "source": [
    "# Цикл для построения графиков попеременно\n",
    "position = 0\n",
    "plt.figure(figsize=[15, 17])\n",
    "for metal in ['au', 'ag', 'pb']:\n",
    "    position += 1\n",
    "    plt.subplot(3, 1, position)\n",
    "    plt.title(f'График Распределения металла {str(metal).upper()} на различных этапах очистки', fontsize=13)\n",
    "    sns.histplot(train_df[f'rougher.input.feed_{metal}'], color='y', label='Сырье', kde=False)\n",
    "    sns.histplot(train_df[f'rougher.output.concentrate_{metal}'], color='b', label='Концентрация после флотации')\n",
    "    sns.histplot(train_df[f'primary_cleaner.output.concentrate_{metal}'], color='g', label='Концентрация после первичной очистки')\n",
    "    sns.histplot(train_df[f'final.output.concentrate_{metal}'], color='r', label='Финальная концетрация металла')\n",
    "    plt.xlabel('Концентрация металла')\n",
    "    plt.ylabel('Количество наблюдений')\n",
    "    plt.legend()\n",
    "plt.show();"
   ]
  },
  {
   "cell_type": "markdown",
   "metadata": {},
   "source": [
    "Отметим, что в выборке присутсвуют значения возле 0. Это выбросы, необходимо их удалить. На графиках видно, что доля золота после каждого этапа очистки постепенно увеличивается. Доля серебра увеличивается на этапе флотации и максимально уменьшается на финальной очистке. Доля свинца увеличивается до этапа флотации, а потом остается примерно на одном уровне. "
   ]
  },
  {
   "cell_type": "markdown",
   "metadata": {},
   "source": [
    "### Сравните распределения размеров гранул сырья на обучающей и тестовой выборках. Если распределения сильно отличаются друг от друга, оценка модели будет неправильной"
   ]
  },
  {
   "cell_type": "code",
   "execution_count": 33,
   "metadata": {},
   "outputs": [
    {
     "data": {
      "image/png": "[encoded data removed]",
      "text/plain": [
       "<Figure size 1080x1224 with 2 Axes>"
      ]
     },
     "metadata": {
      "needs_background": "light"
     },
     "output_type": "display_data"
    }
   ],
   "source": [
    "position = 0\n",
    "plt.figure(figsize=[15, 17])\n",
    "\n",
    "for stage in ['rougher', 'primary_cleaner']:\n",
    "    position += 1\n",
    "    plt.subplot(2, 1, position)\n",
    "    plt.title(f'ГРАФИК РАСПРЕДЕЛЕНИЯ ГРАНУЛ ДЛЯ ЭТАПА {str(stage).upper()} НА ОБУЧАЮЩЕЙ и ТЕСТОВОЙ ВЫБОРКАХ', fontsize=13)\n",
    "    sns.kdeplot(train_df[f'{stage}.input.feed_size'], label='Обучающая выборка', alpha=0.5, shade=True)\n",
    "    sns.kdeplot(test_df[f'{stage}.input.feed_size'], label='Тестовая выборка', alpha=0.7, shade=True)\n",
    "    plt.xlabel('Размер гранул')\n",
    "    plt.ylabel('Количество наблюдений')\n",
    "    plt.legend()\n",
    "plt.show();"
   ]
  },
  {
   "cell_type": "markdown",
   "metadata": {},
   "source": [
    "Для этапа флотации распределение гранул находится примерно в одинаковом диапазоне, но для тренировочной выборки преобладают гранулы большим размером чем для тестовой выборки.\n",
    "\n",
    "Для этапа первичной очитски разспределение гранул для выборок находится в одном диапазоне, однако есть различия в количестве наблюдений. Так для тренировочной выборки количество наблюдений размера гранул больше, чем для тестовой.\n",
    "\n",
    "Таким образом, значимых различий между распределениями для выборок не наблюдается."
   ]
  },
  {
   "cell_type": "markdown",
   "metadata": {},
   "source": [
    "### Исследуйте суммарную концентрацию всех веществ на разных стадиях: в сырье, в черновом и финальном концентратах"
   ]
  },
  {
   "cell_type": "code",
   "execution_count": 34,
   "metadata": {},
   "outputs": [],
   "source": [
    "sum_concentrate_of_rougher_input = 0\n",
    "sum_concentrate_of_rougher_output = 0\n",
    "sum_concentrate_of_final_output = 0\n",
    "for metal in ['au', 'ag', 'pb', 'sol']:\n",
    "    sum_concentrate_of_rougher_input += train_df[f'rougher.input.feed_{metal}']\n",
    "    sum_concentrate_of_rougher_output += train_df[f'rougher.output.concentrate_{metal}']\n",
    "    sum_concentrate_of_final_output += train_df[f'final.output.concentrate_{metal}']"
   ]
  },
  {
   "cell_type": "code",
   "execution_count": 35,
   "metadata": {},
   "outputs": [
    {
     "data": {
      "image/png": "[encoded data removed]",
      "text/plain": [
       "<Figure size 1080x648 with 1 Axes>"
      ]
     },
     "metadata": {
      "needs_background": "light"
     },
     "output_type": "display_data"
    }
   ],
   "source": [
    "plt.figure(figsize=[15, 9])\n",
    "plt.suptitle('ГРАФИК СУММАРНОЙ КОНЦЕНТРАЦИИ ВЕЩЕСТВ НА РАЗНЫХ СТАДИЯХ.', fontsize=15)\n",
    "sns.histplot(sum_concentrate_of_rougher_input, color='y', label='Сырье')\n",
    "sns.histplot(sum_concentrate_of_rougher_output, color='b', label='Концентрация после флотации')\n",
    "sns.histplot(sum_concentrate_of_final_output, color='r', label='Финальная концетрация')\n",
    "plt.xlabel('Концентрация веществ')\n",
    "plt.ylabel('Количество наблюдений')\n",
    "plt.legend()\n",
    "plt.show();"
   ]
  },
  {
   "cell_type": "markdown",
   "metadata": {},
   "source": [
    "Суммарная концентрация веществ увеличивается к финальному этапу, а диапазон распределения суммарной концентрации веществ уменьшается.\n",
    "\n",
    "Для финального и этапа флотации для суммарной концентрации веществ присутствуют аномалии ( значения в районе 0). Необходимо их удалить, так как аномалии могут негативно повлиять на качество обучения модели."
   ]
  },
  {
   "cell_type": "code",
   "execution_count": 36,
   "metadata": {},
   "outputs": [],
   "source": [
    "train_df = train_df[(train_df['rougher.output.concentrate_au'] > 0.1) & (train_df['rougher.output.concentrate_ag'] > 0.1) & (train_df['rougher.output.concentrate_pb'] > 0.1) & (train_df['rougher.output.concentrate_sol'] > 0.1)]\n",
    "train_df = train_df[(train_df['final.output.concentrate_au'] > 0.1) & (train_df['final.output.concentrate_ag'] > 0.1) & (train_df['final.output.concentrate_pb'] > 0.1) & (train_df['final.output.concentrate_sol'] > 0.1)]\n",
    "\n",
    "full_df = full_df[(full_df['rougher.output.concentrate_au'] > 0.1) & (full_df['rougher.output.concentrate_ag'] > 0.1) & (full_df['rougher.output.concentrate_pb'] > 0.1) & (full_df['rougher.output.concentrate_sol'] > 0.1)]\n",
    "full_df = full_df[(full_df['final.output.concentrate_au'] > 0.1) & (full_df['final.output.concentrate_ag'] > 0.1) & (full_df['final.output.concentrate_pb'] > 0.1) & (full_df['final.output.concentrate_sol'] > 0.1)]"
   ]
  },
  {
   "cell_type": "code",
   "execution_count": 37,
   "metadata": {},
   "outputs": [
    {
     "name": "stdout",
     "output_type": "stream",
     "text": [
      "Количество строк после удаления выбросов в обучающей выборке: 13782\n"
     ]
    }
   ],
   "source": [
    "print('Количество строк после удаления выбросов в обучающей выборке:', train_df.shape[0])"
   ]
  },
  {
   "cell_type": "markdown",
   "metadata": {},
   "source": [
    "## Модель"
   ]
  },
  {
   "cell_type": "markdown",
   "metadata": {},
   "source": [
    "Перед построением модели удалим в обучающей выборке столбцы, которые отсутствуют в тестовой, чтобы привести две выборки к одному виду и чтобы модель обучалась на одиниковых признаках"
   ]
  },
  {
   "cell_type": "code",
   "execution_count": 38,
   "metadata": {},
   "outputs": [
    {
     "data": {
      "text/plain": [
       "32"
      ]
     },
     "execution_count": 38,
     "metadata": {},
     "output_type": "execute_result"
    }
   ],
   "source": [
    "# Колонки, которые необходимо удалить в обучающей выборке\n",
    "drop_columns = list(set(train_df.columns) - set(test_df.columns))\n",
    "len(drop_columns)"
   ]
  },
  {
   "cell_type": "code",
   "execution_count": 39,
   "metadata": {},
   "outputs": [],
   "source": [
    "# Удаление колонок\n",
    "train_df = train_df.drop(columns=drop_columns, axis='columns')"
   ]
  },
  {
   "cell_type": "code",
   "execution_count": 40,
   "metadata": {},
   "outputs": [
    {
     "name": "stdout",
     "output_type": "stream",
     "text": [
      "Количество столбцов в обучающей выборке: 55\n",
      "Количество столбцов в тестовой выборке: 55\n"
     ]
    }
   ],
   "source": [
    "print('Количество столбцов в обучающей выборке:', len(train_df.columns))\n",
    "print('Количество столбцов в тестовой выборке:',len(test_df.columns))"
   ]
  },
  {
   "cell_type": "markdown",
   "metadata": {},
   "source": [
    "### Напишите функцию для вычисления итоговой sMAPE"
   ]
  },
  {
   "cell_type": "code",
   "execution_count": 41,
   "metadata": {},
   "outputs": [],
   "source": [
    "# Функция для вычисления smape на разных этапах\n",
    "def get_smape(target, predict):\n",
    "    smape = (1/len(target))*np.sum((np.abs(target - predict))/( (np.abs(target)+np.abs(predict))/2))*100\n",
    "    return smape"
   ]
  },
  {
   "cell_type": "code",
   "execution_count": 42,
   "metadata": {},
   "outputs": [],
   "source": [
    "# Функция для вычисления итогового smape\n",
    "def full_smape(rougher, final):\n",
    "    final_smape = 0.25*rougher+0.75*final\n",
    "    return final_smape"
   ]
  },
  {
   "cell_type": "code",
   "execution_count": 43,
   "metadata": {},
   "outputs": [],
   "source": [
    "smape_scorer = make_scorer(get_smape, greater_is_better = False)"
   ]
  },
  {
   "cell_type": "code",
   "execution_count": 44,
   "metadata": {},
   "outputs": [],
   "source": [
    "# Поделим наши данные на признаки\n",
    "features_train = train_df.drop(['rougher.output.recovery','final.output.recovery', 'date'], axis=1)\n",
    "target_rougher_train = train_df['rougher.output.recovery']\n",
    "target_final_train = train_df['final.output.recovery']"
   ]
  },
  {
   "cell_type": "markdown",
   "metadata": {},
   "source": [
    "### Обучите разные модели и оцените их качество кросс-валидацией. Выберите лучшую модель и проверьте её на тестовой выборке. Опишите выводы"
   ]
  },
  {
   "cell_type": "markdown",
   "metadata": {},
   "source": [
    "**Линейная регрессия**"
   ]
  },
  {
   "cell_type": "code",
   "execution_count": 45,
   "metadata": {},
   "outputs": [
    {
     "name": "stdout",
     "output_type": "stream",
     "text": [
      "Средняя оценка качества smape_rougher 7.1766\n"
     ]
    }
   ],
   "source": [
    "# Инициируем модель линейной регрессии\n",
    "model_lin_rougher = LinearRegression()\n",
    "# оценим модель с помощью кроссвалидации features_train, target_train. Вычислим sMape_rougher\n",
    "scores_line_reg_rougher = cross_val_score(model_lin_rougher,  \n",
    "                                          features_train, \n",
    "                                          target_rougher_train, \n",
    "                                          scoring = smape_scorer,\n",
    "                                          cv = 5)\n",
    "smape_rougher = np.mean(abs(scores_line_reg_rougher))\n",
    "print('Средняя оценка качества smape_rougher', round(smape_rougher, 4))"
   ]
  },
  {
   "cell_type": "code",
   "execution_count": 46,
   "metadata": {},
   "outputs": [
    {
     "name": "stdout",
     "output_type": "stream",
     "text": [
      "Средняя оценка качества smape_final 10.9046\n"
     ]
    }
   ],
   "source": [
    "# Оценим модель с помощью кроссвалидации features_train, target_train. Вычислим score_final\n",
    "scores_line_reg_final = cross_val_score(model_lin_rougher,  \n",
    "                                          features_train, \n",
    "                                          target_final_train, \n",
    "                                          scoring = smape_scorer,\n",
    "                                          cv = 5)\n",
    "smape_final = np.mean(abs(scores_line_reg_final))\n",
    "print('Средняя оценка качества smape_final', round(smape_final, 4))"
   ]
  },
  {
   "cell_type": "code",
   "execution_count": 47,
   "metadata": {},
   "outputs": [
    {
     "name": "stdout",
     "output_type": "stream",
     "text": [
      "Средняя итоговая оценка качества модели sMape для линейной регрессии 9.9726\n"
     ]
    }
   ],
   "source": [
    "print('Средняя итоговая оценка качества модели sMape для линейной регрессии', round(full_smape(smape_rougher, smape_final), 4))"
   ]
  },
  {
   "cell_type": "code",
   "execution_count": 55,
   "metadata": {},
   "outputs": [
    {
     "name": "stdout",
     "output_type": "stream",
     "text": [
      "Средняя оценка качества smape_rougher 7.1766\n"
     ]
    }
   ],
   "source": [
    "from sklearn.pipeline import make_pipeline\n",
    "from sklearn.preprocessing import StandardScaler\n",
    "\n",
    "\n",
    "pipe = make_pipeline(StandardScaler(), model_lin_rougher)\n",
    "score_cross_ml = cross_val_score(pipe,  features_train, \n",
    "                    target_rougher_train, \n",
    "                    scoring = smape_scorer,\n",
    "                    cv = 5)\n",
    "smape_rougher_ml = np.mean(abs(score_cross_ml))\n",
    "print('Средняя оценка качества smape_rougher', round(smape_rougher_ml, 4))"
   ]
  },
  {
   "cell_type": "code",
   "execution_count": 56,
   "metadata": {},
   "outputs": [
    {
     "name": "stdout",
     "output_type": "stream",
     "text": [
      "Средняя оценка качества smape_rougher 10.9046\n"
     ]
    }
   ],
   "source": [
    "score_cross_ml_f = cross_val_score(pipe,  features_train, \n",
    "                    target_final_train, \n",
    "                    scoring = smape_scorer,\n",
    "                    cv = 5)\n",
    "smape_ml_f = np.mean(abs(score_cross_ml_f))\n",
    "print('Средняя оценка качества smape_rougher', round(smape_ml_f, 4))"
   ]
  },
  {
   "cell_type": "code",
   "execution_count": 57,
   "metadata": {},
   "outputs": [
    {
     "name": "stdout",
     "output_type": "stream",
     "text": [
      "Средняя итоговая оценка качества модели sMape для линейной регрессии 9.9726\n"
     ]
    }
   ],
   "source": [
    "print('Средняя итоговая оценка качества модели sMape для линейной регрессии', round(full_smape(smape_rougher_ml, smape_ml_f), 4))"
   ]
  },
  {
   "cell_type": "markdown",
   "metadata": {},
   "source": [
    "**Дерево решений**"
   ]
  },
  {
   "cell_type": "code",
   "execution_count": 503,
   "metadata": {},
   "outputs": [],
   "source": [
    "state = RandomState(12345)"
   ]
  },
  {
   "cell_type": "code",
   "execution_count": 504,
   "metadata": {},
   "outputs": [],
   "source": [
    "# Модель и параметры\n",
    "mod_dt = DecisionTreeRegressor(random_state=state)\n",
    "params_dt = {'max_depth': [x for x in range(1, 20, 1)]}"
   ]
  },
  {
   "cell_type": "code",
   "execution_count": 505,
   "metadata": {},
   "outputs": [
    {
     "name": "stdout",
     "output_type": "stream",
     "text": [
      "CPU times: user 3 µs, sys: 0 ns, total: 3 µs\n",
      "Wall time: 5.72 µs\n"
     ]
    },
    {
     "data": {
      "text/plain": [
       "GridSearchCV(cv=5,\n",
       "             estimator=DecisionTreeRegressor(random_state=RandomState(MT19937) at 0x7F289D943A40),\n",
       "             param_grid={'max_depth': [1, 2, 3, 4, 5, 6, 7, 8, 9, 10, 11, 12,\n",
       "                                       13, 14, 15, 16, 17, 18, 19]},\n",
       "             scoring=make_scorer(get_smape, greater_is_better=False))"
      ]
     },
     "execution_count": 505,
     "metadata": {},
     "output_type": "execute_result"
    }
   ],
   "source": [
    "# Подбор параметров и обучение\n",
    "%time\n",
    "grid_cv_r = GridSearchCV(mod_dt, params_dt, scoring=smape_scorer, cv=5)\n",
    "grid_cv_r.fit(features_train, target_rougher_train)"
   ]
  },
  {
   "cell_type": "code",
   "execution_count": 506,
   "metadata": {},
   "outputs": [
    {
     "name": "stdout",
     "output_type": "stream",
     "text": [
      "{'max_depth': 3}\n",
      "Значение smape_rougher: 7.3493\n"
     ]
    }
   ],
   "source": [
    "# Выводим лучшие параметры\n",
    "print(grid_cv_r.best_params_)\n",
    "print('Значение smape_rougher:', abs(round(grid_cv_r.best_score_, 4)))"
   ]
  },
  {
   "cell_type": "code",
   "execution_count": 507,
   "metadata": {},
   "outputs": [
    {
     "name": "stdout",
     "output_type": "stream",
     "text": [
      "{'max_depth': 2}\n",
      "Значение smape_final: 9.3561\n"
     ]
    }
   ],
   "source": [
    "# модель для smape_final\n",
    "grid_cv_f = GridSearchCV(mod_dt, params_dt, scoring=smape_scorer, cv=5)\n",
    "grid_cv_f.fit(features_train, target_final_train)\n",
    "print(grid_cv_f.best_params_)\n",
    "print('Значение smape_final:', abs(round(grid_cv_f.best_score_, 4)))"
   ]
  },
  {
   "cell_type": "code",
   "execution_count": 508,
   "metadata": {},
   "outputs": [
    {
     "name": "stdout",
     "output_type": "stream",
     "text": [
      "Средняя итоговая оценка качества модели smape для модели \"Дерево решений\" 8.8544\n"
     ]
    }
   ],
   "source": [
    "print('Средняя итоговая оценка качества модели smape для модели \"Дерево решений\"', \n",
    "      round(abs(full_smape(grid_cv_r.best_score_, grid_cv_f.best_score_)),4))"
   ]
  },
  {
   "cell_type": "markdown",
   "metadata": {},
   "source": [
    "**Случайный лес**"
   ]
  },
  {
   "cell_type": "code",
   "execution_count": 509,
   "metadata": {},
   "outputs": [],
   "source": [
    "# Модель и параметры\n",
    "mod_rf = RandomForestRegressor(random_state=state)\n",
    "params_rf = {'max_depth': [x for x in range(1, 11, 1)],\n",
    "            'n_estimators': [x for x in range(10, 25, 5)],\n",
    "            'n_jobs' : [-1]\n",
    "            }"
   ]
  },
  {
   "cell_type": "code",
   "execution_count": 510,
   "metadata": {},
   "outputs": [
    {
     "name": "stdout",
     "output_type": "stream",
     "text": [
      "CPU times: user 3 µs, sys: 0 ns, total: 3 µs\n",
      "Wall time: 5.48 µs\n"
     ]
    },
    {
     "data": {
      "text/plain": [
       "GridSearchCV(cv=5,\n",
       "             estimator=RandomForestRegressor(random_state=RandomState(MT19937) at 0x7F289D943A40),\n",
       "             param_grid={'max_depth': [1, 2, 3, 4, 5, 6, 7, 8, 9, 10],\n",
       "                         'n_estimators': [10, 15, 20], 'n_jobs': [-1]},\n",
       "             scoring=make_scorer(get_smape, greater_is_better=False))"
      ]
     },
     "execution_count": 510,
     "metadata": {},
     "output_type": "execute_result"
    }
   ],
   "source": [
    "# Подбор параметров и обучение\n",
    "%time\n",
    "grid_rf_r = GridSearchCV(mod_rf, params_rf, scoring=smape_scorer, cv=5)\n",
    "grid_rf_r.fit(features_train, target_rougher_train)"
   ]
  },
  {
   "cell_type": "code",
   "execution_count": 511,
   "metadata": {},
   "outputs": [
    {
     "name": "stdout",
     "output_type": "stream",
     "text": [
      "{'max_depth': 3, 'n_estimators': 10, 'n_jobs': -1}\n",
      "Значение smape_rougher: 6.65978\n"
     ]
    }
   ],
   "source": [
    "# Выводим лучшие параметры\n",
    "print(grid_rf_r.best_params_)\n",
    "print('Значение smape_rougher:', abs(round(grid_rf_r.best_score_, 5)))"
   ]
  },
  {
   "cell_type": "code",
   "execution_count": 512,
   "metadata": {},
   "outputs": [
    {
     "name": "stdout",
     "output_type": "stream",
     "text": [
      "CPU times: user 3 µs, sys: 0 ns, total: 3 µs\n",
      "Wall time: 6.2 µs\n",
      "{'max_depth': 4, 'n_estimators': 10, 'n_jobs': -1}\n",
      "Значение smape_final: 9.00992\n"
     ]
    }
   ],
   "source": [
    "# Модель для smape_final\n",
    "%time\n",
    "grid_rf_f = GridSearchCV(mod_rf, params_rf, scoring=smape_scorer, cv=5)\n",
    "grid_rf_f.fit(features_train, target_final_train)\n",
    "print(grid_rf_f.best_params_)\n",
    "print('Значение smape_final:', abs(round(grid_rf_f.best_score_, 5)))"
   ]
  },
  {
   "cell_type": "code",
   "execution_count": 513,
   "metadata": {},
   "outputs": [
    {
     "name": "stdout",
     "output_type": "stream",
     "text": [
      "Средняя итоговая оценка качества модели smape для модели Случайный лес 8.42238\n"
     ]
    }
   ],
   "source": [
    "print('Средняя итоговая оценка качества модели smape для модели Случайный лес', \n",
    "      round(abs(full_smape(grid_rf_r.best_score_, grid_rf_f.best_score_)),5))"
   ]
  },
  {
   "cell_type": "markdown",
   "metadata": {},
   "source": [
    "Таким образом, лучшая модель является модель Случайного леса с параметрами:\n",
    "- для этапа rougher глубина 3, количество деревьев 10.\n",
    "- для этапа final глубина  4, количество деревьев 10.\n",
    "\n",
    "Для такой модели итоговая оценка качества модели составляет 8.42%"
   ]
  },
  {
   "cell_type": "markdown",
   "metadata": {},
   "source": [
    "### Проверка наилучшей модели на тестовой выборке"
   ]
  },
  {
   "cell_type": "code",
   "execution_count": 514,
   "metadata": {},
   "outputs": [],
   "source": [
    "# Разобьем тестовые данные на признаки\n",
    "features_test = test_df.drop(['rougher.output.recovery','final.output.recovery', 'date'], axis=1)\n",
    "target_rougher_test = test_df['rougher.output.recovery']\n",
    "target_final_test = test_df['final.output.recovery']"
   ]
  },
  {
   "cell_type": "code",
   "execution_count": 515,
   "metadata": {},
   "outputs": [],
   "source": [
    "# Посчитаем итоговый smape на лучшей модели с наилучшими параметрами\n",
    "model_test_rougher = RandomForestRegressor(n_estimators=10, max_depth=3, random_state=state)\n",
    "model_test_rougher.fit(features_train, target_rougher_train)\n",
    "predict_rougher = model_test_rougher.predict(features_test)\n",
    "\n",
    "model_test_final = RandomForestRegressor(n_estimators=10, max_depth=4, random_state=state)\n",
    "model_test_final.fit(features_train, target_final_train)\n",
    "predict_final = model_test_final.predict(features_test)\n",
    "\n",
    "smape_test_rougher = get_smape(target_rougher_test, predict_rougher)\n",
    "smape_test_final = get_smape(target_final_test, predict_final)\n",
    "final_smape_for_test = full_smape(smape_test_rougher, smape_test_final)"
   ]
  },
  {
   "cell_type": "code",
   "execution_count": 516,
   "metadata": {},
   "outputs": [
    {
     "name": "stdout",
     "output_type": "stream",
     "text": [
      "Итоговый smape для тестовой выборки составляет: 9.8488\n"
     ]
    }
   ],
   "source": [
    "print('Итоговый smape для тестовой выборки составляет:', round(final_smape_for_test,4))"
   ]
  },
  {
   "cell_type": "markdown",
   "metadata": {},
   "source": [
    "На тестовой выборке качество модели немного ухудшилось. "
   ]
  },
  {
   "cell_type": "markdown",
   "metadata": {},
   "source": [
    "**Проверим полученную модель на адекватность. Вычислим показатель sMape для константной модели и сравним с результатами лучшей модели**"
   ]
  },
  {
   "cell_type": "code",
   "execution_count": 521,
   "metadata": {},
   "outputs": [],
   "source": [
    "dummy_regr_rougher = DummyRegressor(strategy=\"mean\")\n",
    "dummy_regr_final = DummyRegressor(strategy=\"mean\")\n",
    "\n",
    "dummy_regr_rougher.fit(features_train, target_rougher_train)\n",
    "dummy_regr_final.fit(features_train, target_final_train)\n",
    "\n",
    "dummy_predict_rougher = dummy_regr_rougher.predict(features_test)\n",
    "dummy_predict_final = dummy_regr_final.predict(features_test)\n",
    "\n",
    "smape_const_rougher = get_smape(target_rougher_test, dummy_predict_rougher)\n",
    "smape_const_final = get_smape(target_final_test, dummy_predict_final)\n",
    "\n",
    "final_smape_const = full_smape(smape_const_rougher, smape_const_final)"
   ]
  },
  {
   "cell_type": "code",
   "execution_count": 522,
   "metadata": {},
   "outputs": [
    {
     "name": "stdout",
     "output_type": "stream",
     "text": [
      "Итоговый smape для константной модели составляет: 9.8239\n"
     ]
    }
   ],
   "source": [
    "print('Итоговый smape для константной модели составляет:', round(final_smape_const,4))"
   ]
  },
  {
   "cell_type": "markdown",
   "metadata": {},
   "source": [
    "Показатель лучшей модели меньше показателя константной, что означает хорошее качество полученной модели. Данную модель можно использовать для прогнозирования коэффициента восстановления золота из золотосодержащей руды."
   ]
  },
  {
   "cell_type": "markdown",
   "metadata": {},
   "source": [
    "## Общий вывод"
   ]
  },
  {
   "cell_type": "markdown",
   "metadata": {},
   "source": [
    "В рамках данного проекта был подготовлен прототип модели машинного обучения,который предсказывает коэффициент восстановления золота из золотосодержащей руды по необходимым параметрам.\n",
    "\n",
    "**Подготовка данных:**\n",
    "\n",
    "Для анализа были представлены 3 выборки: исходные данные, обучающая выборка и тестовая. В ходе анализа пропущенные значения были заменены соседними, так как по условии задания соседние параметры похожи. Изменен тип данных в столбца \"Дата\" на корректный. Добавлены в тестовую выборку столбцы 'rougher.output.recovery','final.output.recovery' для возможности оценить качество модели. Также было обнаружено, что в тестовую выборку попадают не все столбцы, которые есть в обучающей. Это можно обьяснить тем, что они замеряются и/или рассчитываются значительно позже. Эти колонки были удалены, так как обучение модели должно происходить на одинаковых данных для более точного предсказания. Изучены и удалены выбросы в данных.\n",
    "\n",
    "Проверен расчёт эффективности обогащения. Вычислено значение MAE между данными и расчётными значениями эффективности. Полученные значения МАЕ близки к 0. Это означаем, что эффективность обогащения рассчитана правильно.\n",
    "\n",
    "**Анализ данных:**\n",
    "\n",
    "Анализ концентрации металлов показал, что концентрация золота значительно увеличивается на каждом этапе обработки сырья. Доля серебра увеличивается на этапе флотации и максимально уменьшается на финальной очистке. Доля свинца увеличивается до этапа флотации, а потом остается примерно на одном уровне. \n",
    "\n",
    "Построены графики распределения размеров гранул на входе в этапы флотации и финальной очистки обучающей и тестовой выборок. Значимых различий в распределении не наблюдается.\n",
    "\n",
    "Исследована суммарная концентрация всех веществ на разных стадиях: в сырье, в черновом и финальном концентратах. Были обнаружены ановалии в районе 0. Эти данные были удалены, так как они могут негативно повлиять на качество модели.\n",
    "\n",
    "**Модель:**\n",
    "\n",
    "Для прогнозирования коэффициента восстановления золота были построены и обучены три модели: линейная регрессия, дерево решений и случайный лес. Таким образом, лучшая модель является модель Случайного леса с параметрами для этапа rougher: глубина 3, количество деревьев 10, для этапа final: глубина  4, количество деревьев 10 с итоговым smape 8.42. Данная модель была проверена на тестовой выборке, где показала тоже хорошие результаты.\n",
    "Также наилучшую модель проверили на адекватность - сравнили качество модели с константной моделью. В итоге наилучшая модель Случайного леса с определенными гиперпараметрами показала лучшее качество."
   ]
  }
 ],
 "metadata": {
  "ExecuteTimeLog": [
   {
    "duration": 423,
    "start_time": "2023-01-24T11:10:50.087Z"
   },
   {
    "duration": 113,
    "start_time": "2023-01-24T11:10:50.783Z"
   },
   {
    "duration": 3838,
    "start_time": "2023-01-24T11:11:30.041Z"
   },
   {
    "duration": 32,
    "start_time": "2023-01-24T11:12:00.049Z"
   },
   {
    "duration": 17,
    "start_time": "2023-01-24T11:14:46.837Z"
   },
   {
    "duration": 3,
    "start_time": "2023-01-24T11:22:46.788Z"
   },
   {
    "duration": 9,
    "start_time": "2023-01-24T11:23:24.824Z"
   },
   {
    "duration": 3,
    "start_time": "2023-01-24T11:25:49.346Z"
   },
   {
    "duration": 6,
    "start_time": "2023-01-24T11:26:16.158Z"
   },
   {
    "duration": 9,
    "start_time": "2023-01-24T11:26:27.883Z"
   },
   {
    "duration": 3,
    "start_time": "2023-01-24T11:26:32.714Z"
   },
   {
    "duration": 764,
    "start_time": "2023-01-24T11:26:33.315Z"
   },
   {
    "duration": 3,
    "start_time": "2023-01-24T11:26:34.082Z"
   },
   {
    "duration": 3,
    "start_time": "2023-01-24T11:26:34.480Z"
   },
   {
    "duration": 10,
    "start_time": "2023-01-24T11:26:35.560Z"
   },
   {
    "duration": 6,
    "start_time": "2023-01-24T11:26:47.865Z"
   },
   {
    "duration": 9,
    "start_time": "2023-01-24T11:26:48.582Z"
   },
   {
    "duration": 9,
    "start_time": "2023-01-24T11:28:18.041Z"
   },
   {
    "duration": 3,
    "start_time": "2023-01-24T11:28:21.483Z"
   },
   {
    "duration": 9,
    "start_time": "2023-01-24T11:28:22.078Z"
   },
   {
    "duration": 2,
    "start_time": "2023-01-24T11:31:16.460Z"
   },
   {
    "duration": 756,
    "start_time": "2023-01-24T11:31:17.042Z"
   },
   {
    "duration": 3,
    "start_time": "2023-01-24T11:31:17.799Z"
   },
   {
    "duration": 2,
    "start_time": "2023-01-24T11:31:18.138Z"
   },
   {
    "duration": 8,
    "start_time": "2023-01-24T11:31:18.919Z"
   },
   {
    "duration": 3,
    "start_time": "2023-01-24T11:31:46.131Z"
   },
   {
    "duration": 3,
    "start_time": "2023-01-24T11:31:46.659Z"
   },
   {
    "duration": 9,
    "start_time": "2023-01-24T11:31:47.186Z"
   },
   {
    "duration": 3,
    "start_time": "2023-01-24T11:32:16.880Z"
   },
   {
    "duration": 15,
    "start_time": "2023-01-24T11:32:17.491Z"
   },
   {
    "duration": 3,
    "start_time": "2023-01-24T11:32:38.605Z"
   },
   {
    "duration": 50,
    "start_time": "2023-01-24T11:32:39.283Z"
   },
   {
    "duration": 3,
    "start_time": "2023-01-24T11:57:22.183Z"
   },
   {
    "duration": 76,
    "start_time": "2023-01-24T11:57:23.120Z"
   },
   {
    "duration": 454,
    "start_time": "2023-01-25T13:10:11.316Z"
   },
   {
    "duration": 2258,
    "start_time": "2023-01-25T13:10:11.989Z"
   },
   {
    "duration": 3,
    "start_time": "2023-01-25T13:10:14.249Z"
   },
   {
    "duration": 29,
    "start_time": "2023-01-25T13:10:14.253Z"
   },
   {
    "duration": 43,
    "start_time": "2023-01-25T13:10:14.504Z"
   },
   {
    "duration": 17,
    "start_time": "2023-01-25T13:13:01.678Z"
   },
   {
    "duration": 34,
    "start_time": "2023-01-25T13:28:14.535Z"
   },
   {
    "duration": 112,
    "start_time": "2023-01-25T13:29:30.002Z"
   },
   {
    "duration": 40,
    "start_time": "2023-01-25T13:30:34.856Z"
   },
   {
    "duration": 43,
    "start_time": "2023-01-25T13:33:33.780Z"
   },
   {
    "duration": 27,
    "start_time": "2023-01-25T13:33:46.680Z"
   },
   {
    "duration": 46,
    "start_time": "2023-01-25T18:11:39.757Z"
   },
   {
    "duration": 368,
    "start_time": "2023-01-25T18:12:15.592Z"
   },
   {
    "duration": 3092,
    "start_time": "2023-01-25T18:12:16.961Z"
   },
   {
    "duration": 2,
    "start_time": "2023-01-25T18:12:20.055Z"
   },
   {
    "duration": 26,
    "start_time": "2023-01-25T18:12:20.059Z"
   },
   {
    "duration": 5,
    "start_time": "2023-01-25T18:15:10.225Z"
   },
   {
    "duration": 6749,
    "start_time": "2023-01-25T18:15:17.999Z"
   },
   {
    "duration": 5,
    "start_time": "2023-01-25T18:16:50.591Z"
   },
   {
    "duration": 6221,
    "start_time": "2023-01-25T18:16:52.072Z"
   },
   {
    "duration": 3,
    "start_time": "2023-01-25T18:17:19.713Z"
   },
   {
    "duration": 5,
    "start_time": "2023-01-25T18:17:27.384Z"
   },
   {
    "duration": 18164,
    "start_time": "2023-01-25T18:17:27.988Z"
   },
   {
    "duration": 4,
    "start_time": "2023-01-25T18:19:39.969Z"
   },
   {
    "duration": 239,
    "start_time": "2023-01-25T18:19:40.710Z"
   },
   {
    "duration": 10,
    "start_time": "2023-01-25T18:21:23.261Z"
   },
   {
    "duration": 6,
    "start_time": "2023-01-25T18:21:30.799Z"
   },
   {
    "duration": 6,
    "start_time": "2023-01-25T18:21:50.777Z"
   },
   {
    "duration": 6,
    "start_time": "2023-01-25T18:22:06.017Z"
   },
   {
    "duration": 13,
    "start_time": "2023-01-25T18:33:23.726Z"
   },
   {
    "duration": 5,
    "start_time": "2023-01-25T18:40:02.981Z"
   },
   {
    "duration": 11,
    "start_time": "2023-01-25T18:43:22.379Z"
   },
   {
    "duration": 10,
    "start_time": "2023-01-25T18:45:45.772Z"
   },
   {
    "duration": 5,
    "start_time": "2023-01-25T18:46:06.021Z"
   },
   {
    "duration": 7,
    "start_time": "2023-01-25T18:46:22.367Z"
   },
   {
    "duration": 6,
    "start_time": "2023-01-25T18:46:32.805Z"
   },
   {
    "duration": 10,
    "start_time": "2023-01-25T18:48:45.810Z"
   },
   {
    "duration": 5,
    "start_time": "2023-01-25T18:51:34.227Z"
   },
   {
    "duration": 70,
    "start_time": "2023-01-25T18:53:48.119Z"
   },
   {
    "duration": 87,
    "start_time": "2023-01-25T18:54:07.326Z"
   },
   {
    "duration": 8,
    "start_time": "2023-01-25T18:54:17.770Z"
   },
   {
    "duration": 11,
    "start_time": "2023-01-25T18:54:41.020Z"
   },
   {
    "duration": 9,
    "start_time": "2023-01-25T18:54:53.211Z"
   },
   {
    "duration": 4,
    "start_time": "2023-01-25T18:58:27.297Z"
   },
   {
    "duration": 10,
    "start_time": "2023-01-25T18:58:48.911Z"
   },
   {
    "duration": 9,
    "start_time": "2023-01-25T18:58:54.728Z"
   },
   {
    "duration": 10,
    "start_time": "2023-01-25T18:59:12.511Z"
   },
   {
    "duration": 1077,
    "start_time": "2023-01-25T18:59:25.709Z"
   },
   {
    "duration": 7,
    "start_time": "2023-01-25T18:59:37.397Z"
   },
   {
    "duration": 3,
    "start_time": "2023-01-25T19:00:11.174Z"
   },
   {
    "duration": 4,
    "start_time": "2023-01-25T19:00:21.317Z"
   },
   {
    "duration": 34,
    "start_time": "2023-01-25T19:01:00.096Z"
   },
   {
    "duration": 13,
    "start_time": "2023-01-25T19:01:51.006Z"
   },
   {
    "duration": 5,
    "start_time": "2023-01-25T19:08:04.910Z"
   },
   {
    "duration": 37,
    "start_time": "2023-01-25T19:08:23.708Z"
   },
   {
    "duration": 105,
    "start_time": "2023-01-25T19:08:48.412Z"
   },
   {
    "duration": 90,
    "start_time": "2023-01-25T19:08:52.994Z"
   },
   {
    "duration": 10,
    "start_time": "2023-01-25T19:08:57.920Z"
   },
   {
    "duration": 3,
    "start_time": "2023-01-25T19:14:23.831Z"
   },
   {
    "duration": 4,
    "start_time": "2023-01-25T19:14:28.204Z"
   },
   {
    "duration": 8,
    "start_time": "2023-01-25T19:17:34.808Z"
   },
   {
    "duration": 2,
    "start_time": "2023-01-25T20:00:11.686Z"
   },
   {
    "duration": 55,
    "start_time": "2023-01-26T10:30:22.325Z"
   },
   {
    "duration": 813,
    "start_time": "2023-01-26T10:30:31.525Z"
   },
   {
    "duration": 4615,
    "start_time": "2023-01-26T10:30:32.340Z"
   },
   {
    "duration": 3,
    "start_time": "2023-01-26T10:30:36.957Z"
   },
   {
    "duration": 9,
    "start_time": "2023-01-26T10:30:36.962Z"
   },
   {
    "duration": 9,
    "start_time": "2023-01-26T10:30:36.972Z"
   },
   {
    "duration": 326,
    "start_time": "2023-01-26T10:30:36.982Z"
   },
   {
    "duration": 5,
    "start_time": "2023-01-26T10:30:37.310Z"
   },
   {
    "duration": 9,
    "start_time": "2023-01-26T10:30:39.799Z"
   },
   {
    "duration": 725,
    "start_time": "2023-01-26T11:16:53.950Z"
   },
   {
    "duration": 6,
    "start_time": "2023-01-26T11:18:01.711Z"
   },
   {
    "duration": 5,
    "start_time": "2023-01-26T11:20:06.377Z"
   },
   {
    "duration": 4,
    "start_time": "2023-01-26T11:20:07.165Z"
   },
   {
    "duration": 6,
    "start_time": "2023-01-26T11:20:36.509Z"
   },
   {
    "duration": 6,
    "start_time": "2023-01-26T11:20:37.222Z"
   },
   {
    "duration": 5,
    "start_time": "2023-01-26T11:20:49.441Z"
   },
   {
    "duration": 5,
    "start_time": "2023-01-26T11:21:09.714Z"
   },
   {
    "duration": 6,
    "start_time": "2023-01-26T11:24:09.609Z"
   },
   {
    "duration": 4,
    "start_time": "2023-01-26T12:01:40.741Z"
   },
   {
    "duration": 717,
    "start_time": "2023-01-26T12:01:40.953Z"
   },
   {
    "duration": 3,
    "start_time": "2023-01-26T12:01:41.672Z"
   },
   {
    "duration": 3,
    "start_time": "2023-01-26T12:01:43.448Z"
   },
   {
    "duration": 4,
    "start_time": "2023-01-26T12:01:44.459Z"
   },
   {
    "duration": 322,
    "start_time": "2023-01-26T12:01:45.218Z"
   },
   {
    "duration": 6,
    "start_time": "2023-01-26T12:01:46.625Z"
   },
   {
    "duration": 6,
    "start_time": "2023-01-26T12:01:48.867Z"
   },
   {
    "duration": 6,
    "start_time": "2023-01-26T12:01:49.610Z"
   },
   {
    "duration": 6,
    "start_time": "2023-01-26T12:01:50.323Z"
   },
   {
    "duration": 7,
    "start_time": "2023-01-26T12:01:51.188Z"
   },
   {
    "duration": 5,
    "start_time": "2023-01-26T12:01:57.615Z"
   },
   {
    "duration": 26,
    "start_time": "2023-01-26T12:12:05.464Z"
   },
   {
    "duration": 8,
    "start_time": "2023-01-26T12:17:45.326Z"
   },
   {
    "duration": 879,
    "start_time": "2023-01-26T12:18:26.443Z"
   },
   {
    "duration": 3,
    "start_time": "2023-01-26T12:18:51.430Z"
   },
   {
    "duration": 13,
    "start_time": "2023-01-26T12:18:52.438Z"
   },
   {
    "duration": 29,
    "start_time": "2023-01-26T12:19:40.735Z"
   },
   {
    "duration": 24,
    "start_time": "2023-01-26T12:19:58.721Z"
   },
   {
    "duration": 4,
    "start_time": "2023-01-26T12:20:45.745Z"
   },
   {
    "duration": 85,
    "start_time": "2023-01-26T12:20:54.020Z"
   },
   {
    "duration": 39,
    "start_time": "2023-01-26T12:20:59.173Z"
   },
   {
    "duration": 14,
    "start_time": "2023-01-26T12:38:11.824Z"
   },
   {
    "duration": 20,
    "start_time": "2023-01-26T12:38:20.231Z"
   },
   {
    "duration": 6,
    "start_time": "2023-01-26T12:39:37.685Z"
   },
   {
    "duration": 146,
    "start_time": "2023-01-26T13:51:05.937Z"
   },
   {
    "duration": 34,
    "start_time": "2023-01-26T13:51:57.519Z"
   },
   {
    "duration": 40,
    "start_time": "2023-01-26T13:54:28.489Z"
   },
   {
    "duration": 27,
    "start_time": "2023-01-26T13:56:14.435Z"
   },
   {
    "duration": 6,
    "start_time": "2023-01-26T13:56:27.959Z"
   },
   {
    "duration": 991,
    "start_time": "2023-01-26T13:56:28.372Z"
   },
   {
    "duration": 43,
    "start_time": "2023-01-26T13:56:29.376Z"
   },
   {
    "duration": 8,
    "start_time": "2023-01-26T13:56:30.535Z"
   },
   {
    "duration": 4,
    "start_time": "2023-01-26T13:56:31.466Z"
   },
   {
    "duration": 15,
    "start_time": "2023-01-26T13:56:32.326Z"
   },
   {
    "duration": 387,
    "start_time": "2023-01-26T13:56:32.970Z"
   },
   {
    "duration": 22,
    "start_time": "2023-01-26T13:56:34.389Z"
   },
   {
    "duration": 12,
    "start_time": "2023-01-26T13:56:36.145Z"
   },
   {
    "duration": 18,
    "start_time": "2023-01-26T13:56:36.611Z"
   },
   {
    "duration": 6,
    "start_time": "2023-01-26T13:56:37.071Z"
   },
   {
    "duration": 16,
    "start_time": "2023-01-26T13:56:37.641Z"
   },
   {
    "duration": 7,
    "start_time": "2023-01-26T13:56:39.452Z"
   },
   {
    "duration": 9,
    "start_time": "2023-01-26T13:56:41.736Z"
   },
   {
    "duration": 36,
    "start_time": "2023-01-26T13:56:42.286Z"
   },
   {
    "duration": 6,
    "start_time": "2023-01-26T13:56:42.846Z"
   },
   {
    "duration": 16,
    "start_time": "2023-01-26T13:56:44.650Z"
   },
   {
    "duration": 10,
    "start_time": "2023-01-26T13:57:56.769Z"
   },
   {
    "duration": 31,
    "start_time": "2023-01-26T13:58:13.033Z"
   },
   {
    "duration": 26,
    "start_time": "2023-01-26T13:58:31.429Z"
   },
   {
    "duration": 6,
    "start_time": "2023-01-26T13:58:36.089Z"
   },
   {
    "duration": 3,
    "start_time": "2023-01-26T14:03:34.565Z"
   },
   {
    "duration": 5,
    "start_time": "2023-01-26T14:03:49.674Z"
   },
   {
    "duration": 18,
    "start_time": "2023-01-26T14:05:14.136Z"
   },
   {
    "duration": 17,
    "start_time": "2023-01-26T14:06:20.860Z"
   },
   {
    "duration": 859,
    "start_time": "2023-01-26T14:06:34.518Z"
   },
   {
    "duration": 13,
    "start_time": "2023-01-26T14:06:49.204Z"
   },
   {
    "duration": 1028,
    "start_time": "2023-01-26T14:06:49.842Z"
   },
   {
    "duration": 953,
    "start_time": "2023-01-26T14:07:06.518Z"
   },
   {
    "duration": 942,
    "start_time": "2023-01-26T14:07:25.673Z"
   },
   {
    "duration": 10,
    "start_time": "2023-01-26T14:08:35.440Z"
   },
   {
    "duration": 15,
    "start_time": "2023-01-26T14:08:59.275Z"
   },
   {
    "duration": 17,
    "start_time": "2023-01-26T14:09:45.478Z"
   },
   {
    "duration": 12,
    "start_time": "2023-01-26T14:09:57.295Z"
   },
   {
    "duration": 905,
    "start_time": "2023-01-26T14:09:57.992Z"
   },
   {
    "duration": 8,
    "start_time": "2023-01-26T14:10:14.719Z"
   },
   {
    "duration": 20,
    "start_time": "2023-01-26T14:10:33.261Z"
   },
   {
    "duration": 21,
    "start_time": "2023-01-26T14:10:33.924Z"
   },
   {
    "duration": 9,
    "start_time": "2023-01-26T14:11:00.620Z"
   },
   {
    "duration": 7,
    "start_time": "2023-01-26T14:11:01.333Z"
   },
   {
    "duration": 13,
    "start_time": "2023-01-26T14:11:15.738Z"
   },
   {
    "duration": 14,
    "start_time": "2023-01-26T14:11:37.579Z"
   },
   {
    "duration": 4,
    "start_time": "2023-01-26T14:12:39.976Z"
   },
   {
    "duration": 10,
    "start_time": "2023-01-26T14:12:55.729Z"
   },
   {
    "duration": 5,
    "start_time": "2023-01-26T14:12:59.940Z"
   },
   {
    "duration": 5,
    "start_time": "2023-01-26T14:13:08.370Z"
   },
   {
    "duration": 12,
    "start_time": "2023-01-26T14:14:15.772Z"
   },
   {
    "duration": 13,
    "start_time": "2023-01-26T14:14:34.061Z"
   },
   {
    "duration": 14,
    "start_time": "2023-01-26T14:14:43.869Z"
   },
   {
    "duration": 9,
    "start_time": "2023-01-26T14:14:52.901Z"
   },
   {
    "duration": 4,
    "start_time": "2023-01-26T14:14:53.566Z"
   },
   {
    "duration": 25,
    "start_time": "2023-01-26T14:14:54.294Z"
   },
   {
    "duration": 12,
    "start_time": "2023-01-26T14:14:55.771Z"
   },
   {
    "duration": 17,
    "start_time": "2023-01-26T14:15:08.570Z"
   },
   {
    "duration": 10,
    "start_time": "2023-01-26T14:15:42.791Z"
   },
   {
    "duration": 9,
    "start_time": "2023-01-26T14:15:47.714Z"
   },
   {
    "duration": 6,
    "start_time": "2023-01-26T14:15:58.184Z"
   },
   {
    "duration": 19,
    "start_time": "2023-01-26T14:16:10.120Z"
   },
   {
    "duration": 5,
    "start_time": "2023-01-26T14:17:42.343Z"
   },
   {
    "duration": 8,
    "start_time": "2023-01-26T14:23:52.237Z"
   },
   {
    "duration": 10,
    "start_time": "2023-01-26T14:24:45.274Z"
   },
   {
    "duration": 10,
    "start_time": "2023-01-26T14:25:02.573Z"
   },
   {
    "duration": 7,
    "start_time": "2023-01-26T14:30:09.319Z"
   },
   {
    "duration": 20,
    "start_time": "2023-01-26T14:30:22.530Z"
   },
   {
    "duration": 54,
    "start_time": "2023-01-26T14:34:54.461Z"
   },
   {
    "duration": 199,
    "start_time": "2023-01-26T14:36:36.614Z"
   },
   {
    "duration": 200,
    "start_time": "2023-01-26T14:43:11.289Z"
   },
   {
    "duration": 15,
    "start_time": "2023-01-26T14:52:28.106Z"
   },
   {
    "duration": 1565,
    "start_time": "2023-01-31T11:53:34.873Z"
   },
   {
    "duration": 3519,
    "start_time": "2023-01-31T11:53:36.445Z"
   },
   {
    "duration": 31,
    "start_time": "2023-01-31T11:53:39.967Z"
   },
   {
    "duration": 4,
    "start_time": "2023-01-31T11:53:40.000Z"
   },
   {
    "duration": 3,
    "start_time": "2023-01-31T11:53:40.342Z"
   },
   {
    "duration": 3,
    "start_time": "2023-01-31T11:54:16.357Z"
   },
   {
    "duration": 319,
    "start_time": "2023-01-31T11:54:16.998Z"
   },
   {
    "duration": 5,
    "start_time": "2023-01-31T11:54:20.920Z"
   },
   {
    "duration": 9,
    "start_time": "2023-01-31T11:54:46.413Z"
   },
   {
    "duration": 5,
    "start_time": "2023-01-31T11:54:46.994Z"
   },
   {
    "duration": 5,
    "start_time": "2023-01-31T11:54:48.975Z"
   },
   {
    "duration": 5,
    "start_time": "2023-01-31T11:54:49.818Z"
   },
   {
    "duration": 4,
    "start_time": "2023-01-31T11:55:09.250Z"
   },
   {
    "duration": 3,
    "start_time": "2023-01-31T11:55:18.613Z"
   },
   {
    "duration": 16,
    "start_time": "2023-01-31T11:55:22.819Z"
   },
   {
    "duration": 4,
    "start_time": "2023-01-31T11:55:23.842Z"
   },
   {
    "duration": 13,
    "start_time": "2023-01-31T11:55:43.547Z"
   },
   {
    "duration": 4,
    "start_time": "2023-01-31T11:55:45.586Z"
   },
   {
    "duration": 5,
    "start_time": "2023-01-31T11:55:47.768Z"
   },
   {
    "duration": 6,
    "start_time": "2023-01-31T11:55:50.008Z"
   },
   {
    "duration": 20,
    "start_time": "2023-01-31T11:56:06.503Z"
   },
   {
    "duration": 15,
    "start_time": "2023-01-31T11:56:07.826Z"
   },
   {
    "duration": 12,
    "start_time": "2023-01-31T12:00:44.511Z"
   },
   {
    "duration": 5,
    "start_time": "2023-01-31T12:00:45.104Z"
   },
   {
    "duration": 13,
    "start_time": "2023-01-31T12:00:45.923Z"
   },
   {
    "duration": 8,
    "start_time": "2023-01-31T12:00:46.913Z"
   },
   {
    "duration": 42,
    "start_time": "2023-01-31T12:00:50.809Z"
   },
   {
    "duration": 12,
    "start_time": "2023-01-31T12:01:20.603Z"
   },
   {
    "duration": 8,
    "start_time": "2023-01-31T12:03:26.472Z"
   },
   {
    "duration": 3,
    "start_time": "2023-01-31T12:03:38.682Z"
   },
   {
    "duration": 708,
    "start_time": "2023-01-31T12:03:39.325Z"
   },
   {
    "duration": 24,
    "start_time": "2023-01-31T12:03:40.035Z"
   },
   {
    "duration": 3,
    "start_time": "2023-01-31T12:03:40.237Z"
   },
   {
    "duration": 3,
    "start_time": "2023-01-31T12:03:40.449Z"
   },
   {
    "duration": 5,
    "start_time": "2023-01-31T12:03:40.866Z"
   },
   {
    "duration": 345,
    "start_time": "2023-01-31T12:03:41.480Z"
   },
   {
    "duration": 4,
    "start_time": "2023-01-31T12:03:42.678Z"
   },
   {
    "duration": 7,
    "start_time": "2023-01-31T12:03:44.704Z"
   },
   {
    "duration": 5,
    "start_time": "2023-01-31T12:03:45.320Z"
   },
   {
    "duration": 6,
    "start_time": "2023-01-31T12:03:46.215Z"
   },
   {
    "duration": 7,
    "start_time": "2023-01-31T12:03:46.889Z"
   },
   {
    "duration": 6,
    "start_time": "2023-01-31T12:03:48.909Z"
   },
   {
    "duration": 4,
    "start_time": "2023-01-31T12:03:51.796Z"
   },
   {
    "duration": 16,
    "start_time": "2023-01-31T12:03:54.308Z"
   },
   {
    "duration": 5,
    "start_time": "2023-01-31T12:03:57.517Z"
   },
   {
    "duration": 9,
    "start_time": "2023-01-31T12:03:58.938Z"
   },
   {
    "duration": 6,
    "start_time": "2023-01-31T12:03:59.601Z"
   },
   {
    "duration": 4,
    "start_time": "2023-01-31T12:04:01.238Z"
   },
   {
    "duration": 6,
    "start_time": "2023-01-31T12:04:02.051Z"
   },
   {
    "duration": 19,
    "start_time": "2023-01-31T12:04:02.741Z"
   },
   {
    "duration": 15,
    "start_time": "2023-01-31T12:04:03.502Z"
   },
   {
    "duration": 5,
    "start_time": "2023-01-31T12:04:04.400Z"
   },
   {
    "duration": 9,
    "start_time": "2023-01-31T12:04:05.141Z"
   },
   {
    "duration": 8,
    "start_time": "2023-01-31T12:04:06.325Z"
   },
   {
    "duration": 33,
    "start_time": "2023-01-31T12:04:09.524Z"
   },
   {
    "duration": 12,
    "start_time": "2023-01-31T12:04:14.163Z"
   },
   {
    "duration": 8,
    "start_time": "2023-01-31T12:04:17.238Z"
   },
   {
    "duration": 29,
    "start_time": "2023-01-31T12:04:18.771Z"
   },
   {
    "duration": 29,
    "start_time": "2023-01-31T12:09:23.813Z"
   },
   {
    "duration": 16,
    "start_time": "2023-01-31T12:09:43.634Z"
   },
   {
    "duration": 33,
    "start_time": "2023-01-31T12:11:58.926Z"
   },
   {
    "duration": 12,
    "start_time": "2023-01-31T12:12:00.922Z"
   },
   {
    "duration": 1502,
    "start_time": "2023-01-31T12:12:35.638Z"
   },
   {
    "duration": 0,
    "start_time": "2023-01-31T12:12:37.141Z"
   },
   {
    "duration": 7,
    "start_time": "2023-01-31T12:12:38.337Z"
   },
   {
    "duration": 9,
    "start_time": "2023-01-31T12:12:56.243Z"
   },
   {
    "duration": 653,
    "start_time": "2023-01-31T12:12:57.024Z"
   },
   {
    "duration": 27,
    "start_time": "2023-01-31T12:12:57.678Z"
   },
   {
    "duration": 3,
    "start_time": "2023-01-31T12:12:58.213Z"
   },
   {
    "duration": 3,
    "start_time": "2023-01-31T12:12:58.880Z"
   },
   {
    "duration": 5,
    "start_time": "2023-01-31T12:12:59.502Z"
   },
   {
    "duration": 281,
    "start_time": "2023-01-31T12:13:00.144Z"
   },
   {
    "duration": 4,
    "start_time": "2023-01-31T12:13:01.381Z"
   },
   {
    "duration": 6,
    "start_time": "2023-01-31T12:13:03.060Z"
   },
   {
    "duration": 5,
    "start_time": "2023-01-31T12:13:03.618Z"
   },
   {
    "duration": 5,
    "start_time": "2023-01-31T12:13:04.244Z"
   },
   {
    "duration": 5,
    "start_time": "2023-01-31T12:13:04.858Z"
   },
   {
    "duration": 5,
    "start_time": "2023-01-31T12:13:07.115Z"
   },
   {
    "duration": 3,
    "start_time": "2023-01-31T12:13:10.361Z"
   },
   {
    "duration": 16,
    "start_time": "2023-01-31T12:13:11.244Z"
   },
   {
    "duration": 5,
    "start_time": "2023-01-31T12:13:16.692Z"
   },
   {
    "duration": 9,
    "start_time": "2023-01-31T12:13:27.535Z"
   },
   {
    "duration": 3,
    "start_time": "2023-01-31T12:13:28.164Z"
   },
   {
    "duration": 5,
    "start_time": "2023-01-31T12:13:31.503Z"
   },
   {
    "duration": 6,
    "start_time": "2023-01-31T12:13:33.846Z"
   },
   {
    "duration": 9,
    "start_time": "2023-01-31T12:14:11.111Z"
   },
   {
    "duration": 15,
    "start_time": "2023-01-31T12:14:12.141Z"
   },
   {
    "duration": 4,
    "start_time": "2023-01-31T12:14:13.700Z"
   },
   {
    "duration": 8,
    "start_time": "2023-01-31T12:14:14.441Z"
   },
   {
    "duration": 8,
    "start_time": "2023-01-31T12:14:16.782Z"
   },
   {
    "duration": 32,
    "start_time": "2023-01-31T12:14:24.518Z"
   },
   {
    "duration": 13,
    "start_time": "2023-01-31T12:14:26.054Z"
   },
   {
    "duration": 7,
    "start_time": "2023-01-31T12:14:27.804Z"
   },
   {
    "duration": 40,
    "start_time": "2023-01-31T12:14:28.852Z"
   },
   {
    "duration": 7,
    "start_time": "2023-01-31T12:14:56.760Z"
   },
   {
    "duration": 16,
    "start_time": "2023-01-31T12:14:57.683Z"
   },
   {
    "duration": 29,
    "start_time": "2023-01-31T12:18:20.313Z"
   },
   {
    "duration": 6,
    "start_time": "2023-01-31T12:20:00.767Z"
   },
   {
    "duration": 14,
    "start_time": "2023-01-31T12:20:01.487Z"
   },
   {
    "duration": 8,
    "start_time": "2023-01-31T12:20:08.615Z"
   },
   {
    "duration": 139,
    "start_time": "2023-01-31T12:20:15.554Z"
   },
   {
    "duration": 13,
    "start_time": "2023-01-31T12:21:23.415Z"
   },
   {
    "duration": 65,
    "start_time": "2023-01-31T12:24:52.173Z"
   },
   {
    "duration": 2,
    "start_time": "2023-01-31T12:24:53.554Z"
   },
   {
    "duration": 3,
    "start_time": "2023-01-31T12:24:54.075Z"
   },
   {
    "duration": 6,
    "start_time": "2023-01-31T12:24:54.425Z"
   },
   {
    "duration": 223,
    "start_time": "2023-01-31T12:24:54.713Z"
   },
   {
    "duration": 5,
    "start_time": "2023-01-31T12:24:55.090Z"
   },
   {
    "duration": 1726,
    "start_time": "2023-01-31T12:24:55.851Z"
   },
   {
    "duration": 0,
    "start_time": "2023-01-31T12:24:57.579Z"
   },
   {
    "duration": 0,
    "start_time": "2023-01-31T12:24:57.580Z"
   },
   {
    "duration": 0,
    "start_time": "2023-01-31T12:24:57.582Z"
   },
   {
    "duration": 4,
    "start_time": "2023-01-31T12:24:59.234Z"
   },
   {
    "duration": 2,
    "start_time": "2023-01-31T12:25:02.035Z"
   },
   {
    "duration": 21,
    "start_time": "2023-01-31T12:25:02.625Z"
   },
   {
    "duration": 4,
    "start_time": "2023-01-31T12:25:03.272Z"
   },
   {
    "duration": 10,
    "start_time": "2023-01-31T12:25:04.665Z"
   },
   {
    "duration": 4,
    "start_time": "2023-01-31T12:25:05.238Z"
   },
   {
    "duration": 4,
    "start_time": "2023-01-31T12:25:06.460Z"
   },
   {
    "duration": 3,
    "start_time": "2023-01-31T12:25:07.464Z"
   },
   {
    "duration": 5,
    "start_time": "2023-01-31T12:25:08.633Z"
   },
   {
    "duration": 15,
    "start_time": "2023-01-31T12:25:09.703Z"
   },
   {
    "duration": 2,
    "start_time": "2023-01-31T12:25:25.223Z"
   },
   {
    "duration": 680,
    "start_time": "2023-01-31T12:25:25.777Z"
   },
   {
    "duration": 76,
    "start_time": "2023-01-31T12:25:26.459Z"
   },
   {
    "duration": 2,
    "start_time": "2023-01-31T12:25:26.726Z"
   },
   {
    "duration": 3,
    "start_time": "2023-01-31T12:25:26.950Z"
   },
   {
    "duration": 3,
    "start_time": "2023-01-31T12:25:27.466Z"
   },
   {
    "duration": 275,
    "start_time": "2023-01-31T12:25:27.667Z"
   },
   {
    "duration": 5,
    "start_time": "2023-01-31T12:25:28.506Z"
   },
   {
    "duration": 6,
    "start_time": "2023-01-31T12:25:29.771Z"
   },
   {
    "duration": 6,
    "start_time": "2023-01-31T12:25:30.785Z"
   },
   {
    "duration": 4,
    "start_time": "2023-01-31T12:25:31.814Z"
   },
   {
    "duration": 6,
    "start_time": "2023-01-31T12:25:32.446Z"
   },
   {
    "duration": 4,
    "start_time": "2023-01-31T12:25:34.334Z"
   },
   {
    "duration": 3,
    "start_time": "2023-01-31T12:25:36.675Z"
   },
   {
    "duration": 15,
    "start_time": "2023-01-31T12:25:37.269Z"
   },
   {
    "duration": 5,
    "start_time": "2023-01-31T12:25:37.875Z"
   },
   {
    "duration": 9,
    "start_time": "2023-01-31T12:25:39.175Z"
   },
   {
    "duration": 5,
    "start_time": "2023-01-31T12:25:39.789Z"
   },
   {
    "duration": 5,
    "start_time": "2023-01-31T12:25:41.140Z"
   },
   {
    "duration": 4,
    "start_time": "2023-01-31T12:25:41.723Z"
   },
   {
    "duration": 9,
    "start_time": "2023-01-31T12:25:42.305Z"
   },
   {
    "duration": 19,
    "start_time": "2023-01-31T12:25:42.913Z"
   },
   {
    "duration": 7,
    "start_time": "2023-01-31T12:25:43.434Z"
   },
   {
    "duration": 8,
    "start_time": "2023-01-31T12:25:44.059Z"
   },
   {
    "duration": 6,
    "start_time": "2023-01-31T12:25:44.643Z"
   },
   {
    "duration": 6,
    "start_time": "2023-01-31T12:25:45.881Z"
   },
   {
    "duration": 14,
    "start_time": "2023-01-31T12:25:46.472Z"
   },
   {
    "duration": 7,
    "start_time": "2023-01-31T12:25:47.332Z"
   },
   {
    "duration": 162,
    "start_time": "2023-01-31T12:25:48.013Z"
   },
   {
    "duration": 1195,
    "start_time": "2023-01-31T12:26:54.122Z"
   },
   {
    "duration": 16,
    "start_time": "2023-01-31T12:27:10.664Z"
   },
   {
    "duration": 37,
    "start_time": "2023-01-31T12:27:29.983Z"
   },
   {
    "duration": 52,
    "start_time": "2023-01-31T12:29:16.497Z"
   },
   {
    "duration": 51,
    "start_time": "2023-01-31T12:29:54.313Z"
   },
   {
    "duration": 16,
    "start_time": "2023-01-31T12:30:05.004Z"
   },
   {
    "duration": 16,
    "start_time": "2023-01-31T12:30:12.437Z"
   },
   {
    "duration": 40,
    "start_time": "2023-01-31T12:30:16.955Z"
   },
   {
    "duration": 114,
    "start_time": "2023-01-31T12:31:41.540Z"
   },
   {
    "duration": 54,
    "start_time": "2023-01-31T12:31:46.303Z"
   },
   {
    "duration": 1228,
    "start_time": "2023-01-31T12:33:11.789Z"
   },
   {
    "duration": 116,
    "start_time": "2023-01-31T12:33:15.841Z"
   },
   {
    "duration": 35,
    "start_time": "2023-01-31T12:34:43.914Z"
   },
   {
    "duration": 36,
    "start_time": "2023-01-31T12:35:36.514Z"
   },
   {
    "duration": 15,
    "start_time": "2023-01-31T12:37:06.394Z"
   },
   {
    "duration": 57,
    "start_time": "2023-01-31T12:37:50.503Z"
   },
   {
    "duration": 3,
    "start_time": "2023-01-31T12:40:57.134Z"
   },
   {
    "duration": 620,
    "start_time": "2023-01-31T12:40:57.601Z"
   },
   {
    "duration": 68,
    "start_time": "2023-01-31T12:40:58.223Z"
   },
   {
    "duration": 3,
    "start_time": "2023-01-31T12:40:58.785Z"
   },
   {
    "duration": 3,
    "start_time": "2023-01-31T12:40:59.548Z"
   },
   {
    "duration": 4,
    "start_time": "2023-01-31T12:41:00.110Z"
   },
   {
    "duration": 269,
    "start_time": "2023-01-31T12:41:00.725Z"
   },
   {
    "duration": 4,
    "start_time": "2023-01-31T12:41:02.115Z"
   },
   {
    "duration": 5,
    "start_time": "2023-01-31T12:41:04.214Z"
   },
   {
    "duration": 5,
    "start_time": "2023-01-31T12:41:04.666Z"
   },
   {
    "duration": 5,
    "start_time": "2023-01-31T12:41:05.213Z"
   },
   {
    "duration": 6,
    "start_time": "2023-01-31T12:41:05.782Z"
   },
   {
    "duration": 5,
    "start_time": "2023-01-31T12:41:07.521Z"
   },
   {
    "duration": 4,
    "start_time": "2023-01-31T12:41:10.006Z"
   },
   {
    "duration": 14,
    "start_time": "2023-01-31T12:41:10.691Z"
   },
   {
    "duration": 5,
    "start_time": "2023-01-31T12:41:11.534Z"
   },
   {
    "duration": 11,
    "start_time": "2023-01-31T12:41:13.224Z"
   },
   {
    "duration": 4,
    "start_time": "2023-01-31T12:41:13.845Z"
   },
   {
    "duration": 4,
    "start_time": "2023-01-31T12:41:15.368Z"
   },
   {
    "duration": 5,
    "start_time": "2023-01-31T12:41:16.087Z"
   },
   {
    "duration": 9,
    "start_time": "2023-01-31T12:41:16.858Z"
   },
   {
    "duration": 69,
    "start_time": "2023-01-31T12:41:17.520Z"
   },
   {
    "duration": 5,
    "start_time": "2023-01-31T12:41:19.093Z"
   },
   {
    "duration": 8,
    "start_time": "2023-01-31T12:41:19.985Z"
   },
   {
    "duration": 32,
    "start_time": "2023-01-31T12:41:22.953Z"
   },
   {
    "duration": 78,
    "start_time": "2023-01-31T12:46:45.234Z"
   },
   {
    "duration": 12,
    "start_time": "2023-01-31T12:47:02.460Z"
   },
   {
    "duration": 21,
    "start_time": "2023-01-31T12:47:09.452Z"
   },
   {
    "duration": 10,
    "start_time": "2023-01-31T12:47:39.112Z"
   },
   {
    "duration": 347,
    "start_time": "2023-01-31T12:47:45.409Z"
   },
   {
    "duration": 57,
    "start_time": "2023-01-31T12:48:59.879Z"
   },
   {
    "duration": 7,
    "start_time": "2023-01-31T12:49:15.351Z"
   },
   {
    "duration": 170,
    "start_time": "2023-01-31T12:49:38.817Z"
   },
   {
    "duration": 3,
    "start_time": "2023-01-31T12:49:55.393Z"
   },
   {
    "duration": 643,
    "start_time": "2023-01-31T12:49:55.586Z"
   },
   {
    "duration": 73,
    "start_time": "2023-01-31T12:49:56.231Z"
   },
   {
    "duration": 4,
    "start_time": "2023-01-31T12:49:56.306Z"
   },
   {
    "duration": 26,
    "start_time": "2023-01-31T12:49:56.313Z"
   },
   {
    "duration": 26,
    "start_time": "2023-01-31T12:49:56.341Z"
   },
   {
    "duration": 363,
    "start_time": "2023-01-31T12:49:56.512Z"
   },
   {
    "duration": 4,
    "start_time": "2023-01-31T12:49:56.890Z"
   },
   {
    "duration": 7,
    "start_time": "2023-01-31T12:49:58.355Z"
   },
   {
    "duration": 6,
    "start_time": "2023-01-31T12:49:58.572Z"
   },
   {
    "duration": 6,
    "start_time": "2023-01-31T12:49:58.881Z"
   },
   {
    "duration": 6,
    "start_time": "2023-01-31T12:49:59.655Z"
   },
   {
    "duration": 6,
    "start_time": "2023-01-31T12:50:00.936Z"
   },
   {
    "duration": 4,
    "start_time": "2023-01-31T12:50:02.735Z"
   },
   {
    "duration": 15,
    "start_time": "2023-01-31T12:50:02.924Z"
   },
   {
    "duration": 6,
    "start_time": "2023-01-31T12:50:03.121Z"
   },
   {
    "duration": 10,
    "start_time": "2023-01-31T12:50:04.024Z"
   },
   {
    "duration": 4,
    "start_time": "2023-01-31T12:50:04.540Z"
   },
   {
    "duration": 5,
    "start_time": "2023-01-31T12:50:05.523Z"
   },
   {
    "duration": 5,
    "start_time": "2023-01-31T12:50:06.028Z"
   },
   {
    "duration": 10,
    "start_time": "2023-01-31T12:50:06.580Z"
   },
   {
    "duration": 20,
    "start_time": "2023-01-31T12:50:07.133Z"
   },
   {
    "duration": 6,
    "start_time": "2023-01-31T12:50:07.662Z"
   },
   {
    "duration": 8,
    "start_time": "2023-01-31T12:50:08.314Z"
   },
   {
    "duration": 32,
    "start_time": "2023-01-31T12:50:09.004Z"
   },
   {
    "duration": 8,
    "start_time": "2023-01-31T12:50:09.864Z"
   },
   {
    "duration": 6,
    "start_time": "2023-01-31T12:50:11.433Z"
   },
   {
    "duration": 13,
    "start_time": "2023-01-31T12:50:12.121Z"
   },
   {
    "duration": 8,
    "start_time": "2023-01-31T12:50:13.444Z"
   },
   {
    "duration": 201,
    "start_time": "2023-01-31T12:50:14.880Z"
   },
   {
    "duration": 40,
    "start_time": "2023-01-31T12:50:16.712Z"
   },
   {
    "duration": 51,
    "start_time": "2023-01-31T12:50:17.713Z"
   },
   {
    "duration": 49,
    "start_time": "2023-01-31T12:50:18.760Z"
   },
   {
    "duration": 37,
    "start_time": "2023-01-31T12:50:19.947Z"
   },
   {
    "duration": 55,
    "start_time": "2023-01-31T12:50:20.709Z"
   },
   {
    "duration": 9,
    "start_time": "2023-01-31T12:50:22.135Z"
   },
   {
    "duration": 197,
    "start_time": "2023-01-31T12:50:23.268Z"
   },
   {
    "duration": 8,
    "start_time": "2023-01-31T12:53:37.700Z"
   },
   {
    "duration": 8,
    "start_time": "2023-01-31T12:54:09.681Z"
   },
   {
    "duration": 77,
    "start_time": "2023-01-31T12:54:21.511Z"
   },
   {
    "duration": 7,
    "start_time": "2023-01-31T12:55:35.868Z"
   },
   {
    "duration": 3,
    "start_time": "2023-01-31T12:58:12.431Z"
   },
   {
    "duration": 15,
    "start_time": "2023-01-31T12:59:14.360Z"
   },
   {
    "duration": 19,
    "start_time": "2023-01-31T13:00:35.333Z"
   },
   {
    "duration": 163,
    "start_time": "2023-01-31T13:13:00.403Z"
   },
   {
    "duration": 53,
    "start_time": "2023-01-31T13:13:23.895Z"
   },
   {
    "duration": 3813,
    "start_time": "2023-01-31T13:13:33.097Z"
   },
   {
    "duration": 3,
    "start_time": "2023-01-31T13:15:08.071Z"
   },
   {
    "duration": 622,
    "start_time": "2023-01-31T13:15:08.259Z"
   },
   {
    "duration": 68,
    "start_time": "2023-01-31T13:15:08.883Z"
   },
   {
    "duration": 3,
    "start_time": "2023-01-31T13:15:08.953Z"
   },
   {
    "duration": 3,
    "start_time": "2023-01-31T13:15:09.168Z"
   },
   {
    "duration": 6,
    "start_time": "2023-01-31T13:15:09.174Z"
   },
   {
    "duration": 274,
    "start_time": "2023-01-31T13:15:09.182Z"
   },
   {
    "duration": 4,
    "start_time": "2023-01-31T13:15:09.459Z"
   },
   {
    "duration": 5,
    "start_time": "2023-01-31T13:15:09.958Z"
   },
   {
    "duration": 6,
    "start_time": "2023-01-31T13:15:10.158Z"
   },
   {
    "duration": 6,
    "start_time": "2023-01-31T13:15:10.330Z"
   },
   {
    "duration": 5,
    "start_time": "2023-01-31T13:15:10.536Z"
   },
   {
    "duration": 4,
    "start_time": "2023-01-31T13:15:11.088Z"
   },
   {
    "duration": 4,
    "start_time": "2023-01-31T13:15:12.159Z"
   },
   {
    "duration": 15,
    "start_time": "2023-01-31T13:15:12.320Z"
   },
   {
    "duration": 5,
    "start_time": "2023-01-31T13:15:12.522Z"
   },
   {
    "duration": 10,
    "start_time": "2023-01-31T13:15:12.912Z"
   },
   {
    "duration": 4,
    "start_time": "2023-01-31T13:15:13.113Z"
   },
   {
    "duration": 4,
    "start_time": "2023-01-31T13:15:13.514Z"
   },
   {
    "duration": 4,
    "start_time": "2023-01-31T13:15:13.667Z"
   },
   {
    "duration": 2,
    "start_time": "2023-01-31T13:15:13.867Z"
   },
   {
    "duration": 16,
    "start_time": "2023-01-31T13:15:14.074Z"
   },
   {
    "duration": 4,
    "start_time": "2023-01-31T13:15:14.348Z"
   },
   {
    "duration": 9,
    "start_time": "2023-01-31T13:15:14.553Z"
   },
   {
    "duration": 54,
    "start_time": "2023-01-31T13:15:14.890Z"
   },
   {
    "duration": 8,
    "start_time": "2023-01-31T13:15:15.191Z"
   },
   {
    "duration": 9,
    "start_time": "2023-01-31T13:15:16.429Z"
   },
   {
    "duration": 17,
    "start_time": "2023-01-31T13:15:16.757Z"
   },
   {
    "duration": 8,
    "start_time": "2023-01-31T13:15:17.458Z"
   },
   {
    "duration": 279,
    "start_time": "2023-01-31T13:15:18.086Z"
   },
   {
    "duration": 68,
    "start_time": "2023-01-31T13:15:18.650Z"
   },
   {
    "duration": 58,
    "start_time": "2023-01-31T13:15:19.504Z"
   },
   {
    "duration": 52,
    "start_time": "2023-01-31T13:15:20.319Z"
   },
   {
    "duration": 54,
    "start_time": "2023-01-31T13:15:20.770Z"
   },
   {
    "duration": 53,
    "start_time": "2023-01-31T13:15:20.942Z"
   },
   {
    "duration": 8,
    "start_time": "2023-01-31T13:15:21.415Z"
   },
   {
    "duration": 260,
    "start_time": "2023-01-31T13:15:21.618Z"
   },
   {
    "duration": 70,
    "start_time": "2023-01-31T13:15:22.330Z"
   },
   {
    "duration": 6,
    "start_time": "2023-01-31T13:15:22.601Z"
   },
   {
    "duration": 118,
    "start_time": "2023-01-31T13:15:22.819Z"
   },
   {
    "duration": 15,
    "start_time": "2023-01-31T13:15:23.630Z"
   },
   {
    "duration": 3638,
    "start_time": "2023-01-31T13:15:41.811Z"
   },
   {
    "duration": 196,
    "start_time": "2023-01-31T13:18:50.000Z"
   },
   {
    "duration": 180,
    "start_time": "2023-01-31T13:19:11.949Z"
   },
   {
    "duration": 153,
    "start_time": "2023-01-31T13:19:30.210Z"
   },
   {
    "duration": 122,
    "start_time": "2023-01-31T13:20:08.930Z"
   },
   {
    "duration": 1431,
    "start_time": "2023-01-31T17:28:11.014Z"
   },
   {
    "duration": 3007,
    "start_time": "2023-01-31T17:28:12.447Z"
   },
   {
    "duration": 66,
    "start_time": "2023-01-31T17:28:15.456Z"
   },
   {
    "duration": 3,
    "start_time": "2023-01-31T17:28:15.524Z"
   },
   {
    "duration": 8,
    "start_time": "2023-01-31T17:28:15.529Z"
   },
   {
    "duration": 4,
    "start_time": "2023-01-31T17:28:17.131Z"
   },
   {
    "duration": 266,
    "start_time": "2023-01-31T17:28:18.146Z"
   },
   {
    "duration": 5,
    "start_time": "2023-01-31T17:28:20.506Z"
   },
   {
    "duration": 6,
    "start_time": "2023-01-31T17:28:23.092Z"
   },
   {
    "duration": 5,
    "start_time": "2023-01-31T17:28:23.923Z"
   },
   {
    "duration": 5,
    "start_time": "2023-01-31T17:28:24.723Z"
   },
   {
    "duration": 4,
    "start_time": "2023-01-31T17:28:25.597Z"
   },
   {
    "duration": 4,
    "start_time": "2023-01-31T17:28:27.854Z"
   },
   {
    "duration": 4,
    "start_time": "2023-01-31T17:28:30.790Z"
   },
   {
    "duration": 14,
    "start_time": "2023-01-31T17:28:31.599Z"
   },
   {
    "duration": 5,
    "start_time": "2023-01-31T17:28:32.420Z"
   },
   {
    "duration": 12,
    "start_time": "2023-01-31T17:28:33.914Z"
   },
   {
    "duration": 4,
    "start_time": "2023-01-31T17:28:34.723Z"
   },
   {
    "duration": 6,
    "start_time": "2023-01-31T17:28:36.214Z"
   },
   {
    "duration": 4,
    "start_time": "2023-01-31T17:28:37.209Z"
   },
   {
    "duration": 2,
    "start_time": "2023-01-31T17:28:37.872Z"
   },
   {
    "duration": 20,
    "start_time": "2023-01-31T17:28:38.606Z"
   },
   {
    "duration": 3,
    "start_time": "2023-01-31T17:28:39.276Z"
   },
   {
    "duration": 9,
    "start_time": "2023-01-31T17:28:40.093Z"
   },
   {
    "duration": 56,
    "start_time": "2023-01-31T17:28:40.881Z"
   },
   {
    "duration": 7,
    "start_time": "2023-01-31T17:28:41.585Z"
   },
   {
    "duration": 11,
    "start_time": "2023-01-31T17:28:42.909Z"
   },
   {
    "duration": 19,
    "start_time": "2023-01-31T17:28:43.581Z"
   },
   {
    "duration": 10,
    "start_time": "2023-01-31T17:28:44.278Z"
   },
   {
    "duration": 263,
    "start_time": "2023-01-31T17:28:44.907Z"
   },
   {
    "duration": 111,
    "start_time": "2023-01-31T17:28:45.817Z"
   },
   {
    "duration": 57,
    "start_time": "2023-01-31T17:28:47.100Z"
   },
   {
    "duration": 52,
    "start_time": "2023-01-31T17:28:48.366Z"
   },
   {
    "duration": 49,
    "start_time": "2023-01-31T17:28:49.071Z"
   },
   {
    "duration": 49,
    "start_time": "2023-01-31T17:28:49.749Z"
   },
   {
    "duration": 48,
    "start_time": "2023-01-31T17:28:50.350Z"
   },
   {
    "duration": 9,
    "start_time": "2023-01-31T17:28:52.774Z"
   },
   {
    "duration": 254,
    "start_time": "2023-01-31T17:28:53.597Z"
   },
   {
    "duration": 87,
    "start_time": "2023-01-31T17:28:55.934Z"
   },
   {
    "duration": 6,
    "start_time": "2023-01-31T17:28:56.770Z"
   },
   {
    "duration": 16,
    "start_time": "2023-01-31T17:29:02.903Z"
   },
   {
    "duration": 3,
    "start_time": "2023-01-31T17:47:39.529Z"
   },
   {
    "duration": 692,
    "start_time": "2023-01-31T17:47:41.355Z"
   },
   {
    "duration": 59,
    "start_time": "2023-01-31T17:47:49.508Z"
   },
   {
    "duration": 3,
    "start_time": "2023-01-31T17:47:51.257Z"
   },
   {
    "duration": 3,
    "start_time": "2023-01-31T17:47:56.165Z"
   },
   {
    "duration": 4,
    "start_time": "2023-01-31T17:47:58.741Z"
   },
   {
    "duration": 257,
    "start_time": "2023-01-31T17:47:59.737Z"
   },
   {
    "duration": 6,
    "start_time": "2023-01-31T17:48:02.986Z"
   },
   {
    "duration": 5,
    "start_time": "2023-01-31T17:48:08.764Z"
   },
   {
    "duration": 6,
    "start_time": "2023-01-31T17:48:09.394Z"
   },
   {
    "duration": 4,
    "start_time": "2023-01-31T17:48:10.102Z"
   },
   {
    "duration": 5,
    "start_time": "2023-01-31T17:48:11.555Z"
   },
   {
    "duration": 4,
    "start_time": "2023-01-31T17:48:14.274Z"
   },
   {
    "duration": 3,
    "start_time": "2023-01-31T17:48:29.888Z"
   },
   {
    "duration": 13,
    "start_time": "2023-01-31T17:48:39.476Z"
   },
   {
    "duration": 5,
    "start_time": "2023-01-31T17:48:40.309Z"
   },
   {
    "duration": 8,
    "start_time": "2023-01-31T17:48:46.289Z"
   },
   {
    "duration": 3,
    "start_time": "2023-01-31T17:48:46.907Z"
   },
   {
    "duration": 2,
    "start_time": "2023-01-31T17:48:51.277Z"
   },
   {
    "duration": 14,
    "start_time": "2023-01-31T17:48:52.523Z"
   },
   {
    "duration": 4,
    "start_time": "2023-01-31T17:48:53.168Z"
   },
   {
    "duration": 8,
    "start_time": "2023-01-31T17:48:54.061Z"
   },
   {
    "duration": 52,
    "start_time": "2023-01-31T17:48:54.791Z"
   },
   {
    "duration": 8,
    "start_time": "2023-01-31T17:48:55.491Z"
   },
   {
    "duration": 7,
    "start_time": "2023-01-31T17:49:28.285Z"
   },
   {
    "duration": 16,
    "start_time": "2023-01-31T17:49:29.041Z"
   },
   {
    "duration": 9,
    "start_time": "2023-01-31T17:49:30.322Z"
   },
   {
    "duration": 267,
    "start_time": "2023-01-31T17:49:32.259Z"
   },
   {
    "duration": 240,
    "start_time": "2023-01-31T17:50:16.731Z"
   },
   {
    "duration": 52,
    "start_time": "2023-01-31T17:50:17.403Z"
   },
   {
    "duration": 49,
    "start_time": "2023-01-31T17:50:18.305Z"
   },
   {
    "duration": 49,
    "start_time": "2023-01-31T17:50:19.028Z"
   },
   {
    "duration": 49,
    "start_time": "2023-01-31T17:50:19.665Z"
   },
   {
    "duration": 49,
    "start_time": "2023-01-31T17:50:20.346Z"
   },
   {
    "duration": 8,
    "start_time": "2023-01-31T17:50:21.708Z"
   },
   {
    "duration": 250,
    "start_time": "2023-01-31T17:50:22.849Z"
   },
   {
    "duration": 66,
    "start_time": "2023-01-31T17:51:18.165Z"
   },
   {
    "duration": 5,
    "start_time": "2023-01-31T17:51:25.635Z"
   },
   {
    "duration": 15,
    "start_time": "2023-01-31T17:51:27.722Z"
   },
   {
    "duration": 3,
    "start_time": "2023-01-31T19:02:28.940Z"
   },
   {
    "duration": 687,
    "start_time": "2023-01-31T19:02:29.538Z"
   },
   {
    "duration": 58,
    "start_time": "2023-01-31T19:02:30.226Z"
   },
   {
    "duration": 3,
    "start_time": "2023-01-31T19:02:31.200Z"
   },
   {
    "duration": 3,
    "start_time": "2023-01-31T19:02:31.999Z"
   },
   {
    "duration": 3,
    "start_time": "2023-01-31T19:02:33.092Z"
   },
   {
    "duration": 247,
    "start_time": "2023-01-31T19:02:34.070Z"
   },
   {
    "duration": 4,
    "start_time": "2023-01-31T19:02:36.223Z"
   },
   {
    "duration": 5,
    "start_time": "2023-01-31T19:02:38.606Z"
   },
   {
    "duration": 5,
    "start_time": "2023-01-31T19:02:39.515Z"
   },
   {
    "duration": 5,
    "start_time": "2023-01-31T19:02:40.885Z"
   },
   {
    "duration": 5,
    "start_time": "2023-01-31T19:02:41.611Z"
   },
   {
    "duration": 4,
    "start_time": "2023-01-31T19:02:43.797Z"
   },
   {
    "duration": 3,
    "start_time": "2023-01-31T19:02:47.516Z"
   },
   {
    "duration": 13,
    "start_time": "2023-01-31T19:02:48.165Z"
   },
   {
    "duration": 4,
    "start_time": "2023-01-31T19:02:48.905Z"
   },
   {
    "duration": 10,
    "start_time": "2023-01-31T19:02:57.482Z"
   },
   {
    "duration": 4,
    "start_time": "2023-01-31T19:02:58.240Z"
   },
   {
    "duration": 2,
    "start_time": "2023-01-31T19:03:00.267Z"
   },
   {
    "duration": 15,
    "start_time": "2023-01-31T19:03:01.234Z"
   },
   {
    "duration": 8,
    "start_time": "2023-01-31T19:03:02.059Z"
   },
   {
    "duration": 53,
    "start_time": "2023-01-31T19:03:06.250Z"
   },
   {
    "duration": 8,
    "start_time": "2023-01-31T19:03:08.244Z"
   },
   {
    "duration": 7,
    "start_time": "2023-01-31T19:03:11.033Z"
   },
   {
    "duration": 15,
    "start_time": "2023-01-31T19:03:11.959Z"
   },
   {
    "duration": 8,
    "start_time": "2023-01-31T19:03:13.482Z"
   },
   {
    "duration": 233,
    "start_time": "2023-01-31T19:03:20.739Z"
   },
   {
    "duration": 96,
    "start_time": "2023-01-31T19:04:06.500Z"
   },
   {
    "duration": 48,
    "start_time": "2023-01-31T19:04:59.536Z"
   },
   {
    "duration": 46,
    "start_time": "2023-01-31T19:05:00.446Z"
   },
   {
    "duration": 48,
    "start_time": "2023-01-31T19:05:01.606Z"
   },
   {
    "duration": 53,
    "start_time": "2023-01-31T19:05:02.577Z"
   },
   {
    "duration": 53,
    "start_time": "2023-01-31T19:05:03.457Z"
   },
   {
    "duration": 8,
    "start_time": "2023-01-31T19:05:08.274Z"
   },
   {
    "duration": 240,
    "start_time": "2023-01-31T19:05:11.013Z"
   },
   {
    "duration": 69,
    "start_time": "2023-01-31T19:05:15.291Z"
   },
   {
    "duration": 6,
    "start_time": "2023-01-31T19:05:16.555Z"
   },
   {
    "duration": 16,
    "start_time": "2023-01-31T19:05:18.526Z"
   },
   {
    "duration": 3142,
    "start_time": "2023-01-31T19:05:24.638Z"
   },
   {
    "duration": 234,
    "start_time": "2023-01-31T19:26:29.707Z"
   },
   {
    "duration": 1495,
    "start_time": "2023-02-01T10:29:16.504Z"
   },
   {
    "duration": 3313,
    "start_time": "2023-02-01T10:29:18.001Z"
   },
   {
    "duration": 62,
    "start_time": "2023-02-01T10:29:21.316Z"
   },
   {
    "duration": 3,
    "start_time": "2023-02-01T10:29:21.380Z"
   },
   {
    "duration": 8,
    "start_time": "2023-02-01T10:29:21.385Z"
   },
   {
    "duration": 6,
    "start_time": "2023-02-01T10:29:21.395Z"
   },
   {
    "duration": 307,
    "start_time": "2023-02-01T10:29:21.402Z"
   },
   {
    "duration": 4,
    "start_time": "2023-02-01T10:29:22.595Z"
   },
   {
    "duration": 8,
    "start_time": "2023-02-01T10:29:25.195Z"
   },
   {
    "duration": 5,
    "start_time": "2023-02-01T10:29:25.880Z"
   },
   {
    "duration": 5,
    "start_time": "2023-02-01T10:29:26.379Z"
   },
   {
    "duration": 7,
    "start_time": "2023-02-01T10:29:26.677Z"
   },
   {
    "duration": 4,
    "start_time": "2023-02-01T10:29:27.456Z"
   },
   {
    "duration": 3,
    "start_time": "2023-02-01T10:29:28.417Z"
   },
   {
    "duration": 14,
    "start_time": "2023-02-01T10:29:28.653Z"
   },
   {
    "duration": 5,
    "start_time": "2023-02-01T10:29:28.880Z"
   },
   {
    "duration": 12,
    "start_time": "2023-02-01T10:29:29.380Z"
   },
   {
    "duration": 3,
    "start_time": "2023-02-01T10:29:29.632Z"
   },
   {
    "duration": 2,
    "start_time": "2023-02-01T10:29:30.145Z"
   },
   {
    "duration": 17,
    "start_time": "2023-02-01T10:29:30.393Z"
   },
   {
    "duration": 9,
    "start_time": "2023-02-01T10:29:30.679Z"
   },
   {
    "duration": 58,
    "start_time": "2023-02-01T10:29:30.856Z"
   },
   {
    "duration": 8,
    "start_time": "2023-02-01T10:29:31.066Z"
   },
   {
    "duration": 11,
    "start_time": "2023-02-01T10:29:31.654Z"
   },
   {
    "duration": 18,
    "start_time": "2023-02-01T10:29:31.984Z"
   },
   {
    "duration": 8,
    "start_time": "2023-02-01T10:29:32.319Z"
   },
   {
    "duration": 256,
    "start_time": "2023-02-01T10:29:32.667Z"
   },
   {
    "duration": 102,
    "start_time": "2023-02-01T10:29:33.038Z"
   },
   {
    "duration": 70,
    "start_time": "2023-02-01T10:29:33.324Z"
   },
   {
    "duration": 56,
    "start_time": "2023-02-01T10:29:34.240Z"
   },
   {
    "duration": 52,
    "start_time": "2023-02-01T10:29:35.175Z"
   },
   {
    "duration": 4,
    "start_time": "2023-02-01T10:39:56.496Z"
   },
   {
    "duration": 78,
    "start_time": "2023-02-01T10:47:47.260Z"
   },
   {
    "duration": 5,
    "start_time": "2023-02-01T10:47:54.044Z"
   },
   {
    "duration": 5,
    "start_time": "2023-02-01T10:49:47.536Z"
   },
   {
    "duration": 4,
    "start_time": "2023-02-01T10:49:48.144Z"
   },
   {
    "duration": 4,
    "start_time": "2023-02-01T10:49:54.497Z"
   },
   {
    "duration": 4,
    "start_time": "2023-02-01T10:50:07.422Z"
   },
   {
    "duration": 3,
    "start_time": "2023-02-01T11:01:21.845Z"
   },
   {
    "duration": 4,
    "start_time": "2023-02-01T11:08:02.534Z"
   },
   {
    "duration": 3,
    "start_time": "2023-02-01T11:32:27.343Z"
   },
   {
    "duration": 670,
    "start_time": "2023-02-01T11:32:28.464Z"
   },
   {
    "duration": 60,
    "start_time": "2023-02-01T11:32:29.162Z"
   },
   {
    "duration": 3,
    "start_time": "2023-02-01T11:32:29.847Z"
   },
   {
    "duration": 3,
    "start_time": "2023-02-01T11:32:30.492Z"
   },
   {
    "duration": 5,
    "start_time": "2023-02-01T11:32:31.203Z"
   },
   {
    "duration": 291,
    "start_time": "2023-02-01T11:32:31.889Z"
   },
   {
    "duration": 6,
    "start_time": "2023-02-01T11:32:34.606Z"
   },
   {
    "duration": 4,
    "start_time": "2023-02-01T11:32:35.345Z"
   },
   {
    "duration": 5,
    "start_time": "2023-02-01T11:32:37.422Z"
   },
   {
    "duration": 2,
    "start_time": "2023-02-01T11:32:41.901Z"
   },
   {
    "duration": 14,
    "start_time": "2023-02-01T11:32:42.664Z"
   },
   {
    "duration": 5,
    "start_time": "2023-02-01T11:32:43.497Z"
   },
   {
    "duration": 5,
    "start_time": "2023-02-01T11:33:22.809Z"
   },
   {
    "duration": 12,
    "start_time": "2023-02-01T11:33:31.266Z"
   },
   {
    "duration": 4,
    "start_time": "2023-02-01T11:33:34.744Z"
   },
   {
    "duration": 10,
    "start_time": "2023-02-01T11:33:36.002Z"
   },
   {
    "duration": 4,
    "start_time": "2023-02-01T11:34:01.914Z"
   },
   {
    "duration": 106,
    "start_time": "2023-02-01T11:34:38.743Z"
   },
   {
    "duration": 8,
    "start_time": "2023-02-01T11:34:46.109Z"
   },
   {
    "duration": 8,
    "start_time": "2023-02-01T11:37:48.604Z"
   },
   {
    "duration": 12,
    "start_time": "2023-02-01T11:38:22.865Z"
   },
   {
    "duration": 8,
    "start_time": "2023-02-01T11:38:38.566Z"
   },
   {
    "duration": 50,
    "start_time": "2023-02-01T11:39:40.396Z"
   },
   {
    "duration": 7,
    "start_time": "2023-02-01T11:41:28.755Z"
   },
   {
    "duration": 59,
    "start_time": "2023-02-01T11:44:52.366Z"
   },
   {
    "duration": 102,
    "start_time": "2023-02-01T11:45:13.627Z"
   },
   {
    "duration": 103,
    "start_time": "2023-02-01T11:45:58.757Z"
   },
   {
    "duration": 9,
    "start_time": "2023-02-01T11:47:36.450Z"
   },
   {
    "duration": 7,
    "start_time": "2023-02-01T11:48:29.123Z"
   },
   {
    "duration": 280,
    "start_time": "2023-02-01T11:50:04.603Z"
   },
   {
    "duration": 7,
    "start_time": "2023-02-01T11:51:08.003Z"
   },
   {
    "duration": 261,
    "start_time": "2023-02-01T11:51:09.399Z"
   },
   {
    "duration": 284,
    "start_time": "2023-02-01T11:51:38.015Z"
   },
   {
    "duration": 36,
    "start_time": "2023-02-01T11:51:39.123Z"
   },
   {
    "duration": 22,
    "start_time": "2023-02-01T11:51:40.345Z"
   },
   {
    "duration": 21,
    "start_time": "2023-02-01T11:51:40.932Z"
   },
   {
    "duration": 21,
    "start_time": "2023-02-01T11:51:41.535Z"
   },
   {
    "duration": 22,
    "start_time": "2023-02-01T11:51:42.711Z"
   },
   {
    "duration": 8,
    "start_time": "2023-02-01T11:51:49.742Z"
   },
   {
    "duration": 9,
    "start_time": "2023-02-01T11:53:47.132Z"
   },
   {
    "duration": 9,
    "start_time": "2023-02-01T11:54:01.429Z"
   },
   {
    "duration": 10,
    "start_time": "2023-02-01T11:54:08.865Z"
   },
   {
    "duration": 14,
    "start_time": "2023-02-01T11:54:29.968Z"
   },
   {
    "duration": 87,
    "start_time": "2023-02-01T11:54:41.725Z"
   },
   {
    "duration": 3,
    "start_time": "2023-02-01T11:54:46.994Z"
   },
   {
    "duration": 19,
    "start_time": "2023-02-01T12:01:18.834Z"
   },
   {
    "duration": 4,
    "start_time": "2023-02-01T12:01:19.865Z"
   },
   {
    "duration": 6,
    "start_time": "2023-02-01T12:01:37.301Z"
   },
   {
    "duration": 39,
    "start_time": "2023-02-01T12:02:31.509Z"
   },
   {
    "duration": 6,
    "start_time": "2023-02-01T12:03:42.151Z"
   },
   {
    "duration": 5,
    "start_time": "2023-02-01T12:04:19.041Z"
   },
   {
    "duration": 6,
    "start_time": "2023-02-01T12:04:45.740Z"
   },
   {
    "duration": 3260,
    "start_time": "2023-02-01T12:06:47.104Z"
   },
   {
    "duration": 72,
    "start_time": "2023-02-01T12:06:50.367Z"
   },
   {
    "duration": 2835,
    "start_time": "2023-02-01T12:38:54.066Z"
   },
   {
    "duration": 3406,
    "start_time": "2023-02-01T12:39:10.804Z"
   },
   {
    "duration": 3371,
    "start_time": "2023-02-01T12:40:17.974Z"
   },
   {
    "duration": 517,
    "start_time": "2023-02-01T12:44:57.256Z"
   },
   {
    "duration": 26,
    "start_time": "2023-02-01T12:48:03.320Z"
   },
   {
    "duration": 10,
    "start_time": "2023-02-01T12:48:31.495Z"
   },
   {
    "duration": 5,
    "start_time": "2023-02-01T12:48:34.119Z"
   },
   {
    "duration": 5,
    "start_time": "2023-02-01T12:48:34.834Z"
   },
   {
    "duration": 238,
    "start_time": "2023-02-01T12:48:35.712Z"
   },
   {
    "duration": 1540,
    "start_time": "2023-02-02T11:31:22.513Z"
   },
   {
    "duration": 1916,
    "start_time": "2023-02-02T11:31:25.281Z"
   },
   {
    "duration": 59,
    "start_time": "2023-02-02T11:31:27.199Z"
   },
   {
    "duration": 3,
    "start_time": "2023-02-02T11:31:27.259Z"
   },
   {
    "duration": 3,
    "start_time": "2023-02-02T11:31:27.357Z"
   },
   {
    "duration": 4,
    "start_time": "2023-02-02T11:31:27.902Z"
   },
   {
    "duration": 266,
    "start_time": "2023-02-02T11:31:28.409Z"
   },
   {
    "duration": 5,
    "start_time": "2023-02-02T11:31:31.603Z"
   },
   {
    "duration": 4,
    "start_time": "2023-02-02T11:31:32.215Z"
   },
   {
    "duration": 4,
    "start_time": "2023-02-02T11:31:34.233Z"
   },
   {
    "duration": 3,
    "start_time": "2023-02-02T11:31:36.688Z"
   },
   {
    "duration": 17,
    "start_time": "2023-02-02T11:31:37.287Z"
   },
   {
    "duration": 4,
    "start_time": "2023-02-02T11:31:37.884Z"
   },
   {
    "duration": 12,
    "start_time": "2023-02-02T11:31:38.904Z"
   },
   {
    "duration": 3,
    "start_time": "2023-02-02T11:31:39.376Z"
   },
   {
    "duration": 8,
    "start_time": "2023-02-02T11:31:39.825Z"
   },
   {
    "duration": 7,
    "start_time": "2023-02-02T11:31:40.198Z"
   },
   {
    "duration": 10,
    "start_time": "2023-02-02T11:31:41.032Z"
   },
   {
    "duration": 7,
    "start_time": "2023-02-02T11:31:41.414Z"
   },
   {
    "duration": 239,
    "start_time": "2023-02-02T11:31:42.067Z"
   },
   {
    "duration": 61,
    "start_time": "2023-02-02T11:31:42.349Z"
   },
   {
    "duration": 50,
    "start_time": "2023-02-02T11:31:42.734Z"
   },
   {
    "duration": 48,
    "start_time": "2023-02-02T11:31:43.109Z"
   },
   {
    "duration": 68,
    "start_time": "2023-02-02T11:31:43.501Z"
   },
   {
    "duration": 69,
    "start_time": "2023-02-02T11:31:43.873Z"
   },
   {
    "duration": 18,
    "start_time": "2023-02-02T11:31:44.799Z"
   },
   {
    "duration": 4,
    "start_time": "2023-02-02T11:31:45.247Z"
   },
   {
    "duration": 5,
    "start_time": "2023-02-02T11:31:46.312Z"
   },
   {
    "duration": 7,
    "start_time": "2023-02-02T11:31:46.847Z"
   },
   {
    "duration": 6,
    "start_time": "2023-02-02T11:31:47.397Z"
   },
   {
    "duration": 3247,
    "start_time": "2023-02-02T11:31:50.822Z"
   },
   {
    "duration": 486,
    "start_time": "2023-02-02T11:31:54.071Z"
   },
   {
    "duration": 30,
    "start_time": "2023-02-02T11:31:58.584Z"
   },
   {
    "duration": 4,
    "start_time": "2023-02-02T11:32:06.924Z"
   },
   {
    "duration": 7,
    "start_time": "2023-02-02T11:32:08.251Z"
   },
   {
    "duration": 88,
    "start_time": "2023-02-02T11:32:08.928Z"
   },
   {
    "duration": 4,
    "start_time": "2023-02-02T11:32:10.903Z"
   },
   {
    "duration": 3,
    "start_time": "2023-02-02T11:32:11.682Z"
   },
   {
    "duration": 111,
    "start_time": "2023-02-02T11:32:12.424Z"
   },
   {
    "duration": 49,
    "start_time": "2023-02-02T11:44:08.188Z"
   },
   {
    "duration": 3,
    "start_time": "2023-02-02T11:44:21.830Z"
   },
   {
    "duration": 21,
    "start_time": "2023-02-02T11:44:22.970Z"
   },
   {
    "duration": 19,
    "start_time": "2023-02-02T11:46:14.025Z"
   },
   {
    "duration": 7,
    "start_time": "2023-02-02T11:46:30.457Z"
   },
   {
    "duration": 697,
    "start_time": "2023-02-02T11:46:30.639Z"
   },
   {
    "duration": 70,
    "start_time": "2023-02-02T11:46:31.338Z"
   },
   {
    "duration": 37,
    "start_time": "2023-02-02T11:46:31.410Z"
   },
   {
    "duration": 53,
    "start_time": "2023-02-02T11:46:31.449Z"
   },
   {
    "duration": 62,
    "start_time": "2023-02-02T11:46:31.504Z"
   },
   {
    "duration": 307,
    "start_time": "2023-02-02T11:46:31.568Z"
   },
   {
    "duration": 6,
    "start_time": "2023-02-02T11:46:32.327Z"
   },
   {
    "duration": 5,
    "start_time": "2023-02-02T11:46:32.513Z"
   },
   {
    "duration": 4,
    "start_time": "2023-02-02T11:46:33.088Z"
   },
   {
    "duration": 3,
    "start_time": "2023-02-02T11:46:33.869Z"
   },
   {
    "duration": 18,
    "start_time": "2023-02-02T11:46:34.053Z"
   },
   {
    "duration": 5,
    "start_time": "2023-02-02T11:46:34.233Z"
   },
   {
    "duration": 10,
    "start_time": "2023-02-02T11:46:34.626Z"
   },
   {
    "duration": 4,
    "start_time": "2023-02-02T11:46:34.835Z"
   },
   {
    "duration": 11,
    "start_time": "2023-02-02T11:46:35.024Z"
   },
   {
    "duration": 7,
    "start_time": "2023-02-02T11:46:35.217Z"
   },
   {
    "duration": 9,
    "start_time": "2023-02-02T11:46:35.617Z"
   },
   {
    "duration": 9,
    "start_time": "2023-02-02T11:46:35.818Z"
   },
   {
    "duration": 281,
    "start_time": "2023-02-02T11:46:36.216Z"
   },
   {
    "duration": 51,
    "start_time": "2023-02-02T11:46:36.498Z"
   },
   {
    "duration": 54,
    "start_time": "2023-02-02T11:46:36.633Z"
   },
   {
    "duration": 58,
    "start_time": "2023-02-02T11:46:36.824Z"
   },
   {
    "duration": 57,
    "start_time": "2023-02-02T11:46:37.017Z"
   },
   {
    "duration": 66,
    "start_time": "2023-02-02T11:46:37.218Z"
   },
   {
    "duration": 21,
    "start_time": "2023-02-02T11:46:37.630Z"
   },
   {
    "duration": 4,
    "start_time": "2023-02-02T11:46:37.828Z"
   },
   {
    "duration": 5,
    "start_time": "2023-02-02T11:46:38.246Z"
   },
   {
    "duration": 7,
    "start_time": "2023-02-02T11:46:38.443Z"
   },
   {
    "duration": 7,
    "start_time": "2023-02-02T11:46:38.640Z"
   },
   {
    "duration": 3342,
    "start_time": "2023-02-02T11:46:39.698Z"
   },
   {
    "duration": 522,
    "start_time": "2023-02-02T11:46:43.042Z"
   },
   {
    "duration": 37,
    "start_time": "2023-02-02T11:46:43.566Z"
   },
   {
    "duration": 4,
    "start_time": "2023-02-02T11:46:45.562Z"
   },
   {
    "duration": 5,
    "start_time": "2023-02-02T11:46:46.050Z"
   },
   {
    "duration": 3,
    "start_time": "2023-02-02T11:46:46.622Z"
   },
   {
    "duration": 4,
    "start_time": "2023-02-02T11:46:47.730Z"
   },
   {
    "duration": 3,
    "start_time": "2023-02-02T11:46:48.196Z"
   },
   {
    "duration": 3,
    "start_time": "2023-02-02T11:46:48.771Z"
   },
   {
    "duration": 17,
    "start_time": "2023-02-02T11:46:49.451Z"
   },
   {
    "duration": 14,
    "start_time": "2023-02-02T11:48:02.071Z"
   },
   {
    "duration": 13,
    "start_time": "2023-02-02T11:48:32.012Z"
   },
   {
    "duration": 8,
    "start_time": "2023-02-02T11:50:18.581Z"
   },
   {
    "duration": 5,
    "start_time": "2023-02-02T11:50:22.365Z"
   },
   {
    "duration": 4,
    "start_time": "2023-02-02T11:53:44.151Z"
   },
   {
    "duration": 15,
    "start_time": "2023-02-02T11:53:44.301Z"
   },
   {
    "duration": 52,
    "start_time": "2023-02-02T11:53:44.463Z"
   },
   {
    "duration": 3,
    "start_time": "2023-02-02T11:53:44.633Z"
   },
   {
    "duration": 3,
    "start_time": "2023-02-02T11:53:44.781Z"
   },
   {
    "duration": 5,
    "start_time": "2023-02-02T11:53:44.967Z"
   },
   {
    "duration": 202,
    "start_time": "2023-02-02T11:53:45.140Z"
   },
   {
    "duration": 686,
    "start_time": "2023-02-02T11:53:45.821Z"
   },
   {
    "duration": 0,
    "start_time": "2023-02-02T11:53:46.509Z"
   },
   {
    "duration": 4,
    "start_time": "2023-02-02T11:53:46.585Z"
   },
   {
    "duration": 2,
    "start_time": "2023-02-02T11:53:47.410Z"
   },
   {
    "duration": 22,
    "start_time": "2023-02-02T11:53:47.595Z"
   },
   {
    "duration": 4,
    "start_time": "2023-02-02T11:53:47.796Z"
   },
   {
    "duration": 11,
    "start_time": "2023-02-02T11:53:48.191Z"
   },
   {
    "duration": 3,
    "start_time": "2023-02-02T11:53:48.378Z"
   },
   {
    "duration": 8,
    "start_time": "2023-02-02T11:53:48.564Z"
   },
   {
    "duration": 6,
    "start_time": "2023-02-02T11:53:48.772Z"
   },
   {
    "duration": 5,
    "start_time": "2023-02-02T11:53:49.160Z"
   },
   {
    "duration": 6,
    "start_time": "2023-02-02T11:53:49.345Z"
   },
   {
    "duration": 174,
    "start_time": "2023-02-02T11:53:49.762Z"
   },
   {
    "duration": 15,
    "start_time": "2023-02-02T11:53:49.937Z"
   },
   {
    "duration": 15,
    "start_time": "2023-02-02T11:53:50.128Z"
   },
   {
    "duration": 14,
    "start_time": "2023-02-02T11:53:50.320Z"
   },
   {
    "duration": 16,
    "start_time": "2023-02-02T11:53:50.515Z"
   },
   {
    "duration": 15,
    "start_time": "2023-02-02T11:53:50.722Z"
   },
   {
    "duration": 13,
    "start_time": "2023-02-02T11:53:51.126Z"
   },
   {
    "duration": 3,
    "start_time": "2023-02-02T11:53:51.319Z"
   },
   {
    "duration": 5,
    "start_time": "2023-02-02T11:53:51.728Z"
   },
   {
    "duration": 4,
    "start_time": "2023-02-02T11:53:51.920Z"
   },
   {
    "duration": 5,
    "start_time": "2023-02-02T11:53:52.149Z"
   },
   {
    "duration": 1312,
    "start_time": "2023-02-02T11:53:53.025Z"
   },
   {
    "duration": 0,
    "start_time": "2023-02-02T11:53:54.339Z"
   },
   {
    "duration": 715,
    "start_time": "2023-02-02T11:53:56.591Z"
   },
   {
    "duration": 0,
    "start_time": "2023-02-02T11:53:57.307Z"
   },
   {
    "duration": 5,
    "start_time": "2023-02-02T11:54:26.592Z"
   },
   {
    "duration": 16,
    "start_time": "2023-02-02T11:54:38.781Z"
   },
   {
    "duration": 4,
    "start_time": "2023-02-02T11:55:05.233Z"
   },
   {
    "duration": 14,
    "start_time": "2023-02-02T11:55:06.038Z"
   },
   {
    "duration": 678,
    "start_time": "2023-02-02T11:56:14.995Z"
   },
   {
    "duration": 613,
    "start_time": "2023-02-02T11:56:19.154Z"
   },
   {
    "duration": 55,
    "start_time": "2023-02-02T11:56:20.098Z"
   },
   {
    "duration": 2,
    "start_time": "2023-02-02T11:56:20.949Z"
   },
   {
    "duration": 3,
    "start_time": "2023-02-02T11:56:21.576Z"
   },
   {
    "duration": 4,
    "start_time": "2023-02-02T11:56:22.229Z"
   },
   {
    "duration": 256,
    "start_time": "2023-02-02T11:56:22.820Z"
   },
   {
    "duration": 5,
    "start_time": "2023-02-02T11:56:25.186Z"
   },
   {
    "duration": 5,
    "start_time": "2023-02-02T11:56:26.008Z"
   },
   {
    "duration": 5,
    "start_time": "2023-02-02T11:56:27.996Z"
   },
   {
    "duration": 3,
    "start_time": "2023-02-02T11:56:30.114Z"
   },
   {
    "duration": 14,
    "start_time": "2023-02-02T11:56:30.586Z"
   },
   {
    "duration": 4,
    "start_time": "2023-02-02T11:56:31.129Z"
   },
   {
    "duration": 11,
    "start_time": "2023-02-02T11:56:32.328Z"
   },
   {
    "duration": 4,
    "start_time": "2023-02-02T11:56:32.916Z"
   },
   {
    "duration": 9,
    "start_time": "2023-02-02T11:56:33.561Z"
   },
   {
    "duration": 8,
    "start_time": "2023-02-02T11:56:34.270Z"
   },
   {
    "duration": 7,
    "start_time": "2023-02-02T11:56:35.479Z"
   },
   {
    "duration": 8,
    "start_time": "2023-02-02T11:56:36.038Z"
   },
   {
    "duration": 319,
    "start_time": "2023-02-02T11:56:37.200Z"
   },
   {
    "duration": 64,
    "start_time": "2023-02-02T11:56:37.776Z"
   },
   {
    "duration": 73,
    "start_time": "2023-02-02T11:56:38.373Z"
   },
   {
    "duration": 56,
    "start_time": "2023-02-02T11:56:38.938Z"
   },
   {
    "duration": 54,
    "start_time": "2023-02-02T11:56:39.512Z"
   },
   {
    "duration": 57,
    "start_time": "2023-02-02T11:56:40.037Z"
   },
   {
    "duration": 14,
    "start_time": "2023-02-02T11:56:40.694Z"
   },
   {
    "duration": 4,
    "start_time": "2023-02-02T11:56:41.325Z"
   },
   {
    "duration": 6,
    "start_time": "2023-02-02T11:56:42.551Z"
   },
   {
    "duration": 5,
    "start_time": "2023-02-02T11:56:43.175Z"
   },
   {
    "duration": 5,
    "start_time": "2023-02-02T11:56:43.744Z"
   },
   {
    "duration": 2930,
    "start_time": "2023-02-02T11:56:46.055Z"
   },
   {
    "duration": 477,
    "start_time": "2023-02-02T11:56:51.322Z"
   },
   {
    "duration": 25,
    "start_time": "2023-02-02T11:56:54.497Z"
   },
   {
    "duration": 12,
    "start_time": "2023-02-02T11:56:56.340Z"
   },
   {
    "duration": 5,
    "start_time": "2023-02-02T11:57:02.077Z"
   },
   {
    "duration": 6,
    "start_time": "2023-02-02T11:57:03.053Z"
   },
   {
    "duration": 4,
    "start_time": "2023-02-02T11:57:04.372Z"
   },
   {
    "duration": 3,
    "start_time": "2023-02-02T11:57:05.261Z"
   },
   {
    "duration": 3,
    "start_time": "2023-02-02T11:57:07.771Z"
   },
   {
    "duration": 3,
    "start_time": "2023-02-02T11:57:08.482Z"
   },
   {
    "duration": 3,
    "start_time": "2023-02-02T11:57:09.113Z"
   },
   {
    "duration": 6,
    "start_time": "2023-02-02T11:57:09.861Z"
   },
   {
    "duration": 9,
    "start_time": "2023-02-02T11:57:17.215Z"
   },
   {
    "duration": 10,
    "start_time": "2023-02-02T11:57:30.200Z"
   },
   {
    "duration": 12,
    "start_time": "2023-02-02T11:58:44.063Z"
   },
   {
    "duration": 11,
    "start_time": "2023-02-02T11:59:14.384Z"
   },
   {
    "duration": 9,
    "start_time": "2023-02-02T11:59:44.670Z"
   },
   {
    "duration": 3,
    "start_time": "2023-02-02T12:00:28.016Z"
   },
   {
    "duration": 9,
    "start_time": "2023-02-02T12:00:29.801Z"
   },
   {
    "duration": 3,
    "start_time": "2023-02-02T12:00:38.238Z"
   },
   {
    "duration": 9,
    "start_time": "2023-02-02T12:01:27.080Z"
   },
   {
    "duration": 10,
    "start_time": "2023-02-02T12:02:47.666Z"
   },
   {
    "duration": 9,
    "start_time": "2023-02-02T12:03:49.955Z"
   },
   {
    "duration": 248,
    "start_time": "2023-02-02T12:08:18.035Z"
   },
   {
    "duration": 0,
    "start_time": "2023-02-02T12:08:18.286Z"
   },
   {
    "duration": 4,
    "start_time": "2023-02-02T12:09:51.520Z"
   },
   {
    "duration": 916,
    "start_time": "2023-02-02T12:09:51.526Z"
   },
   {
    "duration": 62,
    "start_time": "2023-02-02T12:09:52.443Z"
   },
   {
    "duration": 2,
    "start_time": "2023-02-02T12:09:52.507Z"
   },
   {
    "duration": 13,
    "start_time": "2023-02-02T12:09:52.511Z"
   },
   {
    "duration": 33,
    "start_time": "2023-02-02T12:09:52.526Z"
   },
   {
    "duration": 272,
    "start_time": "2023-02-02T12:10:02.517Z"
   },
   {
    "duration": 6,
    "start_time": "2023-02-02T12:10:05.268Z"
   },
   {
    "duration": 5,
    "start_time": "2023-02-02T12:10:05.823Z"
   },
   {
    "duration": 5,
    "start_time": "2023-02-02T12:10:07.421Z"
   },
   {
    "duration": 3,
    "start_time": "2023-02-02T12:10:09.107Z"
   },
   {
    "duration": 15,
    "start_time": "2023-02-02T12:10:09.616Z"
   },
   {
    "duration": 4,
    "start_time": "2023-02-02T12:10:10.033Z"
   },
   {
    "duration": 11,
    "start_time": "2023-02-02T12:10:10.655Z"
   },
   {
    "duration": 4,
    "start_time": "2023-02-02T12:10:10.936Z"
   },
   {
    "duration": 10,
    "start_time": "2023-02-02T12:10:11.171Z"
   },
   {
    "duration": 8,
    "start_time": "2023-02-02T12:10:11.387Z"
   },
   {
    "duration": 7,
    "start_time": "2023-02-02T12:10:11.867Z"
   },
   {
    "duration": 7,
    "start_time": "2023-02-02T12:10:12.090Z"
   },
   {
    "duration": 260,
    "start_time": "2023-02-02T12:10:12.572Z"
   },
   {
    "duration": 66,
    "start_time": "2023-02-02T12:10:12.834Z"
   },
   {
    "duration": 52,
    "start_time": "2023-02-02T12:10:13.016Z"
   },
   {
    "duration": 56,
    "start_time": "2023-02-02T12:10:13.245Z"
   },
   {
    "duration": 59,
    "start_time": "2023-02-02T12:10:13.475Z"
   },
   {
    "duration": 55,
    "start_time": "2023-02-02T12:10:13.683Z"
   },
   {
    "duration": 14,
    "start_time": "2023-02-02T12:10:14.098Z"
   },
   {
    "duration": 4,
    "start_time": "2023-02-02T12:10:14.320Z"
   },
   {
    "duration": 6,
    "start_time": "2023-02-02T12:10:14.744Z"
   },
   {
    "duration": 5,
    "start_time": "2023-02-02T12:10:14.959Z"
   },
   {
    "duration": 6,
    "start_time": "2023-02-02T12:10:15.176Z"
   },
   {
    "duration": 2967,
    "start_time": "2023-02-02T12:10:16.095Z"
   },
   {
    "duration": 530,
    "start_time": "2023-02-02T12:10:19.064Z"
   },
   {
    "duration": 25,
    "start_time": "2023-02-02T12:10:19.596Z"
   },
   {
    "duration": 8,
    "start_time": "2023-02-02T12:10:19.624Z"
   },
   {
    "duration": 19,
    "start_time": "2023-02-02T12:10:19.633Z"
   },
   {
    "duration": 29,
    "start_time": "2023-02-02T12:10:19.653Z"
   },
   {
    "duration": 4,
    "start_time": "2023-02-02T12:10:19.822Z"
   },
   {
    "duration": 2,
    "start_time": "2023-02-02T12:10:20.033Z"
   },
   {
    "duration": 3,
    "start_time": "2023-02-02T12:10:20.857Z"
   },
   {
    "duration": 3,
    "start_time": "2023-02-02T12:10:21.077Z"
   },
   {
    "duration": 3,
    "start_time": "2023-02-02T12:10:21.475Z"
   },
   {
    "duration": 5,
    "start_time": "2023-02-02T12:10:22.118Z"
   },
   {
    "duration": 11,
    "start_time": "2023-02-02T12:10:24.874Z"
   },
   {
    "duration": 2,
    "start_time": "2023-02-02T12:10:25.749Z"
   },
   {
    "duration": 359,
    "start_time": "2023-02-02T12:10:26.534Z"
   },
   {
    "duration": 389,
    "start_time": "2023-02-02T12:10:59.219Z"
   },
   {
    "duration": 4,
    "start_time": "2023-02-02T12:11:40.586Z"
   },
   {
    "duration": 632,
    "start_time": "2023-02-02T12:11:41.329Z"
   },
   {
    "duration": 66,
    "start_time": "2023-02-02T12:11:41.963Z"
   },
   {
    "duration": 3,
    "start_time": "2023-02-02T12:11:42.030Z"
   },
   {
    "duration": 19,
    "start_time": "2023-02-02T12:11:42.035Z"
   },
   {
    "duration": 31,
    "start_time": "2023-02-02T12:11:42.056Z"
   },
   {
    "duration": 262,
    "start_time": "2023-02-02T12:11:42.247Z"
   },
   {
    "duration": 5,
    "start_time": "2023-02-02T12:11:43.002Z"
   },
   {
    "duration": 6,
    "start_time": "2023-02-02T12:11:43.193Z"
   },
   {
    "duration": 5,
    "start_time": "2023-02-02T12:11:43.775Z"
   },
   {
    "duration": 2,
    "start_time": "2023-02-02T12:11:44.531Z"
   },
   {
    "duration": 14,
    "start_time": "2023-02-02T12:11:44.723Z"
   },
   {
    "duration": 4,
    "start_time": "2023-02-02T12:11:44.916Z"
   },
   {
    "duration": 9,
    "start_time": "2023-02-02T12:11:45.281Z"
   },
   {
    "duration": 4,
    "start_time": "2023-02-02T12:11:45.477Z"
   },
   {
    "duration": 9,
    "start_time": "2023-02-02T12:11:45.654Z"
   },
   {
    "duration": 6,
    "start_time": "2023-02-02T12:11:45.833Z"
   },
   {
    "duration": 7,
    "start_time": "2023-02-02T12:11:46.223Z"
   },
   {
    "duration": 6,
    "start_time": "2023-02-02T12:11:46.410Z"
   },
   {
    "duration": 249,
    "start_time": "2023-02-02T12:11:46.821Z"
   },
   {
    "duration": 66,
    "start_time": "2023-02-02T12:11:47.072Z"
   },
   {
    "duration": 50,
    "start_time": "2023-02-02T12:11:47.242Z"
   },
   {
    "duration": 48,
    "start_time": "2023-02-02T12:11:47.406Z"
   },
   {
    "duration": 58,
    "start_time": "2023-02-02T12:11:47.598Z"
   },
   {
    "duration": 50,
    "start_time": "2023-02-02T12:11:47.821Z"
   },
   {
    "duration": 13,
    "start_time": "2023-02-02T12:11:48.208Z"
   },
   {
    "duration": 4,
    "start_time": "2023-02-02T12:11:48.401Z"
   },
   {
    "duration": 6,
    "start_time": "2023-02-02T12:11:48.810Z"
   },
   {
    "duration": 6,
    "start_time": "2023-02-02T12:11:48.990Z"
   },
   {
    "duration": 5,
    "start_time": "2023-02-02T12:11:49.199Z"
   },
   {
    "duration": 3148,
    "start_time": "2023-02-02T12:11:50.016Z"
   },
   {
    "duration": 498,
    "start_time": "2023-02-02T12:11:53.165Z"
   },
   {
    "duration": 21,
    "start_time": "2023-02-02T12:11:54.871Z"
   },
   {
    "duration": 10,
    "start_time": "2023-02-02T12:11:56.167Z"
   },
   {
    "duration": 5,
    "start_time": "2023-02-02T12:11:58.579Z"
   },
   {
    "duration": 5,
    "start_time": "2023-02-02T12:11:59.131Z"
   },
   {
    "duration": 6,
    "start_time": "2023-02-02T12:11:59.699Z"
   },
   {
    "duration": 2,
    "start_time": "2023-02-02T12:12:00.307Z"
   },
   {
    "duration": 3,
    "start_time": "2023-02-02T12:12:01.673Z"
   },
   {
    "duration": 3,
    "start_time": "2023-02-02T12:12:02.351Z"
   },
   {
    "duration": 2,
    "start_time": "2023-02-02T12:12:03.032Z"
   },
   {
    "duration": 6,
    "start_time": "2023-02-02T12:12:03.859Z"
   },
   {
    "duration": 10,
    "start_time": "2023-02-02T12:12:06.400Z"
   },
   {
    "duration": 3,
    "start_time": "2023-02-02T12:12:07.580Z"
   },
   {
    "duration": 309,
    "start_time": "2023-02-02T12:12:08.111Z"
   },
   {
    "duration": 321,
    "start_time": "2023-02-02T12:16:23.674Z"
   },
   {
    "duration": 3,
    "start_time": "2023-02-02T12:16:43.178Z"
   },
   {
    "duration": 313,
    "start_time": "2023-02-02T12:16:43.736Z"
   },
   {
    "duration": 3,
    "start_time": "2023-02-02T12:17:18.732Z"
   },
   {
    "duration": 301,
    "start_time": "2023-02-02T12:17:19.345Z"
   },
   {
    "duration": 3,
    "start_time": "2023-02-02T12:20:17.007Z"
   },
   {
    "duration": 15,
    "start_time": "2023-02-02T12:20:17.012Z"
   },
   {
    "duration": 370,
    "start_time": "2023-02-02T12:20:17.029Z"
   },
   {
    "duration": 0,
    "start_time": "2023-02-02T12:20:17.400Z"
   },
   {
    "duration": 5,
    "start_time": "2023-02-02T12:20:34.931Z"
   },
   {
    "duration": 3,
    "start_time": "2023-02-02T12:20:38.847Z"
   },
   {
    "duration": 4,
    "start_time": "2023-02-02T12:20:39.840Z"
   },
   {
    "duration": 315,
    "start_time": "2023-02-02T12:20:47.042Z"
   },
   {
    "duration": 1565,
    "start_time": "2023-02-02T15:32:31.396Z"
   },
   {
    "duration": 2174,
    "start_time": "2023-02-02T15:32:33.878Z"
   },
   {
    "duration": 58,
    "start_time": "2023-02-02T15:32:36.054Z"
   },
   {
    "duration": 3,
    "start_time": "2023-02-02T15:32:36.113Z"
   },
   {
    "duration": 6,
    "start_time": "2023-02-02T15:32:36.118Z"
   },
   {
    "duration": 16,
    "start_time": "2023-02-02T15:32:36.131Z"
   },
   {
    "duration": 253,
    "start_time": "2023-02-02T15:32:36.608Z"
   },
   {
    "duration": 8,
    "start_time": "2023-02-02T15:32:38.010Z"
   },
   {
    "duration": 5,
    "start_time": "2023-02-02T15:32:38.182Z"
   },
   {
    "duration": 5,
    "start_time": "2023-02-02T15:32:38.732Z"
   },
   {
    "duration": 4,
    "start_time": "2023-02-02T15:32:39.474Z"
   },
   {
    "duration": 19,
    "start_time": "2023-02-02T15:32:39.659Z"
   },
   {
    "duration": 4,
    "start_time": "2023-02-02T15:32:39.853Z"
   },
   {
    "duration": 11,
    "start_time": "2023-02-02T15:32:40.276Z"
   },
   {
    "duration": 4,
    "start_time": "2023-02-02T15:32:40.447Z"
   },
   {
    "duration": 11,
    "start_time": "2023-02-02T15:32:40.646Z"
   },
   {
    "duration": 8,
    "start_time": "2023-02-02T15:32:40.837Z"
   },
   {
    "duration": 11,
    "start_time": "2023-02-02T15:32:41.225Z"
   },
   {
    "duration": 8,
    "start_time": "2023-02-02T15:32:41.424Z"
   },
   {
    "duration": 248,
    "start_time": "2023-02-02T15:32:41.804Z"
   },
   {
    "duration": 52,
    "start_time": "2023-02-02T15:32:42.054Z"
   },
   {
    "duration": 50,
    "start_time": "2023-02-02T15:32:42.171Z"
   },
   {
    "duration": 84,
    "start_time": "2023-02-02T15:32:42.362Z"
   },
   {
    "duration": 72,
    "start_time": "2023-02-02T15:32:42.547Z"
   },
   {
    "duration": 57,
    "start_time": "2023-02-02T15:32:42.739Z"
   },
   {
    "duration": 19,
    "start_time": "2023-02-02T15:32:43.102Z"
   },
   {
    "duration": 3,
    "start_time": "2023-02-02T15:32:43.339Z"
   },
   {
    "duration": 5,
    "start_time": "2023-02-02T15:32:43.744Z"
   },
   {
    "duration": 6,
    "start_time": "2023-02-02T15:32:43.938Z"
   },
   {
    "duration": 5,
    "start_time": "2023-02-02T15:32:44.163Z"
   },
   {
    "duration": 3005,
    "start_time": "2023-02-02T15:32:46.367Z"
   },
   {
    "duration": 455,
    "start_time": "2023-02-02T15:32:49.374Z"
   },
   {
    "duration": 26,
    "start_time": "2023-02-02T15:32:50.994Z"
   },
   {
    "duration": 9,
    "start_time": "2023-02-02T15:32:52.311Z"
   },
   {
    "duration": 4,
    "start_time": "2023-02-02T15:32:54.573Z"
   },
   {
    "duration": 7,
    "start_time": "2023-02-02T15:32:55.149Z"
   },
   {
    "duration": 4,
    "start_time": "2023-02-02T15:32:55.683Z"
   },
   {
    "duration": 73,
    "start_time": "2023-02-02T15:32:56.352Z"
   },
   {
    "duration": 4,
    "start_time": "2023-02-02T15:32:57.614Z"
   },
   {
    "duration": 4,
    "start_time": "2023-02-02T15:32:58.184Z"
   },
   {
    "duration": 2,
    "start_time": "2023-02-02T15:32:58.747Z"
   },
   {
    "duration": 6,
    "start_time": "2023-02-02T15:32:59.329Z"
   },
   {
    "duration": 2,
    "start_time": "2023-02-02T15:33:01.734Z"
   },
   {
    "duration": 3,
    "start_time": "2023-02-02T15:33:02.398Z"
   },
   {
    "duration": 355,
    "start_time": "2023-02-02T15:33:03.552Z"
   },
   {
    "duration": 312,
    "start_time": "2023-02-02T15:36:07.944Z"
   },
   {
    "duration": 5,
    "start_time": "2023-02-02T15:36:33.439Z"
   },
   {
    "duration": 3,
    "start_time": "2023-02-02T15:36:35.837Z"
   },
   {
    "duration": 3,
    "start_time": "2023-02-02T15:36:36.381Z"
   },
   {
    "duration": 37763,
    "start_time": "2023-02-02T15:36:37.524Z"
   },
   {
    "duration": 4,
    "start_time": "2023-02-02T15:37:15.288Z"
   },
   {
    "duration": 38288,
    "start_time": "2023-02-02T15:37:31.782Z"
   },
   {
    "duration": 3,
    "start_time": "2023-02-02T15:38:10.072Z"
   },
   {
    "duration": 2720,
    "start_time": "2023-02-02T15:40:46.552Z"
   },
   {
    "duration": 3,
    "start_time": "2023-02-02T15:41:18.376Z"
   },
   {
    "duration": 2756,
    "start_time": "2023-02-02T15:41:26.341Z"
   },
   {
    "duration": 977,
    "start_time": "2023-02-02T15:41:39.709Z"
   },
   {
    "duration": 372,
    "start_time": "2023-02-02T15:41:47.577Z"
   },
   {
    "duration": 707,
    "start_time": "2023-02-02T15:41:55.566Z"
   },
   {
    "duration": 978,
    "start_time": "2023-02-02T15:42:03.059Z"
   },
   {
    "duration": 1241,
    "start_time": "2023-02-02T15:42:17.518Z"
   },
   {
    "duration": 1531,
    "start_time": "2023-02-02T15:42:24.931Z"
   },
   {
    "duration": 2,
    "start_time": "2023-02-02T15:44:00.017Z"
   },
   {
    "duration": 11118,
    "start_time": "2023-02-02T15:44:01.237Z"
   },
   {
    "duration": 3,
    "start_time": "2023-02-02T15:44:12.357Z"
   },
   {
    "duration": 3,
    "start_time": "2023-02-02T15:44:26.673Z"
   },
   {
    "duration": 38750,
    "start_time": "2023-02-02T15:44:27.443Z"
   },
   {
    "duration": 4,
    "start_time": "2023-02-02T15:45:06.195Z"
   },
   {
    "duration": 4,
    "start_time": "2023-02-02T15:45:09.074Z"
   },
   {
    "duration": 3,
    "start_time": "2023-02-02T15:45:30.239Z"
   },
   {
    "duration": 10,
    "start_time": "2023-02-02T15:48:03.828Z"
   },
   {
    "duration": 4,
    "start_time": "2023-02-02T15:48:20.458Z"
   },
   {
    "duration": 4,
    "start_time": "2023-02-02T15:48:29.150Z"
   },
   {
    "duration": 4,
    "start_time": "2023-02-02T15:49:12.489Z"
   },
   {
    "duration": 40094,
    "start_time": "2023-02-02T15:49:13.122Z"
   },
   {
    "duration": 8,
    "start_time": "2023-02-02T15:49:57.047Z"
   },
   {
    "duration": 4,
    "start_time": "2023-02-02T15:51:11.724Z"
   },
   {
    "duration": 44061,
    "start_time": "2023-02-02T15:51:24.087Z"
   },
   {
    "duration": 4,
    "start_time": "2023-02-02T15:58:01.851Z"
   },
   {
    "duration": 43482,
    "start_time": "2023-02-02T15:58:06.975Z"
   },
   {
    "duration": 41468,
    "start_time": "2023-02-02T15:59:43.080Z"
   },
   {
    "duration": 68,
    "start_time": "2023-02-02T16:06:11.900Z"
   },
   {
    "duration": 60,
    "start_time": "2023-02-02T16:06:22.212Z"
   },
   {
    "duration": 58,
    "start_time": "2023-02-02T16:07:09.177Z"
   },
   {
    "duration": 56,
    "start_time": "2023-02-02T16:07:16.619Z"
   },
   {
    "duration": 4,
    "start_time": "2023-02-02T16:07:29.967Z"
   },
   {
    "duration": 3,
    "start_time": "2023-02-02T16:07:59.469Z"
   },
   {
    "duration": 1482,
    "start_time": "2023-02-02T16:31:58.002Z"
   },
   {
    "duration": 5031,
    "start_time": "2023-02-02T16:31:59.486Z"
   },
   {
    "duration": 60,
    "start_time": "2023-02-02T16:32:04.518Z"
   },
   {
    "duration": 2,
    "start_time": "2023-02-02T16:32:04.580Z"
   },
   {
    "duration": 33,
    "start_time": "2023-02-02T16:32:04.584Z"
   },
   {
    "duration": 33,
    "start_time": "2023-02-02T16:32:04.618Z"
   },
   {
    "duration": 364,
    "start_time": "2023-02-02T16:32:04.652Z"
   },
   {
    "duration": 6,
    "start_time": "2023-02-02T16:32:05.018Z"
   },
   {
    "duration": 70,
    "start_time": "2023-02-02T16:32:05.027Z"
   },
   {
    "duration": 16,
    "start_time": "2023-02-02T16:32:05.099Z"
   },
   {
    "duration": 9,
    "start_time": "2023-02-02T16:32:05.116Z"
   },
   {
    "duration": 34,
    "start_time": "2023-02-02T16:32:05.126Z"
   },
   {
    "duration": 13,
    "start_time": "2023-02-02T16:32:05.163Z"
   },
   {
    "duration": 32,
    "start_time": "2023-02-02T16:32:05.178Z"
   },
   {
    "duration": 18,
    "start_time": "2023-02-02T16:32:05.213Z"
   },
   {
    "duration": 10,
    "start_time": "2023-02-02T16:32:05.233Z"
   },
   {
    "duration": 7,
    "start_time": "2023-02-02T16:32:05.245Z"
   },
   {
    "duration": 12,
    "start_time": "2023-02-02T16:32:05.254Z"
   },
   {
    "duration": 30,
    "start_time": "2023-02-02T16:32:05.268Z"
   },
   {
    "duration": 276,
    "start_time": "2023-02-02T16:32:05.300Z"
   },
   {
    "duration": 54,
    "start_time": "2023-02-02T16:32:05.578Z"
   },
   {
    "duration": 76,
    "start_time": "2023-02-02T16:32:05.634Z"
   },
   {
    "duration": 68,
    "start_time": "2023-02-02T16:32:05.711Z"
   },
   {
    "duration": 59,
    "start_time": "2023-02-02T16:32:05.781Z"
   },
   {
    "duration": 69,
    "start_time": "2023-02-02T16:32:05.842Z"
   },
   {
    "duration": 18,
    "start_time": "2023-02-02T16:32:05.912Z"
   },
   {
    "duration": 3,
    "start_time": "2023-02-02T16:32:05.932Z"
   },
   {
    "duration": 11,
    "start_time": "2023-02-02T16:32:05.936Z"
   },
   {
    "duration": 12,
    "start_time": "2023-02-02T16:32:05.968Z"
   },
   {
    "duration": 5,
    "start_time": "2023-02-02T16:32:05.983Z"
   },
   {
    "duration": 3142,
    "start_time": "2023-02-02T16:32:07.430Z"
   },
   {
    "duration": 451,
    "start_time": "2023-02-02T16:32:10.574Z"
   },
   {
    "duration": 40,
    "start_time": "2023-02-02T16:32:11.027Z"
   },
   {
    "duration": 8,
    "start_time": "2023-02-02T16:32:11.069Z"
   },
   {
    "duration": 3,
    "start_time": "2023-02-02T16:32:13.887Z"
   },
   {
    "duration": 7,
    "start_time": "2023-02-02T16:32:14.577Z"
   },
   {
    "duration": 4,
    "start_time": "2023-02-02T16:32:15.258Z"
   },
   {
    "duration": 72,
    "start_time": "2023-02-02T16:32:15.919Z"
   },
   {
    "duration": 4,
    "start_time": "2023-02-02T16:32:17.195Z"
   },
   {
    "duration": 3,
    "start_time": "2023-02-02T16:32:17.772Z"
   },
   {
    "duration": 3,
    "start_time": "2023-02-02T16:32:18.435Z"
   },
   {
    "duration": 6,
    "start_time": "2023-02-02T16:32:19.050Z"
   },
   {
    "duration": 2,
    "start_time": "2023-02-02T16:32:21.792Z"
   },
   {
    "duration": 3,
    "start_time": "2023-02-02T16:32:22.429Z"
   },
   {
    "duration": 43343,
    "start_time": "2023-02-02T16:32:23.155Z"
   },
   {
    "duration": 132,
    "start_time": "2023-02-02T16:33:06.500Z"
   },
   {
    "duration": 0,
    "start_time": "2023-02-02T16:33:06.633Z"
   },
   {
    "duration": 4,
    "start_time": "2023-02-02T16:34:17.747Z"
   },
   {
    "duration": 45505,
    "start_time": "2023-02-02T16:34:21.713Z"
   },
   {
    "duration": 3,
    "start_time": "2023-02-02T16:35:16.214Z"
   },
   {
    "duration": 1187871,
    "start_time": "2023-02-02T16:35:24.201Z"
   },
   {
    "duration": 11,
    "start_time": "2023-02-02T16:56:01.271Z"
   },
   {
    "duration": 1260631,
    "start_time": "2023-02-02T16:56:38.283Z"
   },
   {
    "duration": 90,
    "start_time": "2023-02-02T17:17:54.795Z"
   },
   {
    "duration": 111,
    "start_time": "2023-02-02T17:18:15.816Z"
   },
   {
    "duration": 113,
    "start_time": "2023-02-02T17:19:01.126Z"
   },
   {
    "duration": 2282,
    "start_time": "2023-02-02T17:19:28.831Z"
   },
   {
    "duration": 1281,
    "start_time": "2023-02-02T17:21:18.692Z"
   },
   {
    "duration": 1174,
    "start_time": "2023-02-02T17:23:13.097Z"
   },
   {
    "duration": 1550,
    "start_time": "2023-02-02T17:23:27.118Z"
   },
   {
    "duration": 6,
    "start_time": "2023-02-02T17:25:50.544Z"
   },
   {
    "duration": 4,
    "start_time": "2023-02-02T17:25:57.074Z"
   },
   {
    "duration": 18,
    "start_time": "2023-02-02T17:25:59.820Z"
   },
   {
    "duration": 3,
    "start_time": "2023-02-02T17:26:40.734Z"
   },
   {
    "duration": 3619716,
    "start_time": "2023-02-02T17:26:43.591Z"
   },
   {
    "duration": 4,
    "start_time": "2023-02-02T18:27:25.338Z"
   },
   {
    "duration": 2305,
    "start_time": "2023-02-02T18:27:26.090Z"
   },
   {
    "duration": 66,
    "start_time": "2023-02-02T18:27:28.397Z"
   },
   {
    "duration": 3,
    "start_time": "2023-02-02T18:27:29.806Z"
   },
   {
    "duration": 4,
    "start_time": "2023-02-02T18:27:30.643Z"
   },
   {
    "duration": 4,
    "start_time": "2023-02-02T18:27:31.381Z"
   },
   {
    "duration": 282,
    "start_time": "2023-02-02T18:27:32.105Z"
   },
   {
    "duration": 6,
    "start_time": "2023-02-02T18:27:34.620Z"
   },
   {
    "duration": 6,
    "start_time": "2023-02-02T18:27:35.222Z"
   },
   {
    "duration": 5,
    "start_time": "2023-02-02T18:27:37.057Z"
   },
   {
    "duration": 4,
    "start_time": "2023-02-02T18:27:37.938Z"
   },
   {
    "duration": 4,
    "start_time": "2023-02-02T18:27:48.595Z"
   },
   {
    "duration": 25,
    "start_time": "2023-02-02T18:27:49.979Z"
   },
   {
    "duration": 5,
    "start_time": "2023-02-02T18:27:50.695Z"
   },
   {
    "duration": 14,
    "start_time": "2023-02-02T18:27:52.082Z"
   },
   {
    "duration": 5,
    "start_time": "2023-02-02T18:27:52.699Z"
   },
   {
    "duration": 13,
    "start_time": "2023-02-02T18:27:53.284Z"
   },
   {
    "duration": 7,
    "start_time": "2023-02-02T18:27:54.001Z"
   },
   {
    "duration": 12,
    "start_time": "2023-02-02T18:27:55.297Z"
   },
   {
    "duration": 9,
    "start_time": "2023-02-02T18:27:56.029Z"
   },
   {
    "duration": 294,
    "start_time": "2023-02-02T18:27:57.260Z"
   },
   {
    "duration": 89,
    "start_time": "2023-02-02T18:27:57.895Z"
   },
   {
    "duration": 70,
    "start_time": "2023-02-02T18:27:58.664Z"
   },
   {
    "duration": 72,
    "start_time": "2023-02-02T18:27:59.349Z"
   },
   {
    "duration": 89,
    "start_time": "2023-02-02T18:28:00.072Z"
   },
   {
    "duration": 102,
    "start_time": "2023-02-02T18:28:00.805Z"
   },
   {
    "duration": 16,
    "start_time": "2023-02-02T18:28:11.049Z"
   },
   {
    "duration": 4,
    "start_time": "2023-02-02T18:28:11.865Z"
   },
   {
    "duration": 7,
    "start_time": "2023-02-02T18:28:13.988Z"
   },
   {
    "duration": 5,
    "start_time": "2023-02-02T18:28:14.598Z"
   },
   {
    "duration": 5,
    "start_time": "2023-02-02T18:28:15.209Z"
   },
   {
    "duration": 12,
    "start_time": "2023-02-02T18:28:28.014Z"
   },
   {
    "duration": 16,
    "start_time": "2023-02-02T18:28:30.602Z"
   },
   {
    "duration": 4,
    "start_time": "2023-02-02T18:29:24.519Z"
   },
   {
    "duration": 1278,
    "start_time": "2023-02-02T18:29:26.367Z"
   },
   {
    "duration": 9,
    "start_time": "2023-02-02T18:29:58.713Z"
   },
   {
    "duration": 1172,
    "start_time": "2023-02-02T18:31:39.243Z"
   },
   {
    "duration": 1389,
    "start_time": "2023-02-02T18:32:33.730Z"
   },
   {
    "duration": 1508,
    "start_time": "2023-02-02T18:33:04.274Z"
   },
   {
    "duration": 3,
    "start_time": "2023-02-02T18:36:01.224Z"
   },
   {
    "duration": 492,
    "start_time": "2023-02-02T18:36:01.955Z"
   },
   {
    "duration": 4,
    "start_time": "2023-02-02T18:36:24.193Z"
   },
   {
    "duration": 542,
    "start_time": "2023-02-02T18:36:25.751Z"
   },
   {
    "duration": 4,
    "start_time": "2023-02-02T18:37:00.127Z"
   },
   {
    "duration": 688,
    "start_time": "2023-02-02T18:37:00.865Z"
   },
   {
    "duration": 20,
    "start_time": "2023-02-02T18:37:52.013Z"
   },
   {
    "duration": 7,
    "start_time": "2023-02-02T18:38:00.496Z"
   },
   {
    "duration": 618,
    "start_time": "2023-02-02T18:38:01.128Z"
   },
   {
    "duration": 77,
    "start_time": "2023-02-02T18:38:47.446Z"
   },
   {
    "duration": 9,
    "start_time": "2023-02-02T18:39:32.632Z"
   },
   {
    "duration": 1932,
    "start_time": "2023-02-02T18:39:33.522Z"
   },
   {
    "duration": 13,
    "start_time": "2023-02-02T18:42:08.361Z"
   },
   {
    "duration": 3,
    "start_time": "2023-02-02T18:42:11.440Z"
   },
   {
    "duration": 9,
    "start_time": "2023-02-02T18:42:12.130Z"
   },
   {
    "duration": 2,
    "start_time": "2023-02-02T18:42:55.210Z"
   },
   {
    "duration": 2493,
    "start_time": "2023-02-02T18:42:56.708Z"
   },
   {
    "duration": 22,
    "start_time": "2023-02-02T18:43:08.710Z"
   },
   {
    "duration": 17,
    "start_time": "2023-02-02T18:43:10.057Z"
   },
   {
    "duration": 4,
    "start_time": "2023-02-02T18:43:12.784Z"
   },
   {
    "duration": 6,
    "start_time": "2023-02-02T18:43:13.433Z"
   },
   {
    "duration": 5,
    "start_time": "2023-02-02T18:43:14.026Z"
   },
   {
    "duration": 3,
    "start_time": "2023-02-02T18:43:14.686Z"
   },
   {
    "duration": 4,
    "start_time": "2023-02-02T18:43:16.102Z"
   },
   {
    "duration": 3,
    "start_time": "2023-02-02T18:43:16.687Z"
   },
   {
    "duration": 4,
    "start_time": "2023-02-02T18:43:17.285Z"
   },
   {
    "duration": 6,
    "start_time": "2023-02-02T18:43:17.905Z"
   },
   {
    "duration": 3,
    "start_time": "2023-02-02T18:43:20.957Z"
   },
   {
    "duration": 4628,
    "start_time": "2023-02-02T18:43:22.167Z"
   },
   {
    "duration": 3174,
    "start_time": "2023-02-02T18:43:26.804Z"
   },
   {
    "duration": 5,
    "start_time": "2023-02-02T18:43:29.981Z"
   },
   {
    "duration": 4,
    "start_time": "2023-02-02T18:43:33.814Z"
   },
   {
    "duration": 46849,
    "start_time": "2023-02-02T18:43:34.437Z"
   },
   {
    "duration": 6,
    "start_time": "2023-02-02T18:44:21.288Z"
   },
   {
    "duration": 48486,
    "start_time": "2023-02-02T18:44:21.295Z"
   },
   {
    "duration": 11,
    "start_time": "2023-02-02T18:45:09.783Z"
   },
   {
    "duration": 5,
    "start_time": "2023-02-02T18:45:48.704Z"
   },
   {
    "duration": 4,
    "start_time": "2023-02-02T18:46:14.304Z"
   },
   {
    "duration": 5,
    "start_time": "2023-02-02T18:46:25.178Z"
   },
   {
    "duration": 1336176,
    "start_time": "2023-02-02T18:46:25.983Z"
   },
   {
    "duration": 14,
    "start_time": "2023-02-02T19:08:42.161Z"
   },
   {
    "duration": 1381559,
    "start_time": "2023-02-02T19:08:42.181Z"
   },
   {
    "duration": 3,
    "start_time": "2023-02-02T19:31:43.742Z"
   },
   {
    "duration": 4,
    "start_time": "2023-02-02T19:32:09.728Z"
   },
   {
    "duration": 4,
    "start_time": "2023-02-02T19:32:23.802Z"
   },
   {
    "duration": 12,
    "start_time": "2023-02-02T19:32:34.502Z"
   },
   {
    "duration": 6,
    "start_time": "2023-02-02T19:36:34.733Z"
   },
   {
    "duration": 3818,
    "start_time": "2023-02-02T19:36:39.984Z"
   },
   {
    "duration": 5,
    "start_time": "2023-02-02T19:37:43.714Z"
   },
   {
    "duration": 4028,
    "start_time": "2023-02-02T19:39:09.807Z"
   },
   {
    "duration": 12,
    "start_time": "2023-02-02T19:47:58.089Z"
   },
   {
    "duration": 3,
    "start_time": "2023-02-02T19:47:59.225Z"
   },
   {
    "duration": 3641,
    "start_time": "2023-02-02T19:55:39.093Z"
   },
   {
    "duration": 4,
    "start_time": "2023-02-02T19:55:45.350Z"
   },
   {
    "duration": 75754,
    "start_time": "2023-02-02T19:56:00.185Z"
   },
   {
    "duration": 4,
    "start_time": "2023-02-02T19:57:15.940Z"
   },
   {
    "duration": 9,
    "start_time": "2023-02-02T19:59:23.476Z"
   },
   {
    "duration": 0,
    "start_time": "2023-02-02T20:01:19.369Z"
   },
   {
    "duration": 6352,
    "start_time": "2023-02-02T20:01:44.644Z"
   },
   {
    "duration": 4,
    "start_time": "2023-02-02T20:02:16.187Z"
   },
   {
    "duration": 4,
    "start_time": "2023-02-02T20:02:41.246Z"
   },
   {
    "duration": 4,
    "start_time": "2023-02-02T20:03:06.182Z"
   },
   {
    "duration": 5404,
    "start_time": "2023-02-02T20:04:08.057Z"
   },
   {
    "duration": 6,
    "start_time": "2023-02-02T20:04:27.654Z"
   },
   {
    "duration": 5,
    "start_time": "2023-02-02T20:04:33.636Z"
   },
   {
    "duration": 3500,
    "start_time": "2023-02-02T20:05:25.659Z"
   },
   {
    "duration": 8,
    "start_time": "2023-02-02T20:05:29.168Z"
   },
   {
    "duration": 9,
    "start_time": "2023-02-02T20:10:56.500Z"
   },
   {
    "duration": 3,
    "start_time": "2023-02-02T20:10:57.485Z"
   },
   {
    "duration": 9,
    "start_time": "2023-02-02T20:11:02.994Z"
   },
   {
    "duration": 5,
    "start_time": "2023-02-02T20:11:03.950Z"
   },
   {
    "duration": 4,
    "start_time": "2023-02-02T20:13:34.553Z"
   },
   {
    "duration": 779,
    "start_time": "2023-02-02T20:13:35.091Z"
   },
   {
    "duration": 62,
    "start_time": "2023-02-02T20:13:35.879Z"
   },
   {
    "duration": 3,
    "start_time": "2023-02-02T20:13:36.281Z"
   },
   {
    "duration": 4,
    "start_time": "2023-02-02T20:13:36.785Z"
   },
   {
    "duration": 6,
    "start_time": "2023-02-02T20:13:37.281Z"
   },
   {
    "duration": 272,
    "start_time": "2023-02-02T20:13:37.852Z"
   },
   {
    "duration": 5,
    "start_time": "2023-02-02T20:13:39.941Z"
   },
   {
    "duration": 5,
    "start_time": "2023-02-02T20:13:40.444Z"
   },
   {
    "duration": 5,
    "start_time": "2023-02-02T20:13:42.003Z"
   },
   {
    "duration": 4,
    "start_time": "2023-02-02T20:13:42.492Z"
   },
   {
    "duration": 3,
    "start_time": "2023-02-02T20:13:44.458Z"
   },
   {
    "duration": 19,
    "start_time": "2023-02-02T20:13:45.041Z"
   },
   {
    "duration": 5,
    "start_time": "2023-02-02T20:13:45.481Z"
   },
   {
    "duration": 20,
    "start_time": "2023-02-02T20:13:46.462Z"
   },
   {
    "duration": 4,
    "start_time": "2023-02-02T20:13:46.949Z"
   },
   {
    "duration": 9,
    "start_time": "2023-02-02T20:13:47.491Z"
   },
   {
    "duration": 6,
    "start_time": "2023-02-02T20:13:48.036Z"
   },
   {
    "duration": 9,
    "start_time": "2023-02-02T20:13:49.081Z"
   },
   {
    "duration": 7,
    "start_time": "2023-02-02T20:13:49.545Z"
   },
   {
    "duration": 257,
    "start_time": "2023-02-02T20:13:50.501Z"
   },
   {
    "duration": 58,
    "start_time": "2023-02-02T20:13:50.941Z"
   },
   {
    "duration": 81,
    "start_time": "2023-02-02T20:13:51.543Z"
   },
   {
    "duration": 58,
    "start_time": "2023-02-02T20:13:51.959Z"
   },
   {
    "duration": 57,
    "start_time": "2023-02-02T20:13:52.527Z"
   },
   {
    "duration": 57,
    "start_time": "2023-02-02T20:13:52.949Z"
   },
   {
    "duration": 18,
    "start_time": "2023-02-02T20:13:53.983Z"
   },
   {
    "duration": 5,
    "start_time": "2023-02-02T20:13:54.417Z"
   },
   {
    "duration": 7,
    "start_time": "2023-02-02T20:13:55.375Z"
   },
   {
    "duration": 5,
    "start_time": "2023-02-02T20:13:55.906Z"
   },
   {
    "duration": 8,
    "start_time": "2023-02-02T20:13:56.392Z"
   },
   {
    "duration": 4,
    "start_time": "2023-02-02T20:13:58.212Z"
   },
   {
    "duration": 11,
    "start_time": "2023-02-02T20:13:58.699Z"
   },
   {
    "duration": 3174,
    "start_time": "2023-02-02T20:13:59.882Z"
   },
   {
    "duration": 11,
    "start_time": "2023-02-02T20:14:03.058Z"
   },
   {
    "duration": 2082,
    "start_time": "2023-02-02T20:14:03.076Z"
   },
   {
    "duration": 0,
    "start_time": "2023-02-02T20:14:05.169Z"
   },
   {
    "duration": 6,
    "start_time": "2023-02-02T20:14:06.023Z"
   },
   {
    "duration": 1395,
    "start_time": "2023-02-02T20:14:06.740Z"
   },
   {
    "duration": 27,
    "start_time": "2023-02-02T20:14:08.303Z"
   },
   {
    "duration": 22,
    "start_time": "2023-02-02T20:14:11.167Z"
   },
   {
    "duration": 5,
    "start_time": "2023-02-02T20:14:18.389Z"
   },
   {
    "duration": 6,
    "start_time": "2023-02-02T20:14:19.107Z"
   },
   {
    "duration": 5,
    "start_time": "2023-02-02T20:14:20.061Z"
   },
   {
    "duration": 3,
    "start_time": "2023-02-02T20:14:21.246Z"
   },
   {
    "duration": 3,
    "start_time": "2023-02-02T20:14:23.735Z"
   },
   {
    "duration": 3,
    "start_time": "2023-02-02T20:14:24.444Z"
   },
   {
    "duration": 4,
    "start_time": "2023-02-02T20:14:25.148Z"
   },
   {
    "duration": 10,
    "start_time": "2023-02-02T20:14:25.877Z"
   },
   {
    "duration": 3,
    "start_time": "2023-02-02T20:14:32.997Z"
   },
   {
    "duration": 2694,
    "start_time": "2023-02-02T20:14:34.690Z"
   },
   {
    "duration": 2780,
    "start_time": "2023-02-02T20:14:37.394Z"
   },
   {
    "duration": 11,
    "start_time": "2023-02-02T20:14:40.177Z"
   },
   {
    "duration": 3,
    "start_time": "2023-02-02T20:14:46.335Z"
   },
   {
    "duration": 45802,
    "start_time": "2023-02-02T20:14:48.216Z"
   },
   {
    "duration": 4,
    "start_time": "2023-02-02T20:15:34.021Z"
   },
   {
    "duration": 49336,
    "start_time": "2023-02-02T20:15:34.026Z"
   },
   {
    "duration": 8,
    "start_time": "2023-02-02T20:16:23.364Z"
   },
   {
    "duration": 35,
    "start_time": "2023-02-02T20:16:23.373Z"
   },
   {
    "duration": 349562,
    "start_time": "2023-02-02T20:16:23.409Z"
   },
   {
    "duration": 5,
    "start_time": "2023-02-02T20:22:12.973Z"
   },
   {
    "duration": 372576,
    "start_time": "2023-02-02T20:22:12.980Z"
   },
   {
    "duration": 3,
    "start_time": "2023-02-02T20:28:25.558Z"
   },
   {
    "duration": 41,
    "start_time": "2023-02-02T20:28:25.563Z"
   },
   {
    "duration": 3982,
    "start_time": "2023-02-02T20:28:25.606Z"
   },
   {
    "duration": 4,
    "start_time": "2023-02-02T20:28:29.589Z"
   },
   {
    "duration": 11,
    "start_time": "2023-02-02T20:29:51.741Z"
   },
   {
    "duration": 3,
    "start_time": "2023-02-02T20:29:52.541Z"
   },
   {
    "duration": 1232,
    "start_time": "2023-02-02T20:30:29.993Z"
   },
   {
    "duration": 1457,
    "start_time": "2023-02-02T20:34:51.093Z"
   },
   {
    "duration": 0,
    "start_time": "2023-02-02T20:34:52.552Z"
   },
   {
    "duration": 1329,
    "start_time": "2023-02-02T20:35:19.355Z"
   },
   {
    "duration": 1478,
    "start_time": "2023-02-02T20:39:14.255Z"
   },
   {
    "duration": 5,
    "start_time": "2023-02-02T20:39:35.718Z"
   },
   {
    "duration": 798,
    "start_time": "2023-02-02T20:39:36.236Z"
   },
   {
    "duration": 85,
    "start_time": "2023-02-02T20:39:37.036Z"
   },
   {
    "duration": 4,
    "start_time": "2023-02-02T20:39:37.527Z"
   },
   {
    "duration": 3,
    "start_time": "2023-02-02T20:39:38.204Z"
   },
   {
    "duration": 6,
    "start_time": "2023-02-02T20:39:38.754Z"
   },
   {
    "duration": 298,
    "start_time": "2023-02-02T20:39:39.193Z"
   },
   {
    "duration": 23,
    "start_time": "2023-02-02T20:39:40.997Z"
   },
   {
    "duration": 5,
    "start_time": "2023-02-02T20:39:41.514Z"
   },
   {
    "duration": 5,
    "start_time": "2023-02-02T20:39:42.931Z"
   },
   {
    "duration": 4,
    "start_time": "2023-02-02T20:39:43.557Z"
   },
   {
    "duration": 3,
    "start_time": "2023-02-02T20:39:45.754Z"
   },
   {
    "duration": 16,
    "start_time": "2023-02-02T20:39:46.303Z"
   },
   {
    "duration": 6,
    "start_time": "2023-02-02T20:39:46.898Z"
   },
   {
    "duration": 13,
    "start_time": "2023-02-02T20:39:48.000Z"
   },
   {
    "duration": 3,
    "start_time": "2023-02-02T20:39:48.512Z"
   },
   {
    "duration": 11,
    "start_time": "2023-02-02T20:39:49.020Z"
   },
   {
    "duration": 9,
    "start_time": "2023-02-02T20:39:49.605Z"
   },
   {
    "duration": 8,
    "start_time": "2023-02-02T20:39:50.720Z"
   },
   {
    "duration": 7,
    "start_time": "2023-02-02T20:39:51.250Z"
   },
   {
    "duration": 287,
    "start_time": "2023-02-02T20:39:52.319Z"
   },
   {
    "duration": 51,
    "start_time": "2023-02-02T20:39:52.801Z"
   },
   {
    "duration": 69,
    "start_time": "2023-02-02T20:39:53.307Z"
   },
   {
    "duration": 55,
    "start_time": "2023-02-02T20:39:53.900Z"
   },
   {
    "duration": 63,
    "start_time": "2023-02-02T20:39:54.495Z"
   },
   {
    "duration": 81,
    "start_time": "2023-02-02T20:39:55.117Z"
   },
   {
    "duration": 16,
    "start_time": "2023-02-02T20:39:56.912Z"
   },
   {
    "duration": 13,
    "start_time": "2023-02-02T20:39:57.568Z"
   },
   {
    "duration": 14,
    "start_time": "2023-02-02T20:39:58.788Z"
   },
   {
    "duration": 6,
    "start_time": "2023-02-02T20:39:59.400Z"
   },
   {
    "duration": 8,
    "start_time": "2023-02-02T20:39:59.995Z"
   },
   {
    "duration": 6,
    "start_time": "2023-02-02T20:40:02.488Z"
   },
   {
    "duration": 11,
    "start_time": "2023-02-02T20:40:03.793Z"
   },
   {
    "duration": 3731,
    "start_time": "2023-02-02T20:40:06.631Z"
   },
   {
    "duration": 8,
    "start_time": "2023-02-02T20:40:10.368Z"
   },
   {
    "duration": 1678,
    "start_time": "2023-02-02T20:40:10.387Z"
   },
   {
    "duration": 0,
    "start_time": "2023-02-02T20:40:12.071Z"
   },
   {
    "duration": 12,
    "start_time": "2023-02-02T20:40:13.296Z"
   },
   {
    "duration": 1585,
    "start_time": "2023-02-02T20:40:14.418Z"
   },
   {
    "duration": 34,
    "start_time": "2023-02-02T20:40:16.752Z"
   },
   {
    "duration": 1344,
    "start_time": "2023-02-02T20:40:26.916Z"
   },
   {
    "duration": 172,
    "start_time": "2023-02-02T20:43:49.944Z"
   },
   {
    "duration": 140,
    "start_time": "2023-02-02T20:43:58.455Z"
   },
   {
    "duration": 27,
    "start_time": "2023-02-02T20:44:42.319Z"
   },
   {
    "duration": 24,
    "start_time": "2023-02-02T20:45:38.767Z"
   },
   {
    "duration": 1239,
    "start_time": "2023-02-02T20:45:45.052Z"
   },
   {
    "duration": 6,
    "start_time": "2023-02-02T20:46:40.223Z"
   },
   {
    "duration": 18,
    "start_time": "2023-02-02T20:46:41.518Z"
   },
   {
    "duration": 5,
    "start_time": "2023-02-02T20:47:15.395Z"
   },
   {
    "duration": 24,
    "start_time": "2023-02-02T20:47:16.382Z"
   },
   {
    "duration": 12,
    "start_time": "2023-02-02T20:47:44.294Z"
   },
   {
    "duration": 37,
    "start_time": "2023-02-02T20:47:45.389Z"
   },
   {
    "duration": 7,
    "start_time": "2023-02-02T20:48:12.893Z"
   },
   {
    "duration": 21,
    "start_time": "2023-02-02T20:48:13.714Z"
   },
   {
    "duration": 3,
    "start_time": "2023-02-02T20:48:28.063Z"
   },
   {
    "duration": 21,
    "start_time": "2023-02-02T20:48:29.707Z"
   },
   {
    "duration": 32,
    "start_time": "2023-02-02T20:49:17.824Z"
   },
   {
    "duration": 5,
    "start_time": "2023-02-02T20:49:18.856Z"
   },
   {
    "duration": 23,
    "start_time": "2023-02-02T20:49:18.905Z"
   },
   {
    "duration": 1379,
    "start_time": "2023-02-02T20:49:20.159Z"
   },
   {
    "duration": 8,
    "start_time": "2023-02-02T20:49:53.080Z"
   },
   {
    "duration": 74,
    "start_time": "2023-02-02T20:49:53.651Z"
   },
   {
    "duration": 6,
    "start_time": "2023-02-02T20:50:13.609Z"
   },
   {
    "duration": 79,
    "start_time": "2023-02-02T20:50:14.602Z"
   },
   {
    "duration": 147,
    "start_time": "2023-02-02T20:51:08.992Z"
   },
   {
    "duration": 3,
    "start_time": "2023-02-02T20:51:21.805Z"
   },
   {
    "duration": 4,
    "start_time": "2023-02-02T20:51:38.722Z"
   },
   {
    "duration": 8,
    "start_time": "2023-02-02T20:51:49.484Z"
   },
   {
    "duration": 4,
    "start_time": "2023-02-02T20:52:01.437Z"
   },
   {
    "duration": 750,
    "start_time": "2023-02-02T20:52:01.951Z"
   },
   {
    "duration": 79,
    "start_time": "2023-02-02T20:52:02.703Z"
   },
   {
    "duration": 3,
    "start_time": "2023-02-02T20:52:03.907Z"
   },
   {
    "duration": 3,
    "start_time": "2023-02-02T20:52:04.541Z"
   },
   {
    "duration": 6,
    "start_time": "2023-02-02T20:52:05.154Z"
   },
   {
    "duration": 300,
    "start_time": "2023-02-02T20:52:05.826Z"
   },
   {
    "duration": 6,
    "start_time": "2023-02-02T20:52:08.727Z"
   },
   {
    "duration": 5,
    "start_time": "2023-02-02T20:52:09.415Z"
   },
   {
    "duration": 4,
    "start_time": "2023-02-02T20:52:11.598Z"
   },
   {
    "duration": 3,
    "start_time": "2023-02-02T20:52:12.753Z"
   },
   {
    "duration": 6,
    "start_time": "2023-02-02T20:52:15.186Z"
   },
   {
    "duration": 19,
    "start_time": "2023-02-02T20:52:15.810Z"
   },
   {
    "duration": 5,
    "start_time": "2023-02-02T20:52:16.421Z"
   },
   {
    "duration": 13,
    "start_time": "2023-02-02T20:52:18.399Z"
   },
   {
    "duration": 4,
    "start_time": "2023-02-02T20:52:19.342Z"
   },
   {
    "duration": 10,
    "start_time": "2023-02-02T20:52:19.923Z"
   },
   {
    "duration": 6,
    "start_time": "2023-02-02T20:52:20.698Z"
   },
   {
    "duration": 8,
    "start_time": "2023-02-02T20:52:24.798Z"
   },
   {
    "duration": 6,
    "start_time": "2023-02-02T20:52:26.021Z"
   },
   {
    "duration": 263,
    "start_time": "2023-02-02T20:52:27.341Z"
   },
   {
    "duration": 64,
    "start_time": "2023-02-02T20:52:27.935Z"
   },
   {
    "duration": 60,
    "start_time": "2023-02-02T20:52:28.732Z"
   },
   {
    "duration": 63,
    "start_time": "2023-02-02T20:52:29.356Z"
   },
   {
    "duration": 54,
    "start_time": "2023-02-02T20:52:30.594Z"
   },
   {
    "duration": 48,
    "start_time": "2023-02-02T20:52:31.396Z"
   },
   {
    "duration": 13,
    "start_time": "2023-02-02T20:52:34.602Z"
   },
   {
    "duration": 4,
    "start_time": "2023-02-02T20:52:43.124Z"
   },
   {
    "duration": 6,
    "start_time": "2023-02-02T20:52:46.699Z"
   },
   {
    "duration": 5,
    "start_time": "2023-02-02T20:52:47.319Z"
   },
   {
    "duration": 5,
    "start_time": "2023-02-02T20:52:48.054Z"
   },
   {
    "duration": 4,
    "start_time": "2023-02-02T20:52:51.927Z"
   },
   {
    "duration": 25,
    "start_time": "2023-02-02T20:52:54.859Z"
   },
   {
    "duration": 10,
    "start_time": "2023-02-02T20:53:07.844Z"
   },
   {
    "duration": 3319,
    "start_time": "2023-02-02T20:53:09.007Z"
   },
   {
    "duration": 4,
    "start_time": "2023-02-02T20:53:13.994Z"
   },
   {
    "duration": 1754,
    "start_time": "2023-02-02T20:53:14.687Z"
   },
   {
    "duration": 0,
    "start_time": "2023-02-02T20:53:16.443Z"
   },
   {
    "duration": 12,
    "start_time": "2023-02-02T20:53:21.164Z"
   },
   {
    "duration": 132,
    "start_time": "2023-02-02T20:53:23.919Z"
   },
   {
    "duration": 1172,
    "start_time": "2023-02-02T20:53:26.000Z"
   },
   {
    "duration": 25,
    "start_time": "2023-02-02T20:53:27.697Z"
   },
   {
    "duration": 5,
    "start_time": "2023-02-02T20:53:31.204Z"
   },
   {
    "duration": 81,
    "start_time": "2023-02-02T20:53:32.495Z"
   },
   {
    "duration": 1511,
    "start_time": "2023-02-02T20:53:34.066Z"
   },
   {
    "duration": 28,
    "start_time": "2023-02-02T20:56:38.915Z"
   },
   {
    "duration": 3,
    "start_time": "2023-02-02T20:56:49.627Z"
   },
   {
    "duration": 817,
    "start_time": "2023-02-02T20:56:50.315Z"
   },
   {
    "duration": 76,
    "start_time": "2023-02-02T20:56:51.134Z"
   },
   {
    "duration": 5,
    "start_time": "2023-02-02T20:56:51.567Z"
   },
   {
    "duration": 3,
    "start_time": "2023-02-02T20:56:52.199Z"
   },
   {
    "duration": 5,
    "start_time": "2023-02-02T20:56:52.789Z"
   },
   {
    "duration": 302,
    "start_time": "2023-02-02T20:56:53.350Z"
   },
   {
    "duration": 5,
    "start_time": "2023-02-02T20:56:55.856Z"
   },
   {
    "duration": 8,
    "start_time": "2023-02-02T20:56:56.695Z"
   },
   {
    "duration": 4,
    "start_time": "2023-02-02T20:57:01.535Z"
   },
   {
    "duration": 4,
    "start_time": "2023-02-02T20:57:02.399Z"
   },
   {
    "duration": 3,
    "start_time": "2023-02-02T20:57:06.804Z"
   },
   {
    "duration": 39,
    "start_time": "2023-02-02T20:57:07.368Z"
   },
   {
    "duration": 5,
    "start_time": "2023-02-02T20:57:07.855Z"
   },
   {
    "duration": 11,
    "start_time": "2023-02-02T20:57:08.842Z"
   },
   {
    "duration": 4,
    "start_time": "2023-02-02T20:57:09.438Z"
   },
   {
    "duration": 14,
    "start_time": "2023-02-02T20:57:09.940Z"
   },
   {
    "duration": 7,
    "start_time": "2023-02-02T20:57:10.753Z"
   },
   {
    "duration": 8,
    "start_time": "2023-02-02T20:57:12.197Z"
   },
   {
    "duration": 7,
    "start_time": "2023-02-02T20:57:13.017Z"
   },
   {
    "duration": 282,
    "start_time": "2023-02-02T20:57:14.283Z"
   },
   {
    "duration": 208,
    "start_time": "2023-02-02T20:57:16.353Z"
   },
   {
    "duration": 62,
    "start_time": "2023-02-02T20:57:16.579Z"
   },
   {
    "duration": 73,
    "start_time": "2023-02-02T20:58:10.386Z"
   },
   {
    "duration": 76,
    "start_time": "2023-02-02T20:58:11.005Z"
   },
   {
    "duration": 76,
    "start_time": "2023-02-02T20:58:11.670Z"
   },
   {
    "duration": 57,
    "start_time": "2023-02-02T20:58:12.282Z"
   },
   {
    "duration": 50,
    "start_time": "2023-02-02T20:58:12.886Z"
   },
   {
    "duration": 13,
    "start_time": "2023-02-02T20:58:14.122Z"
   },
   {
    "duration": 4,
    "start_time": "2023-02-02T20:58:14.753Z"
   },
   {
    "duration": 5,
    "start_time": "2023-02-02T20:58:16.196Z"
   },
   {
    "duration": 6,
    "start_time": "2023-02-02T20:58:16.735Z"
   },
   {
    "duration": 6,
    "start_time": "2023-02-02T20:58:17.232Z"
   },
   {
    "duration": 3,
    "start_time": "2023-02-02T20:58:19.703Z"
   },
   {
    "duration": 12,
    "start_time": "2023-02-02T20:58:20.340Z"
   },
   {
    "duration": 3975,
    "start_time": "2023-02-02T20:58:21.643Z"
   },
   {
    "duration": 4,
    "start_time": "2023-02-02T20:58:25.621Z"
   },
   {
    "duration": 1489,
    "start_time": "2023-02-02T20:58:25.626Z"
   },
   {
    "duration": 0,
    "start_time": "2023-02-02T20:58:27.118Z"
   },
   {
    "duration": 0,
    "start_time": "2023-02-02T20:58:27.120Z"
   },
   {
    "duration": 1353,
    "start_time": "2023-02-02T20:58:35.325Z"
   },
   {
    "duration": 32,
    "start_time": "2023-02-02T20:59:01.951Z"
   },
   {
    "duration": 20,
    "start_time": "2023-02-02T21:01:39.069Z"
   },
   {
    "duration": 1174,
    "start_time": "2023-02-02T21:02:16.064Z"
   },
   {
    "duration": 5,
    "start_time": "2023-02-02T21:03:07.250Z"
   },
   {
    "duration": 5,
    "start_time": "2023-02-02T21:03:21.859Z"
   },
   {
    "duration": 95,
    "start_time": "2023-02-02T21:03:29.853Z"
   },
   {
    "duration": 6,
    "start_time": "2023-02-02T21:04:23.064Z"
   },
   {
    "duration": 672,
    "start_time": "2023-02-02T21:04:23.291Z"
   },
   {
    "duration": 60,
    "start_time": "2023-02-02T21:04:23.967Z"
   },
   {
    "duration": 4,
    "start_time": "2023-02-02T21:04:24.029Z"
   },
   {
    "duration": 3,
    "start_time": "2023-02-02T21:04:24.227Z"
   },
   {
    "duration": 5,
    "start_time": "2023-02-02T21:04:24.488Z"
   },
   {
    "duration": 282,
    "start_time": "2023-02-02T21:04:24.751Z"
   },
   {
    "duration": 9,
    "start_time": "2023-02-02T21:04:25.713Z"
   },
   {
    "duration": 5,
    "start_time": "2023-02-02T21:04:25.993Z"
   },
   {
    "duration": 10,
    "start_time": "2023-02-02T21:04:26.673Z"
   },
   {
    "duration": 5,
    "start_time": "2023-02-02T21:04:26.901Z"
   },
   {
    "duration": 8,
    "start_time": "2023-02-02T21:04:27.773Z"
   },
   {
    "duration": 24,
    "start_time": "2023-02-02T21:04:27.983Z"
   },
   {
    "duration": 8,
    "start_time": "2023-02-02T21:04:28.180Z"
   },
   {
    "duration": 16,
    "start_time": "2023-02-02T21:04:28.556Z"
   },
   {
    "duration": 4,
    "start_time": "2023-02-02T21:04:28.749Z"
   },
   {
    "duration": 9,
    "start_time": "2023-02-02T21:04:28.942Z"
   },
   {
    "duration": 7,
    "start_time": "2023-02-02T21:04:29.142Z"
   },
   {
    "duration": 11,
    "start_time": "2023-02-02T21:04:29.578Z"
   },
   {
    "duration": 8,
    "start_time": "2023-02-02T21:04:29.789Z"
   },
   {
    "duration": 316,
    "start_time": "2023-02-02T21:04:30.210Z"
   },
   {
    "duration": 82,
    "start_time": "2023-02-02T21:04:30.528Z"
   },
   {
    "duration": 81,
    "start_time": "2023-02-02T21:04:30.736Z"
   },
   {
    "duration": 89,
    "start_time": "2023-02-02T21:04:30.999Z"
   },
   {
    "duration": 65,
    "start_time": "2023-02-02T21:04:31.221Z"
   },
   {
    "duration": 65,
    "start_time": "2023-02-02T21:04:31.628Z"
   },
   {
    "duration": 13,
    "start_time": "2023-02-02T21:04:32.093Z"
   },
   {
    "duration": 3,
    "start_time": "2023-02-02T21:04:32.411Z"
   },
   {
    "duration": 6,
    "start_time": "2023-02-02T21:04:33.297Z"
   },
   {
    "duration": 5,
    "start_time": "2023-02-02T21:04:33.729Z"
   },
   {
    "duration": 7,
    "start_time": "2023-02-02T21:04:34.000Z"
   },
   {
    "duration": 5,
    "start_time": "2023-02-02T21:04:35.731Z"
   },
   {
    "duration": 9,
    "start_time": "2023-02-02T21:04:36.435Z"
   },
   {
    "duration": 3522,
    "start_time": "2023-02-02T21:04:37.422Z"
   },
   {
    "duration": 4,
    "start_time": "2023-02-02T21:04:40.946Z"
   },
   {
    "duration": 1463,
    "start_time": "2023-02-02T21:04:40.951Z"
   },
   {
    "duration": 0,
    "start_time": "2023-02-02T21:04:42.415Z"
   },
   {
    "duration": 9,
    "start_time": "2023-02-02T21:04:43.498Z"
   },
   {
    "duration": 1519,
    "start_time": "2023-02-02T21:04:44.311Z"
   },
   {
    "duration": 25,
    "start_time": "2023-02-02T21:04:47.123Z"
   },
   {
    "duration": 23,
    "start_time": "2023-02-02T21:04:49.562Z"
   },
   {
    "duration": 8,
    "start_time": "2023-02-02T21:06:32.784Z"
   },
   {
    "duration": 7,
    "start_time": "2023-02-02T21:06:50.370Z"
   },
   {
    "duration": 4,
    "start_time": "2023-02-02T21:06:57.455Z"
   },
   {
    "duration": 608,
    "start_time": "2023-02-02T21:06:57.669Z"
   },
   {
    "duration": 56,
    "start_time": "2023-02-02T21:06:58.279Z"
   },
   {
    "duration": 2,
    "start_time": "2023-02-02T21:06:58.337Z"
   },
   {
    "duration": 5,
    "start_time": "2023-02-02T21:06:58.341Z"
   },
   {
    "duration": 5,
    "start_time": "2023-02-02T21:06:58.469Z"
   },
   {
    "duration": 259,
    "start_time": "2023-02-02T21:06:58.662Z"
   },
   {
    "duration": 5,
    "start_time": "2023-02-02T21:07:00.165Z"
   },
   {
    "duration": 4,
    "start_time": "2023-02-02T21:07:00.748Z"
   },
   {
    "duration": 5,
    "start_time": "2023-02-02T21:07:02.631Z"
   },
   {
    "duration": 4,
    "start_time": "2023-02-02T21:07:03.168Z"
   },
   {
    "duration": 3,
    "start_time": "2023-02-02T21:07:05.305Z"
   },
   {
    "duration": 14,
    "start_time": "2023-02-02T21:07:05.757Z"
   },
   {
    "duration": 4,
    "start_time": "2023-02-02T21:07:05.978Z"
   },
   {
    "duration": 9,
    "start_time": "2023-02-02T21:07:06.577Z"
   },
   {
    "duration": 7,
    "start_time": "2023-02-02T21:07:06.803Z"
   },
   {
    "duration": 13,
    "start_time": "2023-02-02T21:07:07.057Z"
   },
   {
    "duration": 9,
    "start_time": "2023-02-02T21:07:07.285Z"
   },
   {
    "duration": 9,
    "start_time": "2023-02-02T21:07:07.774Z"
   },
   {
    "duration": 9,
    "start_time": "2023-02-02T21:07:08.150Z"
   },
   {
    "duration": 258,
    "start_time": "2023-02-02T21:07:08.772Z"
   },
   {
    "duration": 48,
    "start_time": "2023-02-02T21:07:09.430Z"
   },
   {
    "duration": 52,
    "start_time": "2023-02-02T21:07:10.213Z"
   },
   {
    "duration": 47,
    "start_time": "2023-02-02T21:07:10.756Z"
   },
   {
    "duration": 48,
    "start_time": "2023-02-02T21:07:11.354Z"
   },
   {
    "duration": 45,
    "start_time": "2023-02-02T21:07:11.746Z"
   },
   {
    "duration": 13,
    "start_time": "2023-02-02T21:07:12.792Z"
   },
   {
    "duration": 3,
    "start_time": "2023-02-02T21:07:13.386Z"
   },
   {
    "duration": 5,
    "start_time": "2023-02-02T21:07:14.544Z"
   },
   {
    "duration": 5,
    "start_time": "2023-02-02T21:07:15.129Z"
   },
   {
    "duration": 6,
    "start_time": "2023-02-02T21:07:15.769Z"
   },
   {
    "duration": 4,
    "start_time": "2023-02-02T21:07:17.873Z"
   },
   {
    "duration": 13,
    "start_time": "2023-02-02T21:07:18.414Z"
   },
   {
    "duration": 3193,
    "start_time": "2023-02-02T21:07:19.401Z"
   },
   {
    "duration": 4,
    "start_time": "2023-02-02T21:07:22.597Z"
   },
   {
    "duration": 1291,
    "start_time": "2023-02-02T21:07:22.603Z"
   },
   {
    "duration": 0,
    "start_time": "2023-02-02T21:07:23.896Z"
   },
   {
    "duration": 7,
    "start_time": "2023-02-02T21:07:24.149Z"
   },
   {
    "duration": 1090,
    "start_time": "2023-02-02T21:07:24.782Z"
   },
   {
    "duration": 21,
    "start_time": "2023-02-02T21:07:26.184Z"
   },
   {
    "duration": 15,
    "start_time": "2023-02-02T21:07:27.268Z"
   },
   {
    "duration": 7,
    "start_time": "2023-02-02T21:07:28.271Z"
   },
   {
    "duration": 75,
    "start_time": "2023-02-02T21:07:36.510Z"
   },
   {
    "duration": 78,
    "start_time": "2023-02-02T21:07:44.807Z"
   },
   {
    "duration": 8,
    "start_time": "2023-02-02T21:08:10.498Z"
   },
   {
    "duration": 47,
    "start_time": "2023-02-02T21:08:11.252Z"
   },
   {
    "duration": 55,
    "start_time": "2023-02-02T21:08:47.685Z"
   },
   {
    "duration": 7,
    "start_time": "2023-02-02T21:09:45.747Z"
   },
   {
    "duration": 65,
    "start_time": "2023-02-02T21:09:49.697Z"
   },
   {
    "duration": 20,
    "start_time": "2023-02-02T21:10:49.212Z"
   },
   {
    "duration": 15,
    "start_time": "2023-02-02T21:10:50.020Z"
   },
   {
    "duration": 7,
    "start_time": "2023-02-02T21:10:52.427Z"
   },
   {
    "duration": 20,
    "start_time": "2023-02-02T21:10:53.607Z"
   },
   {
    "duration": 1309,
    "start_time": "2023-02-02T21:10:55.585Z"
   },
   {
    "duration": 9,
    "start_time": "2023-02-02T21:10:56.896Z"
   },
   {
    "duration": 4,
    "start_time": "2023-02-02T21:10:58.095Z"
   },
   {
    "duration": 11,
    "start_time": "2023-02-02T21:10:58.361Z"
   },
   {
    "duration": 4,
    "start_time": "2023-02-02T21:10:58.547Z"
   },
   {
    "duration": 3,
    "start_time": "2023-02-02T21:10:58.795Z"
   },
   {
    "duration": 4,
    "start_time": "2023-02-02T21:10:59.289Z"
   },
   {
    "duration": 3,
    "start_time": "2023-02-02T21:10:59.511Z"
   },
   {
    "duration": 3,
    "start_time": "2023-02-02T21:10:59.745Z"
   },
   {
    "duration": 5,
    "start_time": "2023-02-02T21:11:00.013Z"
   },
   {
    "duration": 3,
    "start_time": "2023-02-02T21:11:00.738Z"
   },
   {
    "duration": 1694,
    "start_time": "2023-02-02T21:11:01.176Z"
   },
   {
    "duration": 1904,
    "start_time": "2023-02-02T21:11:02.874Z"
   },
   {
    "duration": 9,
    "start_time": "2023-02-02T21:11:04.779Z"
   },
   {
    "duration": 96,
    "start_time": "2023-02-02T21:11:04.793Z"
   },
   {
    "duration": 47558,
    "start_time": "2023-02-02T21:11:04.891Z"
   },
   {
    "duration": 4,
    "start_time": "2023-02-02T21:11:52.450Z"
   },
   {
    "duration": 48035,
    "start_time": "2023-02-02T21:11:52.469Z"
   },
   {
    "duration": 4,
    "start_time": "2023-02-02T21:12:40.507Z"
   },
   {
    "duration": 10,
    "start_time": "2023-02-02T21:12:40.513Z"
   },
   {
    "duration": 333231,
    "start_time": "2023-02-02T21:12:40.526Z"
   },
   {
    "duration": 16,
    "start_time": "2023-02-02T21:18:13.759Z"
   },
   {
    "duration": 344484,
    "start_time": "2023-02-02T21:18:13.777Z"
   },
   {
    "duration": 7,
    "start_time": "2023-02-02T21:23:58.263Z"
   },
   {
    "duration": 6,
    "start_time": "2023-02-02T21:24:12.576Z"
   },
   {
    "duration": 3454,
    "start_time": "2023-02-02T21:24:13.684Z"
   },
   {
    "duration": 3,
    "start_time": "2023-02-02T21:24:17.140Z"
   },
   {
    "duration": 19,
    "start_time": "2023-02-02T21:26:48.264Z"
   },
   {
    "duration": 39,
    "start_time": "2023-02-02T21:27:03.604Z"
   },
   {
    "duration": 14,
    "start_time": "2023-02-02T21:27:31.397Z"
   },
   {
    "duration": 4,
    "start_time": "2023-02-02T21:28:32.906Z"
   },
   {
    "duration": 664,
    "start_time": "2023-02-02T21:28:33.284Z"
   },
   {
    "duration": 65,
    "start_time": "2023-02-02T21:28:33.950Z"
   },
   {
    "duration": 4,
    "start_time": "2023-02-02T21:28:34.081Z"
   },
   {
    "duration": 4,
    "start_time": "2023-02-02T21:28:34.447Z"
   },
   {
    "duration": 9,
    "start_time": "2023-02-02T21:28:34.780Z"
   },
   {
    "duration": 355,
    "start_time": "2023-02-02T21:28:35.105Z"
   },
   {
    "duration": 14,
    "start_time": "2023-02-02T21:28:36.568Z"
   },
   {
    "duration": 5,
    "start_time": "2023-02-02T21:28:36.955Z"
   },
   {
    "duration": 4,
    "start_time": "2023-02-02T21:28:38.846Z"
   },
   {
    "duration": 4,
    "start_time": "2023-02-02T21:28:39.529Z"
   },
   {
    "duration": 2,
    "start_time": "2023-02-02T21:28:41.755Z"
   },
   {
    "duration": 19,
    "start_time": "2023-02-02T21:28:42.168Z"
   },
   {
    "duration": 5,
    "start_time": "2023-02-02T21:28:42.379Z"
   },
   {
    "duration": 9,
    "start_time": "2023-02-02T21:28:42.733Z"
   },
   {
    "duration": 4,
    "start_time": "2023-02-02T21:28:42.918Z"
   },
   {
    "duration": 8,
    "start_time": "2023-02-02T21:28:43.096Z"
   },
   {
    "duration": 15,
    "start_time": "2023-02-02T21:28:43.267Z"
   },
   {
    "duration": 7,
    "start_time": "2023-02-02T21:28:43.639Z"
   },
   {
    "duration": 8,
    "start_time": "2023-02-02T21:28:43.840Z"
   },
   {
    "duration": 255,
    "start_time": "2023-02-02T21:28:44.240Z"
   },
   {
    "duration": 47,
    "start_time": "2023-02-02T21:28:44.497Z"
   },
   {
    "duration": 83,
    "start_time": "2023-02-02T21:28:44.875Z"
   },
   {
    "duration": 48,
    "start_time": "2023-02-02T21:28:45.418Z"
   },
   {
    "duration": 52,
    "start_time": "2023-02-02T21:28:45.956Z"
   },
   {
    "duration": 51,
    "start_time": "2023-02-02T21:28:46.648Z"
   },
   {
    "duration": 16,
    "start_time": "2023-02-02T21:28:47.785Z"
   },
   {
    "duration": 4,
    "start_time": "2023-02-02T21:28:48.326Z"
   },
   {
    "duration": 7,
    "start_time": "2023-02-02T21:28:50.054Z"
   },
   {
    "duration": 6,
    "start_time": "2023-02-02T21:28:50.591Z"
   },
   {
    "duration": 7,
    "start_time": "2023-02-02T21:28:51.189Z"
   },
   {
    "duration": 6,
    "start_time": "2023-02-02T21:28:53.376Z"
   },
   {
    "duration": 9,
    "start_time": "2023-02-02T21:28:53.911Z"
   },
   {
    "duration": 3150,
    "start_time": "2023-02-02T21:28:55.103Z"
   },
   {
    "duration": 16,
    "start_time": "2023-02-02T21:28:58.255Z"
   },
   {
    "duration": 1313,
    "start_time": "2023-02-02T21:28:58.278Z"
   },
   {
    "duration": 0,
    "start_time": "2023-02-02T21:28:59.593Z"
   },
   {
    "duration": 8,
    "start_time": "2023-02-02T21:28:59.748Z"
   },
   {
    "duration": 1215,
    "start_time": "2023-02-02T21:29:01.413Z"
   },
   {
    "duration": 27,
    "start_time": "2023-02-02T21:29:05.594Z"
   },
   {
    "duration": 1175,
    "start_time": "2023-02-02T21:29:10.307Z"
   },
   {
    "duration": 21,
    "start_time": "2023-02-02T21:29:53.475Z"
   },
   {
    "duration": 8,
    "start_time": "2023-02-02T21:29:54.548Z"
   },
   {
    "duration": 1045,
    "start_time": "2023-02-02T21:29:55.117Z"
   },
   {
    "duration": 10,
    "start_time": "2023-02-02T21:30:16.960Z"
   },
   {
    "duration": 5,
    "start_time": "2023-02-02T21:30:19.215Z"
   },
   {
    "duration": 6,
    "start_time": "2023-02-02T21:30:19.785Z"
   },
   {
    "duration": 6,
    "start_time": "2023-02-02T21:30:20.403Z"
   },
   {
    "duration": 3,
    "start_time": "2023-02-02T21:30:20.995Z"
   },
   {
    "duration": 4,
    "start_time": "2023-02-02T21:30:22.325Z"
   },
   {
    "duration": 3,
    "start_time": "2023-02-02T21:30:22.914Z"
   },
   {
    "duration": 3,
    "start_time": "2023-02-02T21:30:23.625Z"
   },
   {
    "duration": 8,
    "start_time": "2023-02-02T21:30:24.361Z"
   },
   {
    "duration": 3,
    "start_time": "2023-02-02T21:30:26.826Z"
   },
   {
    "duration": 3873,
    "start_time": "2023-02-02T21:30:28.399Z"
   },
   {
    "duration": 2055,
    "start_time": "2023-02-02T21:30:32.331Z"
   },
   {
    "duration": 4,
    "start_time": "2023-02-02T21:30:37.254Z"
   },
   {
    "duration": 3,
    "start_time": "2023-02-02T21:30:39.752Z"
   },
   {
    "duration": 33887,
    "start_time": "2023-02-02T21:30:41.625Z"
   },
   {
    "duration": 3,
    "start_time": "2023-02-02T21:31:23.166Z"
   },
   {
    "duration": 24432,
    "start_time": "2023-02-02T21:31:23.767Z"
   },
   {
    "duration": 3,
    "start_time": "2023-02-02T21:34:37.401Z"
   },
   {
    "duration": 4,
    "start_time": "2023-02-02T21:34:56.800Z"
   },
   {
    "duration": 4,
    "start_time": "2023-02-02T21:35:04.180Z"
   },
   {
    "duration": 186630,
    "start_time": "2023-02-02T21:35:05.133Z"
   },
   {
    "duration": 11,
    "start_time": "2023-02-02T21:38:11.768Z"
   },
   {
    "duration": 207610,
    "start_time": "2023-02-02T21:38:11.781Z"
   },
   {
    "duration": 4,
    "start_time": "2023-02-02T21:41:39.393Z"
   },
   {
    "duration": 8,
    "start_time": "2023-02-02T21:42:05.976Z"
   },
   {
    "duration": 3417,
    "start_time": "2023-02-02T21:42:06.952Z"
   },
   {
    "duration": 8,
    "start_time": "2023-02-02T21:42:10.371Z"
   },
   {
    "duration": 3660,
    "start_time": "2023-02-02T21:45:45.860Z"
   },
   {
    "duration": 1593,
    "start_time": "2023-02-03T06:13:47.974Z"
   },
   {
    "duration": 1930,
    "start_time": "2023-02-03T06:13:49.570Z"
   },
   {
    "duration": 64,
    "start_time": "2023-02-03T06:13:51.502Z"
   },
   {
    "duration": 2,
    "start_time": "2023-02-03T06:13:51.569Z"
   },
   {
    "duration": 9,
    "start_time": "2023-02-03T06:13:51.573Z"
   },
   {
    "duration": 19,
    "start_time": "2023-02-03T06:13:51.584Z"
   },
   {
    "duration": 301,
    "start_time": "2023-02-03T06:13:51.605Z"
   },
   {
    "duration": 6,
    "start_time": "2023-02-03T06:13:52.369Z"
   },
   {
    "duration": 5,
    "start_time": "2023-02-03T06:13:53.122Z"
   },
   {
    "duration": 5,
    "start_time": "2023-02-03T06:13:58.524Z"
   },
   {
    "duration": 3,
    "start_time": "2023-02-03T06:14:00.288Z"
   },
   {
    "duration": 4,
    "start_time": "2023-02-03T06:14:11.357Z"
   },
   {
    "duration": 14,
    "start_time": "2023-02-03T06:14:12.536Z"
   },
   {
    "duration": 4,
    "start_time": "2023-02-03T06:14:14.575Z"
   },
   {
    "duration": 11,
    "start_time": "2023-02-03T06:14:16.150Z"
   },
   {
    "duration": 4,
    "start_time": "2023-02-03T06:14:16.792Z"
   },
   {
    "duration": 10,
    "start_time": "2023-02-03T06:14:18.035Z"
   },
   {
    "duration": 7,
    "start_time": "2023-02-03T06:14:19.532Z"
   },
   {
    "duration": 9,
    "start_time": "2023-02-03T06:14:20.958Z"
   },
   {
    "duration": 7,
    "start_time": "2023-02-03T06:14:21.588Z"
   },
   {
    "duration": 260,
    "start_time": "2023-02-03T06:14:23.099Z"
   },
   {
    "duration": 55,
    "start_time": "2023-02-03T06:14:23.997Z"
   },
   {
    "duration": 56,
    "start_time": "2023-02-03T06:14:24.688Z"
   },
   {
    "duration": 56,
    "start_time": "2023-02-03T06:14:25.302Z"
   },
   {
    "duration": 53,
    "start_time": "2023-02-03T06:14:25.892Z"
   },
   {
    "duration": 54,
    "start_time": "2023-02-03T06:14:26.580Z"
   },
   {
    "duration": 20,
    "start_time": "2023-02-03T06:14:28.041Z"
   },
   {
    "duration": 3,
    "start_time": "2023-02-03T06:14:33.386Z"
   },
   {
    "duration": 6,
    "start_time": "2023-02-03T06:14:45.755Z"
   },
   {
    "duration": 8,
    "start_time": "2023-02-03T06:14:46.564Z"
   },
   {
    "duration": 6,
    "start_time": "2023-02-03T06:14:47.228Z"
   },
   {
    "duration": 3,
    "start_time": "2023-02-03T06:15:05.540Z"
   },
   {
    "duration": 109,
    "start_time": "2023-02-03T06:15:19.278Z"
   },
   {
    "duration": 4,
    "start_time": "2023-02-03T06:15:45.944Z"
   },
   {
    "duration": 10,
    "start_time": "2023-02-03T06:15:46.700Z"
   },
   {
    "duration": 3945,
    "start_time": "2023-02-03T06:17:00.473Z"
   },
   {
    "duration": 76,
    "start_time": "2023-02-03T06:18:05.960Z"
   },
   {
    "duration": 57,
    "start_time": "2023-02-03T06:18:06.520Z"
   },
   {
    "duration": 852,
    "start_time": "2023-02-03T06:18:07.823Z"
   },
   {
    "duration": 8,
    "start_time": "2023-02-03T06:18:11.044Z"
   },
   {
    "duration": 1758,
    "start_time": "2023-02-03T06:18:11.575Z"
   },
   {
    "duration": 42,
    "start_time": "2023-02-03T06:18:15.087Z"
   },
   {
    "duration": 13,
    "start_time": "2023-02-03T06:18:37.000Z"
   },
   {
    "duration": 4,
    "start_time": "2023-02-03T06:18:44.260Z"
   },
   {
    "duration": 51,
    "start_time": "2023-02-03T06:19:42.862Z"
   },
   {
    "duration": 13,
    "start_time": "2023-02-03T06:19:43.423Z"
   },
   {
    "duration": 13,
    "start_time": "2023-02-03T06:23:03.001Z"
   },
   {
    "duration": 4,
    "start_time": "2023-02-03T06:24:36.987Z"
   },
   {
    "duration": 4,
    "start_time": "2023-02-03T06:25:32.345Z"
   },
   {
    "duration": 7,
    "start_time": "2023-02-03T06:25:51.283Z"
   },
   {
    "duration": 7,
    "start_time": "2023-02-03T06:25:52.153Z"
   },
   {
    "duration": 5,
    "start_time": "2023-02-03T06:25:53.650Z"
   },
   {
    "duration": 5,
    "start_time": "2023-02-03T06:26:32.524Z"
   },
   {
    "duration": 5,
    "start_time": "2023-02-03T06:27:01.035Z"
   },
   {
    "duration": 799,
    "start_time": "2023-02-03T06:27:05.726Z"
   },
   {
    "duration": 108,
    "start_time": "2023-02-03T06:27:06.541Z"
   },
   {
    "duration": 3,
    "start_time": "2023-02-03T06:27:07.763Z"
   },
   {
    "duration": 3,
    "start_time": "2023-02-03T06:27:08.724Z"
   },
   {
    "duration": 6,
    "start_time": "2023-02-03T06:27:09.648Z"
   },
   {
    "duration": 334,
    "start_time": "2023-02-03T06:27:10.533Z"
   },
   {
    "duration": 7,
    "start_time": "2023-02-03T06:27:13.232Z"
   },
   {
    "duration": 6,
    "start_time": "2023-02-03T06:27:13.841Z"
   },
   {
    "duration": 6,
    "start_time": "2023-02-03T06:27:25.641Z"
   },
   {
    "duration": 4,
    "start_time": "2023-02-03T06:27:28.659Z"
   },
   {
    "duration": 4,
    "start_time": "2023-02-03T06:27:31.361Z"
   },
   {
    "duration": 24,
    "start_time": "2023-02-03T06:27:32.071Z"
   },
   {
    "duration": 6,
    "start_time": "2023-02-03T06:27:32.856Z"
   },
   {
    "duration": 12,
    "start_time": "2023-02-03T06:27:40.644Z"
   },
   {
    "duration": 5,
    "start_time": "2023-02-03T06:27:41.408Z"
   },
   {
    "duration": 13,
    "start_time": "2023-02-03T06:27:42.616Z"
   },
   {
    "duration": 9,
    "start_time": "2023-02-03T06:27:43.572Z"
   },
   {
    "duration": 11,
    "start_time": "2023-02-03T06:27:44.768Z"
   },
   {
    "duration": 9,
    "start_time": "2023-02-03T06:27:45.267Z"
   },
   {
    "duration": 302,
    "start_time": "2023-02-03T06:27:46.425Z"
   },
   {
    "duration": 60,
    "start_time": "2023-02-03T06:27:47.153Z"
   },
   {
    "duration": 59,
    "start_time": "2023-02-03T06:27:47.828Z"
   },
   {
    "duration": 93,
    "start_time": "2023-02-03T06:27:48.574Z"
   },
   {
    "duration": 83,
    "start_time": "2023-02-03T06:27:49.484Z"
   },
   {
    "duration": 71,
    "start_time": "2023-02-03T06:27:50.195Z"
   },
   {
    "duration": 19,
    "start_time": "2023-02-03T06:27:51.916Z"
   },
   {
    "duration": 5,
    "start_time": "2023-02-03T06:27:52.686Z"
   },
   {
    "duration": 7,
    "start_time": "2023-02-03T06:27:54.147Z"
   },
   {
    "duration": 6,
    "start_time": "2023-02-03T06:27:54.790Z"
   },
   {
    "duration": 7,
    "start_time": "2023-02-03T06:27:55.317Z"
   },
   {
    "duration": 42,
    "start_time": "2023-02-03T06:27:58.273Z"
   },
   {
    "duration": 3,
    "start_time": "2023-02-03T06:27:58.924Z"
   },
   {
    "duration": 3538,
    "start_time": "2023-02-03T06:28:00.184Z"
   },
   {
    "duration": 50,
    "start_time": "2023-02-03T06:28:03.724Z"
   },
   {
    "duration": 0,
    "start_time": "2023-02-03T06:28:03.776Z"
   },
   {
    "duration": 0,
    "start_time": "2023-02-03T06:28:03.777Z"
   },
   {
    "duration": 10,
    "start_time": "2023-02-03T06:28:05.788Z"
   },
   {
    "duration": 1392,
    "start_time": "2023-02-03T06:28:08.081Z"
   },
   {
    "duration": 29,
    "start_time": "2023-02-03T06:28:10.836Z"
   },
   {
    "duration": 5,
    "start_time": "2023-02-03T06:28:11.703Z"
   },
   {
    "duration": 5,
    "start_time": "2023-02-03T06:29:02.085Z"
   },
   {
    "duration": 7,
    "start_time": "2023-02-03T06:29:03.157Z"
   },
   {
    "duration": 5,
    "start_time": "2023-02-03T06:29:04.606Z"
   },
   {
    "duration": 5,
    "start_time": "2023-02-03T06:29:08.866Z"
   },
   {
    "duration": 4,
    "start_time": "2023-02-03T06:29:15.360Z"
   },
   {
    "duration": 3,
    "start_time": "2023-02-03T06:29:16.220Z"
   },
   {
    "duration": 3,
    "start_time": "2023-02-03T06:29:18.534Z"
   },
   {
    "duration": 23,
    "start_time": "2023-02-03T06:29:22.048Z"
   },
   {
    "duration": 14,
    "start_time": "2023-02-03T06:30:26.471Z"
   },
   {
    "duration": 4,
    "start_time": "2023-02-03T06:30:36.486Z"
   },
   {
    "duration": 5,
    "start_time": "2023-02-03T06:31:13.531Z"
   },
   {
    "duration": 703,
    "start_time": "2023-02-03T06:31:13.718Z"
   },
   {
    "duration": 75,
    "start_time": "2023-02-03T06:31:14.424Z"
   },
   {
    "duration": 3,
    "start_time": "2023-02-03T06:31:14.501Z"
   },
   {
    "duration": 8,
    "start_time": "2023-02-03T06:31:14.506Z"
   },
   {
    "duration": 19,
    "start_time": "2023-02-03T06:31:14.516Z"
   },
   {
    "duration": 293,
    "start_time": "2023-02-03T06:31:14.670Z"
   },
   {
    "duration": 5,
    "start_time": "2023-02-03T06:31:15.468Z"
   },
   {
    "duration": 5,
    "start_time": "2023-02-03T06:31:15.671Z"
   },
   {
    "duration": 5,
    "start_time": "2023-02-03T06:31:16.265Z"
   },
   {
    "duration": 4,
    "start_time": "2023-02-03T06:31:16.463Z"
   },
   {
    "duration": 5,
    "start_time": "2023-02-03T06:31:17.316Z"
   },
   {
    "duration": 15,
    "start_time": "2023-02-03T06:31:17.516Z"
   },
   {
    "duration": 4,
    "start_time": "2023-02-03T06:31:17.735Z"
   },
   {
    "duration": 10,
    "start_time": "2023-02-03T06:31:18.180Z"
   },
   {
    "duration": 4,
    "start_time": "2023-02-03T06:31:18.503Z"
   },
   {
    "duration": 10,
    "start_time": "2023-02-03T06:31:18.739Z"
   },
   {
    "duration": 8,
    "start_time": "2023-02-03T06:31:18.972Z"
   },
   {
    "duration": 8,
    "start_time": "2023-02-03T06:31:19.433Z"
   },
   {
    "duration": 8,
    "start_time": "2023-02-03T06:31:19.677Z"
   },
   {
    "duration": 267,
    "start_time": "2023-02-03T06:31:20.117Z"
   },
   {
    "duration": 55,
    "start_time": "2023-02-03T06:31:20.386Z"
   },
   {
    "duration": 63,
    "start_time": "2023-02-03T06:31:20.919Z"
   },
   {
    "duration": 59,
    "start_time": "2023-02-03T06:31:21.159Z"
   },
   {
    "duration": 57,
    "start_time": "2023-02-03T06:31:21.381Z"
   },
   {
    "duration": 64,
    "start_time": "2023-02-03T06:31:21.589Z"
   },
   {
    "duration": 17,
    "start_time": "2023-02-03T06:31:22.032Z"
   },
   {
    "duration": 3,
    "start_time": "2023-02-03T06:31:22.250Z"
   },
   {
    "duration": 6,
    "start_time": "2023-02-03T06:31:22.741Z"
   },
   {
    "duration": 6,
    "start_time": "2023-02-03T06:31:22.985Z"
   },
   {
    "duration": 6,
    "start_time": "2023-02-03T06:31:23.205Z"
   },
   {
    "duration": 49,
    "start_time": "2023-02-03T06:31:24.122Z"
   },
   {
    "duration": 2,
    "start_time": "2023-02-03T06:31:24.678Z"
   },
   {
    "duration": 3434,
    "start_time": "2023-02-03T06:31:25.933Z"
   },
   {
    "duration": 42,
    "start_time": "2023-02-03T06:31:29.370Z"
   },
   {
    "duration": 0,
    "start_time": "2023-02-03T06:31:29.414Z"
   },
   {
    "duration": 590,
    "start_time": "2023-02-03T06:31:29.716Z"
   },
   {
    "duration": 9,
    "start_time": "2023-02-03T06:31:31.857Z"
   },
   {
    "duration": 1468,
    "start_time": "2023-02-03T06:31:32.390Z"
   },
   {
    "duration": 38,
    "start_time": "2023-02-03T06:31:33.861Z"
   },
   {
    "duration": 5,
    "start_time": "2023-02-03T06:31:34.380Z"
   },
   {
    "duration": 5,
    "start_time": "2023-02-03T06:31:38.735Z"
   },
   {
    "duration": 7,
    "start_time": "2023-02-03T06:31:39.481Z"
   },
   {
    "duration": 5,
    "start_time": "2023-02-03T06:31:40.343Z"
   },
   {
    "duration": 5,
    "start_time": "2023-02-03T06:31:42.845Z"
   },
   {
    "duration": 6,
    "start_time": "2023-02-03T06:31:43.590Z"
   },
   {
    "duration": 3,
    "start_time": "2023-02-03T06:31:44.529Z"
   },
   {
    "duration": 3,
    "start_time": "2023-02-03T06:31:45.520Z"
   },
   {
    "duration": 14,
    "start_time": "2023-02-03T06:31:47.154Z"
   },
   {
    "duration": 742,
    "start_time": "2023-02-03T06:32:19.321Z"
   },
   {
    "duration": 4,
    "start_time": "2023-02-03T06:33:04.278Z"
   },
   {
    "duration": 695,
    "start_time": "2023-02-03T06:33:04.885Z"
   },
   {
    "duration": 85,
    "start_time": "2023-02-03T06:33:05.586Z"
   },
   {
    "duration": 3,
    "start_time": "2023-02-03T06:33:06.107Z"
   },
   {
    "duration": 3,
    "start_time": "2023-02-03T06:33:06.821Z"
   },
   {
    "duration": 5,
    "start_time": "2023-02-03T06:33:07.418Z"
   },
   {
    "duration": 312,
    "start_time": "2023-02-03T06:33:08.049Z"
   },
   {
    "duration": 7,
    "start_time": "2023-02-03T06:33:10.738Z"
   },
   {
    "duration": 5,
    "start_time": "2023-02-03T06:33:11.451Z"
   },
   {
    "duration": 6,
    "start_time": "2023-02-03T06:33:13.132Z"
   },
   {
    "duration": 4,
    "start_time": "2023-02-03T06:33:13.715Z"
   },
   {
    "duration": 3,
    "start_time": "2023-02-03T06:33:36.254Z"
   },
   {
    "duration": 22,
    "start_time": "2023-02-03T06:33:36.784Z"
   },
   {
    "duration": 5,
    "start_time": "2023-02-03T06:33:37.650Z"
   },
   {
    "duration": 14,
    "start_time": "2023-02-03T06:33:46.559Z"
   },
   {
    "duration": 4,
    "start_time": "2023-02-03T06:33:49.943Z"
   },
   {
    "duration": 6,
    "start_time": "2023-02-03T06:34:12.539Z"
   },
   {
    "duration": 27,
    "start_time": "2023-02-03T06:36:36.369Z"
   },
   {
    "duration": 12,
    "start_time": "2023-02-03T06:36:47.806Z"
   },
   {
    "duration": 5,
    "start_time": "2023-02-03T06:36:49.485Z"
   },
   {
    "duration": 6,
    "start_time": "2023-02-03T06:37:00.473Z"
   },
   {
    "duration": 713,
    "start_time": "2023-02-03T06:37:01.108Z"
   },
   {
    "duration": 72,
    "start_time": "2023-02-03T06:37:01.823Z"
   },
   {
    "duration": 3,
    "start_time": "2023-02-03T06:37:02.255Z"
   },
   {
    "duration": 4,
    "start_time": "2023-02-03T06:37:02.947Z"
   },
   {
    "duration": 6,
    "start_time": "2023-02-03T06:37:03.523Z"
   },
   {
    "duration": 317,
    "start_time": "2023-02-03T06:37:04.141Z"
   },
   {
    "duration": 6,
    "start_time": "2023-02-03T06:37:06.989Z"
   },
   {
    "duration": 5,
    "start_time": "2023-02-03T06:37:07.821Z"
   },
   {
    "duration": 5,
    "start_time": "2023-02-03T06:37:14.916Z"
   },
   {
    "duration": 16,
    "start_time": "2023-02-03T06:37:16.063Z"
   },
   {
    "duration": 3,
    "start_time": "2023-02-03T06:37:18.964Z"
   },
   {
    "duration": 20,
    "start_time": "2023-02-03T06:37:19.616Z"
   },
   {
    "duration": 4,
    "start_time": "2023-02-03T06:37:20.327Z"
   },
   {
    "duration": 13,
    "start_time": "2023-02-03T06:37:21.603Z"
   },
   {
    "duration": 5,
    "start_time": "2023-02-03T06:37:22.234Z"
   },
   {
    "duration": 5,
    "start_time": "2023-02-03T06:37:22.947Z"
   },
   {
    "duration": 9,
    "start_time": "2023-02-03T06:37:24.440Z"
   },
   {
    "duration": 8,
    "start_time": "2023-02-03T06:37:25.232Z"
   },
   {
    "duration": 8,
    "start_time": "2023-02-03T06:37:27.216Z"
   },
   {
    "duration": 8,
    "start_time": "2023-02-03T06:37:27.940Z"
   },
   {
    "duration": 277,
    "start_time": "2023-02-03T06:37:29.316Z"
   },
   {
    "duration": 60,
    "start_time": "2023-02-03T06:37:29.873Z"
   },
   {
    "duration": 64,
    "start_time": "2023-02-03T06:37:30.455Z"
   },
   {
    "duration": 58,
    "start_time": "2023-02-03T06:37:31.086Z"
   },
   {
    "duration": 57,
    "start_time": "2023-02-03T06:37:31.639Z"
   },
   {
    "duration": 60,
    "start_time": "2023-02-03T06:37:32.219Z"
   },
   {
    "duration": 13,
    "start_time": "2023-02-03T06:37:33.545Z"
   },
   {
    "duration": 5,
    "start_time": "2023-02-03T06:37:37.172Z"
   },
   {
    "duration": 6,
    "start_time": "2023-02-03T06:37:40.906Z"
   },
   {
    "duration": 6,
    "start_time": "2023-02-03T06:37:41.416Z"
   },
   {
    "duration": 7,
    "start_time": "2023-02-03T06:37:42.054Z"
   },
   {
    "duration": 9,
    "start_time": "2023-02-03T06:38:11.609Z"
   },
   {
    "duration": 8,
    "start_time": "2023-02-03T06:38:12.620Z"
   },
   {
    "duration": 10,
    "start_time": "2023-02-03T06:38:13.937Z"
   },
   {
    "duration": 10,
    "start_time": "2023-02-03T06:38:14.481Z"
   },
   {
    "duration": 275,
    "start_time": "2023-02-03T06:38:15.622Z"
   },
   {
    "duration": 22,
    "start_time": "2023-02-03T06:38:16.228Z"
   },
   {
    "duration": 22,
    "start_time": "2023-02-03T06:38:16.872Z"
   },
   {
    "duration": 32,
    "start_time": "2023-02-03T06:38:17.438Z"
   },
   {
    "duration": 23,
    "start_time": "2023-02-03T06:38:18.034Z"
   },
   {
    "duration": 24,
    "start_time": "2023-02-03T06:38:18.801Z"
   },
   {
    "duration": 23,
    "start_time": "2023-02-03T06:38:20.657Z"
   },
   {
    "duration": 4,
    "start_time": "2023-02-03T06:38:21.277Z"
   },
   {
    "duration": 7,
    "start_time": "2023-02-03T06:38:22.449Z"
   },
   {
    "duration": 5,
    "start_time": "2023-02-03T06:38:23.023Z"
   },
   {
    "duration": 7,
    "start_time": "2023-02-03T06:38:23.594Z"
   },
   {
    "duration": 64,
    "start_time": "2023-02-03T06:38:25.977Z"
   },
   {
    "duration": 3,
    "start_time": "2023-02-03T06:38:26.640Z"
   },
   {
    "duration": 3575,
    "start_time": "2023-02-03T06:38:27.850Z"
   },
   {
    "duration": 49,
    "start_time": "2023-02-03T06:38:31.428Z"
   },
   {
    "duration": 0,
    "start_time": "2023-02-03T06:38:31.479Z"
   },
   {
    "duration": 0,
    "start_time": "2023-02-03T06:38:31.480Z"
   },
   {
    "duration": 7,
    "start_time": "2023-02-03T06:38:32.752Z"
   },
   {
    "duration": 1120,
    "start_time": "2023-02-03T06:38:33.429Z"
   },
   {
    "duration": 33,
    "start_time": "2023-02-03T06:38:34.551Z"
   },
   {
    "duration": 4,
    "start_time": "2023-02-03T06:38:35.160Z"
   },
   {
    "duration": 5,
    "start_time": "2023-02-03T06:38:43.755Z"
   },
   {
    "duration": 6,
    "start_time": "2023-02-03T06:38:44.663Z"
   },
   {
    "duration": 5,
    "start_time": "2023-02-03T06:38:45.549Z"
   },
   {
    "duration": 4,
    "start_time": "2023-02-03T06:38:47.678Z"
   },
   {
    "duration": 177,
    "start_time": "2023-02-03T06:38:48.375Z"
   },
   {
    "duration": 3,
    "start_time": "2023-02-03T06:38:54.549Z"
   },
   {
    "duration": 5,
    "start_time": "2023-02-03T06:38:55.445Z"
   },
   {
    "duration": 6,
    "start_time": "2023-02-03T06:38:56.839Z"
   },
   {
    "duration": 3,
    "start_time": "2023-02-03T06:39:03.363Z"
   },
   {
    "duration": 1280,
    "start_time": "2023-02-03T06:39:04.906Z"
   },
   {
    "duration": 11,
    "start_time": "2023-02-03T06:39:07.676Z"
   },
   {
    "duration": 1267,
    "start_time": "2023-02-03T06:39:43.928Z"
   },
   {
    "duration": 4,
    "start_time": "2023-02-03T06:39:49.283Z"
   },
   {
    "duration": 3,
    "start_time": "2023-02-03T06:40:01.199Z"
   },
   {
    "duration": 23765,
    "start_time": "2023-02-03T06:40:03.044Z"
   },
   {
    "duration": 4,
    "start_time": "2023-02-03T06:40:32.242Z"
   },
   {
    "duration": 25304,
    "start_time": "2023-02-03T06:40:34.222Z"
   },
   {
    "duration": 4,
    "start_time": "2023-02-03T06:40:59.528Z"
   },
   {
    "duration": 4,
    "start_time": "2023-02-03T06:41:07.916Z"
   },
   {
    "duration": 189801,
    "start_time": "2023-02-03T06:41:09.390Z"
   },
   {
    "duration": 4,
    "start_time": "2023-02-03T06:44:19.193Z"
   },
   {
    "duration": 194082,
    "start_time": "2023-02-03T06:45:13.902Z"
   },
   {
    "duration": 3,
    "start_time": "2023-02-03T06:48:27.986Z"
   },
   {
    "duration": 4,
    "start_time": "2023-02-03T06:49:42.517Z"
   },
   {
    "duration": 4,
    "start_time": "2023-02-03T06:49:43.439Z"
   },
   {
    "duration": 24193,
    "start_time": "2023-02-03T06:49:46.425Z"
   },
   {
    "duration": 5,
    "start_time": "2023-02-03T06:50:10.621Z"
   },
   {
    "duration": 5,
    "start_time": "2023-02-03T06:50:41.453Z"
   },
   {
    "duration": 4,
    "start_time": "2023-02-03T06:50:42.055Z"
   },
   {
    "duration": 46197,
    "start_time": "2023-02-03T06:50:42.721Z"
   },
   {
    "duration": 3,
    "start_time": "2023-02-03T06:51:28.921Z"
   },
   {
    "duration": 47053,
    "start_time": "2023-02-03T06:51:28.926Z"
   },
   {
    "duration": 4,
    "start_time": "2023-02-03T06:52:15.983Z"
   },
   {
    "duration": 4,
    "start_time": "2023-02-03T06:52:29.987Z"
   },
   {
    "duration": 413937,
    "start_time": "2023-02-03T06:52:30.819Z"
   },
   {
    "duration": 5,
    "start_time": "2023-02-03T06:59:24.759Z"
   },
   {
    "duration": 423119,
    "start_time": "2023-02-03T06:59:24.766Z"
   },
   {
    "duration": 4,
    "start_time": "2023-02-03T07:06:27.888Z"
   },
   {
    "duration": 4,
    "start_time": "2023-02-03T07:06:50.154Z"
   },
   {
    "duration": 417554,
    "start_time": "2023-02-03T07:06:50.788Z"
   },
   {
    "duration": 4,
    "start_time": "2023-02-03T07:13:48.344Z"
   },
   {
    "duration": 6,
    "start_time": "2023-02-03T07:14:17.818Z"
   },
   {
    "duration": 3195,
    "start_time": "2023-02-03T07:14:32.190Z"
   },
   {
    "duration": 4,
    "start_time": "2023-02-03T07:14:38.612Z"
   },
   {
    "duration": 3283,
    "start_time": "2023-02-03T07:14:47.710Z"
   },
   {
    "duration": 4,
    "start_time": "2023-02-03T07:14:50.995Z"
   },
   {
    "duration": 9,
    "start_time": "2023-02-03T07:15:08.041Z"
   },
   {
    "duration": 4,
    "start_time": "2023-02-03T07:15:09.555Z"
   },
   {
    "duration": 4,
    "start_time": "2023-02-03T07:16:58.040Z"
   },
   {
    "duration": 729,
    "start_time": "2023-02-03T07:16:59.388Z"
   },
   {
    "duration": 68,
    "start_time": "2023-02-03T07:17:00.495Z"
   },
   {
    "duration": 3,
    "start_time": "2023-02-03T07:17:01.931Z"
   },
   {
    "duration": 3,
    "start_time": "2023-02-03T07:17:05.098Z"
   },
   {
    "duration": 3,
    "start_time": "2023-02-03T07:17:05.909Z"
   },
   {
    "duration": 271,
    "start_time": "2023-02-03T07:17:07.026Z"
   },
   {
    "duration": 5,
    "start_time": "2023-02-03T07:17:22.450Z"
   },
   {
    "duration": 5,
    "start_time": "2023-02-03T07:17:23.168Z"
   },
   {
    "duration": 7,
    "start_time": "2023-02-03T07:17:25.795Z"
   },
   {
    "duration": 4,
    "start_time": "2023-02-03T07:17:26.906Z"
   },
   {
    "duration": 3,
    "start_time": "2023-02-03T07:18:09.964Z"
   },
   {
    "duration": 16,
    "start_time": "2023-02-03T07:18:10.905Z"
   },
   {
    "duration": 5,
    "start_time": "2023-02-03T07:18:11.996Z"
   },
   {
    "duration": 11,
    "start_time": "2023-02-03T07:18:19.475Z"
   },
   {
    "duration": 4,
    "start_time": "2023-02-03T07:18:21.081Z"
   },
   {
    "duration": 9,
    "start_time": "2023-02-03T07:18:23.814Z"
   },
   {
    "duration": 7,
    "start_time": "2023-02-03T07:18:25.155Z"
   },
   {
    "duration": 8,
    "start_time": "2023-02-03T07:18:38.196Z"
   },
   {
    "duration": 8,
    "start_time": "2023-02-03T07:18:39.143Z"
   },
   {
    "duration": 274,
    "start_time": "2023-02-03T07:18:41.691Z"
   },
   {
    "duration": 58,
    "start_time": "2023-02-03T07:18:42.484Z"
   },
   {
    "duration": 73,
    "start_time": "2023-02-03T07:18:43.547Z"
   },
   {
    "duration": 71,
    "start_time": "2023-02-03T07:18:44.428Z"
   },
   {
    "duration": 58,
    "start_time": "2023-02-03T07:18:45.218Z"
   },
   {
    "duration": 58,
    "start_time": "2023-02-03T07:18:45.992Z"
   },
   {
    "duration": 14,
    "start_time": "2023-02-03T07:18:48.918Z"
   },
   {
    "duration": 5,
    "start_time": "2023-02-03T07:18:52.835Z"
   },
   {
    "duration": 7,
    "start_time": "2023-02-03T07:18:58.503Z"
   },
   {
    "duration": 7,
    "start_time": "2023-02-03T07:18:59.224Z"
   },
   {
    "duration": 8,
    "start_time": "2023-02-03T07:19:00.018Z"
   },
   {
    "duration": 2976,
    "start_time": "2023-02-03T07:20:31.661Z"
   },
   {
    "duration": 3599,
    "start_time": "2023-02-03T07:21:00.319Z"
   },
   {
    "duration": 4,
    "start_time": "2023-02-03T07:21:50.892Z"
   },
   {
    "duration": 11,
    "start_time": "2023-02-03T07:22:04.775Z"
   },
   {
    "duration": 727,
    "start_time": "2023-02-03T07:22:12.006Z"
   },
   {
    "duration": 3784,
    "start_time": "2023-02-03T07:22:38.249Z"
   },
   {
    "duration": 3698,
    "start_time": "2023-02-03T07:23:10.445Z"
   },
   {
    "duration": 3275,
    "start_time": "2023-02-03T07:23:20.761Z"
   },
   {
    "duration": 3573,
    "start_time": "2023-02-03T07:23:34.604Z"
   },
   {
    "duration": 3489,
    "start_time": "2023-02-03T07:23:59.508Z"
   },
   {
    "duration": 3391,
    "start_time": "2023-02-03T07:24:13.369Z"
   },
   {
    "duration": 3405,
    "start_time": "2023-02-03T07:25:21.109Z"
   },
   {
    "duration": 3260,
    "start_time": "2023-02-03T07:25:52.514Z"
   },
   {
    "duration": 3467,
    "start_time": "2023-02-03T07:26:54.591Z"
   },
   {
    "duration": 3372,
    "start_time": "2023-02-03T07:27:09.961Z"
   },
   {
    "duration": 1066,
    "start_time": "2023-02-03T07:29:36.851Z"
   },
   {
    "duration": 1044,
    "start_time": "2023-02-03T07:29:52.132Z"
   },
   {
    "duration": 1049,
    "start_time": "2023-02-03T07:30:24.356Z"
   },
   {
    "duration": 962,
    "start_time": "2023-02-03T07:30:52.331Z"
   },
   {
    "duration": 1537,
    "start_time": "2023-02-03T07:33:49.675Z"
   },
   {
    "duration": 1271,
    "start_time": "2023-02-03T07:34:07.858Z"
   },
   {
    "duration": 1378,
    "start_time": "2023-02-03T07:34:17.801Z"
   },
   {
    "duration": 1490,
    "start_time": "2023-02-03T07:34:46.535Z"
   },
   {
    "duration": 27,
    "start_time": "2023-02-03T07:35:34.899Z"
   },
   {
    "duration": 4,
    "start_time": "2023-02-03T07:36:40.442Z"
   },
   {
    "duration": 5,
    "start_time": "2023-02-03T07:36:58.426Z"
   },
   {
    "duration": 6,
    "start_time": "2023-02-03T07:36:59.415Z"
   },
   {
    "duration": 5,
    "start_time": "2023-02-03T07:37:00.254Z"
   },
   {
    "duration": 9,
    "start_time": "2023-02-03T07:42:43.456Z"
   },
   {
    "duration": 4,
    "start_time": "2023-02-03T07:42:44.649Z"
   },
   {
    "duration": 3,
    "start_time": "2023-02-03T07:43:04.747Z"
   },
   {
    "duration": 3,
    "start_time": "2023-02-03T07:43:15.760Z"
   },
   {
    "duration": 6,
    "start_time": "2023-02-03T08:18:10.535Z"
   },
   {
    "duration": 891,
    "start_time": "2023-02-03T08:18:11.139Z"
   },
   {
    "duration": 109,
    "start_time": "2023-02-03T08:18:12.033Z"
   },
   {
    "duration": 3,
    "start_time": "2023-02-03T08:18:12.358Z"
   },
   {
    "duration": 4,
    "start_time": "2023-02-03T08:18:13.053Z"
   },
   {
    "duration": 5,
    "start_time": "2023-02-03T08:18:13.667Z"
   },
   {
    "duration": 357,
    "start_time": "2023-02-03T08:18:14.258Z"
   },
   {
    "duration": 6,
    "start_time": "2023-02-03T08:18:15.237Z"
   },
   {
    "duration": 5,
    "start_time": "2023-02-03T08:18:15.429Z"
   },
   {
    "duration": 7,
    "start_time": "2023-02-03T08:18:16.013Z"
   },
   {
    "duration": 6,
    "start_time": "2023-02-03T08:18:16.227Z"
   },
   {
    "duration": 4,
    "start_time": "2023-02-03T08:18:16.976Z"
   },
   {
    "duration": 28,
    "start_time": "2023-02-03T08:18:17.179Z"
   },
   {
    "duration": 5,
    "start_time": "2023-02-03T08:18:17.377Z"
   },
   {
    "duration": 15,
    "start_time": "2023-02-03T08:18:17.784Z"
   },
   {
    "duration": 5,
    "start_time": "2023-02-03T08:18:17.985Z"
   },
   {
    "duration": 11,
    "start_time": "2023-02-03T08:18:18.175Z"
   },
   {
    "duration": 8,
    "start_time": "2023-02-03T08:18:18.355Z"
   },
   {
    "duration": 8,
    "start_time": "2023-02-03T08:18:18.736Z"
   },
   {
    "duration": 7,
    "start_time": "2023-02-03T08:18:18.938Z"
   },
   {
    "duration": 372,
    "start_time": "2023-02-03T08:18:19.343Z"
   },
   {
    "duration": 97,
    "start_time": "2023-02-03T08:18:19.717Z"
   },
   {
    "duration": 91,
    "start_time": "2023-02-03T08:18:19.817Z"
   },
   {
    "duration": 87,
    "start_time": "2023-02-03T08:18:19.922Z"
   },
   {
    "duration": 102,
    "start_time": "2023-02-03T08:18:20.118Z"
   },
   {
    "duration": 58,
    "start_time": "2023-02-03T08:18:20.302Z"
   },
   {
    "duration": 19,
    "start_time": "2023-02-03T08:18:20.665Z"
   },
   {
    "duration": 5,
    "start_time": "2023-02-03T08:18:20.862Z"
   },
   {
    "duration": 8,
    "start_time": "2023-02-03T08:18:21.247Z"
   },
   {
    "duration": 6,
    "start_time": "2023-02-03T08:18:21.428Z"
   },
   {
    "duration": 7,
    "start_time": "2023-02-03T08:18:21.637Z"
   },
   {
    "duration": 3966,
    "start_time": "2023-02-03T08:18:22.415Z"
   },
   {
    "duration": 1275,
    "start_time": "2023-02-03T08:18:26.383Z"
   },
   {
    "duration": 10,
    "start_time": "2023-02-03T08:18:27.660Z"
   },
   {
    "duration": 1587,
    "start_time": "2023-02-03T08:18:27.685Z"
   },
   {
    "duration": 38,
    "start_time": "2023-02-03T08:18:29.274Z"
   },
   {
    "duration": 4,
    "start_time": "2023-02-03T08:18:29.314Z"
   },
   {
    "duration": 13,
    "start_time": "2023-02-03T08:18:29.320Z"
   },
   {
    "duration": 9,
    "start_time": "2023-02-03T08:18:29.335Z"
   },
   {
    "duration": 6,
    "start_time": "2023-02-03T08:18:29.346Z"
   },
   {
    "duration": 32,
    "start_time": "2023-02-03T08:18:29.355Z"
   },
   {
    "duration": 50,
    "start_time": "2023-02-03T08:18:29.390Z"
   },
   {
    "duration": 19,
    "start_time": "2023-02-03T08:18:29.442Z"
   },
   {
    "duration": 53,
    "start_time": "2023-02-03T08:18:29.463Z"
   },
   {
    "duration": 1586,
    "start_time": "2023-02-03T08:18:29.518Z"
   },
   {
    "duration": 1379,
    "start_time": "2023-02-03T08:18:31.110Z"
   },
   {
    "duration": 8,
    "start_time": "2023-02-03T08:18:32.494Z"
   },
   {
    "duration": 111,
    "start_time": "2023-02-03T08:18:32.505Z"
   },
   {
    "duration": 24,
    "start_time": "2023-02-03T08:18:32.619Z"
   },
   {
    "duration": 53335,
    "start_time": "2023-02-03T08:18:32.646Z"
   },
   {
    "duration": 5,
    "start_time": "2023-02-03T08:19:25.984Z"
   },
   {
    "duration": 56778,
    "start_time": "2023-02-03T08:19:25.993Z"
   },
   {
    "duration": 13,
    "start_time": "2023-02-03T08:20:22.774Z"
   },
   {
    "duration": 30,
    "start_time": "2023-02-03T08:20:22.796Z"
   },
   {
    "duration": 322885,
    "start_time": "2023-02-03T08:20:22.829Z"
   },
   {
    "duration": 0,
    "start_time": "2023-02-03T08:25:45.716Z"
   },
   {
    "duration": 0,
    "start_time": "2023-02-03T08:25:45.718Z"
   },
   {
    "duration": 0,
    "start_time": "2023-02-03T08:25:45.719Z"
   },
   {
    "duration": 0,
    "start_time": "2023-02-03T08:25:45.720Z"
   },
   {
    "duration": 0,
    "start_time": "2023-02-03T08:25:45.721Z"
   },
   {
    "duration": 0,
    "start_time": "2023-02-03T08:25:45.723Z"
   },
   {
    "duration": 0,
    "start_time": "2023-02-03T08:25:45.725Z"
   },
   {
    "duration": 0,
    "start_time": "2023-02-03T08:25:45.726Z"
   },
   {
    "duration": 5,
    "start_time": "2023-02-03T08:25:55.173Z"
   },
   {
    "duration": 744,
    "start_time": "2023-02-03T08:25:55.334Z"
   },
   {
    "duration": 84,
    "start_time": "2023-02-03T08:25:56.083Z"
   },
   {
    "duration": 3,
    "start_time": "2023-02-03T08:25:56.183Z"
   },
   {
    "duration": 9,
    "start_time": "2023-02-03T08:25:56.189Z"
   },
   {
    "duration": 8,
    "start_time": "2023-02-03T08:25:56.200Z"
   },
   {
    "duration": 310,
    "start_time": "2023-02-03T08:25:56.253Z"
   },
   {
    "duration": 6,
    "start_time": "2023-02-03T08:25:57.003Z"
   },
   {
    "duration": 5,
    "start_time": "2023-02-03T08:25:57.198Z"
   },
   {
    "duration": 5,
    "start_time": "2023-02-03T08:25:57.763Z"
   },
   {
    "duration": 4,
    "start_time": "2023-02-03T08:25:57.933Z"
   },
   {
    "duration": 4,
    "start_time": "2023-02-03T08:25:58.682Z"
   },
   {
    "duration": 18,
    "start_time": "2023-02-03T08:25:58.858Z"
   },
   {
    "duration": 4,
    "start_time": "2023-02-03T08:25:59.055Z"
   },
   {
    "duration": 11,
    "start_time": "2023-02-03T08:25:59.433Z"
   },
   {
    "duration": 7,
    "start_time": "2023-02-03T08:25:59.593Z"
   },
   {
    "duration": 14,
    "start_time": "2023-02-03T08:25:59.810Z"
   },
   {
    "duration": 10,
    "start_time": "2023-02-03T08:25:59.978Z"
   },
   {
    "duration": 8,
    "start_time": "2023-02-03T08:26:00.348Z"
   },
   {
    "duration": 11,
    "start_time": "2023-02-03T08:26:00.518Z"
   },
   {
    "duration": 287,
    "start_time": "2023-02-03T08:26:00.913Z"
   },
   {
    "duration": 60,
    "start_time": "2023-02-03T08:26:01.203Z"
   },
   {
    "duration": 62,
    "start_time": "2023-02-03T08:26:01.285Z"
   },
   {
    "duration": 100,
    "start_time": "2023-02-03T08:26:01.494Z"
   },
   {
    "duration": 62,
    "start_time": "2023-02-03T08:26:01.678Z"
   },
   {
    "duration": 60,
    "start_time": "2023-02-03T08:26:01.843Z"
   },
   {
    "duration": 15,
    "start_time": "2023-02-03T08:26:02.223Z"
   },
   {
    "duration": 4,
    "start_time": "2023-02-03T08:26:02.412Z"
   },
   {
    "duration": 7,
    "start_time": "2023-02-03T08:26:02.803Z"
   },
   {
    "duration": 5,
    "start_time": "2023-02-03T08:26:02.958Z"
   },
   {
    "duration": 6,
    "start_time": "2023-02-03T08:26:03.163Z"
   },
   {
    "duration": 3476,
    "start_time": "2023-02-03T08:26:04.163Z"
   },
   {
    "duration": 1047,
    "start_time": "2023-02-03T08:26:07.642Z"
   },
   {
    "duration": 9,
    "start_time": "2023-02-03T08:26:08.691Z"
   },
   {
    "duration": 1534,
    "start_time": "2023-02-03T08:26:08.703Z"
   },
   {
    "duration": 45,
    "start_time": "2023-02-03T08:26:10.239Z"
   },
   {
    "duration": 4,
    "start_time": "2023-02-03T08:26:10.287Z"
   },
   {
    "duration": 11,
    "start_time": "2023-02-03T08:26:10.293Z"
   },
   {
    "duration": 11,
    "start_time": "2023-02-03T08:26:10.306Z"
   },
   {
    "duration": 11,
    "start_time": "2023-02-03T08:26:10.319Z"
   },
   {
    "duration": 10,
    "start_time": "2023-02-03T08:26:10.332Z"
   },
   {
    "duration": 10,
    "start_time": "2023-02-03T08:26:10.343Z"
   },
   {
    "duration": 7,
    "start_time": "2023-02-03T08:26:10.355Z"
   },
   {
    "duration": 20,
    "start_time": "2023-02-03T08:26:10.364Z"
   },
   {
    "duration": 1302,
    "start_time": "2023-02-03T08:26:10.386Z"
   },
   {
    "duration": 1605,
    "start_time": "2023-02-03T08:26:11.690Z"
   },
   {
    "duration": 5,
    "start_time": "2023-02-03T08:26:13.386Z"
   },
   {
    "duration": 94,
    "start_time": "2023-02-03T08:26:13.395Z"
   },
   {
    "duration": 20,
    "start_time": "2023-02-03T08:26:13.491Z"
   },
   {
    "duration": 47705,
    "start_time": "2023-02-03T08:26:13.514Z"
   },
   {
    "duration": 4,
    "start_time": "2023-02-03T08:27:01.221Z"
   },
   {
    "duration": 52933,
    "start_time": "2023-02-03T08:27:01.228Z"
   },
   {
    "duration": 28,
    "start_time": "2023-02-03T08:27:54.164Z"
   },
   {
    "duration": 0,
    "start_time": "2023-02-03T08:27:54.195Z"
   },
   {
    "duration": 0,
    "start_time": "2023-02-03T08:27:54.196Z"
   },
   {
    "duration": 0,
    "start_time": "2023-02-03T08:27:54.198Z"
   },
   {
    "duration": 0,
    "start_time": "2023-02-03T08:27:54.199Z"
   },
   {
    "duration": 0,
    "start_time": "2023-02-03T08:27:54.202Z"
   },
   {
    "duration": 0,
    "start_time": "2023-02-03T08:27:54.203Z"
   },
   {
    "duration": 0,
    "start_time": "2023-02-03T08:27:54.205Z"
   },
   {
    "duration": 0,
    "start_time": "2023-02-03T08:27:54.207Z"
   },
   {
    "duration": 0,
    "start_time": "2023-02-03T08:27:54.210Z"
   },
   {
    "duration": 0,
    "start_time": "2023-02-03T08:27:54.212Z"
   },
   {
    "duration": 58,
    "start_time": "2023-02-03T08:28:26.583Z"
   },
   {
    "duration": 50,
    "start_time": "2023-02-03T08:28:37.203Z"
   },
   {
    "duration": 59,
    "start_time": "2023-02-03T08:28:48.563Z"
   },
   {
    "duration": 4,
    "start_time": "2023-02-03T08:29:25.043Z"
   },
   {
    "duration": 16,
    "start_time": "2023-02-03T08:30:17.608Z"
   },
   {
    "duration": 4,
    "start_time": "2023-02-03T08:30:30.223Z"
   },
   {
    "duration": 4,
    "start_time": "2023-02-03T08:30:37.913Z"
   },
   {
    "duration": 451779,
    "start_time": "2023-02-03T08:30:38.567Z"
   },
   {
    "duration": 4,
    "start_time": "2023-02-03T08:38:10.349Z"
   },
   {
    "duration": 347199,
    "start_time": "2023-02-03T08:38:10.354Z"
   },
   {
    "duration": 0,
    "start_time": "2023-02-03T08:43:57.556Z"
   },
   {
    "duration": 0,
    "start_time": "2023-02-03T08:43:57.558Z"
   },
   {
    "duration": 0,
    "start_time": "2023-02-03T08:43:57.559Z"
   },
   {
    "duration": 0,
    "start_time": "2023-02-03T08:43:57.560Z"
   },
   {
    "duration": 0,
    "start_time": "2023-02-03T08:43:57.561Z"
   },
   {
    "duration": 0,
    "start_time": "2023-02-03T08:43:57.562Z"
   },
   {
    "duration": 4,
    "start_time": "2023-02-03T08:44:05.272Z"
   },
   {
    "duration": 712,
    "start_time": "2023-02-03T08:44:05.623Z"
   },
   {
    "duration": 78,
    "start_time": "2023-02-03T08:44:06.337Z"
   },
   {
    "duration": 3,
    "start_time": "2023-02-03T08:44:06.417Z"
   },
   {
    "duration": 6,
    "start_time": "2023-02-03T08:44:06.662Z"
   },
   {
    "duration": 9,
    "start_time": "2023-02-03T08:44:07.982Z"
   },
   {
    "duration": 316,
    "start_time": "2023-02-03T08:44:08.562Z"
   },
   {
    "duration": 9,
    "start_time": "2023-02-03T08:44:10.157Z"
   },
   {
    "duration": 10,
    "start_time": "2023-02-03T08:44:10.382Z"
   },
   {
    "duration": 22,
    "start_time": "2023-02-03T08:44:11.012Z"
   },
   {
    "duration": 4,
    "start_time": "2023-02-03T08:44:11.172Z"
   },
   {
    "duration": 3,
    "start_time": "2023-02-03T08:44:11.952Z"
   },
   {
    "duration": 15,
    "start_time": "2023-02-03T08:44:12.142Z"
   },
   {
    "duration": 5,
    "start_time": "2023-02-03T08:44:12.317Z"
   },
   {
    "duration": 14,
    "start_time": "2023-02-03T08:44:12.682Z"
   },
   {
    "duration": 4,
    "start_time": "2023-02-03T08:44:12.858Z"
   },
   {
    "duration": 9,
    "start_time": "2023-02-03T08:44:13.043Z"
   },
   {
    "duration": 8,
    "start_time": "2023-02-03T08:44:13.227Z"
   },
   {
    "duration": 8,
    "start_time": "2023-02-03T08:44:13.652Z"
   },
   {
    "duration": 10,
    "start_time": "2023-02-03T08:44:13.835Z"
   },
   {
    "duration": 317,
    "start_time": "2023-02-03T08:44:14.202Z"
   },
   {
    "duration": 72,
    "start_time": "2023-02-03T08:44:14.521Z"
   },
   {
    "duration": 65,
    "start_time": "2023-02-03T08:44:14.595Z"
   },
   {
    "duration": 81,
    "start_time": "2023-02-03T08:44:14.802Z"
   },
   {
    "duration": 94,
    "start_time": "2023-02-03T08:44:14.977Z"
   },
   {
    "duration": 78,
    "start_time": "2023-02-03T08:44:15.157Z"
   },
   {
    "duration": 22,
    "start_time": "2023-02-03T08:44:15.567Z"
   },
   {
    "duration": 4,
    "start_time": "2023-02-03T08:44:15.772Z"
   },
   {
    "duration": 7,
    "start_time": "2023-02-03T08:44:16.127Z"
   },
   {
    "duration": 6,
    "start_time": "2023-02-03T08:44:16.312Z"
   },
   {
    "duration": 7,
    "start_time": "2023-02-03T08:44:16.527Z"
   },
   {
    "duration": 3649,
    "start_time": "2023-02-03T08:44:17.300Z"
   },
   {
    "duration": 1159,
    "start_time": "2023-02-03T08:44:20.951Z"
   },
   {
    "duration": 8,
    "start_time": "2023-02-03T08:44:22.113Z"
   },
   {
    "duration": 1299,
    "start_time": "2023-02-03T08:44:22.125Z"
   },
   {
    "duration": 22,
    "start_time": "2023-02-03T08:44:23.425Z"
   },
   {
    "duration": 4,
    "start_time": "2023-02-03T08:44:23.449Z"
   },
   {
    "duration": 7,
    "start_time": "2023-02-03T08:44:23.454Z"
   },
   {
    "duration": 28,
    "start_time": "2023-02-03T08:44:23.462Z"
   },
   {
    "duration": 19,
    "start_time": "2023-02-03T08:44:23.493Z"
   },
   {
    "duration": 8,
    "start_time": "2023-02-03T08:44:23.515Z"
   },
   {
    "duration": 7,
    "start_time": "2023-02-03T08:44:23.525Z"
   },
   {
    "duration": 6,
    "start_time": "2023-02-03T08:44:23.534Z"
   },
   {
    "duration": 14,
    "start_time": "2023-02-03T08:44:23.542Z"
   },
   {
    "duration": 1737,
    "start_time": "2023-02-03T08:44:23.558Z"
   },
   {
    "duration": 1579,
    "start_time": "2023-02-03T08:44:25.309Z"
   },
   {
    "duration": 6,
    "start_time": "2023-02-03T08:44:26.891Z"
   },
   {
    "duration": 84,
    "start_time": "2023-02-03T08:44:26.900Z"
   },
   {
    "duration": 20,
    "start_time": "2023-02-03T08:44:26.987Z"
   },
   {
    "duration": 49207,
    "start_time": "2023-02-03T08:44:27.010Z"
   },
   {
    "duration": 4,
    "start_time": "2023-02-03T08:45:16.219Z"
   },
   {
    "duration": 50289,
    "start_time": "2023-02-03T08:45:16.225Z"
   },
   {
    "duration": 4,
    "start_time": "2023-02-03T08:46:06.516Z"
   },
   {
    "duration": 11,
    "start_time": "2023-02-03T08:46:06.524Z"
   },
   {
    "duration": 437786,
    "start_time": "2023-02-03T08:46:06.537Z"
   },
   {
    "duration": 4,
    "start_time": "2023-02-03T08:53:24.325Z"
   },
   {
    "duration": 437971,
    "start_time": "2023-02-03T08:53:24.331Z"
   },
   {
    "duration": 3,
    "start_time": "2023-02-03T09:00:42.304Z"
   },
   {
    "duration": 17,
    "start_time": "2023-02-03T09:00:42.309Z"
   },
   {
    "duration": 3420,
    "start_time": "2023-02-03T09:00:42.328Z"
   },
   {
    "duration": 4,
    "start_time": "2023-02-03T09:00:45.750Z"
   },
   {
    "duration": 18,
    "start_time": "2023-02-03T09:00:45.756Z"
   },
   {
    "duration": 27,
    "start_time": "2023-02-03T09:00:45.777Z"
   },
   {
    "duration": 14,
    "start_time": "2023-02-03T09:02:07.888Z"
   },
   {
    "duration": 4,
    "start_time": "2023-02-03T09:02:08.537Z"
   },
   {
    "duration": 11,
    "start_time": "2023-02-03T09:02:20.048Z"
   },
   {
    "duration": 4,
    "start_time": "2023-02-03T09:02:20.926Z"
   },
   {
    "duration": 0,
    "start_time": "2023-02-03T10:42:08.430Z"
   },
   {
    "duration": 0,
    "start_time": "2023-02-03T10:42:19.879Z"
   },
   {
    "duration": 15,
    "start_time": "2023-02-03T10:42:26.029Z"
   },
   {
    "duration": 1617,
    "start_time": "2023-02-05T10:05:11.422Z"
   },
   {
    "duration": 2396,
    "start_time": "2023-02-05T10:05:13.041Z"
   },
   {
    "duration": 79,
    "start_time": "2023-02-05T10:05:15.439Z"
   },
   {
    "duration": 3,
    "start_time": "2023-02-05T10:05:15.520Z"
   },
   {
    "duration": 7,
    "start_time": "2023-02-05T10:05:15.525Z"
   },
   {
    "duration": 5,
    "start_time": "2023-02-05T10:05:15.533Z"
   },
   {
    "duration": 329,
    "start_time": "2023-02-05T10:05:15.540Z"
   },
   {
    "duration": 9,
    "start_time": "2023-02-05T10:05:17.393Z"
   },
   {
    "duration": 4,
    "start_time": "2023-02-05T10:05:17.959Z"
   },
   {
    "duration": 4,
    "start_time": "2023-02-05T10:05:20.061Z"
   },
   {
    "duration": 3,
    "start_time": "2023-02-05T10:05:20.586Z"
   },
   {
    "duration": 3,
    "start_time": "2023-02-05T10:05:23.444Z"
   },
   {
    "duration": 18,
    "start_time": "2023-02-05T10:05:23.962Z"
   },
   {
    "duration": 4,
    "start_time": "2023-02-05T10:05:24.521Z"
   },
   {
    "duration": 10,
    "start_time": "2023-02-05T10:05:25.738Z"
   },
   {
    "duration": 7,
    "start_time": "2023-02-05T10:05:26.913Z"
   },
   {
    "duration": 17,
    "start_time": "2023-02-05T10:05:27.490Z"
   },
   {
    "duration": 8,
    "start_time": "2023-02-05T10:05:28.071Z"
   },
   {
    "duration": 10,
    "start_time": "2023-02-05T10:05:29.339Z"
   },
   {
    "duration": 9,
    "start_time": "2023-02-05T10:05:30.421Z"
   },
   {
    "duration": 293,
    "start_time": "2023-02-05T10:05:31.440Z"
   },
   {
    "duration": 65,
    "start_time": "2023-02-05T10:05:32.059Z"
   },
   {
    "duration": 51,
    "start_time": "2023-02-05T10:05:32.637Z"
   },
   {
    "duration": 66,
    "start_time": "2023-02-05T10:05:33.187Z"
   },
   {
    "duration": 50,
    "start_time": "2023-02-05T10:05:33.730Z"
   },
   {
    "duration": 80,
    "start_time": "2023-02-05T10:05:34.070Z"
   },
   {
    "duration": 19,
    "start_time": "2023-02-05T10:05:35.012Z"
   },
   {
    "duration": 3,
    "start_time": "2023-02-05T10:05:35.525Z"
   },
   {
    "duration": 8,
    "start_time": "2023-02-05T10:05:36.693Z"
   },
   {
    "duration": 9,
    "start_time": "2023-02-05T10:05:37.188Z"
   },
   {
    "duration": 5,
    "start_time": "2023-02-05T10:05:37.617Z"
   },
   {
    "duration": 3008,
    "start_time": "2023-02-05T10:05:39.789Z"
   },
   {
    "duration": 1027,
    "start_time": "2023-02-05T10:05:42.799Z"
   },
   {
    "duration": 10,
    "start_time": "2023-02-05T10:05:44.116Z"
   },
   {
    "duration": 1335,
    "start_time": "2023-02-05T10:05:44.679Z"
   },
   {
    "duration": 26,
    "start_time": "2023-02-05T10:05:46.016Z"
   },
   {
    "duration": 5,
    "start_time": "2023-02-05T10:05:46.405Z"
   },
   {
    "duration": 5,
    "start_time": "2023-02-05T10:05:48.607Z"
   },
   {
    "duration": 7,
    "start_time": "2023-02-05T10:05:49.176Z"
   },
   {
    "duration": 4,
    "start_time": "2023-02-05T10:05:49.761Z"
   },
   {
    "duration": 4,
    "start_time": "2023-02-05T10:05:51.988Z"
   },
   {
    "duration": 27,
    "start_time": "2023-02-05T10:05:51.994Z"
   },
   {
    "duration": 3,
    "start_time": "2023-02-05T10:05:52.744Z"
   },
   {
    "duration": 7,
    "start_time": "2023-02-05T10:05:52.888Z"
   },
   {
    "duration": 1239,
    "start_time": "2023-02-05T10:05:55.659Z"
   },
   {
    "duration": 1598,
    "start_time": "2023-02-05T10:05:56.904Z"
   },
   {
    "duration": 7,
    "start_time": "2023-02-05T10:05:58.504Z"
   },
   {
    "duration": 4,
    "start_time": "2023-02-05T10:05:58.844Z"
   },
   {
    "duration": 123,
    "start_time": "2023-02-05T10:06:06.199Z"
   },
   {
    "duration": 20,
    "start_time": "2023-02-05T10:07:44.174Z"
   },
   {
    "duration": 1477,
    "start_time": "2023-02-05T10:08:07.527Z"
   },
   {
    "duration": 1587,
    "start_time": "2023-02-05T10:09:16.113Z"
   },
   {
    "duration": 1437,
    "start_time": "2023-02-05T10:10:22.867Z"
   },
   {
    "duration": 3093,
    "start_time": "2023-02-05T10:11:40.012Z"
   },
   {
    "duration": 2220,
    "start_time": "2023-02-05T10:11:52.280Z"
   },
   {
    "duration": 2295,
    "start_time": "2023-02-05T10:11:54.503Z"
   },
   {
    "duration": 5,
    "start_time": "2023-02-05T10:11:56.801Z"
   },
   {
    "duration": 1057,
    "start_time": "2023-02-05T14:44:19.377Z"
   }
  ],
  "kernelspec": {
   "display_name": "Python 3 (ipykernel)",
   "language": "python",
   "name": "python3"
  },
  "language_info": {
   "codemirror_mode": {
    "name": "ipython",
    "version": 3
   },
   "file_extension": ".py",
   "mimetype": "text/x-python",
   "name": "python",
   "nbconvert_exporter": "python",
   "pygments_lexer": "ipython3",
   "version": "3.9.12"
  },
  "toc": {
   "base_numbering": 1,
   "nav_menu": {},
   "number_sections": true,
   "sideBar": true,
   "skip_h1_title": true,
   "title_cell": "Содержание",
   "title_sidebar": "Contents",
   "toc_cell": true,
   "toc_position": {
    "height": "calc(100% - 180px)",
    "left": "10px",
    "top": "150px",
    "width": "165px"
   },
   "toc_section_display": true,
   "toc_window_display": true
  }
 },
 "nbformat": 4,
 "nbformat_minor": 2
}
